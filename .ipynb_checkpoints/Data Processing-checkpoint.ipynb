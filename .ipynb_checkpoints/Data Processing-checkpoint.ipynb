{
 "cells": [
  {
   "cell_type": "code",
   "execution_count": 1,
   "id": "f60265e1",
   "metadata": {},
   "outputs": [],
   "source": [
    "#  Data Preprocessing\n",
    "import Bio"
   ]
  },
  {
   "cell_type": "code",
   "execution_count": 22,
   "id": "a8d526af",
   "metadata": {},
   "outputs": [
    {
     "name": "stdout",
     "output_type": "stream",
     "text": [
      "GTTCTC TTCTCT TCTCTA CTCTAA TCTAAA CTAAAC TAAACG AAACGA AACGAA ACGAAC\n"
     ]
    }
   ],
   "source": [
    "# Generate K-Mer from sequence\n",
    "s = \"GTTCTCTAAACGAACTTTAAAATCTGTGTGGCTGTCACTCGGCTGCATGCTTAGTGCACT\"\n",
    "\n",
    "# Generate array of k-mer\n",
    "# from https://github.com/jerryji1993/DNABERT/blob/master/motif/motif_utils.py\n",
    "#\n",
    "# @param sequence : sequence you want to process\n",
    "# @param k : how many length you want in k-mer\n",
    "# @n_k_mer : how many k-mers are retrieve. If all kmers are required, please put -1.\n",
    "def create_k_mer(sequence, k, n_k_mer):\n",
    "    if k > 0:\n",
    "        arr = [sequence[i:i+k] for i in range(len(sequence)+1-k)]\n",
    "        if n_k_mer > 0:\n",
    "            arr = arr[0:n_k_mer]\n",
    "        kmer = ' '.join(arr)\n",
    "        return kmer\n",
    "    else:\n",
    "        return sequence\n",
    "\n",
    "kmer = create_k_mer(s, 6, 10)\n",
    "print(kmer)"
   ]
  },
  {
   "cell_type": "code",
   "execution_count": 23,
   "id": "bfb7cccc",
   "metadata": {},
   "outputs": [],
   "source": [
    "# B.1.1.7 (Alpha), \n",
    "ALPHA_FASTA_PATH=\"complete-nucl-sars_cov_2-B.1.1.7-human_origin.fasta\"\n",
    "# B.1.351 (Beta), \n",
    "BETA_FASTA_PATH=\"complete-nucl-sars_cov_2-B.1.351-human_origin.fasta\"\n",
    "# B.1.617.2 (Delta), \n",
    "DELTA_FASTA_PATH=\"complete-nucl-sars_cov_2-B.1.617.2-human_origin.fasta\"\n",
    "# and P.1 (Gamma)\n",
    "\n",
    "ALPHA_CLASS = 1\n",
    "BETA_CLASS = 2\n",
    "DELTA_CLASS = 3\n",
    "\n",
    "K_MER = 6\n",
    "N_K_MER = 100\n",
    "N_SAMPLES = 10"
   ]
  },
  {
   "cell_type": "code",
   "execution_count": 24,
   "id": "03cb2b41",
   "metadata": {},
   "outputs": [],
   "source": [
    "# Create fine tuning file from fasta file.\n",
    "from Bio import SeqIO\n",
    "import os\n",
    "\n",
    "# Generate file for fine tuning using FASTA file.\n",
    "# @param fasta_file : Original fasta file.\n",
    "# @param label_for_this_file : What label for this fine tuning file.\n",
    "# @param output_file_path : What and where the fine tuning is named and stored. \n",
    "#                           If file path exists, existing file will be removed.\n",
    "# @param n_samples : How many sequence will be put in fine tuning file. \n",
    "#                    If all sequence is to be generated, please put -1.\n",
    "# @param k_mer : Size of k-mer. If k-mer is not required, please put -1.\n",
    "# @param n_k_mer : How many kmers are written to file for each sequence in fasta file. \n",
    "#                  If all kmers are written, please put -1.\n",
    "def generate_sample_fine_tuning_file(fasta_file, label_for_this_file, output_file_path, n_samples, k_mer, n_k_mer):\n",
    "    records = list(SeqIO.parse(fasta_file, 'fasta'))\n",
    "    if len(records) >= n_samples:\n",
    "        records = records[0:n_samples]\n",
    "    \n",
    "    if (os.path.exists(output_file_path)):\n",
    "        os.remove(output_file_path)\n",
    "        \n",
    "    output_file = open(output_file_path, 'w+')\n",
    "    for r in records:\n",
    "        output_file.write(create_k_mer(str(r.seq), k_mer, n_k_mer) + '\\t' + str(label_for_this_file) + '\\n')\n",
    "    output_file.close()"
   ]
  },
  {
   "cell_type": "code",
   "execution_count": null,
   "id": "fc0e4a6e",
   "metadata": {},
   "outputs": [],
   "source": [
    "# Generate Raw K-Mer from Fasta files.\n",
    "generate_sample_fine_tuning_file(ALPHA_FASTA_PATH, ALPHA_CLASS, 'raw_alpha_'+str(K_MER)+'.txt', -1, K_MER, -1)\n",
    "generate_sample_fine_tuning_file(BETA_FASTA_PATH, BETA_CLASS, 'raw_beta_'+str(K_MER)+'.txt', -1, K_MER, -1)\n",
    "generate_sample_fine_tuning_file(DELTA_FASTA_PATH, DELTA_CLASS, 'raw_delta_'+str(K_MER)+'.txt', -1, K_MER, -1)"
   ]
  },
  {
   "cell_type": "code",
   "execution_count": null,
   "id": "21f149bc",
   "metadata": {},
   "outputs": [],
   "source": [
    "# Generate fine tuning file\n",
    "generate_sample_fine_tuning_file(ALPHA_FASTA_PATH, ALPHA_CLASS, 'fine_tuning_sample_alpha_'+str(K_MER)+'.txt', N_SAMPLES, K_MER, N_K_MER)\n",
    "generate_sample_fine_tuning_file(BETA_FASTA_PATH, BETA_CLASS, 'fine_tuning_sample_beta_'+str(K_MER)+'.txt', N_SAMPLES, K_MER, N_K_MER)\n",
    "generate_sample_fine_tuning_file(DELTA_FASTA_PATH, DELTA_CLASS, 'fine_tuning_sample_delta_'+str(K_MER)+'.txt', N_SAMPLES, K_MER, N_K_MER)"
   ]
  },
  {
   "cell_type": "code",
   "execution_count": 25,
   "id": "6ee39d11",
   "metadata": {},
   "outputs": [],
   "source": [
    "# Generate data for predictions.\n",
    "# @param fasta_file : Path to fasta file.\n",
    "# @param output_file_path : What and where the prediction file is named and stored. \n",
    "#                           If file path exists, existing file will be removed.\n",
    "# @seq_index : From where sequence is read.\n",
    "# @n_samples : How many sequences are used to create prediction file.\n",
    "# @k_mer : Size of k-mer.\n",
    "# @n_k_mer : How many kmers are written to file for each sequence in fasta file.\n",
    "def generate_data_to_predict(fasta_file, output_file_path, seq_index, n_samples, k_mer, n_k_mer):\n",
    "    records = list(SeqIO.parse(fasta_file, 'fasta'))\n",
    "    if (len(records)) > n_samples:\n",
    "        records = records[seq_index:n_samples]\n",
    "    \n",
    "    if (os.path.exists(output_file_path)):\n",
    "        os.remove(output_file_path)\n",
    "    \n",
    "    output_file = open(output_file_path, 'w+')\n",
    "    for r in records:\n",
    "        output_file.write(create_k_mer(str(r.seq), k_mer, n_k_mer) + '\\n')\n",
    "    output_file.close()"
   ]
  },
  {
   "cell_type": "code",
   "execution_count": null,
   "id": "809b1fa7",
   "metadata": {},
   "outputs": [],
   "source": [
    "# Generate data for prediction\n",
    "generate_data_to_predict(ALPHA_FASTA_PATH, 'prediction_sample_alpha_'+str(K_MER)+'.txt', N_SAMPLES, N_SAMPLES, K_MER, N_K_MER)\n",
    "generate_data_to_predict(ALPHA_FASTA_PATH, 'prediction_ample_alpha_'+str(K_MER)+'.txt', N_SAMPLES, N_SAMPLES, K_MER, N_K_MER)\n",
    "generate_data_to_predict(ALPHA_FASTA_PATH, 'prediction_sample_alpha_'+str(K_MER)+'.txt', N_SAMPLES, N_SAMPLES, K_MER, N_K_MER)"
   ]
  }
 ],
 "metadata": {
  "kernelspec": {
   "display_name": "Python 3 (ipykernel)",
   "language": "python",
   "name": "python3"
  },
  "language_info": {
   "codemirror_mode": {
    "name": "ipython",
    "version": 3
   },
   "file_extension": ".py",
   "mimetype": "text/x-python",
   "name": "python",
   "nbconvert_exporter": "python",
   "pygments_lexer": "ipython3",
   "version": "3.7.9"
  }
 },
 "nbformat": 4,
 "nbformat_minor": 5
}
