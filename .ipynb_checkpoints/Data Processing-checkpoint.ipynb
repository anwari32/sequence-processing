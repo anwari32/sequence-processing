{
 "cells": [
  {
   "cell_type": "code",
   "execution_count": 2,
   "id": "f60265e1",
   "metadata": {},
   "outputs": [],
   "source": [
    "#  Data Preprocessing\n",
    "import Bio"
   ]
  },
  {
   "cell_type": "code",
   "execution_count": 4,
   "id": "bfb7cccc",
   "metadata": {},
   "outputs": [],
   "source": [
    "# B.1.1.7 (Alpha), \n",
    "ALPHA_FASTA_PATH=\"complete-nucl-sars_cov_2-B.1.1.7-human_origin.fasta\"\n",
    "# B.1.351 (Beta), \n",
    "BETA_FASTA_PATH=\"complete-nucl-sars_cov_2-B.1.351-human_origin.fasta\"\n",
    "# B.1.617.2 (Delta), \n",
    "DELTA_FASTA_PATH=\"complete-nucl-sars_cov_2-B.1.617.2-human_origin.fasta\"\n",
    "# and P.1 (Gamma)\n",
    "\n",
    "ALPHA_CLASS = 1\n",
    "BETA_CLASS = 2\n",
    "DELTA_CLASS = 3"
   ]
  },
  {
   "cell_type": "code",
   "execution_count": 24,
   "id": "03cb2b41",
   "metadata": {},
   "outputs": [],
   "source": [
    "# Create fine tuning file from fasta file.\n",
    "from Bio import SeqIO\n",
    "import os\n",
    "\n",
    "def generate_fine_tuning_file(fasta_file, label_for_this_file, output_file_path):\n",
    "    if (os.path.exists(output_file_path)):\n",
    "        os.remove(output_file_path)\n",
    "        \n",
    "    output_file = open(output_file_path, 'w+')\n",
    "    \n",
    "    for records in SeqIO.parse(fasta_file, 'fasta'):\n",
    "        output_file.write(records.id + ',' + str(records.seq) + ',' + str(label_for_this_file) + '\\n')\n",
    "    \n",
    "    pre_raw.close()\n",
    "\n",
    "# Generate fine tuning file\n",
    "generate_fine_tuning_file(ALPHA_FASTA_PATH, ALPHA_CLASS, 'fine_tuning_alpha')\n",
    "generate_fine_tuning_file(BETA_FASTA_PATH, BETA_CLASS, 'fine_tuning_beta')\n",
    "generate_fine_tuning_file(DELTA_FASTA_PATH, DELTA_CLASS, 'fine_tuning_delta')"
   ]
  },
  {
   "cell_type": "code",
   "execution_count": null,
   "id": "6ee39d11",
   "metadata": {},
   "outputs": [],
   "source": []
  },
  {
   "cell_type": "code",
   "execution_count": null,
   "id": "a8d526af",
   "metadata": {
    "collapsed": true
   },
   "outputs": [],
   "source": [
    "# Generate K-Mer from sequence\n",
    "s = \"GTTCTCTAAACGAACTTTAAAATCTGTGTGGCTGTCACTCGGCTGCATGCTTAGTGCACT\"\n",
    "\n",
    "# Generate array of k-mer\n",
    "# @param sequence : sequence you want to process\n",
    "# @param k : how many length you want in k-mer\n",
    "def generate_k_mer(sequence, k):\n",
    "    \n"
   ]
  }
 ],
 "metadata": {
  "kernelspec": {
   "display_name": "Python 3 (ipykernel)",
   "language": "python",
   "name": "python3"
  },
  "language_info": {
   "codemirror_mode": {
    "name": "ipython",
    "version": 3
   },
   "file_extension": ".py",
   "mimetype": "text/x-python",
   "name": "python",
   "nbconvert_exporter": "python",
   "pygments_lexer": "ipython3",
   "version": "3.7.9"
  }
 },
 "nbformat": 4,
 "nbformat_minor": 5
}
