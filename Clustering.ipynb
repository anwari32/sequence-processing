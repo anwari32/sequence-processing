{
 "cells": [
  {
   "cell_type": "code",
   "execution_count": 52,
   "id": "50a01585",
   "metadata": {},
   "outputs": [],
   "source": [
    "# Define k-mer merge function\n",
    "# Reference : https://github.com/jerryji1993/DNABERT/blob/master/motif/motif_utils.py\n",
    "# @param kmers : Array of k-mers\n",
    "# @return : original sequence.\n",
    "def kmer2seq(kmers):\n",
    "    \"\"\"\n",
    "    Convert kmers to original sequence\n",
    "    \n",
    "    Arguments:\n",
    "    kmers -- str, kmers separated by space.\n",
    "    \n",
    "    Returns:\n",
    "    seq -- str, original sequence.\n",
    "    \"\"\"\n",
    "    kmers_list = kmers.split(\" \")\n",
    "    bases = [kmer[0] for kmer in kmers_list[0:-1]]\n",
    "    bases.append(kmers_list[-1])\n",
    "    seq = \"\".join(bases)\n",
    "    assert len(seq) == len(kmers_list) + len(kmers_list[0]) - 1\n",
    "    return seq\n",
    "\n",
    "# Reads file, merge k-mers in original file, and write the sequence in new file.\n",
    "def generate_original_sequence(origin_file_path, target_file_path):\n",
    "    origin = open(origin_file_path, 'r')\n",
    "    target = open(target_file_path, 'w+')\n",
    "    \n",
    "    next(origin)\n",
    "    for line in origin:\n",
    "        arr = line.strip().split('\\t')\n",
    "        kmers = arr[0]\n",
    "        label = arr[1]\n",
    "        seq = kmer2seq(kmers)\n",
    "        target.write(seq + '\\t' + arr[1] + '\\n')\n",
    "    \n",
    "    origin.close()\n",
    "    target.close()\n",
    "    \n",
    "# Data and target path.\n",
    "DATA_PATH = \"data/ft/fine_tuning_sample_k-mer_3_ALPHA_BETA_DELTA.tsv\"\n",
    "TARGET_PATH = \"data/ft/fine_tuning_sample_k-mer_3_ALPHA_BETA_DELTA_merged.txt\"\n",
    "\n",
    "# Vector constants for each base.\n",
    "ONE_HOT_ENCODING = { \n",
    "    'A' : [1,0,0,0],\n",
    "    'T' : [0,1,0,0], # T and U are basically the same thing. \n",
    "    'U' : [0,1,0,0], # T is in DNA and U is in RNA.\n",
    "    'G' : [0,0,1,0],\n",
    "    'C' : [0,0,0,1]\n",
    "}\n",
    "\n",
    "INTEGER_ENCODING = { \n",
    "    'A' : 1,\n",
    "    'T' : 2, # T and U are basically the same thing. \n",
    "    'U' : 2, # T is in DNA and U is in RNA.\n",
    "    'G' : 3,\n",
    "    'C' : 4\n",
    "}\n",
    "\n",
    "LABELS_INTEGER = {\n",
    "    '0' : 0,\n",
    "    '1' : 1,\n",
    "    '2' : 2\n",
    "}\n",
    "\n",
    "LABELS = {\n",
    "    '0' : [1,0,0],\n",
    "    '1' : [0,1,0],\n",
    "    '2' : [0,0,1]\n",
    "}\n"
   ]
  },
  {
   "cell_type": "code",
   "execution_count": 53,
   "id": "63f0076b",
   "metadata": {},
   "outputs": [],
   "source": [
    "# Generate original sequence from given file containing kmers and label.\n",
    "generate_original_sequence(DATA_PATH, TARGET_PATH)"
   ]
  },
  {
   "cell_type": "code",
   "execution_count": 125,
   "id": "0e7fdc73",
   "metadata": {},
   "outputs": [],
   "source": [
    "# Generate one hot encoding representation from given seq.\n",
    "# @param seq : A sequence and its label in format {seq}<tab>{label}.\n",
    "# @param mode : Encoding mode, 'one-hot' and 'int'. Default mode is 'one-hot'.\n",
    "# @return : one hot encoding vectors.\n",
    "def one_hot_encoding_from_seq(seq, mode='one-hot'):\n",
    "    vector = []\n",
    "    labels = []\n",
    "    arr = seq.strip().split('\\t')\n",
    "    seq = arr[0].strip()\n",
    "    if mode == 'one-hot':\n",
    "        label = LABELS[arr[1]]\n",
    "    elif mode == 'int':\n",
    "        label = LABELS_INTEGER[arr[1]]\n",
    "    else:\n",
    "        label = LABELS[arr[1]]\n",
    "    for c in seq.strip():\n",
    "        if mode == 'one-hot':\n",
    "            ec = ONE_HOT_ENCODING[c]\n",
    "        elif mode == 'int':\n",
    "            ec = INTEGER_ENCODING[c]\n",
    "        else:\n",
    "            ec = ONE_HOT_ENCODING[c]\n",
    "        vector.append(ec)\n",
    "    return vector, label\n",
    "\n",
    "# Reads sequences from file and convert into one hot encoding.\n",
    "# @param source_file_path : File from which seqs are read.\n",
    "# @param mode : Encoding mode, 'one-hot' and 'int'\n",
    "# @return : vectors representating a set of sequences.\n",
    "def read_one_hot_encoding_from_file(source_file_path, mode):\n",
    "    f = open(source_file_path, 'r')\n",
    "    m = []\n",
    "    l = []\n",
    "    line_count = 0\n",
    "    for line in f:\n",
    "        line_count += 1\n",
    "        vector, label = one_hot_encoding_from_seq(line, mode)\n",
    "        m.append(vector)\n",
    "        l.append(label)\n",
    "    print('finished reading {} lines.'.format(line_count))\n",
    "    return m, l"
   ]
  },
  {
   "cell_type": "code",
   "execution_count": 126,
   "id": "0f8e0573",
   "metadata": {},
   "outputs": [
    {
     "name": "stdout",
     "output_type": "stream",
     "text": [
      "finished reading 300 lines.\n"
     ]
    }
   ],
   "source": [
    "# Generate one hot encoding from sequences.\n",
    "features, labels = read_one_hot_encoding_from_file(TARGET_PATH, mode='one-hot')"
   ]
  },
  {
   "cell_type": "code",
   "execution_count": 124,
   "id": "1600e27d",
   "metadata": {},
   "outputs": [
    {
     "name": "stdout",
     "output_type": "stream",
     "text": [
      "size of set of features : 300\n",
      "length of features : 102\n",
      "size of label : 300\n"
     ]
    }
   ],
   "source": [
    "print('size of set of features : {}'.format(len(features)))\n",
    "print('length of features : {}'.format(len(features[0])))\n",
    "print('size of label : {}'.format(len(labels)))"
   ]
  },
  {
   "cell_type": "code",
   "execution_count": 127,
   "id": "ce7872bf",
   "metadata": {},
   "outputs": [
    {
     "name": "stdout",
     "output_type": "stream",
     "text": [
      "(300, 102, 4)\n",
      "(300, 3)\n"
     ]
    }
   ],
   "source": [
    "np_features = np.array(features)\n",
    "np_labels = np.array(labels)\n",
    "print(np_features.shape)\n",
    "print(np_labels.shape)"
   ]
  },
  {
   "cell_type": "code",
   "execution_count": 128,
   "id": "81027c6c",
   "metadata": {},
   "outputs": [],
   "source": [
    "from sklearn.cluster import KMeans\n",
    "from sklearn.preprocessing import StandardScaler\n",
    "from sklearn.metrics import silhouette_score"
   ]
  },
  {
   "cell_type": "code",
   "execution_count": 113,
   "id": "b72e23f0",
   "metadata": {},
   "outputs": [
    {
     "ename": "ValueError",
     "evalue": "Found array with dim 3. StandardScaler expected <= 2.",
     "output_type": "error",
     "traceback": [
      "\u001b[1;31m---------------------------------------------------------------------------\u001b[0m",
      "\u001b[1;31mValueError\u001b[0m                                Traceback (most recent call last)",
      "\u001b[1;32m~\\AppData\\Local\\Temp/ipykernel_15644/741878940.py\u001b[0m in \u001b[0;36m<module>\u001b[1;34m\u001b[0m\n\u001b[0;32m      1\u001b[0m \u001b[0mscaler\u001b[0m \u001b[1;33m=\u001b[0m \u001b[0mStandardScaler\u001b[0m\u001b[1;33m(\u001b[0m\u001b[1;33m)\u001b[0m\u001b[1;33m\u001b[0m\u001b[1;33m\u001b[0m\u001b[0m\n\u001b[1;32m----> 2\u001b[1;33m \u001b[0mscaled_features\u001b[0m \u001b[1;33m=\u001b[0m \u001b[0mscaler\u001b[0m\u001b[1;33m.\u001b[0m\u001b[0mfit_transform\u001b[0m\u001b[1;33m(\u001b[0m\u001b[0mfeatures\u001b[0m\u001b[1;33m)\u001b[0m\u001b[1;33m\u001b[0m\u001b[1;33m\u001b[0m\u001b[0m\n\u001b[0m\u001b[0;32m      3\u001b[0m \u001b[0mscaled_features\u001b[0m\u001b[1;33m[\u001b[0m\u001b[1;33m:\u001b[0m\u001b[1;36m2\u001b[0m\u001b[1;33m]\u001b[0m\u001b[1;33m\u001b[0m\u001b[1;33m\u001b[0m\u001b[0m\n",
      "\u001b[1;32mc:\\.virtualenv\\bioinformatics-cpu\\lib\\site-packages\\sklearn\\base.py\u001b[0m in \u001b[0;36mfit_transform\u001b[1;34m(self, X, y, **fit_params)\u001b[0m\n\u001b[0;32m    697\u001b[0m         \u001b[1;32mif\u001b[0m \u001b[0my\u001b[0m \u001b[1;32mis\u001b[0m \u001b[1;32mNone\u001b[0m\u001b[1;33m:\u001b[0m\u001b[1;33m\u001b[0m\u001b[1;33m\u001b[0m\u001b[0m\n\u001b[0;32m    698\u001b[0m             \u001b[1;31m# fit method of arity 1 (unsupervised transformation)\u001b[0m\u001b[1;33m\u001b[0m\u001b[1;33m\u001b[0m\u001b[1;33m\u001b[0m\u001b[0m\n\u001b[1;32m--> 699\u001b[1;33m             \u001b[1;32mreturn\u001b[0m \u001b[0mself\u001b[0m\u001b[1;33m.\u001b[0m\u001b[0mfit\u001b[0m\u001b[1;33m(\u001b[0m\u001b[0mX\u001b[0m\u001b[1;33m,\u001b[0m \u001b[1;33m**\u001b[0m\u001b[0mfit_params\u001b[0m\u001b[1;33m)\u001b[0m\u001b[1;33m.\u001b[0m\u001b[0mtransform\u001b[0m\u001b[1;33m(\u001b[0m\u001b[0mX\u001b[0m\u001b[1;33m)\u001b[0m\u001b[1;33m\u001b[0m\u001b[1;33m\u001b[0m\u001b[0m\n\u001b[0m\u001b[0;32m    700\u001b[0m         \u001b[1;32melse\u001b[0m\u001b[1;33m:\u001b[0m\u001b[1;33m\u001b[0m\u001b[1;33m\u001b[0m\u001b[0m\n\u001b[0;32m    701\u001b[0m             \u001b[1;31m# fit method of arity 2 (supervised transformation)\u001b[0m\u001b[1;33m\u001b[0m\u001b[1;33m\u001b[0m\u001b[1;33m\u001b[0m\u001b[0m\n",
      "\u001b[1;32mc:\\.virtualenv\\bioinformatics-cpu\\lib\\site-packages\\sklearn\\preprocessing\\_data.py\u001b[0m in \u001b[0;36mfit\u001b[1;34m(self, X, y, sample_weight)\u001b[0m\n\u001b[0;32m    728\u001b[0m         \u001b[1;31m# Reset internal state before fitting\u001b[0m\u001b[1;33m\u001b[0m\u001b[1;33m\u001b[0m\u001b[1;33m\u001b[0m\u001b[0m\n\u001b[0;32m    729\u001b[0m         \u001b[0mself\u001b[0m\u001b[1;33m.\u001b[0m\u001b[0m_reset\u001b[0m\u001b[1;33m(\u001b[0m\u001b[1;33m)\u001b[0m\u001b[1;33m\u001b[0m\u001b[1;33m\u001b[0m\u001b[0m\n\u001b[1;32m--> 730\u001b[1;33m         \u001b[1;32mreturn\u001b[0m \u001b[0mself\u001b[0m\u001b[1;33m.\u001b[0m\u001b[0mpartial_fit\u001b[0m\u001b[1;33m(\u001b[0m\u001b[0mX\u001b[0m\u001b[1;33m,\u001b[0m \u001b[0my\u001b[0m\u001b[1;33m,\u001b[0m \u001b[0msample_weight\u001b[0m\u001b[1;33m)\u001b[0m\u001b[1;33m\u001b[0m\u001b[1;33m\u001b[0m\u001b[0m\n\u001b[0m\u001b[0;32m    731\u001b[0m \u001b[1;33m\u001b[0m\u001b[0m\n\u001b[0;32m    732\u001b[0m     \u001b[1;32mdef\u001b[0m \u001b[0mpartial_fit\u001b[0m\u001b[1;33m(\u001b[0m\u001b[0mself\u001b[0m\u001b[1;33m,\u001b[0m \u001b[0mX\u001b[0m\u001b[1;33m,\u001b[0m \u001b[0my\u001b[0m\u001b[1;33m=\u001b[0m\u001b[1;32mNone\u001b[0m\u001b[1;33m,\u001b[0m \u001b[0msample_weight\u001b[0m\u001b[1;33m=\u001b[0m\u001b[1;32mNone\u001b[0m\u001b[1;33m)\u001b[0m\u001b[1;33m:\u001b[0m\u001b[1;33m\u001b[0m\u001b[1;33m\u001b[0m\u001b[0m\n",
      "\u001b[1;32mc:\\.virtualenv\\bioinformatics-cpu\\lib\\site-packages\\sklearn\\preprocessing\\_data.py\u001b[0m in \u001b[0;36mpartial_fit\u001b[1;34m(self, X, y, sample_weight)\u001b[0m\n\u001b[0;32m    766\u001b[0m         X = self._validate_data(X, accept_sparse=('csr', 'csc'),\n\u001b[0;32m    767\u001b[0m                                 \u001b[0mestimator\u001b[0m\u001b[1;33m=\u001b[0m\u001b[0mself\u001b[0m\u001b[1;33m,\u001b[0m \u001b[0mdtype\u001b[0m\u001b[1;33m=\u001b[0m\u001b[0mFLOAT_DTYPES\u001b[0m\u001b[1;33m,\u001b[0m\u001b[1;33m\u001b[0m\u001b[1;33m\u001b[0m\u001b[0m\n\u001b[1;32m--> 768\u001b[1;33m                                 force_all_finite='allow-nan', reset=first_call)\n\u001b[0m\u001b[0;32m    769\u001b[0m         \u001b[0mn_features\u001b[0m \u001b[1;33m=\u001b[0m \u001b[0mX\u001b[0m\u001b[1;33m.\u001b[0m\u001b[0mshape\u001b[0m\u001b[1;33m[\u001b[0m\u001b[1;36m1\u001b[0m\u001b[1;33m]\u001b[0m\u001b[1;33m\u001b[0m\u001b[1;33m\u001b[0m\u001b[0m\n\u001b[0;32m    770\u001b[0m \u001b[1;33m\u001b[0m\u001b[0m\n",
      "\u001b[1;32mc:\\.virtualenv\\bioinformatics-cpu\\lib\\site-packages\\sklearn\\base.py\u001b[0m in \u001b[0;36m_validate_data\u001b[1;34m(self, X, y, reset, validate_separately, **check_params)\u001b[0m\n\u001b[0;32m    419\u001b[0m             \u001b[0mout\u001b[0m \u001b[1;33m=\u001b[0m \u001b[0mX\u001b[0m\u001b[1;33m\u001b[0m\u001b[1;33m\u001b[0m\u001b[0m\n\u001b[0;32m    420\u001b[0m         \u001b[1;32melif\u001b[0m \u001b[0misinstance\u001b[0m\u001b[1;33m(\u001b[0m\u001b[0my\u001b[0m\u001b[1;33m,\u001b[0m \u001b[0mstr\u001b[0m\u001b[1;33m)\u001b[0m \u001b[1;32mand\u001b[0m \u001b[0my\u001b[0m \u001b[1;33m==\u001b[0m \u001b[1;34m'no_validation'\u001b[0m\u001b[1;33m:\u001b[0m\u001b[1;33m\u001b[0m\u001b[1;33m\u001b[0m\u001b[0m\n\u001b[1;32m--> 421\u001b[1;33m             \u001b[0mX\u001b[0m \u001b[1;33m=\u001b[0m \u001b[0mcheck_array\u001b[0m\u001b[1;33m(\u001b[0m\u001b[0mX\u001b[0m\u001b[1;33m,\u001b[0m \u001b[1;33m**\u001b[0m\u001b[0mcheck_params\u001b[0m\u001b[1;33m)\u001b[0m\u001b[1;33m\u001b[0m\u001b[1;33m\u001b[0m\u001b[0m\n\u001b[0m\u001b[0;32m    422\u001b[0m             \u001b[0mout\u001b[0m \u001b[1;33m=\u001b[0m \u001b[0mX\u001b[0m\u001b[1;33m\u001b[0m\u001b[1;33m\u001b[0m\u001b[0m\n\u001b[0;32m    423\u001b[0m         \u001b[1;32melse\u001b[0m\u001b[1;33m:\u001b[0m\u001b[1;33m\u001b[0m\u001b[1;33m\u001b[0m\u001b[0m\n",
      "\u001b[1;32mc:\\.virtualenv\\bioinformatics-cpu\\lib\\site-packages\\sklearn\\utils\\validation.py\u001b[0m in \u001b[0;36minner_f\u001b[1;34m(*args, **kwargs)\u001b[0m\n\u001b[0;32m     61\u001b[0m             \u001b[0mextra_args\u001b[0m \u001b[1;33m=\u001b[0m \u001b[0mlen\u001b[0m\u001b[1;33m(\u001b[0m\u001b[0margs\u001b[0m\u001b[1;33m)\u001b[0m \u001b[1;33m-\u001b[0m \u001b[0mlen\u001b[0m\u001b[1;33m(\u001b[0m\u001b[0mall_args\u001b[0m\u001b[1;33m)\u001b[0m\u001b[1;33m\u001b[0m\u001b[1;33m\u001b[0m\u001b[0m\n\u001b[0;32m     62\u001b[0m             \u001b[1;32mif\u001b[0m \u001b[0mextra_args\u001b[0m \u001b[1;33m<=\u001b[0m \u001b[1;36m0\u001b[0m\u001b[1;33m:\u001b[0m\u001b[1;33m\u001b[0m\u001b[1;33m\u001b[0m\u001b[0m\n\u001b[1;32m---> 63\u001b[1;33m                 \u001b[1;32mreturn\u001b[0m \u001b[0mf\u001b[0m\u001b[1;33m(\u001b[0m\u001b[1;33m*\u001b[0m\u001b[0margs\u001b[0m\u001b[1;33m,\u001b[0m \u001b[1;33m**\u001b[0m\u001b[0mkwargs\u001b[0m\u001b[1;33m)\u001b[0m\u001b[1;33m\u001b[0m\u001b[1;33m\u001b[0m\u001b[0m\n\u001b[0m\u001b[0;32m     64\u001b[0m \u001b[1;33m\u001b[0m\u001b[0m\n\u001b[0;32m     65\u001b[0m             \u001b[1;31m# extra_args > 0\u001b[0m\u001b[1;33m\u001b[0m\u001b[1;33m\u001b[0m\u001b[1;33m\u001b[0m\u001b[0m\n",
      "\u001b[1;32mc:\\.virtualenv\\bioinformatics-cpu\\lib\\site-packages\\sklearn\\utils\\validation.py\u001b[0m in \u001b[0;36mcheck_array\u001b[1;34m(array, accept_sparse, accept_large_sparse, dtype, order, copy, force_all_finite, ensure_2d, allow_nd, ensure_min_samples, ensure_min_features, estimator)\u001b[0m\n\u001b[0;32m    715\u001b[0m         \u001b[1;32mif\u001b[0m \u001b[1;32mnot\u001b[0m \u001b[0mallow_nd\u001b[0m \u001b[1;32mand\u001b[0m \u001b[0marray\u001b[0m\u001b[1;33m.\u001b[0m\u001b[0mndim\u001b[0m \u001b[1;33m>=\u001b[0m \u001b[1;36m3\u001b[0m\u001b[1;33m:\u001b[0m\u001b[1;33m\u001b[0m\u001b[1;33m\u001b[0m\u001b[0m\n\u001b[0;32m    716\u001b[0m             raise ValueError(\"Found array with dim %d. %s expected <= 2.\"\n\u001b[1;32m--> 717\u001b[1;33m                              % (array.ndim, estimator_name))\n\u001b[0m\u001b[0;32m    718\u001b[0m \u001b[1;33m\u001b[0m\u001b[0m\n\u001b[0;32m    719\u001b[0m         \u001b[1;32mif\u001b[0m \u001b[0mforce_all_finite\u001b[0m\u001b[1;33m:\u001b[0m\u001b[1;33m\u001b[0m\u001b[1;33m\u001b[0m\u001b[0m\n",
      "\u001b[1;31mValueError\u001b[0m: Found array with dim 3. StandardScaler expected <= 2."
     ]
    }
   ],
   "source": [
    "scaler = StandardScaler()\n",
    "features = scaler.fit_transform(features)\n",
    "features[:2]"
   ]
  },
  {
   "cell_type": "code",
   "execution_count": 117,
   "id": "75ab2b86",
   "metadata": {},
   "outputs": [
    {
     "ename": "ValueError",
     "evalue": "Found array with dim 3. Estimator expected <= 2.",
     "output_type": "error",
     "traceback": [
      "\u001b[1;31m---------------------------------------------------------------------------\u001b[0m",
      "\u001b[1;31mValueError\u001b[0m                                Traceback (most recent call last)",
      "\u001b[1;32m~\\AppData\\Local\\Temp/ipykernel_15644/3223071979.py\u001b[0m in \u001b[0;36m<module>\u001b[1;34m\u001b[0m\n\u001b[0;32m      1\u001b[0m \u001b[0mkmeans\u001b[0m \u001b[1;33m=\u001b[0m \u001b[0mKMeans\u001b[0m\u001b[1;33m(\u001b[0m\u001b[0minit\u001b[0m\u001b[1;33m=\u001b[0m\u001b[1;34m\"random\"\u001b[0m\u001b[1;33m,\u001b[0m \u001b[0mn_clusters\u001b[0m\u001b[1;33m=\u001b[0m\u001b[1;36m3\u001b[0m\u001b[1;33m,\u001b[0m \u001b[0mn_init\u001b[0m\u001b[1;33m=\u001b[0m\u001b[1;36m10\u001b[0m\u001b[1;33m,\u001b[0m \u001b[0mrandom_state\u001b[0m\u001b[1;33m=\u001b[0m\u001b[1;36m42\u001b[0m\u001b[1;33m)\u001b[0m\u001b[1;33m\u001b[0m\u001b[1;33m\u001b[0m\u001b[0m\n\u001b[1;32m----> 2\u001b[1;33m \u001b[0mkmeans\u001b[0m\u001b[1;33m.\u001b[0m\u001b[0mfit\u001b[0m\u001b[1;33m(\u001b[0m\u001b[0mfeatures\u001b[0m\u001b[1;33m)\u001b[0m\u001b[1;33m\u001b[0m\u001b[1;33m\u001b[0m\u001b[0m\n\u001b[0m",
      "\u001b[1;32mc:\\.virtualenv\\bioinformatics-cpu\\lib\\site-packages\\sklearn\\cluster\\_kmeans.py\u001b[0m in \u001b[0;36mfit\u001b[1;34m(self, X, y, sample_weight)\u001b[0m\n\u001b[0;32m    980\u001b[0m                                 \u001b[0mdtype\u001b[0m\u001b[1;33m=\u001b[0m\u001b[1;33m[\u001b[0m\u001b[0mnp\u001b[0m\u001b[1;33m.\u001b[0m\u001b[0mfloat64\u001b[0m\u001b[1;33m,\u001b[0m \u001b[0mnp\u001b[0m\u001b[1;33m.\u001b[0m\u001b[0mfloat32\u001b[0m\u001b[1;33m]\u001b[0m\u001b[1;33m,\u001b[0m\u001b[1;33m\u001b[0m\u001b[1;33m\u001b[0m\u001b[0m\n\u001b[0;32m    981\u001b[0m                                 \u001b[0morder\u001b[0m\u001b[1;33m=\u001b[0m\u001b[1;34m'C'\u001b[0m\u001b[1;33m,\u001b[0m \u001b[0mcopy\u001b[0m\u001b[1;33m=\u001b[0m\u001b[0mself\u001b[0m\u001b[1;33m.\u001b[0m\u001b[0mcopy_x\u001b[0m\u001b[1;33m,\u001b[0m\u001b[1;33m\u001b[0m\u001b[1;33m\u001b[0m\u001b[0m\n\u001b[1;32m--> 982\u001b[1;33m                                 accept_large_sparse=False)\n\u001b[0m\u001b[0;32m    983\u001b[0m \u001b[1;33m\u001b[0m\u001b[0m\n\u001b[0;32m    984\u001b[0m         \u001b[0mself\u001b[0m\u001b[1;33m.\u001b[0m\u001b[0m_check_params\u001b[0m\u001b[1;33m(\u001b[0m\u001b[0mX\u001b[0m\u001b[1;33m)\u001b[0m\u001b[1;33m\u001b[0m\u001b[1;33m\u001b[0m\u001b[0m\n",
      "\u001b[1;32mc:\\.virtualenv\\bioinformatics-cpu\\lib\\site-packages\\sklearn\\base.py\u001b[0m in \u001b[0;36m_validate_data\u001b[1;34m(self, X, y, reset, validate_separately, **check_params)\u001b[0m\n\u001b[0;32m    419\u001b[0m             \u001b[0mout\u001b[0m \u001b[1;33m=\u001b[0m \u001b[0mX\u001b[0m\u001b[1;33m\u001b[0m\u001b[1;33m\u001b[0m\u001b[0m\n\u001b[0;32m    420\u001b[0m         \u001b[1;32melif\u001b[0m \u001b[0misinstance\u001b[0m\u001b[1;33m(\u001b[0m\u001b[0my\u001b[0m\u001b[1;33m,\u001b[0m \u001b[0mstr\u001b[0m\u001b[1;33m)\u001b[0m \u001b[1;32mand\u001b[0m \u001b[0my\u001b[0m \u001b[1;33m==\u001b[0m \u001b[1;34m'no_validation'\u001b[0m\u001b[1;33m:\u001b[0m\u001b[1;33m\u001b[0m\u001b[1;33m\u001b[0m\u001b[0m\n\u001b[1;32m--> 421\u001b[1;33m             \u001b[0mX\u001b[0m \u001b[1;33m=\u001b[0m \u001b[0mcheck_array\u001b[0m\u001b[1;33m(\u001b[0m\u001b[0mX\u001b[0m\u001b[1;33m,\u001b[0m \u001b[1;33m**\u001b[0m\u001b[0mcheck_params\u001b[0m\u001b[1;33m)\u001b[0m\u001b[1;33m\u001b[0m\u001b[1;33m\u001b[0m\u001b[0m\n\u001b[0m\u001b[0;32m    422\u001b[0m             \u001b[0mout\u001b[0m \u001b[1;33m=\u001b[0m \u001b[0mX\u001b[0m\u001b[1;33m\u001b[0m\u001b[1;33m\u001b[0m\u001b[0m\n\u001b[0;32m    423\u001b[0m         \u001b[1;32melse\u001b[0m\u001b[1;33m:\u001b[0m\u001b[1;33m\u001b[0m\u001b[1;33m\u001b[0m\u001b[0m\n",
      "\u001b[1;32mc:\\.virtualenv\\bioinformatics-cpu\\lib\\site-packages\\sklearn\\utils\\validation.py\u001b[0m in \u001b[0;36minner_f\u001b[1;34m(*args, **kwargs)\u001b[0m\n\u001b[0;32m     61\u001b[0m             \u001b[0mextra_args\u001b[0m \u001b[1;33m=\u001b[0m \u001b[0mlen\u001b[0m\u001b[1;33m(\u001b[0m\u001b[0margs\u001b[0m\u001b[1;33m)\u001b[0m \u001b[1;33m-\u001b[0m \u001b[0mlen\u001b[0m\u001b[1;33m(\u001b[0m\u001b[0mall_args\u001b[0m\u001b[1;33m)\u001b[0m\u001b[1;33m\u001b[0m\u001b[1;33m\u001b[0m\u001b[0m\n\u001b[0;32m     62\u001b[0m             \u001b[1;32mif\u001b[0m \u001b[0mextra_args\u001b[0m \u001b[1;33m<=\u001b[0m \u001b[1;36m0\u001b[0m\u001b[1;33m:\u001b[0m\u001b[1;33m\u001b[0m\u001b[1;33m\u001b[0m\u001b[0m\n\u001b[1;32m---> 63\u001b[1;33m                 \u001b[1;32mreturn\u001b[0m \u001b[0mf\u001b[0m\u001b[1;33m(\u001b[0m\u001b[1;33m*\u001b[0m\u001b[0margs\u001b[0m\u001b[1;33m,\u001b[0m \u001b[1;33m**\u001b[0m\u001b[0mkwargs\u001b[0m\u001b[1;33m)\u001b[0m\u001b[1;33m\u001b[0m\u001b[1;33m\u001b[0m\u001b[0m\n\u001b[0m\u001b[0;32m     64\u001b[0m \u001b[1;33m\u001b[0m\u001b[0m\n\u001b[0;32m     65\u001b[0m             \u001b[1;31m# extra_args > 0\u001b[0m\u001b[1;33m\u001b[0m\u001b[1;33m\u001b[0m\u001b[1;33m\u001b[0m\u001b[0m\n",
      "\u001b[1;32mc:\\.virtualenv\\bioinformatics-cpu\\lib\\site-packages\\sklearn\\utils\\validation.py\u001b[0m in \u001b[0;36mcheck_array\u001b[1;34m(array, accept_sparse, accept_large_sparse, dtype, order, copy, force_all_finite, ensure_2d, allow_nd, ensure_min_samples, ensure_min_features, estimator)\u001b[0m\n\u001b[0;32m    715\u001b[0m         \u001b[1;32mif\u001b[0m \u001b[1;32mnot\u001b[0m \u001b[0mallow_nd\u001b[0m \u001b[1;32mand\u001b[0m \u001b[0marray\u001b[0m\u001b[1;33m.\u001b[0m\u001b[0mndim\u001b[0m \u001b[1;33m>=\u001b[0m \u001b[1;36m3\u001b[0m\u001b[1;33m:\u001b[0m\u001b[1;33m\u001b[0m\u001b[1;33m\u001b[0m\u001b[0m\n\u001b[0;32m    716\u001b[0m             raise ValueError(\"Found array with dim %d. %s expected <= 2.\"\n\u001b[1;32m--> 717\u001b[1;33m                              % (array.ndim, estimator_name))\n\u001b[0m\u001b[0;32m    718\u001b[0m \u001b[1;33m\u001b[0m\u001b[0m\n\u001b[0;32m    719\u001b[0m         \u001b[1;32mif\u001b[0m \u001b[0mforce_all_finite\u001b[0m\u001b[1;33m:\u001b[0m\u001b[1;33m\u001b[0m\u001b[1;33m\u001b[0m\u001b[0m\n",
      "\u001b[1;31mValueError\u001b[0m: Found array with dim 3. Estimator expected <= 2."
     ]
    }
   ],
   "source": [
    "kmeans = KMeans(init=\"random\", n_clusters=3, n_init=10, random_state=42)\n",
    "kmeans.fit(features)"
   ]
  },
  {
   "cell_type": "code",
   "execution_count": 106,
   "id": "531e4764",
   "metadata": {},
   "outputs": [
    {
     "data": {
      "text/plain": [
       "22973.063146886525"
      ]
     },
     "execution_count": 106,
     "metadata": {},
     "output_type": "execute_result"
    }
   ],
   "source": [
    "kmeans.inertia_"
   ]
  },
  {
   "cell_type": "code",
   "execution_count": 107,
   "id": "eeb1f431",
   "metadata": {},
   "outputs": [
    {
     "name": "stdout",
     "output_type": "stream",
     "text": [
      "cluster center : 3\n"
     ]
    },
    {
     "data": {
      "text/plain": [
       "array([[ 1.59895416e+00, -1.42809356e+00, -7.17657702e-01,\n",
       "        -8.75225992e-01,  8.73266559e-01,  8.62461884e-01,\n",
       "        -1.29854417e+00, -6.92755363e-01,  1.32041575e+00,\n",
       "         2.36102815e-01, -1.07563836e+00, -1.19153203e+00,\n",
       "         1.65046451e+00, -8.37819745e-02, -3.66864419e-02,\n",
       "         6.53023148e-02,  1.00576374e+00,  2.42259718e-01,\n",
       "        -3.52008532e-01, -1.83976619e-01,  7.70761774e-01,\n",
       "        -3.01041443e-01,  1.42243416e+00, -5.12341513e-01,\n",
       "        -1.31104554e-01,  8.63186152e-01, -6.76057763e-02,\n",
       "        -8.11372010e-01,  3.38715637e-01, -7.96297966e-01,\n",
       "         4.59702205e-01,  9.94392614e-01, -7.23460230e-01,\n",
       "         4.37405077e-01,  3.02207251e-01, -6.72576746e-01,\n",
       "         8.78773782e-01, -3.22902277e-01,  1.72065212e+00,\n",
       "        -4.05582920e-01, -9.49071165e-01, -7.31772978e-01,\n",
       "        -4.74034958e-02,  8.20458986e-01,  1.05538069e-01,\n",
       "        -1.11827781e+00, -1.06088809e+00,  1.41502985e+00,\n",
       "        -7.05873156e-01, -2.65440275e-01, -2.67159080e-01,\n",
       "        -1.07818703e+00, -8.47526843e-01, -7.97681024e-01,\n",
       "        -1.24430410e+00, -6.79854547e-01,  1.78181802e+00,\n",
       "        -5.83321315e-01,  9.67622199e-01, -1.02005329e+00,\n",
       "         3.54012810e-01, -6.20040990e-01, -5.62960903e-02,\n",
       "         7.14326963e-01,  6.61866442e-01, -7.10238168e-01,\n",
       "        -6.36105208e-02, -4.30347923e-01,  1.07502350e+00,\n",
       "        -1.24917449e+00,  5.00683796e-01, -4.62774742e-01,\n",
       "         1.32566257e+00,  3.97856938e-01,  5.12241380e-01,\n",
       "         1.06289546e+00, -2.29447591e-01,  6.07952204e-01,\n",
       "         8.11487421e-01, -1.21274034e+00, -8.64944898e-02,\n",
       "         9.92311877e-01,  1.02956226e+00, -1.01592838e-01,\n",
       "        -1.91182936e-01, -1.25683579e+00,  3.75553375e-01,\n",
       "         2.03429864e-01,  6.89555643e-01,  1.55653102e+00,\n",
       "        -1.03685292e+00,  1.75565292e+00, -7.10258435e-01,\n",
       "         1.79027590e+00, -1.54443128e+00,  1.91518865e+00,\n",
       "        -1.75007482e-02,  1.37326316e+00, -8.12101709e-01,\n",
       "         9.64943724e-01, -1.04581426e-01, -6.76845625e-01],\n",
       "       [-1.13635747e-01, -8.38510509e-02, -2.05533352e-02,\n",
       "         4.57605468e-01,  2.46514896e-01, -4.95393725e-01,\n",
       "        -1.42609394e-01,  4.19297989e-01,  9.22713701e-02,\n",
       "        -2.63761663e-01, -3.35063645e-02,  5.14190516e-01,\n",
       "        -3.66784551e-02, -4.17726459e-01, -1.59595334e-01,\n",
       "         1.15024890e-01,  5.17833396e-02, -4.13634815e-01,\n",
       "        -1.66501341e-01, -3.55314013e-02,  1.76311495e-01,\n",
       "        -2.09535494e-01, -2.97042575e-01, -1.46151573e-01,\n",
       "         1.54148312e-01, -2.51326023e-01, -5.69646436e-02,\n",
       "         9.93232102e-02, -6.92414691e-02,  1.28395887e-01,\n",
       "        -9.49760279e-02, -5.68448798e-02, -1.44505167e-02,\n",
       "        -1.34659693e-01, -2.44809905e-01,  2.11792894e-02,\n",
       "         6.85888647e-02,  7.21120005e-02, -1.18688070e-01,\n",
       "         1.15493465e-03, -6.63514896e-02,  2.68344185e-01,\n",
       "         1.48059572e-01,  1.85251393e-01, -4.06166895e-01,\n",
       "         2.71597579e-01,  4.58467868e-01,  1.26334406e-01,\n",
       "         1.69494826e-01,  3.18438503e-01,  4.05466571e-01,\n",
       "         4.55882952e-01,  2.79992687e-01,  1.19386060e-01,\n",
       "         4.91295526e-01,  3.91625033e-01, -2.35721230e-01,\n",
       "        -1.79091920e-01, -1.63472600e-01,  1.23499270e-01,\n",
       "        -1.44571015e-02, -1.13297318e-01,  3.21357347e-01,\n",
       "        -3.12945806e-01,  7.58167263e-03, -3.44660013e-01,\n",
       "         3.56232520e-01, -1.94369843e-01,  3.11476608e-02,\n",
       "        -1.69277080e-01,  1.76208522e-01, -2.22323351e-01,\n",
       "        -2.94813971e-01, -3.18504715e-01, -3.03093161e-01,\n",
       "        -4.76029360e-01, -1.16066776e-01, -1.05276847e-01,\n",
       "        -2.50768360e-01, -2.04994768e-01,  1.90112254e-01,\n",
       "        -1.53885471e-01, -6.27592913e-02, -3.40856164e-01,\n",
       "         9.49389092e-02,  3.27851075e-01, -4.58924288e-02,\n",
       "        -1.10081433e-01, -3.14269853e-01, -3.04356033e-01,\n",
       "        -2.81175117e-01, -1.13853908e-01, -1.37165600e-01,\n",
       "        -4.12539885e-01, -7.27584064e-02, -7.40103759e-02,\n",
       "        -1.80269380e-01, -2.24083984e-01, -1.89397310e-02,\n",
       "         3.07886322e-02,  1.01704508e-01,  2.20682580e-01],\n",
       "       [-5.90369477e-01,  1.08901865e+00,  4.81846149e-01,\n",
       "        -8.75225992e-01, -1.25765483e+00,  9.97215572e-01,\n",
       "         1.19136506e+00, -8.65800001e-01, -1.05158859e+00,\n",
       "         6.61371394e-01,  7.30384792e-01, -8.61804836e-01,\n",
       "        -8.53723012e-01,  1.31501273e+00,  5.05144085e-01,\n",
       "        -3.86790634e-01, -7.44928306e-01,  1.11200291e+00,\n",
       "         7.10416743e-01,  2.15243040e-01, -9.84958644e-01,\n",
       "         8.11047186e-01,  6.86906063e-02,  7.42474422e-01,\n",
       "        -3.90542221e-01,  2.57079274e-01,  2.12170066e-01,\n",
       "         1.73314830e-01,  1.18365413e-02,  7.63897366e-02,\n",
       "         1.91014418e-02, -4.09053508e-01,  4.66742162e-01,\n",
       "         1.52408717e-01,  5.65287320e-01,  3.29009174e-01,\n",
       "        -7.21621693e-01, -2.97811936e-02, -6.46203551e-01,\n",
       "         2.33609674e-01,  7.55937657e-01, -3.85483558e-01,\n",
       "        -4.21021581e-01, -1.04110717e+00,  1.16929895e+00,\n",
       "        -1.69387174e-01, -7.69298807e-01, -1.21013865e+00,\n",
       "        -1.01035398e-01, -8.09933147e-01, -1.07269030e+00,\n",
       "        -7.51351299e-01, -3.53115988e-01,  1.04505000e-01,\n",
       "        -7.61564045e-01, -7.89471673e-01, -3.27261575e-01,\n",
       "         8.83804897e-01, -7.02390978e-02,  2.22041060e-01,\n",
       "        -1.63145196e-01,  7.05863528e-01, -9.41048398e-01,\n",
       "         5.30859988e-01, -4.09915604e-01,  1.45980112e+00,\n",
       "        -1.04247087e+00,  8.40678158e-01, -7.22876647e-01,\n",
       "         1.24332639e+00, -8.26754817e-01,  9.44356004e-01,\n",
       "         1.18510376e-01,  7.32721004e-01,  6.19141235e-01,\n",
       "         8.21350096e-01,  4.85910203e-01, -3.63483838e-02,\n",
       "         2.85612998e-01,  1.33027849e+00, -5.25620361e-01,\n",
       "        -1.13729440e-01, -4.11689009e-01,  1.09244911e+00,\n",
       "        -1.75969439e-01, -2.58875414e-01, -8.04649196e-02,\n",
       "         2.14703191e-01,  5.49354563e-01,  1.24609167e-02,\n",
       "         1.45833707e+00, -6.81316788e-01,  8.30945288e-01,\n",
       "         2.03690356e-01,  1.12341222e+00, -8.95340378e-01,\n",
       "         5.56586098e-01, -1.23683926e-01,  5.32169107e-01,\n",
       "        -6.57434185e-01, -2.47102982e-01, -2.73143609e-01]])"
      ]
     },
     "execution_count": 107,
     "metadata": {},
     "output_type": "execute_result"
    }
   ],
   "source": [
    "print('cluster center : {}'.format(len(kmeans.cluster_centers_)))\n",
    "kmeans.cluster_centers_"
   ]
  },
  {
   "cell_type": "code",
   "execution_count": 108,
   "id": "16ddb11a",
   "metadata": {},
   "outputs": [
    {
     "data": {
      "text/plain": [
       "11"
      ]
     },
     "execution_count": 108,
     "metadata": {},
     "output_type": "execute_result"
    }
   ],
   "source": [
    "kmeans.n_iter_"
   ]
  },
  {
   "cell_type": "code",
   "execution_count": 109,
   "id": "2d6d6560",
   "metadata": {},
   "outputs": [
    {
     "name": "stdout",
     "output_type": "stream",
     "text": [
      "2\n",
      "1\n"
     ]
    }
   ],
   "source": [
    "print(labels[299])\n",
    "print(kmeans.labels_[299])"
   ]
  },
  {
   "cell_type": "code",
   "execution_count": null,
   "id": "c32a736e",
   "metadata": {},
   "outputs": [],
   "source": []
  }
 ],
 "metadata": {
  "kernelspec": {
   "display_name": "Python 3 (ipykernel)",
   "language": "python",
   "name": "python3"
  },
  "language_info": {
   "codemirror_mode": {
    "name": "ipython",
    "version": 3
   },
   "file_extension": ".py",
   "mimetype": "text/x-python",
   "name": "python",
   "nbconvert_exporter": "python",
   "pygments_lexer": "ipython3",
   "version": "3.7.9"
  }
 },
 "nbformat": 4,
 "nbformat_minor": 5
}
