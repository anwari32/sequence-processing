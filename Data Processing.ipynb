{
 "cells": [
  {
   "cell_type": "code",
   "execution_count": 18,
   "id": "f60265e1",
   "metadata": {},
   "outputs": [],
   "source": [
    "#  Data Preprocessing\n",
    "import Bio"
   ]
  },
  {
   "cell_type": "code",
   "execution_count": 33,
   "id": "a8d526af",
   "metadata": {},
   "outputs": [
    {
     "name": "stdout",
     "output_type": "stream",
     "text": [
      "GTTCTC TTCTCT TCTCTA CTCTAA TCTAAA CTAAAC TAAACG AAACGA AACGAA ACGAAC\n"
     ]
    }
   ],
   "source": [
    "# Generate K-Mer from sequence\n",
    "s = \"GTTCTCTAAACGAACTTTAAAATCTGTGTGGCTGTCACTCGGCTGCATGCTTAGTGCACT\"\n",
    "\n",
    "# Generate array of k-mer or return original sequence if \n",
    "# from https://github.com/jerryji1993/DNABERT/blob/master/motif/motif_utils.py\n",
    "#\n",
    "# @param sequence : sequence you want to process\n",
    "# @param k : how many length you want in k-mer. If k=-1 then original sequence is returned.\n",
    "# @n_k_mer : how many k-mers are retrieve. If all kmers are required, please put -1.\n",
    "def create_k_mer(sequence, k, n_k_mer):\n",
    "    # Clean sequence from N characters.\n",
    "    sequence = ''.join(c for c in sequence if c not in ['N'])\n",
    "    if k > 0:\n",
    "        arr = [sequence[i:i+k] for i in range(len(sequence)+1-k)]\n",
    "        if n_k_mer > 0:\n",
    "            arr = arr[0:n_k_mer]\n",
    "        kmer = ' '.join(arr)\n",
    "        return kmer\n",
    "    else:\n",
    "        return sequence\n",
    "\n",
    "kmer = create_k_mer(s, 6, 10)\n",
    "print(kmer)"
   ]
  },
  {
   "cell_type": "code",
   "execution_count": 34,
   "id": "bfb7cccc",
   "metadata": {},
   "outputs": [],
   "source": [
    "# B.1.1.7 (Alpha), \n",
    "ALPHA_FASTA_PATH=\"complete-nucl-sars_cov_2-B.1.1.7-human_origin.fasta\"\n",
    "# B.1.351 (Beta), \n",
    "BETA_FASTA_PATH=\"complete-nucl-sars_cov_2-B.1.351-human_origin.fasta\"\n",
    "# B.1.617.2 (Delta), \n",
    "DELTA_FASTA_PATH=\"complete-nucl-sars_cov_2-B.1.617.2-human_origin.fasta\"\n",
    "# and P.1 (Gamma)\n",
    "\n",
    "ALPHA_CLASS = 1\n",
    "BETA_CLASS = 2\n",
    "DELTA_CLASS = 3\n",
    "\n",
    "K_MER_6 = 6\n",
    "K_MER_5 = 5\n",
    "K_MER_4 = 4\n",
    "K_MER_3 = 3\n",
    "N_K_MER = 100 # How many k-mers are retrieved per sequence.\n",
    "N_SAMPLES = 100 # How many sequences are retrieved.\n",
    "\n",
    "PREFIX = 'sarscov2'\n",
    "DEST_DIR = 'data'\n",
    "DEST_DIR_ALPHA = DEST_DIR + '/alpha'\n",
    "DEST_DIR_BETA = DEST_DIR + '/beta'\n",
    "DEST_DIR_DELTA = DEST_DIR + '/delta'"
   ]
  },
  {
   "cell_type": "code",
   "execution_count": 42,
   "id": "03cb2b41",
   "metadata": {},
   "outputs": [],
   "source": [
    "# Create fine tuning file from fasta file.\n",
    "from Bio import SeqIO\n",
    "import os\n",
    "\n",
    "# Generate file for fine tuning using FASTA file.\n",
    "# @param fasta_file : Original fasta file.\n",
    "# @param label_for_this_file : What label for this fine tuning file.\n",
    "# @param output_file_path : What and where the fine tuning is named and stored. \n",
    "#                           If file path exists, existing file will be removed.\n",
    "# @param n_samples : How many sequence will be put in fine tuning file. \n",
    "#                    If all sequence is to be generated, please put -1.\n",
    "# @param k_mer : Size of k-mer. If k-mer is not required, please put -1.\n",
    "# @param n_k_mer : How many kmers are written to file for each sequence in fasta file. \n",
    "#                  If all kmers are written, please put -1.\n",
    "def generate_sample_fine_tuning_file(fasta_file, label_for_this_file, output_file_path, n_samples, k_mer, n_k_mer):\n",
    "    records = list(SeqIO.parse(fasta_file, 'fasta'))\n",
    "    if len(records) >= n_samples:\n",
    "        records = records[0:n_samples]\n",
    "    \n",
    "    if (os.path.exists(output_file_path)):\n",
    "        os.remove(output_file_path)\n",
    "        \n",
    "    output_file = open(output_file_path, 'w+')\n",
    "    for r in records:\n",
    "        output_file.write(create_k_mer(str(r.seq), k_mer, n_k_mer) + '\\t' + str(label_for_this_file) + '\\n')\n",
    "    output_file.close()\n",
    "    return output_file_path\n",
    "\n",
    "# Merge two files together.\n",
    "# @param fp : First file path.\n",
    "# @param gp : Second file path.\n",
    "# @param hp : Third file as result from merging two files together.\n",
    "def merge_file(fp, gp, hp):\n",
    "    data1 = data2 = \"\"\n",
    "    with open(fp) as f:\n",
    "        data1 = f.read()\n",
    "    with open(gp) as g:\n",
    "        data2 = g.read()\n",
    "    \n",
    "    final_data = data1 + data2      \n",
    "    with open (hp, 'w') as h:\n",
    "        h.write(final_data)\n",
    "        h.close()"
   ]
  },
  {
   "cell_type": "code",
   "execution_count": 43,
   "id": "21f149bc",
   "metadata": {},
   "outputs": [],
   "source": [
    "# Generate fine tuning file\n",
    "# generate_sample_fine_tuning_file(ALPHA_FASTA_PATH, ALPHA_CLASS, 'fine_tuning_sample_alpha_'+str(K_MER)+'.txt', N_SAMPLES, K_MER, N_K_MER)\n",
    "for i in [3, 4, 5, 6]:\n",
    "    fp = generate_sample_fine_tuning_file(BETA_FASTA_PATH, 0, 'fine_tuning_sample_beta_k-mer_'+str(i)+'.txt', N_SAMPLES, i, N_K_MER)\n",
    "    gp = generate_sample_fine_tuning_file(DELTA_FASTA_PATH, 1, 'fine_tuning_sample_delta_k-mer_'+str(i)+'.txt', N_SAMPLES, i, N_K_MER)\n",
    "    merge_file(fp, gp, 'fine_tuning_sample_k-mer_' + str(i) + '.tsv')"
   ]
  },
  {
   "cell_type": "code",
   "execution_count": null,
   "id": "fc0e4a6e",
   "metadata": {},
   "outputs": [],
   "source": [
    "# Generate Raw K-Mer from Fasta files.\n",
    "# generate_sample_fine_tuning_file(ALPHA_FASTA_PATH, ALPHA_CLASS, 'raw_alpha_'+str(K_MER)+'.txt', -1, K_MER, -1)\n",
    "generate_sample_fine_tuning_file(BETA_FASTA_PATH, BETA_CLASS, 'raw_beta_'+str(K_MER)+'.txt', -1, K_MER, -1)\n",
    "generate_sample_fine_tuning_file(DELTA_FASTA_PATH, DELTA_CLASS, 'raw_delta_'+str(K_MER)+'.txt', -1, K_MER, -1)"
   ]
  },
  {
   "cell_type": "code",
   "execution_count": 23,
   "id": "faa61920",
   "metadata": {},
   "outputs": [],
   "source": [
    "# Splitting the sequence collection into files based on its sequence id in fasta.\n",
    "# Filename = prefix-sequence_id_from_fasta-class-k_mer.txt\n",
    "# @param fasta_file : Fasta file as source.\n",
    "# @param prefix : Filename prefix.\n",
    "# @param class_name : The class for this fasta file in number (0, 1, 2, etc.)\n",
    "# @k_mer_size : Size of k-mer\n",
    "# @dest_dir : Intended file directory.\n",
    "def generate_sequence_file(fasta_file, prefix, class_name, k_mer_size, dest_dir):\n",
    "    records = list(SeqIO.parse(fasta_file, 'fasta'))\n",
    "    for record in records:\n",
    "        if not (os.path.exists(dest_dir)):\n",
    "            # os.mkdir(dest_dir)\n",
    "            import pathlib\n",
    "            pathlib.Path(dest_dir).mkdir(parents=True, exist_ok=True)\n",
    "        output_file_name = dest_dir + '/' + prefix + '-' + record.id + str(class_name) + str(k_mer_size) + '.txt'\n",
    "        if (os.path.exists(output_file_name)):\n",
    "            os.remove(output_file_name)\n",
    "        output_file = open(output_file_name, 'w+')\n",
    "        seq = create_k_mer(str(record.seq), k_mer_size, -1)\n",
    "        output_file.write(seq + '\\t' + str(class_name))\n",
    "        output_file.close()"
   ]
  },
  {
   "cell_type": "code",
   "execution_count": 24,
   "id": "269bd672",
   "metadata": {},
   "outputs": [],
   "source": [
    "# Generate individual sequence.\n",
    "# generate_sequence_file(ALPHA_FASTA_PATH, PREFIX, ALPHA_CLASS, -1, DEST_DIR) # don't do it. source file is too big.\n",
    "generate_sequence_file(BETA_FASTA_PATH, PREFIX, BETA_CLASS, -1, DEST_DIR_BETA)\n",
    "generate_sequence_file(DELTA_FASTA_PATH, PREFIX, DELTA_CLASS, -1, DEST_DIR_DELTA)"
   ]
  },
  {
   "cell_type": "code",
   "execution_count": 5,
   "id": "6ee39d11",
   "metadata": {},
   "outputs": [],
   "source": [
    "# Generate data for predictions.\n",
    "# @param fasta_file : Path to fasta file.\n",
    "# @param output_file_path : What and where the prediction file is named and stored. \n",
    "#                           If file path exists, existing file will be removed.\n",
    "# @seq_index : From where sequence is read.\n",
    "# @n_samples : How many sequences are used to create prediction file.\n",
    "# @k_mer : Size of k-mer.\n",
    "# @n_k_mer : How many kmers are written to file for each sequence in fasta file.\n",
    "def generate_data_to_predict(fasta_file, output_file_path, seq_index, n_samples, k_mer, n_k_mer):\n",
    "    records = list(SeqIO.parse(fasta_file, 'fasta'))\n",
    "    if (len(records)) > n_samples:\n",
    "        records = records[seq_index:n_samples]\n",
    "    \n",
    "    if (os.path.exists(output_file_path)):\n",
    "        os.remove(output_file_path)\n",
    "    \n",
    "    output_file = open(output_file_path, 'w+')\n",
    "    for r in records:\n",
    "        output_file.write(create_k_mer(str(r.seq), k_mer, n_k_mer) + '\\n')\n",
    "    output_file.close()"
   ]
  },
  {
   "cell_type": "code",
   "execution_count": null,
   "id": "809b1fa7",
   "metadata": {},
   "outputs": [],
   "source": [
    "# Generate data for prediction\n",
    "generate_data_to_predict(ALPHA_FASTA_PATH, 'prediction_sample_alpha_'+str(K_MER)+'.txt', N_SAMPLES, N_SAMPLES, K_MER, N_K_MER)\n",
    "generate_data_to_predict(BETA_FASTA_PATH, 'prediction_sample_alpha_'+str(K_MER)+'.txt', N_SAMPLES, N_SAMPLES, K_MER, N_K_MER)\n",
    "generate_data_to_predict(DELTA_FASTA_PATH, 'prediction_sample_alpha_'+str(K_MER)+'.txt', N_SAMPLES, N_SAMPLES, K_MER, N_K_MER)"
   ]
  },
  {
   "cell_type": "code",
   "execution_count": null,
   "id": "c8fd2358",
   "metadata": {},
   "outputs": [],
   "source": []
  }
 ],
 "metadata": {
  "kernelspec": {
   "display_name": "Python 3 (ipykernel)",
   "language": "python",
   "name": "python3"
  },
  "language_info": {
   "codemirror_mode": {
    "name": "ipython",
    "version": 3
   },
   "file_extension": ".py",
   "mimetype": "text/x-python",
   "name": "python",
   "nbconvert_exporter": "python",
   "pygments_lexer": "ipython3",
   "version": "3.7.9"
  }
 },
 "nbformat": 4,
 "nbformat_minor": 5
}
