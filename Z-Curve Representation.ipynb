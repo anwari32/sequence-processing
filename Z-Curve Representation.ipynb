{
 "cells": [
  {
   "cell_type": "code",
   "execution_count": null,
   "id": "14c531b8",
   "metadata": {},
   "outputs": [],
   "source": [
    "\"\"\"\n",
    "This notebook contains Z-curve representation of DNA sequence.\n",
    "The idea is to create numeric represenation of base (A, T, G, and C) in 3D space with this formula.\n",
    "\n",
    "xn = (An + Gn) - (Cn + Tn) as purine vs. pyrimidine,\n",
    "yn = (An + Cn) - (Gn + Tn) as amino vs. keto,\n",
    "zn = (An + Tn) - (Gn + Cn) as hydrogen bonds representation.\n",
    "\n",
    "Reference can be found at https://pubmed.ncbi.nlm.nih.gov/8204213/\n",
    "\"\"\""
   ]
  },
  {
   "cell_type": "code",
   "execution_count": 4,
   "id": "9705a440",
   "metadata": {},
   "outputs": [],
   "source": [
    "DATASET_PATH = \"data/ft/fine_tuning_sample_k-mer_3_ALPHA_BETA_DELTA_merged.txt\"\n",
    "\n",
    "# Generate array of (x, y, z) coordinate from a sequence.\n",
    "# @param seq : Sequence to be coverted.\n",
    "# @return : Array of coordinates.\n",
    "def get_z_curve(seq):\n",
    "    nucleotides = {\n",
    "        'A': 0,\n",
    "        'T': 0,\n",
    "        'G': 0,\n",
    "        'C': 0\n",
    "    }\n",
    "    z_coordinates = []\n",
    "    for c in seq:\n",
    "        nucleotides[c] += 1\n",
    "        xn = (nucleotides['A'] + nucleotides['G']) - (nucleotides['C'] + nucleotides['T'])\n",
    "        yn = (nucleotides['A'] + nucleotides['C']) - (nucleotides['G'] + nucleotides['T'])\n",
    "        zn = (nucleotides['A'] + nucleotides['T']) - (nucleotides['G'] + nucleotides['C'])\n",
    "        z_coordinates.append(\n",
    "            (xn, yn, zn)\n",
    "        )\n",
    "    return z_coordinates\n",
    "\n",
    "# Read file containing sequences and its labels.\n",
    "# Convert each sequence into z-curve representation.\n",
    "# @param dataset_file_path : Path to source file.\n",
    "# @param target_file_path : Target file to write z-curve representation of sequences in dataset. \n",
    "#                           If empty then no file is created.\n",
    "def generate_z_curve_from_file(dataset_file_path, target_file_path=False):\n",
    "    f = open(dataset_file_path, 'r')\n",
    "    \n",
    "    next(f) # The file has header so the reader needs to skip the first line. Data starts at second line.\n",
    "    z_curves = []\n",
    "    \n",
    "    # Iterate each line.\n",
    "    for line in f:\n",
    "        arr = line.split('\\t')\n",
    "        seq = arr[0].strip()\n",
    "        label = arr[1].strip()\n",
    "        z_curves.append(get_z_curve(seq))\n",
    "    "
   ]
  },
  {
   "cell_type": "code",
   "execution_count": 5,
   "id": "5603f2ca",
   "metadata": {},
   "outputs": [
    {
     "name": "stdout",
     "output_type": "stream",
     "text": [
      "[(1, -1, -1), (0, -2, 0), (-1, -3, 1), (-2, -2, 0), (-3, -3, 1), (-4, -2, 0), (-5, -3, 1), (-4, -2, 2), (-3, -1, 3), (-2, 0, 4), (-3, 1, 3), (-2, 0, 2), (-1, 1, 3), (0, 2, 4), (-1, 3, 3), (-2, 2, 4), (-3, 1, 5), (-4, 0, 6), (-3, 1, 7), (-2, 2, 8), (-1, 3, 9), (0, 4, 10), (-1, 3, 11), (-2, 4, 10), (-3, 3, 11), (-2, 2, 10), (-3, 1, 11), (-2, 0, 10), (-3, -1, 11), (-2, -2, 10), (-1, -3, 9), (-2, -2, 8), (-3, -3, 9), (-2, -4, 8), (-3, -5, 9), (-4, -4, 8), (-3, -3, 9), (-4, -2, 8), (-5, -3, 9), (-6, -2, 8), (-5, -3, 7), (-4, -4, 6), (-5, -3, 5), (-6, -4, 6), (-5, -5, 5), (-6, -4, 4), (-5, -3, 5), (-6, -4, 6), (-5, -5, 5), (-6, -4, 4), (-7, -5, 5), (-8, -6, 6), (-7, -5, 7), (-6, -6, 6), (-7, -7, 7), (-6, -8, 6), (-7, -7, 5), (-6, -6, 6), (-7, -5, 5), (-8, -6, 6)]\n"
     ]
    }
   ],
   "source": [
    "# Test\n",
    "s = \"GTTCTCTAAACGAACTTTAAAATCTGTGTGGCTGTCACTCGGCTGCATGCTTAGTGCACT\"\n",
    "print(get_z_curve(s))"
   ]
  },
  {
   "cell_type": "code",
   "execution_count": null,
   "id": "d83dfc03",
   "metadata": {},
   "outputs": [],
   "source": []
  }
 ],
 "metadata": {
  "kernelspec": {
   "display_name": "Python 3 (ipykernel)",
   "language": "python",
   "name": "python3"
  },
  "language_info": {
   "codemirror_mode": {
    "name": "ipython",
    "version": 3
   },
   "file_extension": ".py",
   "mimetype": "text/x-python",
   "name": "python",
   "nbconvert_exporter": "python",
   "pygments_lexer": "ipython3",
   "version": "3.7.9"
  }
 },
 "nbformat": 4,
 "nbformat_minor": 5
}
