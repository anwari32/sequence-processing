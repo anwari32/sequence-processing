{
 "cells": [
  {
   "cell_type": "code",
   "execution_count": null,
   "metadata": {},
   "outputs": [],
   "source": [
    "import pandas as pd\n",
    "import matplotlib.pyplot as plt\n",
    "import os\n",
    "\n",
    "work_dir = os.path.join(\"run\", \"baseline\")\n",
    "cur_work_dir = os.path.join(work_dir, \"basic\")\n",
    "log_dir = os.path.join(cur_work_dir, \"log\")\n",
    "\n",
    "bilstm_log_file = \"training_validation_log.arch_bilstm.csv\"\n",
    "bigru_log_file = \"training_validation_log.arch_bigru.csv\""
   ]
  }
 ],
 "metadata": {
  "language_info": {
   "name": "python"
  },
  "orig_nbformat": 4
 },
 "nbformat": 4,
 "nbformat_minor": 2
}
