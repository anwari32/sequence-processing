{
 "cells": [
  {
   "cell_type": "code",
   "execution_count": 1,
   "metadata": {},
   "outputs": [
    {
     "name": "stdout",
     "output_type": "stream",
     "text": [
      "[CLS]\n",
      "[SEP]\n",
      "III\n"
     ]
    },
    {
     "data": {
      "text/plain": [
       "{'[CLS]': -100,\n",
       " '[SEP]': -100,\n",
       " 'III': -100,\n",
       " 'iii': 0,\n",
       " 'iiE': 1,\n",
       " 'iEi': 2,\n",
       " 'Eii': 3,\n",
       " 'iEE': 4,\n",
       " 'EEi': 5,\n",
       " 'EiE': 6,\n",
       " 'EEE': 7}"
      ]
     },
     "execution_count": 1,
     "metadata": {},
     "output_type": "execute_result"
    }
   ],
   "source": [
    "# Data Analysis.\n",
    "\n",
    "from utils.seqlab import Label_Begin, Label_End, Label_Pad, Label_Dictionary\n",
    "\n",
    "print(Label_Begin)\n",
    "print(Label_End)\n",
    "print(Label_Pad)\n",
    "Label_Dictionary"
   ]
  },
  {
   "cell_type": "code",
   "execution_count": 1,
   "metadata": {},
   "outputs": [],
   "source": [
    "# Count how many occurences each token has.\n",
    "import os\n",
    "import pandas as pd\n",
    "\n",
    "# seqlab_data_dir = os.path.join(\"workspace\", \"seqlab\", \"seqlab.strand-positive.kmer.stride-510.from-index\")\n",
    "seqlab_data_dir = os.path.join(\"workspace\", \"seqlab\", \"seqlab-3\")\n",
    "seqlab_train_10 = os.path.join(seqlab_data_dir, \"gene_train_bundle.10.csv\")\n",
    "seqlab_train_25 = os.path.join(seqlab_data_dir, \"gene_train_bundle.25.csv\")\n",
    "seqlab_train = os.path.join(seqlab_data_dir, \"gene_train_bundle.csv\")\n",
    "\n",
    "def count_token_freq(csv):\n",
    "    count_dict = {\n",
    "        '[CLS]': 0,\n",
    "        '[SEP]': 0,\n",
    "        'III': 0,\n",
    "        'iii': 0,\n",
    "        'iiE': 0,\n",
    "        'iEi': 0,\n",
    "        'Eii': 0,\n",
    "        'iEE': 0,\n",
    "        'EEi': 0,\n",
    "        'EiE': 0,\n",
    "        'EEE': 0\n",
    "    }\n",
    "    df = pd.read_csv(csv)\n",
    "    for i, r in df.iterrows():\n",
    "        sequence = r[\"label\"]\n",
    "        sequence = sequence.split(\" \") # Split sequence into array of tokens.\n",
    "        for token in sequence:\n",
    "            count_dict[token] += 1\n",
    "    return count_dict"
   ]
  },
  {
   "cell_type": "code",
   "execution_count": 2,
   "metadata": {},
   "outputs": [],
   "source": [
    "count_dicts = []\n",
    "for p in [seqlab_train_10, seqlab_train_25, seqlab_train]:\n",
    "    count_dicts.append(\n",
    "        count_token_freq(p)\n",
    "    )"
   ]
  },
  {
   "cell_type": "code",
   "execution_count": 3,
   "metadata": {},
   "outputs": [
    {
     "name": "stdout",
     "output_type": "stream",
     "text": [
      "[{'[CLS]': 0, '[SEP]': 0, 'III': 0, 'iii': 65938492, 'iiE': 10498, 'iEi': 0, 'Eii': 10606, 'iEE': 10502, 'EEi': 10619, 'EiE': 6, 'EEE': 5175186}, {'[CLS]': 0, '[SEP]': 0, 'III': 0, 'iii': 164856315, 'iiE': 26327, 'iEi': 0, 'Eii': 26492, 'iEE': 26347, 'EEi': 26506, 'EiE': 7, 'EEE': 12889534}, {'[CLS]': 0, '[SEP]': 0, 'III': 0, 'iii': 659603390, 'iiE': 104949, 'iEi': 0, 'Eii': 104953, 'iEE': 104963, 'EEi': 104974, 'EiE': 13, 'EEE': 51433298}]\n"
     ]
    }
   ],
   "source": [
    "print(count_dicts)"
   ]
  },
  {
   "cell_type": "code",
   "execution_count": 4,
   "metadata": {},
   "outputs": [
    {
     "data": {
      "text/plain": [
       "{'[CLS]': 0,\n",
       " '[SEP]': 0,\n",
       " 'III': 0,\n",
       " 'iii': 659603390,\n",
       " 'iiE': 104949,\n",
       " 'iEi': 0,\n",
       " 'Eii': 104953,\n",
       " 'iEE': 104963,\n",
       " 'EEi': 104974,\n",
       " 'EiE': 13,\n",
       " 'EEE': 51433298}"
      ]
     },
     "execution_count": 4,
     "metadata": {},
     "output_type": "execute_result"
    }
   ],
   "source": [
    "filtered_count_dicts_10 = count_dicts[0]\n",
    "filtered_count_dicts_25 = count_dicts[1]\n",
    "filtered_count_dicts = count_dicts[2]\n",
    "token_labels = [\n",
    "    'iii',\n",
    "    'iiE',\n",
    "    'iEi',\n",
    "    'Eii',\n",
    "    'iEE',\n",
    "    'EEi',\n",
    "    'EiE',\n",
    "    'EEE'\n",
    "]\n",
    "\n",
    "filtered_count_dicts"
   ]
  },
  {
   "cell_type": "code",
   "execution_count": 5,
   "metadata": {},
   "outputs": [],
   "source": [
    "count_dicts_with_dummy = []\n",
    "for i in range(len(count_dicts)):\n",
    "    count_dicts_with_dummy.append(count_dicts[i])\n",
    "\n",
    "weights = []\n",
    "for c in count_dicts_with_dummy:\n",
    "    values = [c[k] for k in c.keys()]\n",
    "    max_value = max(values)\n",
    "    min_value = min([\n",
    "        c['iiE'],\n",
    "        c['Eii'],\n",
    "        c['iEE'],\n",
    "        c['EEi']\n",
    "    ])\n",
    "    w = {}\n",
    "    for k in c.keys():\n",
    "        if c[k] < min_value:\n",
    "            w[k] = min_value / max_value\n",
    "        else:\n",
    "            w[k] = min_value / c[k]\n",
    "    weights.append(w)\n"
   ]
  },
  {
   "cell_type": "code",
   "execution_count": 6,
   "metadata": {},
   "outputs": [
    {
     "data": {
      "text/plain": [
       "[{'[CLS]': 0.00015920897918017294,\n",
       "  '[SEP]': 0.00015920897918017294,\n",
       "  'III': 0.00015920897918017294,\n",
       "  'iii': 0.00015920897918017294,\n",
       "  'iiE': 1.0,\n",
       "  'iEi': 0.00015920897918017294,\n",
       "  'Eii': 0.9898170846690553,\n",
       "  'iEE': 0.9996191201675871,\n",
       "  'EEi': 0.9886053300687447,\n",
       "  'EiE': 0.00015920897918017294,\n",
       "  'EEE': 0.0020285261244716614},\n",
       " {'[CLS]': 0.00015969664249743785,\n",
       "  '[SEP]': 0.00015969664249743785,\n",
       "  'III': 0.00015969664249743785,\n",
       "  'iii': 0.00015969664249743785,\n",
       "  'iiE': 1.0,\n",
       "  'iEi': 0.00015969664249743785,\n",
       "  'Eii': 0.9937717046655594,\n",
       "  'iEE': 0.9992409002922534,\n",
       "  'EEi': 0.9932468120425564,\n",
       "  'EiE': 0.00015969664249743785,\n",
       "  'EEE': 0.002042509837826565},\n",
       " {'[CLS]': 0.00015910924896853548,\n",
       "  '[SEP]': 0.00015910924896853548,\n",
       "  'III': 0.00015910924896853548,\n",
       "  'iii': 0.00015910924896853548,\n",
       "  'iiE': 1.0,\n",
       "  'iEi': 0.00015910924896853548,\n",
       "  'Eii': 0.9999618877021142,\n",
       "  'iEE': 0.9998666196659776,\n",
       "  'EEi': 0.9997618457903862,\n",
       "  'EiE': 0.00015910924896853548,\n",
       "  'EEE': 0.0020404874678656617}]"
      ]
     },
     "execution_count": 6,
     "metadata": {},
     "output_type": "execute_result"
    }
   ],
   "source": [
    "weights    "
   ]
  },
  {
   "cell_type": "code",
   "execution_count": 7,
   "metadata": {},
   "outputs": [],
   "source": [
    "labels =  ['iii', 'iiE', 'iEi', 'Eii', 'iEE', 'EEi', 'EiE', 'EEE']\n",
    "seqlab_10_loss_weight = [weights[0][l] for l in labels]\n",
    "seqlab_25_loss_weight = [weights[1][l] for l in labels]\n",
    "seqlab_loss_weight = [weights[2][l] for l in labels]"
   ]
  },
  {
   "cell_type": "code",
   "execution_count": 20,
   "metadata": {},
   "outputs": [
    {
     "data": {
      "image/png": "[encoded data removed]",
      "text/plain": [
       "<Figure size 576x144 with 3 Axes>"
      ]
     },
     "metadata": {
      "needs_background": "light"
     },
     "output_type": "display_data"
    }
   ],
   "source": [
    "import matplotlib.pyplot as plt\n",
    "labels = count_dicts[0].keys()\n",
    "labels = [a for a in labels]\n",
    "\n",
    "titles = [\"tiny, small, complete\"]\n",
    "figs, axes = plt.subplots(nrows=1, ncols=3, constrained_layout=True, figsize=(8, 2))\n",
    "figs.suptitle(\"Training Data\")\n",
    "keys = [a for a in count_dicts[0].keys() if a != '[CLS]' and a != '[SEP]' and a != 'III']\n",
    "axes[0].bar(keys, [count_dicts[0][a] for a in keys], label=\"10%\")\n",
    "axes[0].set_title(\"10%\")\n",
    "axes[1].bar(keys, [count_dicts[1][a] for a in keys], label=\"25%\")\n",
    "axes[1].set_title(\"25%\")\n",
    "axes[2].bar(keys, [count_dicts[2][a] for a in keys], label=\"100%\")\n",
    "axes[2].set_title(\"100%\")\n",
    "\n",
    "plt.show()"
   ]
  },
  {
   "cell_type": "code",
   "execution_count": 16,
   "metadata": {},
   "outputs": [
    {
     "data": {
      "text/plain": [
       "[0, 65938492, 10498, 0, 10606, 10502, 10619, 6, 5175186]"
      ]
     },
     "execution_count": 16,
     "metadata": {},
     "output_type": "execute_result"
    }
   ],
   "source": [
    "count_dicts[0].keys()\n",
    "keys = [a for a in count_dicts[0].keys() if a != '[CLS]' and a != '[SEP]']\n",
    "[count_dicts[0][a] for a in keys]\n"
   ]
  },
  {
   "cell_type": "code",
   "execution_count": 19,
   "metadata": {},
   "outputs": [
    {
     "name": "stdout",
     "output_type": "stream",
     "text": [
      "0 8191\n"
     ]
    },
    {
     "data": {
      "image/png": "[encoded data removed]",
      "text/plain": [
       "<Figure size 576x144 with 3 Axes>"
      ]
     },
     "metadata": {
      "needs_background": "light"
     },
     "output_type": "display_data"
    }
   ],
   "source": [
    "titles = [\"tiny, small, complete\"]\n",
    "figs, axes = plt.subplots(nrows=1, ncols=3, constrained_layout=True, figsize=(8, 2))\n",
    "figs.suptitle(\"Training Data\")\n",
    "keys = [a for a in count_dicts[0].keys()]\n",
    "keys = keys[1:-1]\n",
    "# keys = [\"iiE\", \"Eii\", \"iEE\", \"EEi\"]\n",
    "count_dicts_zero = [count_dicts[0][a] for a in keys]\n",
    "min_zero = min(count_dicts_zero)\n",
    "# min_zero += 100 # Give minimum a little break.\n",
    "max_zero = max(count_dicts_zero)\n",
    "print(min_zero, max_zero)\n",
    "axes[0].set(ylim=[min_zero, max_zero + 10])\n",
    "axes[0].bar(keys, [count_dicts[0][a] for a in keys], label=\"tiny\")\n",
    "axes[0].set_title(\"tiny\")\n",
    "\n",
    "count_dicts_one = [count_dicts[1][a] for a in keys]\n",
    "min_one = min(count_dicts_one)\n",
    "min_one += 100\n",
    "axes[1].set(ylim=[min_one, max(count_dicts_one)])\n",
    "axes[1].bar(keys, [count_dicts[1][a] for a in keys], label=\"small\")\n",
    "axes[1].set_title(\"small\")\n",
    "\n",
    "count_dicts_two = [count_dicts[2][a] for a in keys]\n",
    "min_two = min(count_dicts_two)\n",
    "min_two += 100\n",
    "axes[2].set(ylim=[min_two, max(count_dicts_two)])\n",
    "axes[2].bar(keys, [count_dicts[2][a] for a in keys], label=\"complete\")\n",
    "axes[2].set_title(\"complete\")\n",
    "\n",
    "plt.show()"
   ]
  },
  {
   "cell_type": "code",
   "execution_count": 82,
   "metadata": {},
   "outputs": [],
   "source": [
    "import os\n",
    "import matplotlib.pyplot as plt\n",
    "\n",
    "seqlab_val_dir = os.path.join(\"workspace\", \"seqlab\", \"seqlab.strand-positive.kmer.stride-510.from-index\")\n",
    "seqlab_val_10 = os.path.join(seqlab_val_dir, \"gene_validation_bundle.10.csv\")\n",
    "seqlab_val_25 = os.path.join(seqlab_val_dir, \"gene_validation_bundle.25.csv\")\n",
    "seqlab_val = os.path.join(seqlab_val_dir, \"gene_validation_bundle.csv\")\n",
    "\n",
    "val_count_dicts = []\n",
    "for p in [seqlab_val_10, seqlab_val_25, seqlab_val]:\n",
    "    val_count_dicts.append(\n",
    "        count_token_freq(p)\n",
    "    )"
   ]
  },
  {
   "cell_type": "code",
   "execution_count": 95,
   "metadata": {},
   "outputs": [
    {
     "data": {
      "image/png": "[encoded data removed]",
      "text/plain": [
       "<Figure size 576x144 with 3 Axes>"
      ]
     },
     "metadata": {
      "needs_background": "light"
     },
     "output_type": "display_data"
    }
   ],
   "source": [
    "\n",
    "figs, axes = plt.subplots(nrows=1, ncols=3, constrained_layout=True, figsize=(8, 2))\n",
    "figs.suptitle(\"Validation Data\")\n",
    "axes[0].bar(labels, [val_count_dicts[0][a] for a in val_count_dicts[0].keys()])\n",
    "axes[0].set_title(\"tiny\")\n",
    "axes[1].bar(labels, [val_count_dicts[1][a] for a in val_count_dicts[1].keys()])\n",
    "axes[1].set_title(\"small\")\n",
    "axes[2].bar(labels, [val_count_dicts[2][a] for a in val_count_dicts[2].keys()])\n",
    "axes[2].set_title(\"complete\")\n",
    "\n",
    "plt.show()\n",
    "\n"
   ]
  },
  {
   "cell_type": "code",
   "execution_count": 20,
   "metadata": {},
   "outputs": [],
   "source": [
    "import os\n",
    "\n",
    "genlab_data_dir = os.path.join(\"workspace\", \"genlab\", \"seqlab.strand-positive.kmer.stride-510\")\n",
    "genlab_train_bundle_10 = os.path.join(genlab_data_dir, \"gene_train_index_bundle.10.csv\")\n",
    "genlab_train_bundle_25 = os.path.join(genlab_data_dir, \"gene_train_index_bundle.25.csv\")\n",
    "genlab_train_bundle = os.path.join(genlab_data_dir, \"gene_train_index_bundle.csv\")\n",
    "\n",
    "genlab_count_dicts = []\n",
    "for p in [genlab_train_bundle_10, genlab_train_bundle_25, genlab_train_bundle]:\n",
    "    genlab_count_dicts.append(\n",
    "        count_token_freq(p)\n",
    "    )\n",
    "\n",
    "genlab_count_dicts_with_dummy = []\n",
    "for i in range(len(count_dicts)):\n",
    "    genlab_count_dicts_with_dummy.append(genlab_count_dicts[i])\n",
    "\n",
    "genlab_weights = []\n",
    "for c in genlab_count_dicts_with_dummy:\n",
    "    values = [c[k] for k in c.keys()]\n",
    "    max_value = max(values)\n",
    "    min_value = min([\n",
    "        c['iiE'],\n",
    "        c['Eii'],\n",
    "        c['iEE'],\n",
    "        c['EEi']\n",
    "    ])\n",
    "    w = {}\n",
    "    for k in c.keys():\n",
    "        if c[k] < min_value:\n",
    "            w[k] = min_value / max_value\n",
    "        else:\n",
    "            w[k] = min_value / c[k]\n",
    "    genlab_weights.append(w)\n",
    "\n",
    "genlab_labels =  ['iii', 'iiE', 'iEi', 'Eii', 'iEE', 'EEi', 'EiE', 'EEE']\n",
    "genlab_10_loss_weight = [weights[0][l] for l in genlab_labels]\n",
    "genlab_25_loss_weight = [weights[1][l] for l in genlab_labels]\n",
    "genlab_loss_weight = [weights[2][l] for l in genlab_labels]\n"
   ]
  },
  {
   "cell_type": "code",
   "execution_count": 21,
   "metadata": {},
   "outputs": [
    {
     "name": "stdout",
     "output_type": "stream",
     "text": [
      "[0.0001555761504390511, 0.9998775560181217, 0.0001555761504390511, 0.9969478696129899, 1.0, 0.9971913542557089, 0.0001555761504390511, 0.0019914280314346157] [0.00015717190553216775, 0.9999030960802364, 0.00015717190553216775, 0.9997093445720099, 1.0, 1.0, 0.00015717190553216775, 0.0020191783293449415] [0.0001583913443766686, 1.0, 0.0001583913443766686, 1.0, 0.9999639301688068, 0.9999639301688068, 0.0001583913443766686, 0.0020260445716651057]\n"
     ]
    }
   ],
   "source": [
    "print(genlab_10_loss_weight, genlab_25_loss_weight, genlab_loss_weight)"
   ]
  },
  {
   "cell_type": "code",
   "execution_count": null,
   "metadata": {},
   "outputs": [],
   "source": [
    "import os\n",
    "import matplotlib.pyplot as plt\n",
    "\n",
    "seqlab_val_dir = os.path.join(\"workspace\", \"seqlab\", \"seqlab.strand-positive.kmer.stride-510.from-index\")\n",
    "seqlab_val_10 = os.path.join(seqlab_val_dir, \"gene_validation_bundle.10.csv\")\n",
    "seqlab_val_25 = os.path.join(seqlab_val_dir, \"gene_validation_bundle.25.csv\")\n",
    "seqlab_val = os.path.join(seqlab_val_dir, \"gene_validation_bundle.csv\")\n",
    "\n",
    "val_count_dicts = []\n",
    "for p in [seqlab_val_10, seqlab_val_25, seqlab_val]:\n",
    "    val_count_dicts.append(\n",
    "        count_token_freq(p)\n",
    "    )\n",
    "\n",
    "figs, axes = plt.subplots(nrows=1, ncols=3, constrained_layout=True, figsize=(8, 2))\n",
    "figs.suptitle(\"Validation Data\")\n",
    "axes[0].bar(labels, [val_count_dicts[0][a] for a in val_count_dicts[0].keys()])\n",
    "axes[0].set_title(\"tiny\")\n",
    "axes[1].bar(labels, [val_count_dicts[1][a] for a in val_count_dicts[1].keys()])\n",
    "axes[1].set_title(\"small\")\n",
    "axes[2].bar(labels, [val_count_dicts[2][a] for a in val_count_dicts[2].keys()])\n",
    "axes[2].set_title(\"complete\")\n",
    "\n",
    "plt.show()"
   ]
  },
  {
   "cell_type": "code",
   "execution_count": 4,
   "metadata": {},
   "outputs": [
    {
     "data": {
      "text/plain": [
       "(95546, 2)"
      ]
     },
     "execution_count": 4,
     "metadata": {},
     "output_type": "execute_result"
    }
   ],
   "source": [
    "import os\n",
    "import pandas as pd\n",
    "\n",
    "sso_dir_path = os.path.join(\"workspace\", \"seqlab\", \"seqlab-3\", \"ss-allpos-01\")\n",
    "sso_files = os.listdir(sso_dir_path)\n",
    "sso_files = [os.path.join(sso_dir_path, s) for s in sso_files]\n",
    "sso_files\n",
    "\n",
    "df = pd.DataFrame()\n",
    "for s in sso_files:\n",
    "    df = pd.concat((df, pd.read_csv(s)))\n",
    "\n",
    "df.shape\n"
   ]
  },
  {
   "cell_type": "code",
   "execution_count": 6,
   "metadata": {},
   "outputs": [
    {
     "name": "stderr",
     "output_type": "stream",
     "text": [
      "Counting: 100%|██████████| 95546/95546 [00:07<00:00, 12934.67it/s]\n"
     ]
    },
    {
     "data": {
      "text/plain": [
       "{'iii': 34814422,\n",
       " 'iiE': 77933,\n",
       " 'iEi': 0,\n",
       " 'Eii': 74543,\n",
       " 'iEE': 77932,\n",
       " 'EEi': 74528,\n",
       " 'EiE': 0,\n",
       " 'EEE': 13609102}"
      ]
     },
     "execution_count": 6,
     "metadata": {},
     "output_type": "execute_result"
    }
   ],
   "source": [
    "from tqdm import tqdm\n",
    "\n",
    "token_label_count = {\n",
    "    'iii': 0,\n",
    "    'iiE': 0,\n",
    "    'iEi': 0,\n",
    "    'Eii': 0,\n",
    "    'iEE': 0,\n",
    "    'EEi': 0,\n",
    "    'EiE': 0,\n",
    "    'EEE': 0\n",
    "}\n",
    "labels = df[\"label\"].values\n",
    "labels = [a.split(' ') for a in labels]\n",
    "for a in tqdm(labels, total=len(labels), desc=\"Counting\"):\n",
    "    for t in a:\n",
    "        token_label_count[t] += 1\n",
    "\n",
    "token_label_count"
   ]
  },
  {
   "cell_type": "code",
   "execution_count": null,
   "metadata": {},
   "outputs": [],
   "source": [
    "import matplotlib.pyplot as plt\n",
    "\n"
   ]
  }
 ],
 "metadata": {
  "kernelspec": {
   "display_name": "Python 3.7.9 64-bit ('sequence-processing': venv)",
   "language": "python",
   "name": "python3"
  },
  "language_info": {
   "codemirror_mode": {
    "name": "ipython",
    "version": 3
   },
   "file_extension": ".py",
   "mimetype": "text/x-python",
   "name": "python",
   "nbconvert_exporter": "python",
   "pygments_lexer": "ipython3",
   "version": "3.7.9"
  },
  "orig_nbformat": 4,
  "vscode": {
   "interpreter": {
    "hash": "14ae8cb2141f3f34f4e0523006ff2d6cb0f7956c0f094e5497e312072e4d0d3c"
   }
  }
 },
 "nbformat": 4,
 "nbformat_minor": 2
}
