{
 "cells": [
  {
   "cell_type": "code",
   "execution_count": 2,
   "metadata": {},
   "outputs": [
    {
     "name": "stdout",
     "output_type": "stream",
     "text": [
      "./data/genome/grch37/GRCh37_latest_genomic.gff\n",
      "./data/genome/grch38/GRCh38_latest_genomic.gff\n",
      "./sample/grch37\n",
      "./sample/grch38\n"
     ]
    }
   ],
   "source": [
    "import os\n",
    "import pandas as pd\n",
    "\n",
    "from data_dir import genome_grch37, grch37_sample_dir\n",
    "from data_dir import genome_grch38, grch38_sample_dir\n",
    "\n",
    "def _gff_parseline(line, regions):\n",
    "    if line[0] == '#':\n",
    "        return False\n",
    "    else:\n",
    "        words = line.split('\\t')\n",
    "        sequence_id = words[0]\n",
    "        refseq = words[1]\n",
    "        region = words[2]\n",
    "        start = int(words[3]) # one-based numbering.\n",
    "        start_index = start-1 # zero-based numbering.\n",
    "        end = int(words[4]) \n",
    "        end_index = end-1\n",
    "\n",
    "        if region in regions or regions is None:\n",
    "            return {'sequence_id': sequence_id, 'refseq': refseq, 'region': region, 'start': start, 'start_index': start_index, 'end': end, 'end_index': end_index}\n",
    "        else:\n",
    "            return False\n",
    "\n",
    "def gff_to_csv(file, csv_output, regions):\n",
    "    if os.path.exists(file):\n",
    "        # Prepare file and dataframe.\n",
    "        if os.path.exists(csv_output):\n",
    "            os.remove(csv_output)\n",
    "        colnames = ['sequence_id', 'refseq', 'region', 'start_index', 'end_index', 'start', 'end']\n",
    "        header = \",\".join(colnames)\n",
    "        f = open(file, 'r')\n",
    "        out = open(csv_output, 'x')\n",
    "        out.write(\"{} \\n\".format(header))\n",
    "        \n",
    "        for line in f:\n",
    "            d = _gff_parseline(line, regions)\n",
    "            try:\n",
    "                if d != False:\n",
    "                    if d:\n",
    "                        output = \"{},{},{},{},{},{},{} \\n\".format(d['sequence_id'], d['refseq'], d['region'], d['start_index'], d['end_index'], d['start'], d['end'])\n",
    "                        out.write(output)\n",
    "                    else:\n",
    "                        break\n",
    "            except:\n",
    "                out.close()\n",
    "                f.close()\n",
    "\n",
    "        out.close()\n",
    "        f.close()\n",
    "\n",
    "print(genome_grch37)\n",
    "print(genome_grch38)\n",
    "print(grch37_sample_dir)\n",
    "print(grch38_sample_dir)\n"
   ]
  },
  {
   "cell_type": "code",
   "execution_count": 27,
   "metadata": {},
   "outputs": [
    {
     "data": {
      "text/plain": [
       "'NC_000001.11'"
      ]
     },
     "execution_count": 27,
     "metadata": {},
     "output_type": "execute_result"
    }
   ],
   "source": [
    "s = \"NC_000001.11\tRefSeq\tregion\t1\t248956422\t.\t+\t.\tID=NC_000001.11:1..248956422;Dbxref=taxon:9606;Name=1;chromosome=1;gbkey=Src;genome=chromosome;mol_type=genomic DNA\"\n",
    "d = _gff_parseline(s)\n",
    "d['sequence_id']"
   ]
  },
  {
   "cell_type": "code",
   "execution_count": 3,
   "metadata": {},
   "outputs": [],
   "source": [
    "gff_to_csv(genome_grch37, grch37_sample_dir + \"/grch37_all.csv\", None)"
   ]
  },
  {
   "cell_type": "code",
   "execution_count": 4,
   "metadata": {},
   "outputs": [],
   "source": [
    "gff_to_csv(genome_grch38, grch38_sample_dir + \"/grch38_all.csv\", None)"
   ]
  },
  {
   "cell_type": "code",
   "execution_count": 3,
   "metadata": {},
   "outputs": [
    {
     "data": {
      "text/plain": [
       "'sequence_id,refseq,region,start_index,end_index,start,end'"
      ]
     },
     "execution_count": 3,
     "metadata": {},
     "output_type": "execute_result"
    }
   ],
   "source": [
    "colnames = ['sequence_id', 'refseq', 'region', 'start_index', 'end_index', 'start', 'end']\n",
    "header = \",\".join(colnames)\n",
    "header"
   ]
  },
  {
   "cell_type": "code",
   "execution_count": 38,
   "metadata": {},
   "outputs": [],
   "source": [
    "df.head(5)"
   ]
  }
 ],
 "metadata": {
  "interpreter": {
   "hash": "7170ee380771f2003055f3cee3e2e4dd0d81d1dac73a8c82197236b1572f37c2"
  },
  "kernelspec": {
   "display_name": "Python 3.7.9 64-bit ('sequence-processing': venv)",
   "language": "python",
   "name": "python3"
  },
  "language_info": {
   "codemirror_mode": {
    "name": "ipython",
    "version": 3
   },
   "file_extension": ".py",
   "mimetype": "text/x-python",
   "name": "python",
   "nbconvert_exporter": "python",
   "pygments_lexer": "ipython3",
   "version": "3.7.9"
  },
  "orig_nbformat": 4
 },
 "nbformat": 4,
 "nbformat_minor": 2
}
