{
 "cells": [
  {
   "cell_type": "markdown",
   "metadata": {},
   "source": [
    "# Exploration"
   ]
  },
  {
   "cell_type": "code",
   "execution_count": 9,
   "metadata": {},
   "outputs": [
    {
     "name": "stdout",
     "output_type": "stream",
     "text": [
      "iiE cols ['sso01-adamw-lr5e-5-base-291mo307 - validation/f1_score-iiE', 'sso01-adamw-lr5e-5-base-291mo307 - validation/f1_score-iiE__MIN', 'sso01-adamw-lr5e-5-base-291mo307 - validation/f1_score-iiE__MAX'] => sso01-adamw-lr5e-5-base-291mo307 - validation/f1_score-iiE\n",
      "(2770,) [0.         0.         0.46728972 ... 0.95522388 1.         1.        ] \n",
      "\n",
      "iiE cols ['sso01-adamw-lr5e-5-base-291mo307 - validation/f1_score-iEE', 'sso01-adamw-lr5e-5-base-291mo307 - validation/f1_score-iEE__MIN', 'sso01-adamw-lr5e-5-base-291mo307 - validation/f1_score-iEE__MAX'] => sso01-adamw-lr5e-5-base-291mo307 - validation/f1_score-iEE\n",
      "(2770,) [0.         0.         0.5        ... 0.81012658 0.97247706 1.        ] \n",
      "\n",
      "iiE cols ['sso01-adamw-lr5e-5-base-291mo307 - validation/f1_score-EEi', 'sso01-adamw-lr5e-5-base-291mo307 - validation/f1_score-EEi__MIN', 'sso01-adamw-lr5e-5-base-291mo307 - validation/f1_score-EEi__MAX'] => sso01-adamw-lr5e-5-base-291mo307 - validation/f1_score-EEi\n",
      "(2770,) [0.66666667 0.98461538 0.73170732 ... 1.         0.96969697 0.60465116] \n",
      "\n",
      "iiE cols ['sso01-adamw-lr5e-5-base-291mo307 - validation/f1_score-Eii', 'sso01-adamw-lr5e-5-base-291mo307 - validation/f1_score-Eii__MIN', 'sso01-adamw-lr5e-5-base-291mo307 - validation/f1_score-Eii__MAX'] => sso01-adamw-lr5e-5-base-291mo307 - validation/f1_score-Eii\n",
      "(2770,) [0.54237288 0.91428571 0.71111111 ... 1.         1.         0.78787879] \n",
      "\n"
     ]
    }
   ],
   "source": [
    "import os\n",
    "import matplotlib.pyplot as plt\n",
    "import pandas as pd\n",
    "import numpy as np\n",
    "\n",
    "files = [\"sso01-adamw-lr5e-5-base-291mo307.csv\", \"sso01-adamw-lr2e-5-base-2fg7kdwu.csv\"]\n",
    "paths = [os.path.join(\"error_analysis\", f) for f in files]\n",
    "\n",
    "path = os.path.join(\"error_analysis\", \"sso01-adamw-lr5e-5-base-291mo307.csv\")\n",
    "df = pd.read_csv(path)\n",
    "columns = df.columns\n",
    "\n",
    "iiE_cols = [c for c in columns if c.find(\"iiE\") > -1]\n",
    "iiE_column = [c for c in iiE_cols if c.find(\"MIN\") == -1 and c.find(\"MAX\") == -1]\n",
    "print(f\"iiE cols {iiE_cols} => {iiE_column[0]}\")\n",
    "iiE_f1_scores = np.array(df[iiE_column[0]].values)\n",
    "print(f\"{iiE_f1_scores.shape} {iiE_f1_scores} \\n\")\n",
    "\n",
    "iEE_cols = [c for c in columns if c.find(\"iEE\") > -1]\n",
    "iEE_column = [c for c in iEE_cols if c.find(\"MIN\") == -1 and c.find(\"MAX\") == -1]\n",
    "print(f\"iiE cols {iEE_cols} => {iEE_column[0]}\")\n",
    "iEE_f1_scores = np.array(df[iEE_column[0]].values)\n",
    "print(f\"{iEE_f1_scores.shape} {iEE_f1_scores} \\n\")\n",
    "\n",
    "EEi_cols = [c for c in columns if c.find(\"EEi\") > -1]\n",
    "EEi_column = [c for c in EEi_cols if c.find(\"MIN\") == -1 and c.find(\"MAX\") == -1]\n",
    "print(f\"iiE cols {EEi_cols} => {EEi_column[0]}\")\n",
    "EEi_f1_scores = np.array(df[EEi_column[0]].values)\n",
    "print(f\"{EEi_f1_scores.shape} {EEi_f1_scores} \\n\")\n",
    "\n",
    "Eii_cols = [c for c in columns if c.find(\"Eii\") > -1]\n",
    "Eii_column = [c for c in Eii_cols if c.find(\"MIN\") == -1 and c.find(\"MAX\") == -1]\n",
    "print(f\"iiE cols {Eii_cols} => {Eii_column[0]}\")\n",
    "Eii_f1_scores = np.array(df[Eii_column[0]].values)\n",
    "print(f\"{Eii_f1_scores.shape} {Eii_f1_scores} \\n\")"
   ]
  },
  {
   "cell_type": "markdown",
   "metadata": {},
   "source": [
    "# Standard Deviation"
   ]
  },
  {
   "cell_type": "code",
   "execution_count": 12,
   "metadata": {},
   "outputs": [
    {
     "name": "stdout",
     "output_type": "stream",
     "text": [
      "standard deviation {'iiE': 0.28834109888911924, 'iEE': 0.28834109888911924, 'EEi': 0.28636939129836486, 'Eii': 0.2869499663471598}\n",
      "standard deviation {'iiE': 0.24259854567947808, 'iEE': 0.24259854567947808, 'EEi': 0.29022705545997424, 'Eii': 0.28068057307115307}\n"
     ]
    }
   ],
   "source": [
    "for p in paths:\n",
    "    df = pd.read_csv(p)\n",
    "    columns = df.columns\n",
    "\n",
    "    iiE_cols = [c for c in columns if c.find(\"iiE\") > -1]\n",
    "    iiE_column = [c for c in iiE_cols if c.find(\"MIN\") == -1 and c.find(\"MAX\") == -1]\n",
    "    # print(f\"iiE cols {iiE_cols} => {iiE_column[0]}\")\n",
    "    iiE_f1_scores = np.array(df[iiE_column[0]].values)\n",
    "    # print(f\"{iiE_f1_scores.shape} {iiE_f1_scores} \\n\")\n",
    "\n",
    "    iEE_cols = [c for c in columns if c.find(\"iEE\") > -1]\n",
    "    iEE_column = [c for c in iEE_cols if c.find(\"MIN\") == -1 and c.find(\"MAX\") == -1]\n",
    "    # print(f\"iiE cols {iEE_cols} => {iEE_column[0]}\")\n",
    "    iEE_f1_scores = np.array(df[iEE_column[0]].values)\n",
    "    # print(f\"{iEE_f1_scores.shape} {iEE_f1_scores} \\n\")\n",
    "\n",
    "    EEi_cols = [c for c in columns if c.find(\"EEi\") > -1]\n",
    "    EEi_column = [c for c in EEi_cols if c.find(\"MIN\") == -1 and c.find(\"MAX\") == -1]\n",
    "    # print(f\"iiE cols {EEi_cols} => {EEi_column[0]}\")\n",
    "    EEi_f1_scores = np.array(df[EEi_column[0]].values)\n",
    "    # print(f\"{EEi_f1_scores.shape} {EEi_f1_scores} \\n\")\n",
    "\n",
    "    Eii_cols = [c for c in columns if c.find(\"Eii\") > -1]\n",
    "    Eii_column = [c for c in Eii_cols if c.find(\"MIN\") == -1 and c.find(\"MAX\") == -1]\n",
    "    # print(f\"iiE cols {Eii_cols} => {Eii_column[0]}\")\n",
    "    Eii_f1_scores = np.array(df[Eii_column[0]].values)\n",
    "    # print(f\"{Eii_f1_scores.shape} {Eii_f1_scores} \\n\")\n",
    "\n",
    "    ss_tokens_stdev = {\n",
    "        \"iiE\": np.std(iiE_f1_scores),\n",
    "        \"iEE\": np.std(iiE_f1_scores),\n",
    "        \"EEi\": np.std(EEi_f1_scores),\n",
    "        \"Eii\": np.std(Eii_f1_scores)\n",
    "    }\n",
    "\n",
    "    print(f\"standard deviation {ss_tokens_stdev}\")"
   ]
  },
  {
   "cell_type": "code",
   "execution_count": 2,
   "metadata": {},
   "outputs": [
    {
     "name": "stderr",
     "output_type": "stream",
     "text": [
      "Processing: 100%|██████████| 70868/70868 [00:17<00:00, 4097.87it/s]\n",
      "Processing: 100%|██████████| 17717/17717 [00:06<00:00, 2930.84it/s]\n",
      "Processing: 100%|██████████| 6961/6961 [00:02<00:00, 2668.08it/s]\n"
     ]
    }
   ],
   "source": [
    "import os\n",
    "import Bio\n",
    "from Bio.Blast import NCBIWWW\n",
    "import pandas as pd\n",
    "from data_preparation import merge_kmer\n",
    "from tqdm import tqdm\n",
    "\n",
    "training_data_path = os.path.join(\"workspace\", \"seqlab-latest\", \"gene_index.01_train_validation_ss_all_pos_train.csv\")\n",
    "validation_data_path = os.path.join(\"workspace\", \"seqlab-latest\", \"gene_index.01_train_validation_ss_all_pos_validation.csv\")\n",
    "test_data_path = os.path.join(\"workspace\", \"seqlab-latest\", \"gene_index.01_test_ss_all_pos.csv\")\n",
    "training_data = pd.read_csv(training_data_path)\n",
    "validation_data = pd.read_csv(validation_data_path)\n",
    "test_data = pd.read_csv(test_data_path)\n",
    "\n",
    "training_sequences = []\n",
    "training_labels = []\n",
    "validation_sequences = []\n",
    "validation_labels = []\n",
    "test_sequences = []\n",
    "test_labels = []\n",
    "\n",
    "target_dir = os.path.join(\"error_analysis\", \"data-comparison\")\n",
    "os.makedirs(target_dir, exist_ok=True)\n",
    "for d, t in zip([training_data, validation_data, test_data], [\"training_data.csv\", \"validation_data.csv\", \"test_data.csv\"]):\n",
    "    sequences = []\n",
    "    labels = []\n",
    "    for i, r in tqdm(d.iterrows(), total=d.shape[0], desc=\"Processing\"):\n",
    "        sequence = r[\"sequence\"].split(\" \")\n",
    "        sequence = merge_kmer(sequence)\n",
    "        sequences.append(sequence)\n",
    "        label = r[\"label\"].split(\" \")\n",
    "        label = merge_kmer(label)\n",
    "        labels.append(label)\n",
    "\n",
    "    target_path = os.path.join(target_dir, t)\n",
    "    ndf = pd.DataFrame(data={\"sequence\": sequences, \"label\": labels})\n",
    "    ndf.to_csv(target_path, index=False)\n",
    "\n",
    "\n",
    "\n"
   ]
  },
  {
   "cell_type": "code",
   "execution_count": null,
   "metadata": {},
   "outputs": [],
   "source": [
    "import os\n",
    "import Bio\n",
    "from Bio.Blast import NCBIWWW\n",
    "import pandas as pd\n",
    "from data_preparation import merge_kmer\n",
    "from tqdm import tqdm\n",
    "\n",
    "test_prediction_data = os.path.join(\"prediction\", \"error_analysis_log_sorted.csv\")\n",
    "target_dir = os.path.join(\"error_analysis\", \"data-comparison\")\n",
    "original_sequences = test_prediction_data[\"original_sequence\"]\n",
    "average_f1s = test_prediction_data[\"average f1\"]\n",
    "\n",
    "ndf = pd.DataFrame(data={\n",
    "    \"sequence\": original_sequences,\n",
    "    \"average_f1\": average_f1s\n",
    "})"
   ]
  },
  {
   "cell_type": "code",
   "execution_count": 5,
   "metadata": {},
   "outputs": [
    {
     "name": "stdout",
     "output_type": "stream",
     "text": [
      "****Alignment****\n",
      "sequence: seq2 seq2 <unknown description>\n",
      "length: 61\n",
      "e value: 8.08221e-44\n",
      "303.0\n",
      "FQTWEEFSRAAEKLYLADPMKVRVVLKYRHVDGNLCIKVTDDLVCLVYRTDQAQDVKKIEKF\n",
      "FQTWEEFSRA EKLYLADPMKVRVVL+YRHVDGNLCIKVTDDL+CLVYRTDQAQDVKKIEKF\n",
      "FQTWEEFSRA-EKLYLADPMKVRVVLRYRHVDGNLCIKVTDDLICLVYRTDQAQDVKKIEKF\n"
     ]
    }
   ],
   "source": [
    "from Bio.Blast.Applications import NcbiblastpCommandline\n",
    "from io import StringIO\n",
    "from Bio.Blast import NCBIXML\n",
    "from Bio.Seq import Seq\n",
    "from Bio.SeqRecord import SeqRecord\n",
    "from Bio import SeqIO\n",
    "\n",
    "# Create two sequence files\n",
    "seq1 = SeqRecord(Seq(\"FQTWEEFSRAAEKLYLADPMKVRVVLKYRHVDGNLCIKVTDDLVCLVYRTDQAQDVKKIEKF\"),\n",
    "                   id=\"seq1\")\n",
    "seq2 = SeqRecord(Seq(\"FQTWEEFSRAEKLYLADPMKVRVVLRYRHVDGNLCIKVTDDLICLVYRTDQAQDVKKIEKF\"),\n",
    "                   id=\"seq2\")\n",
    "SeqIO.write(seq1, \"seq1.fasta\", \"fasta\")\n",
    "SeqIO.write(seq2, \"seq2.fasta\", \"fasta\")\n",
    "\n",
    "# Run BLAST and parse the output as XML\n",
    "output = NcbiblastpCommandline(query=\"seq1.fasta\", subject=\"seq2.fasta\", outfmt=5)()[0]\n",
    "blast_result_record = NCBIXML.read(StringIO(output))\n",
    "\n",
    "# Print some information on the result\n",
    "for alignment in blast_result_record.alignments:\n",
    "    for hsp in alignment.hsps:\n",
    "        print('****Alignment****')\n",
    "        print('sequence:', alignment.title)\n",
    "        print('length:', alignment.length)\n",
    "        print('e value:', hsp.expect)\n",
    "        print('e value:', hsp.score)\n",
    "        print(hsp.query)\n",
    "        print(hsp.match)\n",
    "        print(hsp.sbjct)"
   ]
  },
  {
   "cell_type": "code",
   "execution_count": 8,
   "metadata": {},
   "outputs": [
    {
     "name": "stdout",
     "output_type": "stream",
     "text": [
      "Help on class NcbiblastnCommandline in module Bio.Blast.Applications:\n",
      "\n",
      "class NcbiblastnCommandline(_NcbiblastMain2SeqCommandline)\n",
      " |  NcbiblastnCommandline(cmd='blastn', **kwargs)\n",
      " |  \n",
      " |  Wrapper for the NCBI BLAST+ program blastn (for nucleotides).\n",
      " |  \n",
      " |  With the release of BLAST+ (BLAST rewritten in C++ instead of C), the NCBI\n",
      " |  replaced the old blastall tool with separate tools for each of the searches.\n",
      " |  This wrapper therefore replaces BlastallCommandline with option -p blastn.\n",
      " |  \n",
      " |  For example, to run a search against the \"nt\" nucleotide database using the\n",
      " |  FASTA nucleotide file \"m_code.fasta\" as the query, with an expectation value\n",
      " |  cut off of 0.001, saving the output to a file in XML format:\n",
      " |  \n",
      " |  >>> from Bio.Blast.Applications import NcbiblastnCommandline\n",
      " |  >>> cline = NcbiblastnCommandline(query=\"m_cold.fasta\", db=\"nt\", strand=\"plus\",\n",
      " |  ...                               evalue=0.001, out=\"m_cold.xml\", outfmt=5)\n",
      " |  >>> cline\n",
      " |  NcbiblastnCommandline(cmd='blastn', out='m_cold.xml', outfmt=5, query='m_cold.fasta', db='nt', evalue=0.001, strand='plus')\n",
      " |  >>> print(cline)\n",
      " |  blastn -out m_cold.xml -outfmt 5 -query m_cold.fasta -db nt -evalue 0.001 -strand plus\n",
      " |  \n",
      " |  You would typically run the command line with cline() or via the Python\n",
      " |  subprocess module, as described in the Biopython tutorial.\n",
      " |  \n",
      " |  Method resolution order:\n",
      " |      NcbiblastnCommandline\n",
      " |      _NcbiblastMain2SeqCommandline\n",
      " |      _Ncbiblast2SeqCommandline\n",
      " |      _NcbiblastCommandline\n",
      " |      _NcbibaseblastCommandline\n",
      " |      Bio.Application.AbstractCommandline\n",
      " |      builtins.object\n",
      " |  \n",
      " |  Methods defined here:\n",
      " |  \n",
      " |  __init__(self, cmd='blastn', **kwargs)\n",
      " |      Initialize the class.\n",
      " |  \n",
      " |  ----------------------------------------------------------------------\n",
      " |  Methods inherited from Bio.Application.AbstractCommandline:\n",
      " |  \n",
      " |  __call__(self, stdin=None, stdout=True, stderr=True, cwd=None, env=None)\n",
      " |      Execute command, wait for it to finish, return (stdout, stderr).\n",
      " |      \n",
      " |      Runs the command line tool and waits for it to finish. If it returns\n",
      " |      a non-zero error level, an exception is raised. Otherwise two strings\n",
      " |      are returned containing stdout and stderr.\n",
      " |      \n",
      " |      The optional stdin argument should be a string of data which will be\n",
      " |      passed to the tool as standard input.\n",
      " |      \n",
      " |      The optional stdout and stderr argument may be filenames (string),\n",
      " |      but otherwise are treated as a booleans, and control if the output\n",
      " |      should be captured as strings (True, default), or ignored by sending\n",
      " |      it to /dev/null to avoid wasting memory (False). If sent to a file\n",
      " |      or ignored, then empty string(s) are returned.\n",
      " |      \n",
      " |      The optional cwd argument is a string giving the working directory\n",
      " |      to run the command from. See Python's subprocess module documentation\n",
      " |      for more details.\n",
      " |      \n",
      " |      The optional env argument is a dictionary setting the environment\n",
      " |      variables to be used in the new process. By default the current\n",
      " |      process' environment variables are used. See Python's subprocess\n",
      " |      module documentation for more details.\n",
      " |      \n",
      " |      Default example usage::\n",
      " |      \n",
      " |          from Bio.Emboss.Applications import WaterCommandline\n",
      " |          water_cmd = WaterCommandline(gapopen=10, gapextend=0.5,\n",
      " |                                       stdout=True, auto=True,\n",
      " |                                       asequence=\"a.fasta\", bsequence=\"b.fasta\")\n",
      " |          print(\"About to run: %s\" % water_cmd)\n",
      " |          std_output, err_output = water_cmd()\n",
      " |      \n",
      " |      This functionality is similar to subprocess.check_output(). In general\n",
      " |      if you require more control over running the command, use subprocess\n",
      " |      directly.\n",
      " |      \n",
      " |      When the program called returns a non-zero error level, a custom\n",
      " |      ApplicationError exception is raised. This includes any stdout and\n",
      " |      stderr strings captured as attributes of the exception object, since\n",
      " |      they may be useful for diagnosing what went wrong.\n",
      " |  \n",
      " |  __repr__(self)\n",
      " |      Return a representation of the command line object for debugging.\n",
      " |      \n",
      " |      e.g.\n",
      " |      \n",
      " |      >>> from Bio.Emboss.Applications import WaterCommandline\n",
      " |      >>> cline = WaterCommandline(gapopen=10, gapextend=0.5)\n",
      " |      >>> cline.asequence = \"asis:ACCCGGGCGCGGT\"\n",
      " |      >>> cline.bsequence = \"asis:ACCCGAGCGCGGT\"\n",
      " |      >>> cline.outfile = \"temp_water.txt\"\n",
      " |      >>> print(cline)\n",
      " |      water -outfile=temp_water.txt -asequence=asis:ACCCGGGCGCGGT -bsequence=asis:ACCCGAGCGCGGT -gapopen=10 -gapextend=0.5\n",
      " |      >>> cline\n",
      " |      WaterCommandline(cmd='water', outfile='temp_water.txt', asequence='asis:ACCCGGGCGCGGT', bsequence='asis:ACCCGAGCGCGGT', gapopen=10, gapextend=0.5)\n",
      " |  \n",
      " |  __setattr__(self, name, value)\n",
      " |      Set attribute name to value (PRIVATE).\n",
      " |      \n",
      " |      This code implements a workaround for a user interface issue.\n",
      " |      Without this __setattr__ attribute-based assignment of parameters\n",
      " |      will silently accept invalid parameters, leading to known instances\n",
      " |      of the user assuming that parameters for the application are set,\n",
      " |      when they are not.\n",
      " |      \n",
      " |      >>> from Bio.Emboss.Applications import WaterCommandline\n",
      " |      >>> cline = WaterCommandline(gapopen=10, gapextend=0.5, stdout=True)\n",
      " |      >>> cline.asequence = \"a.fasta\"\n",
      " |      >>> cline.bsequence = \"b.fasta\"\n",
      " |      >>> cline.csequence = \"c.fasta\"\n",
      " |      Traceback (most recent call last):\n",
      " |      ...\n",
      " |      ValueError: Option name csequence was not found.\n",
      " |      >>> print(cline)\n",
      " |      water -stdout -asequence=a.fasta -bsequence=b.fasta -gapopen=10 -gapextend=0.5\n",
      " |      \n",
      " |      This workaround uses a whitelist of object attributes, and sets the\n",
      " |      object attribute list as normal, for these.  Other attributes are\n",
      " |      assumed to be parameters, and passed to the self.set_parameter method\n",
      " |      for validation and assignment.\n",
      " |  \n",
      " |  __str__(self)\n",
      " |      Make the commandline string with the currently set options.\n",
      " |      \n",
      " |      e.g.\n",
      " |      \n",
      " |      >>> from Bio.Emboss.Applications import WaterCommandline\n",
      " |      >>> cline = WaterCommandline(gapopen=10, gapextend=0.5)\n",
      " |      >>> cline.asequence = \"asis:ACCCGGGCGCGGT\"\n",
      " |      >>> cline.bsequence = \"asis:ACCCGAGCGCGGT\"\n",
      " |      >>> cline.outfile = \"temp_water.txt\"\n",
      " |      >>> print(cline)\n",
      " |      water -outfile=temp_water.txt -asequence=asis:ACCCGGGCGCGGT -bsequence=asis:ACCCGAGCGCGGT -gapopen=10 -gapextend=0.5\n",
      " |      >>> str(cline)\n",
      " |      'water -outfile=temp_water.txt -asequence=asis:ACCCGGGCGCGGT -bsequence=asis:ACCCGAGCGCGGT -gapopen=10 -gapextend=0.5'\n",
      " |  \n",
      " |  set_parameter(self, name, value=None)\n",
      " |      Set a commandline option for a program (OBSOLETE).\n",
      " |      \n",
      " |      Every parameter is available via a property and as a named\n",
      " |      keyword when creating the instance. Using either of these is\n",
      " |      preferred to this legacy set_parameter method which is now\n",
      " |      OBSOLETE, and likely to be DEPRECATED and later REMOVED in\n",
      " |      future releases.\n",
      " |  \n",
      " |  ----------------------------------------------------------------------\n",
      " |  Data descriptors inherited from Bio.Application.AbstractCommandline:\n",
      " |  \n",
      " |  __dict__\n",
      " |      dictionary for instance variables (if defined)\n",
      " |  \n",
      " |  __weakref__\n",
      " |      list of weak references to the object (if defined)\n",
      " |  \n",
      " |  ----------------------------------------------------------------------\n",
      " |  Data and other attributes inherited from Bio.Application.AbstractCommandline:\n",
      " |  \n",
      " |  parameters = None\n",
      "\n"
     ]
    }
   ],
   "source": [
    "from Bio.Blast.Applications import NcbiblastnCommandline\n",
    "help(NcbiblastnCommandline)"
   ]
  },
  {
   "cell_type": "code",
   "execution_count": 3,
   "metadata": {},
   "outputs": [
    {
     "name": "stdout",
     "output_type": "stream",
     "text": [
      "water -outfile=temp_water.txt -asequence=asis:ACCCGGGCGCGGT -bsequence=asis:ACCCGAGCGCGGT -gapopen=10 -gapextend=0.5\n"
     ]
    },
    {
     "data": {
      "text/plain": [
       "('', 'Smith-Waterman local alignment of sequences\\n')"
      ]
     },
     "execution_count": 3,
     "metadata": {},
     "output_type": "execute_result"
    }
   ],
   "source": [
    "from Bio.Emboss.Applications import WaterCommandline\n",
    "cline = WaterCommandline(gapopen=10, gapextend=0.5)\n",
    "cline.asequence = \"asis:ACCCGGGCGCGGT\"\n",
    "cline.bsequence = \"asis:ACCCGAGCGCGGT\"\n",
    "cline.outfile = \"temp_water.txt\"\n",
    "print(cline)\n",
    "# water -outfile=temp_water.txt -asequence=asis:ACCCGGGCGCGGT -bsequence=asis:ACCCGAGCGCGGT -gapopen=10 -gapextend=0.5\n",
    "cline()\n"
   ]
  },
  {
   "cell_type": "code",
   "execution_count": null,
   "metadata": {},
   "outputs": [],
   "source": [
    "import os\n",
    "from Bio.Emboss.Applications import WaterCommandline\n",
    "import pandas as pd\n",
    "from tqdm import tqdm\n",
    "\n",
    "result_path = os.path.join(\"error-analysis\", \"alignment\", \"water\")\n",
    "data_dir = os.path.join(\"error-analysis\", \"data-comparison\")\n",
    "test_data = os.path.join(data_dir, \"test_data.csv\")\n",
    "validation_data = os.path.join(data_dir, \"validation_data.csv\")\n",
    "training_data = os.path.join(data_dir, \"training_data.csv\")\n",
    "water_output_dir = os.path.join(\"error-analysis\", \"water\")\n",
    "if not os.path.exists(water_output_dir):\n",
    "    os.makedirs(water_output_dir, exist_ok=True)\n",
    "\n",
    "test_df = pd.read_csv(test_data)\n",
    "training_df = pd.read_csv(training_data)\n",
    "for i, r in test_df.iterrows():\n",
    "    test_seq = r[\"sequence\"]\n",
    "    for j, s in training_df.iterrows():\n",
    "        training_seq = s[\"sequence\"]\n",
    "        cline = WaterCommandline(gapopen=10, gapextend=0.5)\n",
    "        cline.asequence = f\"asis:{test_seq}\"\n",
    "        cline.bsequence = f\"asis:{training_seq}\"\n",
    "        cline.outfile = os.path.join(water_output_dir, f\"water[{i}][{j}].txt\")\n",
    "        cline()\n",
    "        # print(cline)\n",
    "        # water -outfile=temp_water.txt -asequence=asis:ACCCGGGCGCGGT -bsequence=asis:ACCCGAGCGCGGT -gapopen=10 -gapextend=0.5\n",
    "        "
   ]
  },
  {
   "cell_type": "code",
   "execution_count": 29,
   "metadata": {},
   "outputs": [
    {
     "name": "stdout",
     "output_type": "stream",
     "text": [
      "identity score: 0.441\n",
      "similarity score: 0.441\n",
      "water score: 386.5\n"
     ]
    }
   ],
   "source": [
    "from run_water_algorithm import parse_score_line\n",
    "import os\n",
    "\n",
    "def parse_identity_or_similarity_line(line):\n",
    "    val = line.split(\":\")[1].strip()\n",
    "    vals = val.split(\" \")\n",
    "    vals = vals[0].split(\"/\")\n",
    "    upper_val = float(vals[0])\n",
    "    lower_val = float(vals[1])\n",
    "    score = round(upper_val/lower_val, 3)\n",
    "    return score\n",
    "\n",
    "temp_output = os.path.join(\"error-analysis\", \"alignment\", \"water\", \"water[0][0].txt\")\n",
    "output = open(temp_output, \"r\").readlines()\n",
    "identity_score = parse_identity_or_similarity_line(output[23])\n",
    "similarity_score = parse_identity_or_similarity_line(output[24])\n",
    "water_score = parse_score_line(output[26])\n",
    "\n",
    "print(f\"identity score: {identity_score}\")\n",
    "print(f\"similarity score: {similarity_score}\")\n",
    "print(f\"water score: {water_score}\")"
   ]
  },
  {
   "cell_type": "code",
   "execution_count": 9,
   "metadata": {},
   "outputs": [
    {
     "name": "stdout",
     "output_type": "stream",
     "text": [
      "[12.0, 12.0, 12.0, 12.0]\n",
      "12.0\n"
     ]
    }
   ],
   "source": [
    "from Bio import pairwise2\n",
    "import numpy as np\n",
    "\n",
    "a = \"ACCCGGGCGCGGT\"\n",
    "b = \"ACCCGAGCGCGGT\"\n",
    "alignments = pairwise2.align.localxx(a, b)\n",
    "scores = [a.score for a in alignments]\n",
    "max_score = np.max(scores)\n",
    "print(scores)\n",
    "print(max_score)"
   ]
  },
  {
   "cell_type": "code",
   "execution_count": null,
   "metadata": {},
   "outputs": [],
   "source": [
    "import os\n",
    "import pandas as pd\n",
    "from tqdm import tqdm\n",
    "from Bio import pairwise2\n",
    "\n",
    "training_data = pd.read_csv(os.path.join(\"error_analysis\", \"data-comparison\", \"training_data.csv\"))\n",
    "validation_data = pd.read_csv(os.path.join(\"error_analysis\", \"data-comparison\", \"validation_data.csv\"))\n",
    "test_data = pd.read_csv(os.path.join(\"error_analysis\", \"data-comparison\", \"test_data.csv\"))\n",
    "workdir = os.path.join(\"error_analysis\", \"data-comparison\")\n",
    "test_prediction_data = pd.read_csv(os.path.join(\"prediction\", \"error_analysis_log_sorted.csv\"))\n",
    "\n",
    "test_similarity_scores = []\n",
    "for i, r in tqdm(test_prediction_data.iterrows(), total=test_data.shape[0], desc=\"Processing\"):\n",
    "    e_values = []\n",
    "    for j, s in training_data.iterrows():\n",
    "        query = r[\"original_sequence\"]\n",
    "        subject = s[\"sequence\"]\n",
    "        alignments = pairwise2.align.localxx(query, subject)\n",
    "        alignment_score = np.max([a.score for a in alignments])\n",
    "        e_values.append(alignment_score)\n",
    "\n",
    "    e_values_str = [str(a) for a in e_values]\n",
    "    e_values_str = \" \".join(e_values_str)\n",
    "    test_similarity_scores.append(e_values_str)\n",
    "    \n",
    "ndf = pd.DataFrame(data={\n",
    "    \"sequence\": test_prediction_data[\"original_sequence\"],\n",
    "    \"average_f1\": test_prediction_data[\"average f1\"],\n",
    "    \"similarity_score\": test_similarity_scores,\n",
    "})\n",
    "ndf.to_csv(\n",
    "    os.path.join(workdir, \"test_v_train_comparison.csv\")\n",
    ")"
   ]
  },
  {
   "cell_type": "code",
   "execution_count": 3,
   "metadata": {},
   "outputs": [
    {
     "name": "stdout",
     "output_type": "stream",
     "text": [
      "125559\n",
      "TabularMSA[DNA]\n",
      "-----------------------------------------------------------------------\n",
      "Stats:\n",
      "    sequence count: 2\n",
      "    position count: 16384\n",
      "-----------------------------------------------------------------------\n",
      "TCATTGTGACCTGGGAGCCCTGCATGATGAAGG ... ATAACTGTAACTTTATTTATTTGTTTGTTTCTT\n",
      "TCATTGTGACCTGGGAGCCCTGCATGATGAAGG ... ATAACTGTAACTTTATTTATTTGTTTGTTTCTT\n",
      "32767\n",
      "[(0, 16383), (0, 16383)]\n"
     ]
    }
   ],
   "source": [
    "from skbio.alignment import local_pairwise_align_ssw\n",
    "from skbio.sequence import DNA\n",
    "import os\n",
    "import pandas as pd\n",
    "\n",
    "gene_path = os.path.join(\"data\", \"gene_dir\", \"chr8\", \"LOC101929492.csv\")\n",
    "gene_df = pd.read_csv(gene_path)\n",
    "\n",
    "sequence = gene_df.iloc[0, 0]\n",
    "\n",
    "alignment, score, start_end_positions = local_pairwise_align_ssw(\n",
    "    DNA(sequence), \n",
    "    DNA(sequence)\n",
    ")\n",
    "\n",
    "print(len(sequence))\n",
    "print(alignment)\n",
    "print(score)\n",
    "print(start_end_positions)"
   ]
  },
  {
   "cell_type": "code",
   "execution_count": 7,
   "metadata": {},
   "outputs": [
    {
     "data": {
      "text/plain": [
       "10"
      ]
     },
     "execution_count": 7,
     "metadata": {},
     "output_type": "execute_result"
    }
   ],
   "source": [
    "# partitioning\n",
    "import os\n",
    "import pandas as pd\n",
    "\n",
    "path = os.path.join(\"prediction\", \"error_analysis_log_sorted.csv\")\n",
    "df = pd.read_csv(path)\n",
    "\n",
    "ranges = [\n",
    "    (1.0, 0.9),\n",
    "    (0.9, 0.8),\n",
    "    (0.8, 0.7),\n",
    "    (0.7, 0.6),\n",
    "    (0.6, 0.5),\n",
    "    (0.5, 0.4),\n",
    "    (0.4, 0.3),\n",
    "    (0.3, 0.2),\n",
    "    (0.2, 0.1),\n",
    "    (0.1, 0.0),\n",
    "]\n",
    "dataframes = [df[(df[\"average f1\"] < r[0]) & (df[\"average f1\"] <= r[1])] for r in ranges]\n",
    "len(dataframes)"
   ]
  },
  {
   "cell_type": "code",
   "execution_count": 2,
   "metadata": {},
   "outputs": [
    {
     "name": "stdout",
     "output_type": "stream",
     "text": [
      "sub dataframes: 12\n"
     ]
    }
   ],
   "source": [
    "import os\n",
    "import pandas as pd\n",
    "\n",
    "path = os.path.join(\"prediction\", \"error_analysis_log_complete_nucl.csv\")\n",
    "df = pd.read_csv(path)\n",
    "\n",
    "ranges = [\n",
    "    (2.0, 1.0),\n",
    "    (1.0, 0.9),\n",
    "    (0.9, 0.8),\n",
    "    (0.8, 0.7),\n",
    "    (0.7, 0.6),\n",
    "    (0.6, 0.5),\n",
    "    (0.5, 0.4),\n",
    "    (0.4, 0.3),\n",
    "    (0.3, 0.2),\n",
    "    (0.2, 0.1),\n",
    "    (0.1, 0.0),\n",
    "    (2.0, 0.0)\n",
    "]\n",
    "# cf_titles = [f\"{r[0]} > F1 Score >= {r[1]}\" for r in ranges]\n",
    "cf_titles = [f\"{r[1]}=F1 Score-{r[0]}\" for r in ranges]\n",
    "cf_titles[0] = \"F1 Score = 1\"\n",
    "cf_titles[-1] = \"All\"\n",
    "dataframes = [df[(df[\"average f1\"] < r[0]) & (df[\"average f1\"] >= r[1])] for r in ranges]\n",
    "print(f\"sub dataframes: {len(dataframes)}\")"
   ]
  },
  {
   "cell_type": "code",
   "execution_count": 3,
   "metadata": {},
   "outputs": [],
   "source": [
    "for i in range(len(dataframes)):\n",
    "    d = dataframes[i]\n",
    "    t = cf_titles[i]\n",
    "    d.to_csv(\n",
    "        os.path.join(\"prediction\", f\"dataframe-{t}\"),\n",
    "        index=False\n",
    "    )"
   ]
  },
  {
   "cell_type": "code",
   "execution_count": 6,
   "metadata": {},
   "outputs": [
    {
     "data": {
      "text/plain": [
       "70868"
      ]
     },
     "execution_count": 6,
     "metadata": {},
     "output_type": "execute_result"
    }
   ],
   "source": [
    "import os\n",
    "\n",
    "\n",
    "dirpath = os.path.join(\"error-analysis\", \"alignment\", \"water-by-sequence\")\n",
    "filepath = os.path.join(dirpath, \"smith_waterman_alignment.f1_score=1.csv\")\n",
    "\n",
    "df = pd.read_csv(filepath)\n",
    "s = df.iloc[0, 1]\n",
    "a = s.split(' ')\n",
    "a = [int(j) for j in a]\n",
    "len(a)"
   ]
  },
  {
   "cell_type": "code",
   "execution_count": 29,
   "metadata": {},
   "outputs": [
    {
     "name": "stdout",
     "output_type": "stream",
     "text": [
      "training size 70868\n"
     ]
    },
    {
     "data": {
      "image/png": "[encoded data removed]",
      "text/plain": [
       "<Figure size 640x480 with 1 Axes>"
      ]
     },
     "metadata": {},
     "output_type": "display_data"
    }
   ],
   "source": [
    "import os\n",
    "import pandas as pd\n",
    "import numpy as np\n",
    "import matplotlib.pyplot as plt\n",
    "\n",
    "alignment_dir = os.path.join(\"error-analysis\", \"alignment\", \"water-by-sequence\")\n",
    "training_data_file = os.path.join(\"error-analysis\", \"data-comparison\", \"training_data.csv\")\n",
    "\n",
    "training_size = pd.read_csv(training_data_file).shape[0]\n",
    "print(f\"training size {training_size}\")\n",
    "\n",
    "ranges = [\n",
    "    \"Avg. F1 = 1\",\n",
    "    \"1 < Avg. F1 <= 0.9\",\n",
    "    # \"0.9 < F1 score <= 0.8\",\n",
    "    # \"0.8 < F1 score <= 0.7\",\n",
    "    # \"0.7 < F1 score <= 0.6\",\n",
    "    # \"0.6 < F1 score <= 0.5\",\n",
    "    # \"0.5 < F1 score <= 0.4\",\n",
    "    # \"0.4 < F1 score <= 0.3\",\n",
    "    # \"0.3 < F1 score <= 0.2\",\n",
    "    \"0.2 < Avg. F1 <= 0.1\",\n",
    "    \"0.1 < Avg. F1 <= 0.0\",\n",
    "    \"Data Validasi\"\n",
    "]\n",
    "\n",
    "files = [\n",
    "    os.path.join(alignment_dir, \"water-1.0.csv\"),\n",
    "    os.path.join(alignment_dir, \"water-0.9-1.0.csv\"),\n",
    "    # os.path.join(alignment_dir, \"water-08-09.csv\"),\n",
    "    # os.path.join(alignment_dir, \"water-07-08.csv\"),\n",
    "    # os.path.join(alignment_dir, \"water-06-07.csv\"),\n",
    "    # os.path.join(alignment_dir, \"water-05-06.csv\"),\n",
    "    # os.path.join(alignment_dir, \"water-04-05.csv\"),\n",
    "    # os.path.join(alignment_dir, \"water-03-04.csv\"),\n",
    "    # os.path.join(alignment_dir, \"water-02-03.csv\"),\n",
    "    # os.path.join(alignment_dir, \"water-01-02.csv\"),\n",
    "    os.path.join(alignment_dir, \"water-0.1-0.2.csv\"),\n",
    "    os.path.join(alignment_dir, \"water-0.0-0.1.csv\"),\n",
    "    os.path.join(alignment_dir, \"water-validation.csv\"),\n",
    "]\n",
    "\n",
    "average_scores = []\n",
    "for r, f in zip(ranges, files):\n",
    "    df = pd.read_csv(f)\n",
    "    avg_score = np.sum(df[\"average-score\"]) / 45\n",
    "    average_scores.append(avg_score)\n",
    "\n",
    "import seaborn as sns\n",
    "# normalize score\n",
    "min = np.min(average_scores)\n",
    "normalized_scores = [s / min for s in average_scores]\n",
    "\n",
    "ndf = pd.DataFrame(data={\n",
    "    \"title\": ranges,\n",
    "    \"avg_score\": average_scores\n",
    "})\n",
    "\n",
    "ax = sns.barplot(ndf, x=\"title\", y=\"avg_score\")\n",
    "ax.set_xticklabels(ndf[\"title\"], rotation=45, ha=\"right\")\n",
    "ax.set(xlabel=\"Kelompok\", ylabel=\"Nilai Kemiripan\")\n",
    "for i in ax.containers:\n",
    "    ax.bar_label(i,)\n",
    "\n",
    "plt.show()"
   ]
  },
  {
   "cell_type": "code",
   "execution_count": 1,
   "metadata": {},
   "outputs": [
    {
     "name": "stdout",
     "output_type": "stream",
     "text": [
      "training size 70868\n"
     ]
    },
    {
     "data": {
      "image/png": "[encoded data removed]",
      "text/plain": [
       "<Figure size 640x480 with 1 Axes>"
      ]
     },
     "metadata": {},
     "output_type": "display_data"
    }
   ],
   "source": [
    "import os\n",
    "import pandas as pd\n",
    "import numpy as np\n",
    "import matplotlib.pyplot as plt\n",
    "\n",
    "alignment_dir = os.path.join(\"error-analysis\", \"alignment\", \"water-by-sequence\")\n",
    "training_data_file = os.path.join(\"error-analysis\", \"data-comparison\", \"training_data.csv\")\n",
    "\n",
    "training_size = pd.read_csv(training_data_file).shape[0]\n",
    "print(f\"training size {training_size}\")\n",
    "\n",
    "ranges = [\n",
    "    \"Avg. F1 = 1\",\n",
    "    \"1 < Avg. F1 <= 0.9\",\n",
    "    # \"0.9 < F1 score <= 0.8\",\n",
    "    # \"0.8 < F1 score <= 0.7\",\n",
    "    # \"0.7 < F1 score <= 0.6\",\n",
    "    # \"0.6 < F1 score <= 0.5\",\n",
    "    # \"0.5 < F1 score <= 0.4\",\n",
    "    # \"0.4 < F1 score <= 0.3\",\n",
    "    # \"0.3 < F1 score <= 0.2\",\n",
    "    \"0.2 < Avg. F1 <= 0.1\",\n",
    "    \"0.1 < Avg. F1 <= 0.0\",\n",
    "    \"Validation Data\"\n",
    "]\n",
    "\n",
    "files = [\n",
    "    os.path.join(alignment_dir, \"water-1.0.csv\"),\n",
    "    os.path.join(alignment_dir, \"water-0.9-1.0.csv\"),\n",
    "    # os.path.join(alignment_dir, \"water-08-09.csv\"),\n",
    "    # os.path.join(alignment_dir, \"water-07-08.csv\"),\n",
    "    # os.path.join(alignment_dir, \"water-06-07.csv\"),\n",
    "    # os.path.join(alignment_dir, \"water-05-06.csv\"),\n",
    "    # os.path.join(alignment_dir, \"water-04-05.csv\"),\n",
    "    # os.path.join(alignment_dir, \"water-03-04.csv\"),\n",
    "    # os.path.join(alignment_dir, \"water-02-03.csv\"),\n",
    "    # os.path.join(alignment_dir, \"water-01-02.csv\"),\n",
    "    os.path.join(alignment_dir, \"water-0.1-0.2.csv\"),\n",
    "    os.path.join(alignment_dir, \"water-0.0-0.1.csv\"),\n",
    "    os.path.join(alignment_dir, \"water-validation.csv\"),\n",
    "]\n",
    "\n",
    "average_scores = []\n",
    "for r, f in zip(ranges, files):\n",
    "    df = pd.read_csv(f)\n",
    "    avg_score = np.sum(df[\"average-score\"]) / 45\n",
    "    average_scores.append(avg_score)\n",
    "\n",
    "import seaborn as sns\n",
    "# normalize score\n",
    "min = np.min(average_scores)\n",
    "normalized_scores = [s / min for s in average_scores]\n",
    "\n",
    "ndf = pd.DataFrame(data={\n",
    "    \"title\": ranges,\n",
    "    \"avg_score\": average_scores\n",
    "})\n",
    "\n",
    "ax = sns.barplot(ndf, x=\"title\", y=\"avg_score\")\n",
    "ax.set_xticklabels(ndf[\"title\"], rotation=45, ha=\"right\")\n",
    "ax.set(xlabel=\"Group\", ylabel=\"Similarity Score\")\n",
    "for i in ax.containers:\n",
    "    ax.bar_label(i,)\n",
    "\n",
    "plt.show()"
   ]
  },
  {
   "cell_type": "code",
   "execution_count": 5,
   "metadata": {},
   "outputs": [
    {
     "name": "stdout",
     "output_type": "stream",
     "text": [
      "TabularMSA[DNA]\n",
      "----------------------\n",
      "Stats:\n",
      "    sequence count: 2\n",
      "    position count: 12\n",
      "----------------------\n",
      "CTGTGCGCACAA\n",
      "CTGTGCGCACAA\n",
      "24\n",
      "[(0, 11), (9, 20)]\n"
     ]
    }
   ],
   "source": [
    "from skbio.alignment import local_pairwise_align_ssw\n",
    "from skbio.sequence import DNA\n",
    "\n",
    "test_seq =     \"CTGTGCGCACAAAAGAGAGAA\"\n",
    "training_seq = \"CTCTCCCCTCTGTGCGCACAA\"\n",
    "alignment, score, start_end_positions = local_pairwise_align_ssw(\n",
    "                DNA(test_seq), \n",
    "                DNA(training_seq)\n",
    "            )\n",
    "print(alignment)\n",
    "print(score)\n",
    "print(start_end_positions)"
   ]
  },
  {
   "cell_type": "code",
   "execution_count": 46,
   "metadata": {},
   "outputs": [
    {
     "data": {
      "text/plain": [
       "[Text(0.5, 0, 'Kelompok'), Text(0, 0.5, 'Nilai Kemiripan')]"
      ]
     },
     "execution_count": 46,
     "metadata": {},
     "output_type": "execute_result"
    },
    {
     "data": {
      "image/png": "[encoded data removed]",
      "text/plain": [
       "<Figure size 640x480 with 1 Axes>"
      ]
     },
     "metadata": {},
     "output_type": "display_data"
    }
   ],
   "source": [
    "ids = []\n",
    "scores = []\n",
    "for r, f in zip(ranges, files):\n",
    "    df = pd.read_csv(f)\n",
    "    for step, row in df.iterrows():\n",
    "        ids.append(r)\n",
    "        scores.append(row['average-score'])\n",
    "\n",
    "boxplot_df = pd.DataFrame(data={\n",
    "    \"id\": ids,\n",
    "    \"score\": scores\n",
    "})\n",
    "\n",
    "ax = sns.boxplot(boxplot_df, x=\"id\", y=\"score\")\n",
    "ax.set_xticklabels(labels=ranges, rotation=45, ha=\"right\")\n",
    "ax.set(xlabel=\"Kelompok\", ylabel=\"Nilai Kemiripan\")"
   ]
  },
  {
   "cell_type": "code",
   "execution_count": 23,
   "metadata": {},
   "outputs": [],
   "source": [
    "import os\n",
    "import pandas as pd\n",
    "\n",
    "error_log_df = pd.read_csv(\n",
    "    os.path.join(\"prediction\", \"error_analysis_log.csv\")\n",
    ")\n",
    "error_log_df = error_log_df.rename(columns={\"input_ids\": \"input_tokens\", \"prediction\": \"prediction_ids\", \"target\": \"target_ids\"})\n",
    "\n",
    "def _id2label(row, col_name):\n",
    "    from utils.seqlab import id2label\n",
    "    label_ids = row[col_name].split(\" \")\n",
    "    label_tokens = [id2label[int(a)] for a in label_ids]\n",
    "    return \" \".join(label_tokens)\n",
    "\n",
    "def _merge_kmer(row, col_name):\n",
    "    from data_preparation import merge_kmer\n",
    "    kmer_tokens = row[col_name].split(\" \")\n",
    "    seq = merge_kmer(kmer_tokens)\n",
    "    return seq\n",
    "\n",
    "error_log_df[\"prediction_tokens\"] = error_log_df.apply(lambda x: _id2label(x, \"prediction_ids\"), axis=1)\n",
    "error_log_df[\"target_tokens\"] = error_log_df.apply(lambda x: _id2label(x, \"target_ids\"), axis=1)"
   ]
  },
  {
   "cell_type": "code",
   "execution_count": 27,
   "metadata": {},
   "outputs": [],
   "source": [
    "error_log_df[\"prediction\"] = error_log_df.apply(lambda x: _merge_kmer(x, \"prediction_tokens\"), axis=1)\n",
    "error_log_df[\"target\"] = error_log_df.apply(lambda x: _merge_kmer(x, \"target_tokens\"), axis=1)\n",
    "error_log_df.to_csv(\n",
    "    os.path.join(\"prediction\", \"error_analysis_log_post_processed.csv\"), \n",
    "    index=False\n",
    ")"
   ]
  },
  {
   "cell_type": "code",
   "execution_count": 29,
   "metadata": {},
   "outputs": [
    {
     "name": "stdout",
     "output_type": "stream",
     "text": [
      "(6961, 49)\n"
     ]
    },
    {
     "name": "stderr",
     "output_type": "stream",
     "text": [
      "Extracting: 100%|██████████| 6961/6961 [00:27<00:00, 252.85it/s]\n"
     ]
    }
   ],
   "source": [
    "# make use post-processed data.\n",
    "import os\n",
    "import pandas as pd\n",
    "from tqdm import tqdm\n",
    "from data_preparation import kmer, merge_kmer\n",
    "\n",
    "log_path = os.path.join(\"prediction\", \"error_analysis_log_complete_nucl.csv\")\n",
    "log_df = pd.read_csv(log_path)\n",
    "print(log_df.shape)\n",
    "window_size = 10\n",
    "donor_kmer_pattern = [\"EEi\", \"Eii\"]\n",
    "acceptor_kmer_pattern = [\"iiE\", \"iEE\"]\n",
    "\n",
    "donor_seqs = []\n",
    "donor_preds = []\n",
    "donor_targets = []\n",
    "acceptor_seqs = []\n",
    "acceptor_preds = []\n",
    "acceptor_targets = []\n",
    "\n",
    "for i, r in tqdm(log_df.iterrows(), total=log_df.shape[0], desc=\"Extracting\"):\n",
    "    token_seq = r[\"input_tokens\"].split(\" \")\n",
    "    label_seq = r[\"target_tokens\"].split(\" \")\n",
    "    pred_seq = r[\"prediction_tokens\"].split(\" \")\n",
    "    m = kmer(token_seq, window_size, 1)\n",
    "    n = kmer(label_seq, window_size, 1)\n",
    "    p = kmer(pred_seq, window_size, 1)\n",
    "    for i, j, k in zip(m, n, p):\n",
    "        _n = kmer(j, 2, 1)\n",
    "        _p = kmer(k, 2, 1)\n",
    "        if donor_kmer_pattern in _n or donor_kmer_pattern in _p:\n",
    "            donor_seqs.append(merge_kmer(i))\n",
    "            donor_targets.append(merge_kmer(j))\n",
    "            donor_preds.append(merge_kmer(k))\n",
    "        if acceptor_kmer_pattern in _n or acceptor_kmer_pattern in _p:\n",
    "            acceptor_seqs.append(merge_kmer(i))\n",
    "            acceptor_targets.append(merge_kmer(j))\n",
    "            acceptor_preds.append(merge_kmer(k))\n",
    "\n",
    "pd.DataFrame(data={\n",
    "    \"sequence\": donor_seqs,\n",
    "    \"prediction\": donor_preds,\n",
    "    \"target\": donor_targets\n",
    "}).to_csv(\n",
    "    os.path.join(\"motif_analysis\", \"donor_motif_analysis.csv\"),\n",
    "    index=False\n",
    ")\n",
    "\n",
    "pd.DataFrame(data={\n",
    "    \"sequence\": acceptor_seqs,\n",
    "    \"prediction\": acceptor_preds,\n",
    "    \"target\": acceptor_targets\n",
    "}).to_csv(\n",
    "    os.path.join(\"motif_analysis\", \"acceptor_motif_analysis.csv\"),\n",
    "    index=False\n",
    ")\n",
    "    \n"
   ]
  },
  {
   "cell_type": "code",
   "execution_count": 31,
   "metadata": {},
   "outputs": [
    {
     "name": "stderr",
     "output_type": "stream",
     "text": [
      "Extracting: 100%|██████████| 70868/70868 [02:09<00:00, 548.38it/s]\n"
     ]
    }
   ],
   "source": [
    "# identify unique splice site motif in training data.\n",
    "import pandas as pd\n",
    "import os\n",
    "from tqdm import tqdm\n",
    "from data_preparation import kmer, merge_kmer\n",
    "\n",
    "train_df = pd.read_csv(os.path.join(\"workspace\", \"seqlab-latest\", \"train.csv\"))\n",
    "window_size = 10\n",
    "donor_pattern = [\"EEi\", \"Eii\"]\n",
    "acceptor_pattern = [\"iiE\", \"iEE\"]\n",
    "donor_sequences = []\n",
    "donor_labels = []\n",
    "acceptor_sequences = []\n",
    "acceptor_labels = []\n",
    "\n",
    "# train_df.shape\n",
    "for i, r in tqdm(train_df.iterrows(), total=train_df.shape[0], desc=\"Extracting\"):\n",
    "    arr_token = r[\"sequence\"].split(\" \")\n",
    "    arr_label = r[\"label\"].split(\" \")\n",
    "\n",
    "    m = kmer(arr_token, 10, 1)\n",
    "    n = kmer(arr_label, 10, 1)\n",
    "    for i, j in zip(m, n):\n",
    "        arr_j = kmer(j, 2, 1)\n",
    "        if donor_pattern in arr_j:\n",
    "            donor_sequences.append(merge_kmer(i))\n",
    "            donor_labels.append(merge_kmer(j))\n",
    "        if acceptor_pattern in arr_j:\n",
    "            acceptor_sequences.append(merge_kmer(i))\n",
    "            acceptor_labels.append(merge_kmer(j))\n",
    "\n",
    "pd.DataFrame(data={\n",
    "    \"sequence\": donor_sequences,\n",
    "    \"label\": donor_labels\n",
    "}).to_csv(os.path.join(\"motif_analysis\", \"train_donor_ss_motif.csv\"), index=False)\n",
    "\n",
    "pd.DataFrame(data={\n",
    "    \"sequence\": acceptor_sequences,\n",
    "    \"label\": acceptor_labels\n",
    "}).to_csv(os.path.join(\"motif_analysis\", \"train_acceptor_ss_motif.csv\"), index=False)"
   ]
  },
  {
   "cell_type": "code",
   "execution_count": 34,
   "metadata": {},
   "outputs": [
    {
     "name": "stderr",
     "output_type": "stream",
     "text": [
      "Extracting: 100%|██████████| 6961/6961 [00:15<00:00, 451.10it/s]\n"
     ]
    }
   ],
   "source": [
    "# identify unique splice site motif in training data.\n",
    "import pandas as pd\n",
    "import os\n",
    "from tqdm import tqdm\n",
    "from data_preparation import kmer, merge_kmer\n",
    "\n",
    "train_df = pd.read_csv(os.path.join(\"workspace\", \"seqlab-latest\", \"test.csv\"))\n",
    "window_size = 10\n",
    "donor_pattern = [\"EEi\", \"Eii\"]\n",
    "acceptor_pattern = [\"iiE\", \"iEE\"]\n",
    "donor_sequences = []\n",
    "donor_labels = []\n",
    "acceptor_sequences = []\n",
    "acceptor_labels = []\n",
    "\n",
    "# train_df.shape\n",
    "for i, r in tqdm(train_df.iterrows(), total=train_df.shape[0], desc=\"Extracting\"):\n",
    "    arr_token = r[\"sequence\"].split(\" \")\n",
    "    arr_label = r[\"label\"].split(\" \")\n",
    "\n",
    "    m = kmer(arr_token, 10, 1)\n",
    "    n = kmer(arr_label, 10, 1)\n",
    "    for i, j in zip(m, n):\n",
    "        arr_j = kmer(j, 2, 1)\n",
    "        if donor_pattern in arr_j:\n",
    "            donor_sequences.append(merge_kmer(i))\n",
    "            donor_labels.append(merge_kmer(j))\n",
    "        if acceptor_pattern in arr_j:\n",
    "            acceptor_sequences.append(merge_kmer(i))\n",
    "            acceptor_labels.append(merge_kmer(j))\n",
    "\n",
    "pd.DataFrame(data={\n",
    "    \"sequence\": donor_sequences,\n",
    "    \"label\": donor_labels\n",
    "}).to_csv(os.path.join(\"motif_analysis\", \"test_donor_ss_motif.csv\"), index=False)\n",
    "\n",
    "pd.DataFrame(data={\n",
    "    \"sequence\": acceptor_sequences,\n",
    "    \"label\": acceptor_labels\n",
    "}).to_csv(os.path.join(\"motif_analysis\", \"test_acceptor_ss_motif.csv\"), index=False)"
   ]
  },
  {
   "cell_type": "code",
   "execution_count": 33,
   "metadata": {},
   "outputs": [
    {
     "name": "stdout",
     "output_type": "stream",
     "text": [
      "donor size 486218, acceptor size 510120\n",
      "unique donor size 1294, unique acceptor size 1295\n"
     ]
    }
   ],
   "source": [
    "# identify unique ss patterns in training data.\n",
    "import pandas as pd\n",
    "import os\n",
    "train_donor_ss_df = pd.read_csv(os.path.join(\"motif_analysis\", \"train_donor_ss_motif.csv\"))\n",
    "train_acceptor_ss_df = pd.read_csv(os.path.join(\"motif_analysis\", \"train_acceptor_ss_motif.csv\"))\n",
    "\n",
    "print(f\"donor size {train_donor_ss_df.shape[0]}, acceptor size {train_acceptor_ss_df.shape[0]}\")\n",
    "unique_train_donor_df = train_donor_ss_df.drop_duplicates(keep=\"first\")\n",
    "unique_train_donor_df.to_csv(os.path.join(\"motif_analysis\", \"unique_train_donor.csv\"), index=False)\n",
    "unique_train_acceptor_df = train_acceptor_ss_df.drop_duplicates(keep=\"first\")\n",
    "unique_train_acceptor_df.to_csv(os.path.join(\"motif_analysis\", \"unique_train_acceptor.csv\"), index=False)\n",
    "\n",
    "print(f\"unique donor size {unique_train_donor_df.shape[0]}, unique acceptor size {unique_train_acceptor_df.shape[0]}\")"
   ]
  },
  {
   "cell_type": "code",
   "execution_count": 36,
   "metadata": {},
   "outputs": [
    {
     "name": "stdout",
     "output_type": "stream",
     "text": [
      "donor size 51750, acceptor size 51579\n",
      "unique donor size 108, unique acceptor size 108\n"
     ]
    }
   ],
   "source": [
    "# identify unique ss patters in test data.\n",
    "import pandas as pd\n",
    "import os\n",
    "test_donor_ss_df = pd.read_csv(os.path.join(\"motif_analysis\", \"test_donor_ss_motif.csv\"))\n",
    "test_acceptor_ss_df = pd.read_csv(os.path.join(\"motif_analysis\", \"test_acceptor_ss_motif.csv\"))\n",
    "\n",
    "print(f\"donor size {test_donor_ss_df.shape[0]}, acceptor size {test_acceptor_ss_df.shape[0]}\")\n",
    "unique_test_donor_df = train_donor_ss_df.drop_duplicates(keep=\"first\")\n",
    "unique_test_donor_df.to_csv(os.path.join(\"motif_analysis\", \"unique_test_donor.csv\"), index=False)\n",
    "unique_test_acceptor_df = test_acceptor_ss_df.drop_duplicates(keep=\"first\")\n",
    "unique_test_acceptor_df.to_csv(os.path.join(\"motif_analysis\", \"unique_test_acceptor.csv\"), index=False)\n",
    "\n",
    "print(f\"unique donor size {unique_train_donor_df.shape[0]}, unique acceptor size {unique_train_acceptor_df.shape[0]}\")"
   ]
  },
  {
   "cell_type": "code",
   "execution_count": 38,
   "metadata": {},
   "outputs": [
    {
     "name": "stderr",
     "output_type": "stream",
     "text": [
      "Extracting: 100%|██████████| 6961/6961 [00:33<00:00, 208.54it/s]\n"
     ]
    }
   ],
   "source": [
    "# extract splice site motif from test result.\n",
    "import pandas as pd\n",
    "import os\n",
    "from tqdm import tqdm\n",
    "from data_preparation import kmer, merge_kmer\n",
    "\n",
    "donor_pattern = [\"EEi\", \"Eii\"]\n",
    "acceptor_pattern = [\"iiE\", \"iEE\"]\n",
    "\n",
    "test_result_df = pd.read_csv(os.path.join(\"prediction\", \"error_analysis_log_complete_nucl.csv\"))\n",
    "# test_result_df.shape\n",
    "window_size = 10\n",
    "\n",
    "donor_sequences, donor_predictions, donor_targets = [], [], []\n",
    "acceptor_sequences, acceptor_predictions, acceptor_targets = [], [], []\n",
    "\n",
    "for i, r in tqdm(test_result_df.iterrows(), total=test_result_df.shape[0], desc=\"Extracting\"):\n",
    "    input_tokens = r[\"input_tokens\"].split(\" \")\n",
    "    prediction_tokens = r[\"prediction_tokens\"].split(\" \")\n",
    "    target_tokens = r[\"target_tokens\"].split(\" \")\n",
    "\n",
    "    arr_i = kmer(input_tokens, window_size, 1)\n",
    "    arr_j = kmer(prediction_tokens, window_size, 1)\n",
    "    arr_k = kmer(target_tokens, window_size, 1)\n",
    "\n",
    "    for i, j, k in zip(arr_i, arr_j, arr_k):\n",
    "        _j = kmer(j, 2, 1)\n",
    "        _k = kmer(k, 2, 1)\n",
    "        if donor_pattern in _j or donor_pattern in _k:\n",
    "            donor_sequences.append(merge_kmer(i))\n",
    "            donor_predictions.append(merge_kmer(j))\n",
    "            donor_targets.append(merge_kmer(k))\n",
    "        if acceptor_pattern in _j or acceptor_pattern in _k:\n",
    "            acceptor_sequences.append(merge_kmer(i))\n",
    "            acceptor_predictions.append(merge_kmer(j))\n",
    "            acceptor_targets.append(merge_kmer(k))\n",
    "\n",
    "\n",
    "test_result_donor_df = pd.DataFrame(data={\n",
    "    \"sequence\": donor_sequences,\n",
    "    \"prediction\": donor_predictions,\n",
    "    \"target\": donor_targets\n",
    "})\n",
    "test_result_donor_df.to_csv(os.path.join(\"motif_analysis\", \"test_result_donor.csv\"), index=False)\n",
    "test_result_acceptor_df = pd.DataFrame(data={\n",
    "    \"sequence\": acceptor_sequences,\n",
    "    \"prediction\": acceptor_predictions,\n",
    "    \"target\": acceptor_targets\n",
    "})\n",
    "test_result_acceptor_df.to_csv(os.path.join(\"motif_analysis\", \"test_result_acceptor.csv\"), index=False)\n",
    "\n"
   ]
  },
  {
   "cell_type": "code",
   "execution_count": 39,
   "metadata": {},
   "outputs": [
    {
     "name": "stdout",
     "output_type": "stream",
     "text": [
      "original 76054 unique 3138\n",
      "original 78727 unique 6045\n"
     ]
    }
   ],
   "source": [
    "# generate unique test_result donor and acceptor.\n",
    "unique_test_result_donor_df = test_result_donor_df.drop_duplicates(keep=\"first\")\n",
    "print(f\"original {test_result_donor_df.shape[0]} unique {unique_test_result_donor_df.shape[0]}\")\n",
    "unique_test_result_acceptor_df = test_result_acceptor_df.drop_duplicates(keep=\"first\")\n",
    "print(f\"original {test_result_acceptor_df.shape[0]} unique {unique_test_result_acceptor_df.shape[0]}\")"
   ]
  },
  {
   "cell_type": "code",
   "execution_count": 41,
   "metadata": {},
   "outputs": [],
   "source": [
    "# check if sequence is in training data.\n",
    "import pandas as pd\n",
    "import os\n",
    "\n",
    "unique_train_acceptor_df = pd.read_csv(os.path.join(\"motif_analysis\", \"unique_train_acceptor.csv\"))\n",
    "unique_train_donor_df = pd.read_csv(os.path.join(\"motif_analysis\", \"unique_train_donor.csv\"))\n",
    "unique_test_acceptor_df = pd.read_csv(os.path.join(\"motif_analysis\", \"unique_test_acceptor.csv\"))\n",
    "unique_test_donor_df = pd.read_csv(os.path.join(\"motif_analysis\", \"unique_test_donor.csv\"))\n",
    "\n",
    "def check_acceptor(row, df):\n",
    "    seq = row[\"sequence\"]\n",
    "    if seq in df[\"sequence\"].values:\n",
    "        return 1\n",
    "    else:\n",
    "        return 0\n",
    "\n",
    "def check_donor(row, df):\n",
    "    seq = row[\"sequence\"]\n",
    "    if seq in df[\"sequence\"].values:\n",
    "        return 1\n",
    "    else:\n",
    "        return 0\n",
    "\n",
    "unique_test_acceptor_df[\"in_train_acceptor\"] = unique_test_acceptor_df.apply(lambda x: check_acceptor(x, unique_train_acceptor_df), axis=1)\n",
    "unique_test_acceptor_df[\"in_train_donor\"] = unique_test_acceptor_df.apply(lambda x: check_donor(x, unique_train_donor_df), axis=1)\n",
    "unique_test_donor_df[\"in_train_acceptor\"] = unique_test_donor_df.apply(lambda x: check_acceptor(x, unique_train_acceptor_df), axis=1)\n",
    "unique_test_donor_df[\"in_train_donor\"] = unique_test_donor_df.apply(lambda x: check_donor(x, unique_train_donor_df), axis=1)\n",
    "\n",
    "unique_test_acceptor_df.to_csv(\n",
    "    os.path.join(\"motif_analysis\", \"unique_test_acceptor_evaluated.csv\"), index=False\n",
    ")\n",
    "unique_test_donor_df.to_csv(\n",
    "    os.path.join(\"motif_analysis\", \"unique_test_donor_evaluated.csv\"), index=False\n",
    ")\n"
   ]
  }
 ],
 "metadata": {
  "kernelspec": {
   "display_name": "Python 3.7.9 ('deep-learning')",
   "language": "python",
   "name": "python3"
  },
  "language_info": {
   "codemirror_mode": {
    "name": "ipython",
    "version": 3
   },
   "file_extension": ".py",
   "mimetype": "text/x-python",
   "name": "python",
   "nbconvert_exporter": "python",
   "pygments_lexer": "ipython3",
   "version": "3.7.9"
  },
  "orig_nbformat": 4,
  "vscode": {
   "interpreter": {
    "hash": "cb381ed8bacaf36aa3bfaca5a0502d4671ddf79cb6e63c342c2d7fda9a71fcc6"
   }
  }
 },
 "nbformat": 4,
 "nbformat_minor": 2
}
