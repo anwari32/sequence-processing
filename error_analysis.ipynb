{
 "cells": [
  {
   "cell_type": "markdown",
   "metadata": {},
   "source": [
    "# Exploration"
   ]
  },
  {
   "cell_type": "code",
   "execution_count": 9,
   "metadata": {},
   "outputs": [
    {
     "name": "stdout",
     "output_type": "stream",
     "text": [
      "iiE cols ['sso01-adamw-lr5e-5-base-291mo307 - validation/f1_score-iiE', 'sso01-adamw-lr5e-5-base-291mo307 - validation/f1_score-iiE__MIN', 'sso01-adamw-lr5e-5-base-291mo307 - validation/f1_score-iiE__MAX'] => sso01-adamw-lr5e-5-base-291mo307 - validation/f1_score-iiE\n",
      "(2770,) [0.         0.         0.46728972 ... 0.95522388 1.         1.        ] \n",
      "\n",
      "iiE cols ['sso01-adamw-lr5e-5-base-291mo307 - validation/f1_score-iEE', 'sso01-adamw-lr5e-5-base-291mo307 - validation/f1_score-iEE__MIN', 'sso01-adamw-lr5e-5-base-291mo307 - validation/f1_score-iEE__MAX'] => sso01-adamw-lr5e-5-base-291mo307 - validation/f1_score-iEE\n",
      "(2770,) [0.         0.         0.5        ... 0.81012658 0.97247706 1.        ] \n",
      "\n",
      "iiE cols ['sso01-adamw-lr5e-5-base-291mo307 - validation/f1_score-EEi', 'sso01-adamw-lr5e-5-base-291mo307 - validation/f1_score-EEi__MIN', 'sso01-adamw-lr5e-5-base-291mo307 - validation/f1_score-EEi__MAX'] => sso01-adamw-lr5e-5-base-291mo307 - validation/f1_score-EEi\n",
      "(2770,) [0.66666667 0.98461538 0.73170732 ... 1.         0.96969697 0.60465116] \n",
      "\n",
      "iiE cols ['sso01-adamw-lr5e-5-base-291mo307 - validation/f1_score-Eii', 'sso01-adamw-lr5e-5-base-291mo307 - validation/f1_score-Eii__MIN', 'sso01-adamw-lr5e-5-base-291mo307 - validation/f1_score-Eii__MAX'] => sso01-adamw-lr5e-5-base-291mo307 - validation/f1_score-Eii\n",
      "(2770,) [0.54237288 0.91428571 0.71111111 ... 1.         1.         0.78787879] \n",
      "\n"
     ]
    }
   ],
   "source": [
    "import os\n",
    "import matplotlib.pyplot as plt\n",
    "import pandas as pd\n",
    "import numpy as np\n",
    "\n",
    "files = [\"sso01-adamw-lr5e-5-base-291mo307.csv\", \"sso01-adamw-lr2e-5-base-2fg7kdwu.csv\"]\n",
    "paths = [os.path.join(\"error_analysis\", f) for f in files]\n",
    "\n",
    "path = os.path.join(\"error_analysis\", \"sso01-adamw-lr5e-5-base-291mo307.csv\")\n",
    "df = pd.read_csv(path)\n",
    "columns = df.columns\n",
    "\n",
    "iiE_cols = [c for c in columns if c.find(\"iiE\") > -1]\n",
    "iiE_column = [c for c in iiE_cols if c.find(\"MIN\") == -1 and c.find(\"MAX\") == -1]\n",
    "print(f\"iiE cols {iiE_cols} => {iiE_column[0]}\")\n",
    "iiE_f1_scores = np.array(df[iiE_column[0]].values)\n",
    "print(f\"{iiE_f1_scores.shape} {iiE_f1_scores} \\n\")\n",
    "\n",
    "iEE_cols = [c for c in columns if c.find(\"iEE\") > -1]\n",
    "iEE_column = [c for c in iEE_cols if c.find(\"MIN\") == -1 and c.find(\"MAX\") == -1]\n",
    "print(f\"iiE cols {iEE_cols} => {iEE_column[0]}\")\n",
    "iEE_f1_scores = np.array(df[iEE_column[0]].values)\n",
    "print(f\"{iEE_f1_scores.shape} {iEE_f1_scores} \\n\")\n",
    "\n",
    "EEi_cols = [c for c in columns if c.find(\"EEi\") > -1]\n",
    "EEi_column = [c for c in EEi_cols if c.find(\"MIN\") == -1 and c.find(\"MAX\") == -1]\n",
    "print(f\"iiE cols {EEi_cols} => {EEi_column[0]}\")\n",
    "EEi_f1_scores = np.array(df[EEi_column[0]].values)\n",
    "print(f\"{EEi_f1_scores.shape} {EEi_f1_scores} \\n\")\n",
    "\n",
    "Eii_cols = [c for c in columns if c.find(\"Eii\") > -1]\n",
    "Eii_column = [c for c in Eii_cols if c.find(\"MIN\") == -1 and c.find(\"MAX\") == -1]\n",
    "print(f\"iiE cols {Eii_cols} => {Eii_column[0]}\")\n",
    "Eii_f1_scores = np.array(df[Eii_column[0]].values)\n",
    "print(f\"{Eii_f1_scores.shape} {Eii_f1_scores} \\n\")"
   ]
  },
  {
   "cell_type": "markdown",
   "metadata": {},
   "source": [
    "# Standard Deviation"
   ]
  },
  {
   "cell_type": "code",
   "execution_count": 12,
   "metadata": {},
   "outputs": [
    {
     "name": "stdout",
     "output_type": "stream",
     "text": [
      "standard deviation {'iiE': 0.28834109888911924, 'iEE': 0.28834109888911924, 'EEi': 0.28636939129836486, 'Eii': 0.2869499663471598}\n",
      "standard deviation {'iiE': 0.24259854567947808, 'iEE': 0.24259854567947808, 'EEi': 0.29022705545997424, 'Eii': 0.28068057307115307}\n"
     ]
    }
   ],
   "source": [
    "for p in paths:\n",
    "    df = pd.read_csv(p)\n",
    "    columns = df.columns\n",
    "\n",
    "    iiE_cols = [c for c in columns if c.find(\"iiE\") > -1]\n",
    "    iiE_column = [c for c in iiE_cols if c.find(\"MIN\") == -1 and c.find(\"MAX\") == -1]\n",
    "    # print(f\"iiE cols {iiE_cols} => {iiE_column[0]}\")\n",
    "    iiE_f1_scores = np.array(df[iiE_column[0]].values)\n",
    "    # print(f\"{iiE_f1_scores.shape} {iiE_f1_scores} \\n\")\n",
    "\n",
    "    iEE_cols = [c for c in columns if c.find(\"iEE\") > -1]\n",
    "    iEE_column = [c for c in iEE_cols if c.find(\"MIN\") == -1 and c.find(\"MAX\") == -1]\n",
    "    # print(f\"iiE cols {iEE_cols} => {iEE_column[0]}\")\n",
    "    iEE_f1_scores = np.array(df[iEE_column[0]].values)\n",
    "    # print(f\"{iEE_f1_scores.shape} {iEE_f1_scores} \\n\")\n",
    "\n",
    "    EEi_cols = [c for c in columns if c.find(\"EEi\") > -1]\n",
    "    EEi_column = [c for c in EEi_cols if c.find(\"MIN\") == -1 and c.find(\"MAX\") == -1]\n",
    "    # print(f\"iiE cols {EEi_cols} => {EEi_column[0]}\")\n",
    "    EEi_f1_scores = np.array(df[EEi_column[0]].values)\n",
    "    # print(f\"{EEi_f1_scores.shape} {EEi_f1_scores} \\n\")\n",
    "\n",
    "    Eii_cols = [c for c in columns if c.find(\"Eii\") > -1]\n",
    "    Eii_column = [c for c in Eii_cols if c.find(\"MIN\") == -1 and c.find(\"MAX\") == -1]\n",
    "    # print(f\"iiE cols {Eii_cols} => {Eii_column[0]}\")\n",
    "    Eii_f1_scores = np.array(df[Eii_column[0]].values)\n",
    "    # print(f\"{Eii_f1_scores.shape} {Eii_f1_scores} \\n\")\n",
    "\n",
    "    ss_tokens_stdev = {\n",
    "        \"iiE\": np.std(iiE_f1_scores),\n",
    "        \"iEE\": np.std(iiE_f1_scores),\n",
    "        \"EEi\": np.std(EEi_f1_scores),\n",
    "        \"Eii\": np.std(Eii_f1_scores)\n",
    "    }\n",
    "\n",
    "    print(f\"standard deviation {ss_tokens_stdev}\")"
   ]
  }
 ],
 "metadata": {
  "kernelspec": {
   "display_name": "Python 3.7.9 64-bit",
   "language": "python",
   "name": "python3"
  },
  "language_info": {
   "codemirror_mode": {
    "name": "ipython",
    "version": 3
   },
   "file_extension": ".py",
   "mimetype": "text/x-python",
   "name": "python",
   "nbconvert_exporter": "python",
   "pygments_lexer": "ipython3",
   "version": "3.7.9"
  },
  "orig_nbformat": 4,
  "vscode": {
   "interpreter": {
    "hash": "14ae8cb2141f3f34f4e0523006ff2d6cb0f7956c0f094e5497e312072e4d0d3c"
   }
  }
 },
 "nbformat": 4,
 "nbformat_minor": 2
}
