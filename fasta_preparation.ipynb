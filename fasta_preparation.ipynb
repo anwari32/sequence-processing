{
 "cells": [
  {
   "cell_type": "code",
   "execution_count": 37,
   "metadata": {},
   "outputs": [],
   "source": [
    "\"\"\"\n",
    "This notebook should only be used for processing FASTA or similar files.\n",
    "\"\"\"\n",
    "from Bio import SeqIO\n",
    "import os\n",
    "\n",
    "def kmer(seq, length, window_size=1):\n",
    "    return [seq[i:i+length] for i in range(0, len(seq)+1-length, window_size)]\n",
    "\n",
    "epd_tata_path = './data/epd/tata.fasta'\n",
    "tatas = SeqIO.parse(epd_tata_path, 'fasta')\n",
    "epd_tata_csv = './data/epd/pos_tata.csv'\n",
    "columns = ['sequence', 'label']\n",
    "fpos = {}\n",
    "try:\n",
    "    if os.path.exists(epd_tata_csv):\n",
    "        os.remove(epd_tata_csv)\n",
    "    fpos = open(epd_tata_csv, 'x')\n",
    "    fpos.write('{},{}\\n'.format('sequence', 'label'))\n",
    "    for f in tatas:\n",
    "        seq = f.seq\n",
    "        if len(seq) > 512:\n",
    "            arr = kmer(seq, 512)\n",
    "            for seq in arr:\n",
    "                fpos.write('{},{}\\n'.format(seq, 1))\n",
    "        else:\n",
    "            fpos.write('{},{}\\n'.format(seq, 1))\n",
    "    fpos.close()\n",
    "except Exception as e:\n",
    "    print('error {}'.format(e))\n",
    "    fpos.close()\n"
   ]
  },
  {
   "cell_type": "code",
   "execution_count": 68,
   "metadata": {},
   "outputs": [
    {
     "name": "stdout",
     "output_type": "stream",
     "text": [
      "512\n"
     ]
    },
    {
     "data": {
      "text/plain": [
       "'CTTTTCCCCATTCCATAGGTTTTCTTTTCTAAGGATGCTGTACAAAGAAGTTCAGAAACTTAGCCTAAAGGAAAGTTCTCGTTCATGCCTGGGGGAGATTTGCATCAAAAAGGCGCCTACGAATCCTATTTCACCTCCAGGAGTAGAATTGTTTTAGTATAAAGCTATAGTAACTTCTCGGGAGAGACCTTGATTCGCTGTCTTTGCTGGGGAACGGCGCGGAAGCAGGCTCATTTCTGTTTGAAGATCGTTTGTAACCCACTAGTCGGGTAGACCAATATAAACTGTGTACCGCCCACCTGGGAAGTTCTTTTAATTTTGGCCTTTGCGTGTTGACTGTCACCACTGGGCAGCAAGAAGCCTCGCCGTCCGCTTAATTTCAGGTTGGCAATTGGTTCAGGGTCCTTGTCCAGTGACCAATGGGAGCGGTGGCCCCTGGAGAGTCCTGGAGCGCGCGGGAAAGACAATCATTATGGACTTGGCGGGATAGTTTTCGTGGACGGATTCGCGCT'"
      ]
     },
     "execution_count": 68,
     "metadata": {},
     "output_type": "execute_result"
    }
   ],
   "source": [
    "s = 'CTTTTCCCCATTCCATAGAATTGTTTTAGTATGGATGCTGTACAAAGAGTTCATGCCTGGGGGACTAAAGGAAAGTTCTCAAGTTCTTTTAATTTTGATTTGCATCAAAAAGTCCGCTTAATTTCAGGTTTCACCTCCAGGAGTCAATCATTATGGACTTAAAGCTATAGTAACTTTTGAAGATCGTTTGTAATTCGCTGTCTTTGCTAGGTTTTCTTTTCTAAGCAGGCTCATTTCTGTAGTTCAGAAACTTAGCACCCACTAGTCGGGTACCCCTGGAGAGTCCTGGTACCGCCCACCTGGGGCGCCTACGAATCCTAGGCCTTTGCGTGTTGATGGACGGATTCGCGCTGCAAGAAGCCTCGCCGCTGTCACCACTGGGCATTGGCAATTGGTTCAGGGGGAACGGCGCGGAACCAATGGGAGCGGTGGCTCGGGAGAGACCTTGGAGCGCGCGGGAAAGAGACCAATATAAACTGTGGCGGGATAGTTTTCGGGTCCTTGTCCAGTGA'\n",
    "print(len(s))\n",
    "\n",
    "from random import shuffle\n",
    "\n",
    "def shuffle_sequence(seq, chunk_size):\n",
    "    arr = kmer(seq, chunk_size, chunk_size)\n",
    "    arr_even = [arr[i] for i in range(0, len(arr), 2)]\n",
    "    arr_odds = [arr[i] for i in range(1, len(arr), 2)]\n",
    "\n",
    "    shuffle(arr_odds)\n",
    "    shuffled = []\n",
    "    for i in range(len(arr)):\n",
    "        if i % 2 == 0:\n",
    "            shuffled.append(arr_even.pop(0))\n",
    "        else:\n",
    "            shuffled.append(arr_odds.pop(0))\n",
    "\n",
    "    return ''.join(shuffled)\n",
    "\n",
    "shuffled_s = shuffle_sequence(s, 16)\n",
    "shuffled_s"
   ]
  },
  {
   "cell_type": "code",
   "execution_count": 71,
   "metadata": {},
   "outputs": [],
   "source": [
    "\"\"\"\n",
    "Create negative promoter sequence based on positive TATA sequence.\n",
    "\"\"\"\n",
    "from Bio import SeqIO\n",
    "\n",
    "sample_tata_file = './data/epd/tata_sample.fasta'\n",
    "epd_tata_path = './data/epd/tata.fasta'\n",
    "sample_tata = SeqIO.parse(epd_tata_path, 'fasta')\n",
    "epd_nontata_csv = './data/epd/neg_tata.csv'\n",
    "header = '{},{}\\n'.format('sequence', 'label')\n",
    "f = {}\n",
    "try:\n",
    "    if os.path.exists(epd_nontata_csv):\n",
    "        os.remove(epd_nontata_csv)\n",
    "    f = open(epd_nontata_csv, 'x')\n",
    "    f.write(header)\n",
    "    for tata in sample_tata:\n",
    "        seq = str(tata.seq)\n",
    "        kmers = kmer(seq, 512, 1)\n",
    "        \n",
    "        for sub in kmers:\n",
    "            # Generate negative sample from positive sample using DeePromoter method (Oubounyt et. al., 2019).\n",
    "            neg_kmers = shuffle_sequence(sub, 16)\n",
    "            f.write('{},{}\\n'.format(neg_kmers, 0))\n",
    "\n",
    "    f.close()\n",
    "except Exception as e:\n",
    "    print('error {}'.format(e))\n",
    "    f.close()"
   ]
  },
  {
   "cell_type": "code",
   "execution_count": 7,
   "metadata": {},
   "outputs": [],
   "source": [
    "\"\"\"\n",
    "Generate csv from fasta file.\n",
    "\"\"\"\n",
    "from Bio import SeqIO\n",
    "\n",
    "def generate_csv_from_fasta(src_fasta, target_csv, label):\n",
    "    fasta = SeqIO.parse(src_fasta, 'fasta')\n",
    "    target = {}\n",
    "    if os.path.exists(target_csv):\n",
    "        os.remove(target_csv)\n",
    "    target = open(target_csv, 'x')\n",
    "    target.write('{},{}\\n'.format('sequence', 'label'))\n",
    "    for f in fasta:\n",
    "        seq = str(f.seq)\n",
    "        kmers = kmer(seq, 512, 1)\n",
    "\n",
    "        for sub in kmers:\n",
    "            target.write('{},{}\\n'.format(sub, label))\n",
    "\n",
    "    target.close()"
   ]
  },
  {
   "cell_type": "code",
   "execution_count": 1,
   "metadata": {},
   "outputs": [],
   "source": [
    "ss_src_pos_acc_fasta = './data/splice-sites/splice-deep/positive_DNA_seqs_acceptor_hs.fa'\n",
    "ss_src_pos_don_fasta = './data/splice-sites/splice-deep/positive_DNA_seqs_donor_hs.fa'\n",
    "ss_src_neg_acc_fasta = './data/splice-sites/splice-deep/positive_DNA_seqs_acceptor_hs.fa'\n",
    "ss_src_neg_don_fasta = './data/splice-sites/splice-deep/positive_DNA_seqs_acceptor_hs.fa'\n",
    "\n",
    "target_pos_acc_fasta = './data/splice-sites/splice-deep/pos_ss_acc.csv'\n",
    "target_pos_don_fasta = './data/splice-sites/splice-deep/pos_ss_don.csv'\n",
    "target_neg_acc_fasta = './data/splice-sites/splice-deep/neg_ss_acc.csv'\n",
    "target_neg_don_fasta = './data/splice-sites/splice-deep/neg_ss_don.csv'"
   ]
  },
  {
   "cell_type": "code",
   "execution_count": 8,
   "metadata": {},
   "outputs": [],
   "source": [
    "generate_csv_from_fasta(ss_src_pos_acc_fasta, target_pos_acc_fasta, 0)\n",
    "generate_csv_from_fasta(ss_src_pos_don_fasta, target_pos_don_fasta, 0)\n",
    "generate_csv_from_fasta(ss_src_neg_acc_fasta, target_neg_acc_fasta, 0)\n",
    "generate_csv_from_fasta(ss_src_neg_don_fasta, target_neg_don_fasta, 0)"
   ]
  }
 ],
 "metadata": {
  "interpreter": {
   "hash": "7170ee380771f2003055f3cee3e2e4dd0d81d1dac73a8c82197236b1572f37c2"
  },
  "kernelspec": {
   "display_name": "Python 3.7.9 64-bit ('sequence-processing': venv)",
   "language": "python",
   "name": "python3"
  },
  "language_info": {
   "codemirror_mode": {
    "name": "ipython",
    "version": 3
   },
   "file_extension": ".py",
   "mimetype": "text/x-python",
   "name": "python",
   "nbconvert_exporter": "python",
   "pygments_lexer": "ipython3",
   "version": "3.7.9"
  },
  "orig_nbformat": 4
 },
 "nbformat": 4,
 "nbformat_minor": 2
}
