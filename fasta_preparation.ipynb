{
 "cells": [
  {
   "cell_type": "code",
   "execution_count": 14,
   "metadata": {},
   "outputs": [
    {
     "name": "stdout",
     "output_type": "stream",
     "text": [
      "512\n"
     ]
    },
    {
     "data": {
      "text/plain": [
       "'CTTTTCCCCATTCCATGTTCATGCCTGGGGGAGGATGCTGTACAAAGACAATCATTATGGACTTCTAAAGGAAAGTTCTCAGGTTTTCTTTTCTAAGATTTGCATCAAAAAGCTGTCACCACTGGGCATTTCACCTCCAGGAGTCTCGGGAGAGACCTTGAAAGCTATAGTAACTTAAGTTCTTTTAATTTTATTCGCTGTCTTTGCTTCCGCTTAATTTCAGGGCAGGCTCATTTCTGTGGTCCTTGTCCAGTGAACCCACTAGTCGGGTATGGACGGATTCGCGCTGTACCGCCCACCTGGGGCGCCTACGAATCCTAGGCCTTTGCGTGTTGATTGAAGATCGTTTGTAGCAAGAAGCCTCGCCGCCCCTGGAGAGTCCTGTTGGCAATTGGTTCAGAGAATTGTTTTAGTATCCAATGGGAGCGGTGGGGGGAACGGCGCGGAAGAGCGCGCGGGAAAGAGACCAATATAAACTGTGGCGGGATAGTTTTCGAGTTCAGAAACTTAGC'"
      ]
     },
     "execution_count": 14,
     "metadata": {},
     "output_type": "execute_result"
    }
   ],
   "source": [
    "s = 'CTTTTCCCCATTCCATAGAATTGTTTTAGTATGGATGCTGTACAAAGAGTTCATGCCTGGGGGACTAAAGGAAAGTTCTCAAGTTCTTTTAATTTTGATTTGCATCAAAAAGTCCGCTTAATTTCAGGTTTCACCTCCAGGAGTCAATCATTATGGACTTAAAGCTATAGTAACTTTTGAAGATCGTTTGTAATTCGCTGTCTTTGCTAGGTTTTCTTTTCTAAGCAGGCTCATTTCTGTAGTTCAGAAACTTAGCACCCACTAGTCGGGTACCCCTGGAGAGTCCTGGTACCGCCCACCTGGGGCGCCTACGAATCCTAGGCCTTTGCGTGTTGATGGACGGATTCGCGCTGCAAGAAGCCTCGCCGCTGTCACCACTGGGCATTGGCAATTGGTTCAGGGGGAACGGCGCGGAACCAATGGGAGCGGTGGCTCGGGAGAGACCTTGGAGCGCGCGGGAAAGAGACCAATATAAACTGTGGCGGGATAGTTTTCGGGTCCTTGTCCAGTGA'\n",
    "print(len(s))\n",
    "\n",
    "from random import shuffle\n",
    "from data_preparation import shuffle_sequence\n",
    "\n",
    "shuffled_s = shuffle_sequence(s, 16)\n",
    "shuffled_s"
   ]
  },
  {
   "cell_type": "code",
   "execution_count": 13,
   "metadata": {},
   "outputs": [
    {
     "name": "stdout",
     "output_type": "stream",
     "text": [
      "Generating negative dataset complete.\n"
     ]
    }
   ],
   "source": [
    "from Bio import SeqIO\n",
    "from data_preparation import generate_shuffled_data\n",
    "\n",
    "epd_tata_path = './data/epd/human_tata.fasta'\n",
    "sample_tata = SeqIO.parse(epd_tata_path, 'fasta')\n",
    "epd_nontata_csv = './data/epd/human_non_tata.csv'\n",
    "\n",
    "if (generate_shuffled_data(epd_tata_path, epd_nontata_csv)):\n",
    "    print('Generating negative dataset complete.')"
   ]
  },
  {
   "cell_type": "code",
   "execution_count": 17,
   "metadata": {},
   "outputs": [],
   "source": [
    "from data_preparation import generate_csv_from_fasta\n",
    "\n",
    "ss_src_pos_acc_fasta = './data/splice-sites/splice-deep/positive_DNA_seqs_acceptor_hs.fa'\n",
    "ss_src_pos_don_fasta = './data/splice-sites/splice-deep/positive_DNA_seqs_donor_hs.fa'\n",
    "ss_src_neg_acc_fasta = './data/splice-sites/splice-deep/positive_DNA_seqs_acceptor_hs.fa'\n",
    "ss_src_neg_don_fasta = './data/splice-sites/splice-deep/positive_DNA_seqs_donor_hs.fa'\n",
    "\n",
    "target_pos_acc_fasta = './data/splice-sites/splice-deep/pos_ss_acc.csv'\n",
    "target_pos_don_fasta = './data/splice-sites/splice-deep/pos_ss_don.csv'\n",
    "target_neg_acc_fasta = './data/splice-sites/splice-deep/neg_ss_acc.csv'\n",
    "target_neg_don_fasta = './data/splice-sites/splice-deep/neg_ss_don.csv'"
   ]
  },
  {
   "cell_type": "code",
   "execution_count": 18,
   "metadata": {},
   "outputs": [],
   "source": [
    "generate_csv_from_fasta(ss_src_pos_acc_fasta, target_pos_acc_fasta, 1)\n",
    "generate_csv_from_fasta(ss_src_pos_don_fasta, target_pos_don_fasta, 1)\n",
    "generate_csv_from_fasta(ss_src_neg_acc_fasta, target_neg_acc_fasta, 0)\n",
    "generate_csv_from_fasta(ss_src_neg_don_fasta, target_neg_don_fasta, 0)"
   ]
  },
  {
   "cell_type": "code",
   "execution_count": 1,
   "metadata": {},
   "outputs": [],
   "source": [
    "from data_preparation import generate_csv_from_fasta\n",
    "\n",
    "generate_csv_from_fasta('./data/epd/human_tata.fasta', 'human_tata.csv', 1)"
   ]
  }
 ],
 "metadata": {
  "interpreter": {
   "hash": "7170ee380771f2003055f3cee3e2e4dd0d81d1dac73a8c82197236b1572f37c2"
  },
  "kernelspec": {
   "display_name": "Python 3.7.9 64-bit ('sequence-processing': venv)",
   "language": "python",
   "name": "python3"
  },
  "language_info": {
   "codemirror_mode": {
    "name": "ipython",
    "version": 3
   },
   "file_extension": ".py",
   "mimetype": "text/x-python",
   "name": "python",
   "nbconvert_exporter": "python",
   "pygments_lexer": "ipython3",
   "version": "3.7.9"
  },
  "orig_nbformat": 4
 },
 "nbformat": 4,
 "nbformat_minor": 2
}
