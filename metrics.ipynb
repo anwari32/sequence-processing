{
 "cells": [
  {
   "cell_type": "code",
   "execution_count": 1,
   "metadata": {},
   "outputs": [
    {
     "name": "stdout",
     "output_type": "stream",
     "text": [
      "{'TP': 0, 'FP': 0, 'TN': 6945, 'FN': 1389}\n",
      "{'TP': 0, 'FP': 0, 'TN': 6945, 'FN': 1389}\n",
      "{'TP': 614, 'FP': 374, 'TN': 6571, 'FN': 775}\n"
     ]
    }
   ],
   "source": [
    "import os\n",
    "from metrics import get_mtl_scores\n",
    "eval_log_path = os.path.join(\"run\", \"mtl-b256-base-20220515-163515\", \"logs\", \"eval_log.csv\")\n",
    "prom_scores, ss_scores, polya_scores = get_mtl_scores(eval_log_path, 9)\n",
    "print(prom_scores)\n",
    "print(ss_scores)\n",
    "print(polya_scores)\n"
   ]
  },
  {
   "cell_type": "code",
   "execution_count": 4,
   "metadata": {},
   "outputs": [
    {
     "name": "stdout",
     "output_type": "stream",
     "text": [
      "prom accuracy 83.33333333333334\n",
      "ss accuracy 83.33333333333334\n",
      "polya accuracy 86.21310295176386\n",
      "prom error rate 16.666666666666657\n",
      "ss error rate 16.666666666666657\n",
      "polya error rate 13.786897048236142\n"
     ]
    },
    {
     "ename": "ZeroDivisionError",
     "evalue": "float division by zero",
     "output_type": "error",
     "traceback": [
      "\u001b[1;31m---------------------------------------------------------------------------\u001b[0m",
      "\u001b[1;31mZeroDivisionError\u001b[0m                         Traceback (most recent call last)",
      "\u001b[1;32mw:\\Research\\sequence-processing\\metrics.ipynb Cell 2'\u001b[0m in \u001b[0;36m<module>\u001b[1;34m\u001b[0m\n\u001b[0;32m      <a href='vscode-notebook-cell:/w%3A/Research/sequence-processing/metrics.ipynb#ch0000001?line=7'>8</a>\u001b[0m \u001b[39mprint\u001b[39m(\u001b[39mf\u001b[39m\u001b[39m\"\u001b[39m\u001b[39mpolya error rate \u001b[39m\u001b[39m{\u001b[39;00m\u001b[39m100\u001b[39m \u001b[39m-\u001b[39m accuracy(polya_scores[\u001b[39m'\u001b[39m\u001b[39mTP\u001b[39m\u001b[39m'\u001b[39m], polya_scores[\u001b[39m'\u001b[39m\u001b[39mTN\u001b[39m\u001b[39m'\u001b[39m], polya_scores[\u001b[39m'\u001b[39m\u001b[39mFP\u001b[39m\u001b[39m'\u001b[39m], polya_scores[\u001b[39m'\u001b[39m\u001b[39mFN\u001b[39m\u001b[39m'\u001b[39m])\u001b[39m}\u001b[39;00m\u001b[39m\"\u001b[39m)\n\u001b[0;32m     <a href='vscode-notebook-cell:/w%3A/Research/sequence-processing/metrics.ipynb#ch0000001?line=9'>10</a>\u001b[0m \u001b[39m#print(f\"prom precision {precision(prom_scores['TP'], prom_scores['FP'])}\")\u001b[39;00m\n\u001b[0;32m     <a href='vscode-notebook-cell:/w%3A/Research/sequence-processing/metrics.ipynb#ch0000001?line=10'>11</a>\u001b[0m \u001b[39m#print(f\"ss precision {precision(ss_scores['TP'], ss_scores['FP'])}\")\u001b[39;00m\n\u001b[0;32m     <a href='vscode-notebook-cell:/w%3A/Research/sequence-processing/metrics.ipynb#ch0000001?line=11'>12</a>\u001b[0m \u001b[39m#print(f\"polya precision {precision(polya_scores['TP'], polya_scores['FP'])}\")\u001b[39;00m\n\u001b[1;32m---> <a href='vscode-notebook-cell:/w%3A/Research/sequence-processing/metrics.ipynb#ch0000001?line=13'>14</a>\u001b[0m \u001b[39mprint\u001b[39m(\u001b[39mf\u001b[39m\u001b[39m\"\u001b[39m\u001b[39mprom mcc \u001b[39m\u001b[39m{\u001b[39;00mmcc(prom_scores[\u001b[39m'\u001b[39m\u001b[39mTP\u001b[39m\u001b[39m'\u001b[39m], prom_scores[\u001b[39m'\u001b[39m\u001b[39mTN\u001b[39m\u001b[39m'\u001b[39m], prom_scores[\u001b[39m'\u001b[39m\u001b[39mFP\u001b[39m\u001b[39m'\u001b[39m], prom_scores[\u001b[39m'\u001b[39m\u001b[39mFN\u001b[39m\u001b[39m'\u001b[39m])\u001b[39m}\u001b[39;00m\u001b[39m\"\u001b[39m)\n\u001b[0;32m     <a href='vscode-notebook-cell:/w%3A/Research/sequence-processing/metrics.ipynb#ch0000001?line=14'>15</a>\u001b[0m \u001b[39mprint\u001b[39m(\u001b[39mf\u001b[39m\u001b[39m\"\u001b[39m\u001b[39mss mcc \u001b[39m\u001b[39m{\u001b[39;00mmcc(ss_scores[\u001b[39m'\u001b[39m\u001b[39mTP\u001b[39m\u001b[39m'\u001b[39m], ss_scores[\u001b[39m'\u001b[39m\u001b[39mTN\u001b[39m\u001b[39m'\u001b[39m], ss_scores[\u001b[39m'\u001b[39m\u001b[39mFP\u001b[39m\u001b[39m'\u001b[39m], ss_scores[\u001b[39m'\u001b[39m\u001b[39mFN\u001b[39m\u001b[39m'\u001b[39m])\u001b[39m}\u001b[39;00m\u001b[39m\"\u001b[39m)\n\u001b[0;32m     <a href='vscode-notebook-cell:/w%3A/Research/sequence-processing/metrics.ipynb#ch0000001?line=15'>16</a>\u001b[0m \u001b[39mprint\u001b[39m(\u001b[39mf\u001b[39m\u001b[39m\"\u001b[39m\u001b[39mpolya mcc \u001b[39m\u001b[39m{\u001b[39;00mmcc(polya_scores[\u001b[39m'\u001b[39m\u001b[39mTP\u001b[39m\u001b[39m'\u001b[39m], polya_scores[\u001b[39m'\u001b[39m\u001b[39mTN\u001b[39m\u001b[39m'\u001b[39m], polya_scores[\u001b[39m'\u001b[39m\u001b[39mFP\u001b[39m\u001b[39m'\u001b[39m], polya_scores[\u001b[39m'\u001b[39m\u001b[39mFN\u001b[39m\u001b[39m'\u001b[39m])\u001b[39m}\u001b[39;00m\u001b[39m\"\u001b[39m)\n",
      "File \u001b[1;32mw:\\Research\\sequence-processing\\metrics.py:96\u001b[0m, in \u001b[0;36mmcc\u001b[1;34m(tp, tn, fp, fn)\u001b[0m\n\u001b[0;32m     <a href='file:///w%3A/Research/sequence-processing/metrics.py?line=91'>92</a>\u001b[0m \u001b[39mdef\u001b[39;00m \u001b[39mmcc\u001b[39m(tp, tn, fp, fn):\n\u001b[0;32m     <a href='file:///w%3A/Research/sequence-processing/metrics.py?line=92'>93</a>\u001b[0m     \u001b[39m\"\"\"\u001b[39;00m\n\u001b[0;32m     <a href='file:///w%3A/Research/sequence-processing/metrics.py?line=93'>94</a>\u001b[0m \u001b[39m    Calculates MCC score.\u001b[39;00m\n\u001b[0;32m     <a href='file:///w%3A/Research/sequence-processing/metrics.py?line=94'>95</a>\u001b[0m \u001b[39m    \"\"\"\u001b[39;00m\n\u001b[1;32m---> <a href='file:///w%3A/Research/sequence-processing/metrics.py?line=95'>96</a>\u001b[0m     \u001b[39mreturn\u001b[39;00m ((tp \u001b[39m*\u001b[39;49m tn) \u001b[39m-\u001b[39;49m (fp \u001b[39m*\u001b[39;49m fn)) \u001b[39m/\u001b[39;49m sqrt((tp \u001b[39m+\u001b[39;49m fp) \u001b[39m*\u001b[39;49m (tp \u001b[39m+\u001b[39;49m fn) \u001b[39m*\u001b[39;49m (tn \u001b[39m+\u001b[39;49m fp) \u001b[39m*\u001b[39;49m (tn \u001b[39m+\u001b[39;49m fn))\n",
      "\u001b[1;31mZeroDivisionError\u001b[0m: float division by zero"
     ]
    }
   ],
   "source": [
    "from metrics import accuracy, error_rate, precision, sensitivity, specificity, mcc\n",
    "print(f\"prom accuracy {accuracy(prom_scores['TP'], prom_scores['TN'], prom_scores['FP'], prom_scores['FN'])}\")\n",
    "print(f\"ss accuracy {accuracy(ss_scores['TP'], ss_scores['TN'], ss_scores['FP'], ss_scores['FN'])}\")\n",
    "print(f\"polya accuracy {accuracy(polya_scores['TP'], polya_scores['TN'], polya_scores['FP'], polya_scores['FN'])}\")\n",
    "\n",
    "print(f\"prom error rate {100 - accuracy(prom_scores['TP'], prom_scores['TN'], prom_scores['FP'], prom_scores['FN'])}\")\n",
    "print(f\"ss error rate {100 - accuracy(ss_scores['TP'], ss_scores['TN'], ss_scores['FP'], ss_scores['FN'])}\")\n",
    "print(f\"polya error rate {100 - accuracy(polya_scores['TP'], polya_scores['TN'], polya_scores['FP'], polya_scores['FN'])}\")\n",
    "\n",
    "#print(f\"prom precision {precision(prom_scores['TP'], prom_scores['FP'])}\")\n",
    "#print(f\"ss precision {precision(ss_scores['TP'], ss_scores['FP'])}\")\n",
    "#print(f\"polya precision {precision(polya_scores['TP'], polya_scores['FP'])}\")\n",
    "\n",
    "print(f\"prom mcc {mcc(prom_scores['TP'], prom_scores['TN'], prom_scores['FP'], prom_scores['FN'])}\")\n",
    "print(f\"ss mcc {mcc(ss_scores['TP'], ss_scores['TN'], ss_scores['FP'], ss_scores['FN'])}\")\n",
    "print(f\"polya mcc {mcc(polya_scores['TP'], polya_scores['TN'], polya_scores['FP'], polya_scores['FN'])}\")"
   ]
  }
 ],
 "metadata": {
  "interpreter": {
   "hash": "1bcc05615a70b396b2914747c544672e77157727153b1cb6572b3ac9e1c1c348"
  },
  "kernelspec": {
   "display_name": "Python 3.9.1 64-bit ('sequence-processing-py39': venv)",
   "language": "python",
   "name": "python3"
  },
  "language_info": {
   "codemirror_mode": {
    "name": "ipython",
    "version": 3
   },
   "file_extension": ".py",
   "mimetype": "text/x-python",
   "name": "python",
   "nbconvert_exporter": "python",
   "pygments_lexer": "ipython3",
   "version": "3.9.1"
  },
  "orig_nbformat": 4
 },
 "nbformat": 4,
 "nbformat_minor": 2
}
