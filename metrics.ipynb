{
 "cells": [
  {
   "cell_type": "code",
   "execution_count": 2,
   "metadata": {},
   "outputs": [
    {
     "name": "stdout",
     "output_type": "stream",
     "text": [
      "{'TP': 0, 'FP': 0, 'TN': 6945, 'FN': 1389}\n",
      "{'TP': 0, 'FP': 0, 'TN': 6945, 'FN': 1389}\n",
      "{'TP': 655, 'FP': 387, 'TN': 6558, 'FN': 734}\n"
     ]
    }
   ],
   "source": [
    "import os\n",
    "from metrics import get_mtl_scores\n",
    "# eval_log_path = os.path.join(\"run\", \"mtl-b256-base-20220515-163515\", \"logs\", \"eval_log.csv\")\n",
    "eval_log_path = os.path.join(\"run\", \"mtl-b256-base-20220515-085543\", \"logs\", \"eval_log.csv\")\n",
    "\n",
    "prom_scores, ss_scores, polya_scores = get_mtl_scores(eval_log_path, 9)\n",
    "print(prom_scores)\n",
    "print(ss_scores)\n",
    "print(polya_scores)\n"
   ]
  },
  {
   "cell_type": "code",
   "execution_count": 6,
   "metadata": {},
   "outputs": [
    {
     "name": "stdout",
     "output_type": "stream",
     "text": [
      "polya accuracy 86.21310295176386\n",
      "polya error rate 13.786897048236142\n",
      "polya precision 62.145748987854255\n",
      "polya mcc 0.44753906622595746\n"
     ]
    }
   ],
   "source": [
    "from metrics import accuracy, error_rate, precision, sensitivity, specificity, mcc\n",
    "#print(f\"prom accuracy {accuracy(prom_scores['TP'], prom_scores['TN'], prom_scores['FP'], prom_scores['FN'])}\")\n",
    "#print(f\"ss accuracy {accuracy(ss_scores['TP'], ss_scores['TN'], ss_scores['FP'], ss_scores['FN'])}\")\n",
    "print(f\"polya accuracy {accuracy(polya_scores['TP'], polya_scores['TN'], polya_scores['FP'], polya_scores['FN'])}\")\n",
    "\n",
    "#print(f\"prom error rate {100 - accuracy(prom_scores['TP'], prom_scores['TN'], prom_scores['FP'], prom_scores['FN'])}\")\n",
    "#print(f\"ss error rate {100 - accuracy(ss_scores['TP'], ss_scores['TN'], ss_scores['FP'], ss_scores['FN'])}\")\n",
    "print(f\"polya error rate {100 - accuracy(polya_scores['TP'], polya_scores['TN'], polya_scores['FP'], polya_scores['FN'])}\")\n",
    "\n",
    "#print(f\"prom precision {precision(prom_scores['TP'], prom_scores['FP'])}\")\n",
    "#print(f\"ss precision {precision(ss_scores['TP'], ss_scores['FP'])}\")\n",
    "print(f\"polya precision {precision(polya_scores['TP'], polya_scores['FP'])}\")\n",
    "\n",
    "#print(f\"prom mcc {mcc(prom_scores['TP'], prom_scores['TN'], prom_scores['FP'], prom_scores['FN'])}\")\n",
    "#print(f\"ss mcc {mcc(ss_scores['TP'], ss_scores['TN'], ss_scores['FP'], ss_scores['FN'])}\")\n",
    "print(f\"polya mcc {mcc(polya_scores['TP'], polya_scores['TN'], polya_scores['FP'], polya_scores['FN'])}\")"
   ]
  }
 ],
 "metadata": {
  "interpreter": {
   "hash": "14ae8cb2141f3f34f4e0523006ff2d6cb0f7956c0f094e5497e312072e4d0d3c"
  },
  "kernelspec": {
   "display_name": "Python 3.7.9 64-bit",
   "language": "python",
   "name": "python3"
  },
  "language_info": {
   "codemirror_mode": {
    "name": "ipython",
    "version": 3
   },
   "file_extension": ".py",
   "mimetype": "text/x-python",
   "name": "python",
   "nbconvert_exporter": "python",
   "pygments_lexer": "ipython3",
   "version": "3.7.9"
  },
  "orig_nbformat": 4
 },
 "nbformat": 4,
 "nbformat_minor": 2
}
