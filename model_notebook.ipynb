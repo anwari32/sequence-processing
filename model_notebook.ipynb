{
 "cells": [
  {
   "cell_type": "code",
   "execution_count": 14,
   "metadata": {},
   "outputs": [
    {
     "name": "stderr",
     "output_type": "stream",
     "text": [
      "Some weights of the model checkpoint at ..\\pretrained\\3-new-12w-0 were not used when initializing DNABertForSequenceClassification: ['cls.predictions.transform.LayerNorm.bias', 'cls.predictions.transform.dense.weight', 'cls.predictions.decoder.weight', 'cls.predictions.bias', 'cls.predictions.decoder.bias', 'cls.predictions.transform.dense.bias', 'cls.predictions.transform.LayerNorm.weight']\n",
      "- This IS expected if you are initializing DNABertForSequenceClassification from the checkpoint of a model trained on another task or with another architecture (e.g. initializing a BertForSequenceClassification model from a BertForPreTraining model).\n",
      "- This IS NOT expected if you are initializing DNABertForSequenceClassification from the checkpoint of a model that you expect to be exactly identical (initializing a BertForSequenceClassification model from a BertForSequenceClassification model).\n",
      "Some weights of DNABertForSequenceClassification were not initialized from the model checkpoint at ..\\pretrained\\3-new-12w-0 and are newly initialized: ['classifier.weight', 'classifier.bias']\n",
      "You should probably TRAIN this model on a down-stream task to be able to use it for predictions and inference.\n"
     ]
    },
    {
     "name": "stdout",
     "output_type": "stream",
     "text": [
      "tensor([[ 2,  5,  8, 17, 55, 14, 41, 24,  3]]) tensor([[1, 1, 1, 1, 1, 1, 1, 1, 1]])\n",
      "tensor([[ 0.0109, -0.1443, -0.3833]], grad_fn=<AddmmBackward0>)\n"
     ]
    }
   ],
   "source": [
    "from seqclass import DNABertForSequenceClassification\n",
    "from transformers import BertTokenizer\n",
    "import json\n",
    "import os\n",
    "\n",
    "pretrained_path = os.path.join(\"..\", \"pretrained\", \"3-new-12w-0\")\n",
    "model = DNABertForSequenceClassification.from_pretrained(\n",
    "    pretrained_path,\n",
    "    num_labels = 3\n",
    ")\n",
    "tokenizer = BertTokenizer.from_pretrained(pretrained_path)\n",
    "input_tokens = \"AAA AAG AGA GAC ACT CTA TAG\"\n",
    "encoded = tokenizer.encode_plus(input_tokens, return_tensors=\"pt\")\n",
    "input_ids = encoded.get(\"input_ids\")\n",
    "attention_mask = encoded.get(\"attention_mask\")\n",
    "print(input_ids, attention_mask)\n",
    "\n",
    "output = model(input_ids, attention_mask)\n",
    "print(output.logits)\n",
    "\n"
   ]
  },
  {
   "cell_type": "code",
   "execution_count": 6,
   "metadata": {},
   "outputs": [
    {
     "name": "stderr",
     "output_type": "stream",
     "text": [
      "Some weights of the model checkpoint at pretrained\\3-new-12w-0 were not used when initializing DNABertForTokenClassification: ['cls.predictions.transform.LayerNorm.weight', 'cls.predictions.transform.dense.bias', 'cls.predictions.bias', 'cls.predictions.decoder.bias', 'cls.predictions.transform.dense.weight', 'cls.predictions.decoder.weight', 'cls.predictions.transform.LayerNorm.bias']\n",
      "- This IS expected if you are initializing DNABertForTokenClassification from the checkpoint of a model trained on another task or with another architecture (e.g. initializing a BertForSequenceClassification model from a BertForPreTraining model).\n",
      "- This IS NOT expected if you are initializing DNABertForTokenClassification from the checkpoint of a model that you expect to be exactly identical (initializing a BertForSequenceClassification model from a BertForSequenceClassification model).\n",
      "Some weights of DNABertForTokenClassification were not initialized from the model checkpoint at pretrained\\3-new-12w-0 and are newly initialized: ['classifier.weight', 'classifier.bias']\n",
      "You should probably TRAIN this model on a down-stream task to be able to use it for predictions and inference.\n"
     ]
    },
    {
     "data": {
      "text/plain": [
       "BertConfig {\n",
       "  \"_name_or_path\": \"pretrained\\\\3-new-12w-0\",\n",
       "  \"architectures\": [\n",
       "    \"BertForMaskedLM\"\n",
       "  ],\n",
       "  \"attention_probs_dropout_prob\": 0.1,\n",
       "  \"bos_token_id\": 0,\n",
       "  \"classifier_dropout\": null,\n",
       "  \"eos_token_ids\": 0,\n",
       "  \"hidden_act\": \"gelu\",\n",
       "  \"hidden_dropout_prob\": 0.1,\n",
       "  \"hidden_size\": 768,\n",
       "  \"id2label\": {\n",
       "    \"-100\": \"[CLS]/[SEP]/[III]\",\n",
       "    \"0\": \"iii\",\n",
       "    \"1\": \"iiE\",\n",
       "    \"2\": \"iEi\",\n",
       "    \"3\": \"Eii\",\n",
       "    \"4\": \"iEE\",\n",
       "    \"5\": \"EEi\",\n",
       "    \"6\": \"EiE\",\n",
       "    \"7\": \"EEE\"\n",
       "  },\n",
       "  \"initializer_range\": 0.02,\n",
       "  \"intermediate_size\": 3072,\n",
       "  \"label2id\": {\n",
       "    \"EEE\": 7,\n",
       "    \"EEi\": 5,\n",
       "    \"EiE\": 6,\n",
       "    \"Eii\": 3,\n",
       "    \"III\": -100,\n",
       "    \"[CLS]\": -100,\n",
       "    \"[PAD]\": -100,\n",
       "    \"[SEP]\": -100,\n",
       "    \"iEE\": 4,\n",
       "    \"iEi\": 2,\n",
       "    \"iiE\": 1,\n",
       "    \"iii\": 0\n",
       "  },\n",
       "  \"layer_norm_eps\": 1e-12,\n",
       "  \"max_position_embeddings\": 512,\n",
       "  \"model_type\": \"bert\",\n",
       "  \"num_attention_heads\": 12,\n",
       "  \"num_hidden_layers\": 12,\n",
       "  \"num_rnn_layer\": 1,\n",
       "  \"output_attentions\": true,\n",
       "  \"output_hidden_states\": true,\n",
       "  \"output_past\": true,\n",
       "  \"pad_token_id\": 0,\n",
       "  \"position_embedding_type\": \"absolute\",\n",
       "  \"rnn\": \"lstm\",\n",
       "  \"rnn_dropout\": 0.0,\n",
       "  \"rnn_hidden\": 768,\n",
       "  \"split\": 10,\n",
       "  \"transformers_version\": \"4.15.0\",\n",
       "  \"type_vocab_size\": 2,\n",
       "  \"use_cache\": true,\n",
       "  \"vocab_size\": 69\n",
       "}"
      ]
     },
     "execution_count": 6,
     "metadata": {},
     "output_type": "execute_result"
    }
   ],
   "source": [
    "from transformers import BertConfig\n",
    "import os\n",
    "from models.seqlab import DNABertForTokenClassification\n",
    "from utils.seqlab import Index_Dictionary, Label_Dictionary\n",
    "\n",
    "pretrained_path = os.path.join(\"pretrained\", \"3-new-12w-0\")\n",
    "seqlab = DNABertForTokenClassification.from_pretrained(\n",
    "    pretrained_path,\n",
    "    num_labels = 8,\n",
    "    id2label = Index_Dictionary,\n",
    "    label2id = Label_Dictionary)\n",
    "\n",
    "seqlab.config\n"
   ]
  }
 ],
 "metadata": {
  "kernelspec": {
   "display_name": "Python 3.7.9 ('sequence-processing')",
   "language": "python",
   "name": "python3"
  },
  "language_info": {
   "codemirror_mode": {
    "name": "ipython",
    "version": 3
   },
   "file_extension": ".py",
   "mimetype": "text/x-python",
   "name": "python",
   "nbconvert_exporter": "python",
   "pygments_lexer": "ipython3",
   "version": "3.7.9"
  },
  "orig_nbformat": 4,
  "vscode": {
   "interpreter": {
    "hash": "14ae8cb2141f3f34f4e0523006ff2d6cb0f7956c0f094e5497e312072e4d0d3c"
   }
  }
 },
 "nbformat": 4,
 "nbformat_minor": 2
}
