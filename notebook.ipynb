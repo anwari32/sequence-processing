{
 "cells": [
  {
   "cell_type": "code",
   "execution_count": 1,
   "metadata": {},
   "outputs": [],
   "source": [
    "def split_csv(src_csv, n_row, target_dir, prefix='part'):\n",
    "    \"\"\"\n",
    "    Splice `src_csv` into several smaller csv. Each csv contains `n_row` except for the last csv.\n",
    "    This implementation uses `pandas`.\n",
    "    @param      src_csv (string): source path.\n",
    "    @param      n_row (int): how many row for each csv part.\n",
    "    @param      target_dir (string): path directory to store all file parts.\n",
    "    @return     (boolean): True if success\n",
    "    \"\"\"\n",
    "    import os\n",
    "    import pandas as pd\n",
    "    from tqdm import tqdm\n",
    "    if n_row <= 0:\n",
    "        return False\n",
    "    if not os.path.exists(src_csv):\n",
    "        raise FileNotFoundError()\n",
    "    if not os.path.exists(target_dir):\n",
    "        os.makedirs(target_dir)\n",
    "    _counter = 0\n",
    "    _part_counter = 0\n",
    "    df = pd.read_csv(src_csv)\n",
    "    _length = len(df)\n",
    "    _columns = df.columns.tolist()\n",
    "    temp_df = pd.DataFrame(columns=_columns)\n",
    "    for i, r in tqdm(df.iterrows(), total=df.shape[0]):\n",
    "        _counter += 1\n",
    "        temp_df = pd.concat([temp_df, r])\n",
    "        if _counter % n_row == 0:\n",
    "            _part = _counter / n_row\n",
    "            _part_counter += 1\n",
    "            _path = \"{}/{}_{}.csv\".format(target_dir, prefix, _part)\n",
    "            temp_df.to_csv(_path, index=False)\n",
    "            temp_df = pd.DataFrame(columns=_columns) # Reinitialize temp dataframe.\n",
    "        else:\n",
    "            # Reach the last element.\n",
    "            if _counter == _length:\n",
    "                _part_counter += 1\n",
    "                temp_df.to_csv(\"{}/{}_{}.csv\".format(target_dir, prefix, _part_counter))\n",
    "    #endfor\n",
    "    return True\n",
    "\n"
   ]
  },
  {
   "cell_type": "code",
   "execution_count": 3,
   "metadata": {},
   "outputs": [
    {
     "name": "stderr",
     "output_type": "stream",
     "text": [
      "  7%|▋         | 749999/10234978 [15:28:22<346:18:23,  7.61it/s] "
     ]
    }
   ],
   "source": [
    "from data_dir import workspace_dir\n",
    "parts_dir = \"{}/parts\".format(workspace_dir)\n",
    "src_csv = \"{}/train.csv\".format(workspace_dir)\n",
    "print(\"Splitting data {}: {}\".format(src_csv, split_csv(src_csv, 750000, parts_dir)))"
   ]
  }
 ],
 "metadata": {
  "interpreter": {
   "hash": "473c7453bcb969eece5b07ef8b7f234e7c84010927f6bebce35f0aeb1f8c121e"
  },
  "kernelspec": {
   "display_name": "Python 3.9.1 64-bit ('sequence-processing-py39': venv)",
   "language": "python",
   "name": "python3"
  },
  "language_info": {
   "codemirror_mode": {
    "name": "ipython",
    "version": 3
   },
   "file_extension": ".py",
   "mimetype": "text/x-python",
   "name": "python",
   "nbconvert_exporter": "python",
   "pygments_lexer": "ipython3",
   "version": "3.9.1"
  },
  "orig_nbformat": 4
 },
 "nbformat": 4,
 "nbformat_minor": 2
}
