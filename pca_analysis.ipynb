{
 "cells": [
  {
   "cell_type": "code",
   "execution_count": 2,
   "metadata": {},
   "outputs": [
    {
     "name": "stderr",
     "output_type": "stream",
     "text": [
      "c:\\.virtualenv\\deep-learning\\lib\\site-packages\\tqdm\\auto.py:22: TqdmWarning: IProgress not found. Please update jupyter and ipywidgets. See https://ipywidgets.readthedocs.io/en/stable/user_install.html\n",
      "  from .autonotebook import tqdm as notebook_tqdm\n",
      "Preparing Data test: 100%|██████████| 6961/6961 [00:53<00:00, 130.01it/s]\n"
     ]
    }
   ],
   "source": [
    "import torch \n",
    "import os\n",
    "from utils.seqlab import preprocessing_kmer\n",
    "from transformers import BertTokenizer\n",
    "from tqdm import tqdm\n",
    "\n",
    "device = \"cuda:0\"\n",
    "tokenizer = BertTokenizer.from_pretrained(os.path.join(\"pretrained\", \"3-new-12w-0\"))\n",
    "test_file = os.path.join(\"workspace\", \"seqlab-latest\", \"test.csv\")\n",
    "batch_size = 8\n",
    "test_dataloader = preprocessing_kmer(test_file, tokenizer, batch_size)\n",
    "test_size = len(test_dataloader)\n"
   ]
  },
  {
   "cell_type": "code",
   "execution_count": 1,
   "metadata": {},
   "outputs": [
    {
     "name": "stderr",
     "output_type": "stream",
     "text": [
      "Some weights of the model checkpoint at pretrained\\3-new-12w-0 were not used when initializing DNABERT_SL: ['cls.predictions.transform.dense.bias', 'cls.predictions.bias', 'cls.predictions.transform.LayerNorm.bias', 'cls.predictions.transform.LayerNorm.weight', 'cls.predictions.decoder.bias', 'cls.predictions.transform.dense.weight', 'bert.pooler.dense.bias', 'cls.predictions.decoder.weight', 'bert.pooler.dense.weight']\n",
      "- This IS expected if you are initializing DNABERT_SL from the checkpoint of a model trained on another task or with another architecture (e.g. initializing a BertForSequenceClassification model from a BertForPreTraining model).\n",
      "- This IS NOT expected if you are initializing DNABERT_SL from the checkpoint of a model that you expect to be exactly identical (initializing a BertForSequenceClassification model from a BertForSequenceClassification model).\n",
      "Some weights of DNABERT_SL were not initialized from the model checkpoint at pretrained\\3-new-12w-0 and are newly initialized: ['head.classifier.bias', 'head.linear.hidden-block-0.linear.weight', 'head.linear.hidden-block-0.linear.bias', 'head.classifier.weight']\n",
      "You should probably TRAIN this model on a down-stream task to be able to use it for predictions and inference.\n"
     ]
    }
   ],
   "source": [
    "# somehow I do PCA analysis.\n",
    "from models import seqlab, pretrained\n",
    "from transformers import BertForMaskedLM, BertTokenizer\n",
    "import os\n",
    "import json\n",
    "import torch\n",
    "\n",
    "save_pretrained_model_path = os.path.join(\"pretrained\", \"dnabert-sl-lin1\")\n",
    "model_config_path = os.path.join(\"models\", \"config\", \"seqlab\", \"base.lin1.json\")\n",
    "pretrained_path = os.path.join(\"pretrained\", \"3-new-12w-0\")\n",
    "tokenizer = BertTokenizer.from_pretrained(pretrained_path)\n",
    "m = seqlab.DNABERT_SL(\n",
    "    BertForMaskedLM.from_pretrained(pretrained_path).bert,\n",
    "    json.load(open(model_config_path, \"r\"))\n",
    ")\n",
    "n = pretrained.DNABERT_SL.from_pretrained(\n",
    "    pretrained_path,\n",
    "    json.load(open(model_config_path, \"r\"))\n",
    ")\n",
    "checkpoint = torch.load(\n",
    "    os.path.join(\"run\", \"latest\", \"latest\", \"checkpoint.pth\"), \n",
    "    map_location=\"cuda:0\") # force to cuda:0 device\n",
    "m.load_state_dict(checkpoint.get(\"model\"))\n",
    "n.load_state_dict(checkpoint.get(\"model\"))\n",
    "n.save_pretrained(save_pretrained_model_path)"
   ]
  },
  {
   "cell_type": "code",
   "execution_count": 12,
   "metadata": {},
   "outputs": [
    {
     "data": {
      "text/plain": [
       "2"
      ]
     },
     "execution_count": 12,
     "metadata": {},
     "output_type": "execute_result"
    }
   ],
   "source": [
    "tokenizer.cls_token_id"
   ]
  },
  {
   "cell_type": "code",
   "execution_count": 2,
   "metadata": {},
   "outputs": [
    {
     "name": "stderr",
     "output_type": "stream",
     "text": [
      "Testing: 100%|██████████| 45/45 [01:01<00:00,  1.36s/it]\n"
     ]
    },
    {
     "data": {
      "text/html": [
       "<div>\n",
       "<style scoped>\n",
       "    .dataframe tbody tr th:only-of-type {\n",
       "        vertical-align: middle;\n",
       "    }\n",
       "\n",
       "    .dataframe tbody tr th {\n",
       "        vertical-align: top;\n",
       "    }\n",
       "\n",
       "    .dataframe thead th {\n",
       "        text-align: right;\n",
       "    }\n",
       "</style>\n",
       "<table border=\"1\" class=\"dataframe\">\n",
       "  <thead>\n",
       "    <tr style=\"text-align: right;\">\n",
       "      <th></th>\n",
       "      <th>token_id</th>\n",
       "      <th>prediction_id</th>\n",
       "      <th>target_id</th>\n",
       "      <th>bert_value</th>\n",
       "    </tr>\n",
       "  </thead>\n",
       "  <tbody>\n",
       "    <tr>\n",
       "      <th>0</th>\n",
       "      <td>2</td>\n",
       "      <td>0</td>\n",
       "      <td>-100</td>\n",
       "      <td>0.8319421410560608 1.663792371749878 -0.938970...</td>\n",
       "    </tr>\n",
       "    <tr>\n",
       "      <th>1</th>\n",
       "      <td>45</td>\n",
       "      <td>0</td>\n",
       "      <td>0</td>\n",
       "      <td>0.304279088973999 1.5116431713104248 -0.623651...</td>\n",
       "    </tr>\n",
       "    <tr>\n",
       "      <th>2</th>\n",
       "      <td>37</td>\n",
       "      <td>0</td>\n",
       "      <td>0</td>\n",
       "      <td>0.3083809018135071 1.3372265100479126 -1.03914...</td>\n",
       "    </tr>\n",
       "    <tr>\n",
       "      <th>3</th>\n",
       "      <td>8</td>\n",
       "      <td>0</td>\n",
       "      <td>0</td>\n",
       "      <td>0.37082692980766296 1.034065842628479 -0.66065...</td>\n",
       "    </tr>\n",
       "    <tr>\n",
       "      <th>4</th>\n",
       "      <td>20</td>\n",
       "      <td>0</td>\n",
       "      <td>0</td>\n",
       "      <td>0.07689828425645828 1.4326666593551636 -0.0830...</td>\n",
       "    </tr>\n",
       "  </tbody>\n",
       "</table>\n",
       "</div>"
      ],
      "text/plain": [
       "   token_id  prediction_id  target_id  \\\n",
       "0         2              0       -100   \n",
       "1        45              0          0   \n",
       "2        37              0          0   \n",
       "3         8              0          0   \n",
       "4        20              0          0   \n",
       "\n",
       "                                          bert_value  \n",
       "0  0.8319421410560608 1.663792371749878 -0.938970...  \n",
       "1  0.304279088973999 1.5116431713104248 -0.623651...  \n",
       "2  0.3083809018135071 1.3372265100479126 -1.03914...  \n",
       "3  0.37082692980766296 1.034065842628479 -0.66065...  \n",
       "4  0.07689828425645828 1.4326666593551636 -0.0830...  "
      ]
     },
     "execution_count": 2,
     "metadata": {},
     "output_type": "execute_result"
    }
   ],
   "source": [
    "# get all token predictions and their corresponding bert value.\n",
    "\n",
    "from utils.seqlab import id2label\n",
    "import pandas as pd\n",
    "import torch \n",
    "import os\n",
    "from utils.seqlab import preprocessing_kmer\n",
    "from transformers import BertTokenizer\n",
    "from tqdm import tqdm\n",
    "\n",
    "device = \"cuda:0\"\n",
    "tokenizer = BertTokenizer.from_pretrained(os.path.join(\"pretrained\", \"3-new-12w-0\"))\n",
    "test_log = os.path.join(\"prediction\", \"log\", \"prediction_log_complete.csv\")\n",
    "df = pd.read_csv(test_log)\n",
    "all_correct_df = df[df[\"avg_f1_score\"] == 1]\n",
    "path = os.path.join(\"prediction\", \"log\", \"avg_f1_1.csv\")\n",
    "all_correct_df.to_csv(path, index=False)\n",
    "\n",
    "m.eval()\n",
    "m.to(device)\n",
    "arr_token_ids, arr_target_ids, arr_bert_outputs, arr_prediction_ids = [], [], [], []\n",
    "tokens, target_tokens = [], []\n",
    "for step, row in tqdm(all_correct_df.iterrows(), total=all_correct_df.shape[0], desc=\"Testing\"):\n",
    "    # input_ids, attn_mask, token_type_ids, target_labels = tuple(t.to(device) for t in batch)\n",
    "    input_ids = [int(a) for a in row[\"input_ids\"].split(\" \")]\n",
    "    input_ids = [tokenizer.cls_token_id] + input_ids + [tokenizer.sep_token_id]\n",
    "    b_input_ids = torch.tensor([input_ids]).to(device)\n",
    "    attn_mask = [0 for a in range(len(b_input_ids))]\n",
    "    b_attn_mask = torch.tensor([attn_mask]).to(device)\n",
    "    target_ids = [int(a) for a in row[\"target_ids\"].split(\" \")]\n",
    "    target_ids = [-100] + target_ids + [-100]\n",
    "    b_target_ids = torch.tensor([target_ids]).to(device)\n",
    "    with torch.no_grad():\n",
    "        b_out, b_out_bert, b_out_head = m(b_input_ids, b_attn_mask)\n",
    "        for input_ids, target_ids, bert, out in zip(b_input_ids, b_target_ids, b_out_bert, b_out):\n",
    "            pred_ids = torch.argmax(out, 1)\n",
    "            for i, j, k, p in zip(input_ids, target_ids, bert, pred_ids):\n",
    "                arr_token_ids.append(i.item())\n",
    "                arr_target_ids.append(j.item())\n",
    "                arr_prediction_ids.append(p.item())\n",
    "                arr_bert_outputs.append(\" \".join([str(a) for a in k.tolist()]))\n",
    "\n",
    "df = pd.DataFrame(data={\n",
    "    \"token_id\": arr_token_ids,\n",
    "    \"prediction_id\": arr_prediction_ids,\n",
    "    \"target_id\": arr_target_ids,\n",
    "    \"bert_value\": arr_bert_outputs\n",
    "})\n",
    "df.head(5)"
   ]
  },
  {
   "cell_type": "code",
   "execution_count": 3,
   "metadata": {},
   "outputs": [
    {
     "name": "stdout",
     "output_type": "stream",
     "text": [
      "all (23040, 4)\n",
      "special token prediction (90, 4)\n",
      "clean prediction (22950, 4)\n",
      "all clear prediction (22950, 4)\n"
     ]
    },
    {
     "data": {
      "text/plain": [
       "array([0, 1, 4, 7, 5, 3], dtype=int64)"
      ]
     },
     "execution_count": 3,
     "metadata": {},
     "output_type": "execute_result"
    }
   ],
   "source": [
    "print(f\"all {df.shape}\")\n",
    "special_pred_df = df[df[\"target_id\"] < 0]\n",
    "print(f\"special token prediction {special_pred_df.shape}\")\n",
    "clean_df = df[df[\"target_id\"] >= 0]\n",
    "print(f\"clean prediction {clean_df.shape}\")\n",
    "all_clear_df = clean_df[clean_df[\"prediction_id\"] == clean_df[\"target_id\"]]\n",
    "print(f\"all clear prediction {all_clear_df.shape}\")\n",
    "all_clear_df[\"prediction_id\"].unique()\n"
   ]
  },
  {
   "cell_type": "code",
   "execution_count": 4,
   "metadata": {},
   "outputs": [
    {
     "name": "stdout",
     "output_type": "stream",
     "text": [
      "(23040, 768)\n"
     ]
    },
    {
     "data": {
      "text/html": [
       "<div>\n",
       "<style scoped>\n",
       "    .dataframe tbody tr th:only-of-type {\n",
       "        vertical-align: middle;\n",
       "    }\n",
       "\n",
       "    .dataframe tbody tr th {\n",
       "        vertical-align: top;\n",
       "    }\n",
       "\n",
       "    .dataframe thead th {\n",
       "        text-align: right;\n",
       "    }\n",
       "</style>\n",
       "<table border=\"1\" class=\"dataframe\">\n",
       "  <thead>\n",
       "    <tr style=\"text-align: right;\">\n",
       "      <th></th>\n",
       "      <th>feature-0</th>\n",
       "      <th>feature-1</th>\n",
       "      <th>feature-2</th>\n",
       "      <th>feature-3</th>\n",
       "      <th>feature-4</th>\n",
       "      <th>feature-5</th>\n",
       "      <th>feature-6</th>\n",
       "      <th>feature-7</th>\n",
       "      <th>feature-8</th>\n",
       "      <th>feature-9</th>\n",
       "      <th>...</th>\n",
       "      <th>feature-758</th>\n",
       "      <th>feature-759</th>\n",
       "      <th>feature-760</th>\n",
       "      <th>feature-761</th>\n",
       "      <th>feature-762</th>\n",
       "      <th>feature-763</th>\n",
       "      <th>feature-764</th>\n",
       "      <th>feature-765</th>\n",
       "      <th>feature-766</th>\n",
       "      <th>feature-767</th>\n",
       "    </tr>\n",
       "  </thead>\n",
       "  <tbody>\n",
       "    <tr>\n",
       "      <th>0</th>\n",
       "      <td>0.8319421410560608</td>\n",
       "      <td>1.663792371749878</td>\n",
       "      <td>-0.938970148563385</td>\n",
       "      <td>1.52774178981781</td>\n",
       "      <td>0.9459241032600403</td>\n",
       "      <td>-0.8467956185340881</td>\n",
       "      <td>-1.2615801095962524</td>\n",
       "      <td>-1.08918035030365</td>\n",
       "      <td>-0.6464066505432129</td>\n",
       "      <td>0.029933014884591103</td>\n",
       "      <td>...</td>\n",
       "      <td>1.7318533658981323</td>\n",
       "      <td>-0.030127957463264465</td>\n",
       "      <td>1.2412145137786865</td>\n",
       "      <td>-1.4076619148254395</td>\n",
       "      <td>-0.4426130950450897</td>\n",
       "      <td>-0.3106485605239868</td>\n",
       "      <td>0.4021283984184265</td>\n",
       "      <td>-1.595903992652893</td>\n",
       "      <td>0.33699753880500793</td>\n",
       "      <td>-0.012605451047420502</td>\n",
       "    </tr>\n",
       "    <tr>\n",
       "      <th>1</th>\n",
       "      <td>0.304279088973999</td>\n",
       "      <td>1.5116431713104248</td>\n",
       "      <td>-0.6236518025398254</td>\n",
       "      <td>1.331417441368103</td>\n",
       "      <td>0.9176082015037537</td>\n",
       "      <td>-0.5812518000602722</td>\n",
       "      <td>-1.3384363651275635</td>\n",
       "      <td>-1.1388977766036987</td>\n",
       "      <td>-1.5663477182388306</td>\n",
       "      <td>-0.2642268240451813</td>\n",
       "      <td>...</td>\n",
       "      <td>1.5182241201400757</td>\n",
       "      <td>-0.10070624202489853</td>\n",
       "      <td>1.5866979360580444</td>\n",
       "      <td>-1.0598236322402954</td>\n",
       "      <td>-0.29061949253082275</td>\n",
       "      <td>-0.19450126588344574</td>\n",
       "      <td>-0.18322746455669403</td>\n",
       "      <td>-1.4730931520462036</td>\n",
       "      <td>0.31481635570526123</td>\n",
       "      <td>-0.08494318276643753</td>\n",
       "    </tr>\n",
       "  </tbody>\n",
       "</table>\n",
       "<p>2 rows × 768 columns</p>\n",
       "</div>"
      ],
      "text/plain": [
       "            feature-0           feature-1            feature-2  \\\n",
       "0  0.8319421410560608   1.663792371749878   -0.938970148563385   \n",
       "1   0.304279088973999  1.5116431713104248  -0.6236518025398254   \n",
       "\n",
       "           feature-3           feature-4            feature-5  \\\n",
       "0   1.52774178981781  0.9459241032600403  -0.8467956185340881   \n",
       "1  1.331417441368103  0.9176082015037537  -0.5812518000602722   \n",
       "\n",
       "             feature-6            feature-7            feature-8  \\\n",
       "0  -1.2615801095962524    -1.08918035030365  -0.6464066505432129   \n",
       "1  -1.3384363651275635  -1.1388977766036987  -1.5663477182388306   \n",
       "\n",
       "              feature-9  ...         feature-758            feature-759  \\\n",
       "0  0.029933014884591103  ...  1.7318533658981323  -0.030127957463264465   \n",
       "1   -0.2642268240451813  ...  1.5182241201400757   -0.10070624202489853   \n",
       "\n",
       "          feature-760          feature-761           feature-762  \\\n",
       "0  1.2412145137786865  -1.4076619148254395   -0.4426130950450897   \n",
       "1  1.5866979360580444  -1.0598236322402954  -0.29061949253082275   \n",
       "\n",
       "            feature-763           feature-764          feature-765  \\\n",
       "0   -0.3106485605239868    0.4021283984184265   -1.595903992652893   \n",
       "1  -0.19450126588344574  -0.18322746455669403  -1.4730931520462036   \n",
       "\n",
       "           feature-766            feature-767  \n",
       "0  0.33699753880500793  -0.012605451047420502  \n",
       "1  0.31481635570526123   -0.08494318276643753  \n",
       "\n",
       "[2 rows x 768 columns]"
      ]
     },
     "execution_count": 4,
     "metadata": {},
     "output_type": "execute_result"
    }
   ],
   "source": [
    "# consider each element of bert value is feature. oh boy.\n",
    "feature_df = df.apply(lambda x: x[\"bert_value\"].split(\" \"), axis=1, result_type=\"expand\")\n",
    "print(feature_df.shape)\n",
    "# feature_count = 768\n",
    "feature_count = feature_df.shape[1]\n",
    "rename_dictionary = {}\n",
    "for i in range(feature_count):\n",
    "    rename_dictionary[i] = f\"feature-{i}\"\n",
    "renamed_feature_df = feature_df.rename(columns=rename_dictionary)\n",
    "renamed_feature_df.head(2)\n"
   ]
  },
  {
   "cell_type": "code",
   "execution_count": 6,
   "metadata": {},
   "outputs": [
    {
     "name": "stderr",
     "output_type": "stream",
     "text": [
      "c:\\.virtualenv\\sequence-processing\\lib\\site-packages\\ipykernel_launcher.py:3: PerformanceWarning: DataFrame is highly fragmented.  This is usually the result of calling `frame.insert` many times, which has poor performance.  Consider joining all columns at once using pd.concat(axis=1) instead.  To get a de-fragmented frame, use `newframe = frame.copy()`\n",
      "  This is separate from the ipykernel package so we can avoid doing imports until\n"
     ]
    }
   ],
   "source": [
    "# merge two dataframe: df and feature frame.\n",
    "for i in range(768):\n",
    "    fcol = f\"feature-{i}\"\n",
    "    df[fcol] = renamed_feature_df[fcol]\n",
    "df.to_csv(\n",
    "    os.path.join(\"prediction\", \"log\", \"token_representation_analysis.csv\"),\n",
    "    index=False\n",
    ")\n"
   ]
  },
  {
   "cell_type": "code",
   "execution_count": 61,
   "metadata": {},
   "outputs": [
    {
     "name": "stdout",
     "output_type": "stream",
     "text": [
      "(23040, 772)\n"
     ]
    },
    {
     "data": {
      "text/html": [
       "<div>\n",
       "<style scoped>\n",
       "    .dataframe tbody tr th:only-of-type {\n",
       "        vertical-align: middle;\n",
       "    }\n",
       "\n",
       "    .dataframe tbody tr th {\n",
       "        vertical-align: top;\n",
       "    }\n",
       "\n",
       "    .dataframe thead th {\n",
       "        text-align: right;\n",
       "    }\n",
       "</style>\n",
       "<table border=\"1\" class=\"dataframe\">\n",
       "  <thead>\n",
       "    <tr style=\"text-align: right;\">\n",
       "      <th></th>\n",
       "      <th>token_id</th>\n",
       "      <th>prediction_id</th>\n",
       "      <th>target_id</th>\n",
       "      <th>bert_value</th>\n",
       "      <th>feature-0</th>\n",
       "      <th>feature-1</th>\n",
       "      <th>feature-2</th>\n",
       "      <th>feature-3</th>\n",
       "      <th>feature-4</th>\n",
       "      <th>feature-5</th>\n",
       "      <th>...</th>\n",
       "      <th>feature-758</th>\n",
       "      <th>feature-759</th>\n",
       "      <th>feature-760</th>\n",
       "      <th>feature-761</th>\n",
       "      <th>feature-762</th>\n",
       "      <th>feature-763</th>\n",
       "      <th>feature-764</th>\n",
       "      <th>feature-765</th>\n",
       "      <th>feature-766</th>\n",
       "      <th>feature-767</th>\n",
       "    </tr>\n",
       "  </thead>\n",
       "  <tbody>\n",
       "    <tr>\n",
       "      <th>0</th>\n",
       "      <td>2</td>\n",
       "      <td>0</td>\n",
       "      <td>-100</td>\n",
       "      <td>0.8319421410560608 1.663792371749878 -0.938970...</td>\n",
       "      <td>0.831942</td>\n",
       "      <td>1.663792</td>\n",
       "      <td>-0.938970</td>\n",
       "      <td>1.527742</td>\n",
       "      <td>0.945924</td>\n",
       "      <td>-0.846796</td>\n",
       "      <td>...</td>\n",
       "      <td>1.731853</td>\n",
       "      <td>-0.030128</td>\n",
       "      <td>1.241215</td>\n",
       "      <td>-1.407662</td>\n",
       "      <td>-0.442613</td>\n",
       "      <td>-0.310649</td>\n",
       "      <td>0.402128</td>\n",
       "      <td>-1.595904</td>\n",
       "      <td>0.336998</td>\n",
       "      <td>-0.012605</td>\n",
       "    </tr>\n",
       "    <tr>\n",
       "      <th>1</th>\n",
       "      <td>45</td>\n",
       "      <td>0</td>\n",
       "      <td>0</td>\n",
       "      <td>0.304279088973999 1.5116431713104248 -0.623651...</td>\n",
       "      <td>0.304279</td>\n",
       "      <td>1.511643</td>\n",
       "      <td>-0.623652</td>\n",
       "      <td>1.331417</td>\n",
       "      <td>0.917608</td>\n",
       "      <td>-0.581252</td>\n",
       "      <td>...</td>\n",
       "      <td>1.518224</td>\n",
       "      <td>-0.100706</td>\n",
       "      <td>1.586698</td>\n",
       "      <td>-1.059824</td>\n",
       "      <td>-0.290619</td>\n",
       "      <td>-0.194501</td>\n",
       "      <td>-0.183227</td>\n",
       "      <td>-1.473093</td>\n",
       "      <td>0.314816</td>\n",
       "      <td>-0.084943</td>\n",
       "    </tr>\n",
       "    <tr>\n",
       "      <th>2</th>\n",
       "      <td>37</td>\n",
       "      <td>0</td>\n",
       "      <td>0</td>\n",
       "      <td>0.3083809018135071 1.3372265100479126 -1.03914...</td>\n",
       "      <td>0.308381</td>\n",
       "      <td>1.337227</td>\n",
       "      <td>-1.039147</td>\n",
       "      <td>1.501680</td>\n",
       "      <td>1.031719</td>\n",
       "      <td>-0.679972</td>\n",
       "      <td>...</td>\n",
       "      <td>1.508862</td>\n",
       "      <td>-0.346619</td>\n",
       "      <td>1.414293</td>\n",
       "      <td>-0.912273</td>\n",
       "      <td>-0.380145</td>\n",
       "      <td>-0.241054</td>\n",
       "      <td>0.083394</td>\n",
       "      <td>-1.618439</td>\n",
       "      <td>0.551469</td>\n",
       "      <td>-0.188681</td>\n",
       "    </tr>\n",
       "    <tr>\n",
       "      <th>3</th>\n",
       "      <td>8</td>\n",
       "      <td>0</td>\n",
       "      <td>0</td>\n",
       "      <td>0.37082692980766296 1.034065842628479 -0.66065...</td>\n",
       "      <td>0.370827</td>\n",
       "      <td>1.034066</td>\n",
       "      <td>-0.660652</td>\n",
       "      <td>1.124182</td>\n",
       "      <td>1.205785</td>\n",
       "      <td>-0.358244</td>\n",
       "      <td>...</td>\n",
       "      <td>1.707825</td>\n",
       "      <td>-0.066200</td>\n",
       "      <td>1.339012</td>\n",
       "      <td>-1.099447</td>\n",
       "      <td>-0.156992</td>\n",
       "      <td>-0.937326</td>\n",
       "      <td>0.231542</td>\n",
       "      <td>-1.515167</td>\n",
       "      <td>0.352921</td>\n",
       "      <td>-0.209426</td>\n",
       "    </tr>\n",
       "    <tr>\n",
       "      <th>4</th>\n",
       "      <td>20</td>\n",
       "      <td>0</td>\n",
       "      <td>0</td>\n",
       "      <td>0.07689828425645828 1.4326666593551636 -0.0830...</td>\n",
       "      <td>0.076898</td>\n",
       "      <td>1.432667</td>\n",
       "      <td>-0.083092</td>\n",
       "      <td>1.174400</td>\n",
       "      <td>1.252108</td>\n",
       "      <td>-0.427998</td>\n",
       "      <td>...</td>\n",
       "      <td>1.596214</td>\n",
       "      <td>-0.193219</td>\n",
       "      <td>1.030890</td>\n",
       "      <td>-1.363554</td>\n",
       "      <td>-0.464590</td>\n",
       "      <td>-1.003220</td>\n",
       "      <td>0.365821</td>\n",
       "      <td>-1.409484</td>\n",
       "      <td>0.092443</td>\n",
       "      <td>0.078692</td>\n",
       "    </tr>\n",
       "  </tbody>\n",
       "</table>\n",
       "<p>5 rows × 772 columns</p>\n",
       "</div>"
      ],
      "text/plain": [
       "   token_id  prediction_id  target_id  \\\n",
       "0         2              0       -100   \n",
       "1        45              0          0   \n",
       "2        37              0          0   \n",
       "3         8              0          0   \n",
       "4        20              0          0   \n",
       "\n",
       "                                          bert_value  feature-0  feature-1  \\\n",
       "0  0.8319421410560608 1.663792371749878 -0.938970...   0.831942   1.663792   \n",
       "1  0.304279088973999 1.5116431713104248 -0.623651...   0.304279   1.511643   \n",
       "2  0.3083809018135071 1.3372265100479126 -1.03914...   0.308381   1.337227   \n",
       "3  0.37082692980766296 1.034065842628479 -0.66065...   0.370827   1.034066   \n",
       "4  0.07689828425645828 1.4326666593551636 -0.0830...   0.076898   1.432667   \n",
       "\n",
       "   feature-2  feature-3  feature-4  feature-5  ...  feature-758  feature-759  \\\n",
       "0  -0.938970   1.527742   0.945924  -0.846796  ...     1.731853    -0.030128   \n",
       "1  -0.623652   1.331417   0.917608  -0.581252  ...     1.518224    -0.100706   \n",
       "2  -1.039147   1.501680   1.031719  -0.679972  ...     1.508862    -0.346619   \n",
       "3  -0.660652   1.124182   1.205785  -0.358244  ...     1.707825    -0.066200   \n",
       "4  -0.083092   1.174400   1.252108  -0.427998  ...     1.596214    -0.193219   \n",
       "\n",
       "   feature-760  feature-761  feature-762  feature-763  feature-764  \\\n",
       "0     1.241215    -1.407662    -0.442613    -0.310649     0.402128   \n",
       "1     1.586698    -1.059824    -0.290619    -0.194501    -0.183227   \n",
       "2     1.414293    -0.912273    -0.380145    -0.241054     0.083394   \n",
       "3     1.339012    -1.099447    -0.156992    -0.937326     0.231542   \n",
       "4     1.030890    -1.363554    -0.464590    -1.003220     0.365821   \n",
       "\n",
       "   feature-765  feature-766  feature-767  \n",
       "0    -1.595904     0.336998    -0.012605  \n",
       "1    -1.473093     0.314816    -0.084943  \n",
       "2    -1.618439     0.551469    -0.188681  \n",
       "3    -1.515167     0.352921    -0.209426  \n",
       "4    -1.409484     0.092443     0.078692  \n",
       "\n",
       "[5 rows x 772 columns]"
      ]
     },
     "execution_count": 61,
     "metadata": {},
     "output_type": "execute_result"
    }
   ],
   "source": [
    "import pandas as pd\n",
    "import os\n",
    "\n",
    "df = pd.read_csv(os.path.join(\"prediction\", \"log\", \"token_representation_analysis.csv\"))\n",
    "print(df.shape)\n",
    "df.head(5)"
   ]
  },
  {
   "cell_type": "code",
   "execution_count": 62,
   "metadata": {},
   "outputs": [],
   "source": [
    "# pca with sklearn.\n",
    "import numpy as np\n",
    "import pandas as pd\n",
    "from sklearn.decomposition import PCA\n",
    "n_components = 2\n",
    "# feature_df = df[df[\"prediction_id\"] == df[\"target_id\"]]\n",
    "feature_df = df[[f\"feature-{i}\" for i in range(768)]]\n",
    "feature_std = (df - df.mean()) / df.std()\n",
    "pca = PCA(n_components=n_components)\n",
    "principal_components = pca.fit_transform(feature_std)\n",
    "principal_components_df = pd.DataFrame(data=principal_components, columns=[f\"nf-{i}\" for i in range(n_components)])\n",
    "print(principal_components_df.shape)"
   ]
  },
  {
   "cell_type": "code",
   "execution_count": 58,
   "metadata": {},
   "outputs": [
    {
     "data": {
      "image/png": "[encoded data removed]",
      "text/plain": [
       "<Figure size 432x288 with 1 Axes>"
      ]
     },
     "metadata": {
      "needs_background": "light"
     },
     "output_type": "display_data"
    }
   ],
   "source": [
    "import matplotlib.pyplot as plt\n",
    "from utils.seqlab import Index_Dictionary\n",
    "\n",
    "# merge pca analysis with existing df.\n",
    "df[\"nf-0\"] = principal_components_df[\"nf-0\"]\n",
    "df[\"nf-1\"] = principal_components_df[\"nf-1\"]\n",
    "\n",
    "unique_prediction_ids = df[\"prediction_id\"].unique().tolist()\n",
    "markers = ['x', '+', 'd', 'h', '*', 'D']\n",
    "\n",
    "# plot pca.\n",
    "for i, j in zip(unique_prediction_ids, markers):\n",
    "    filtered_df = df[df[\"prediction_id\"] == i]\n",
    "    x = filtered_df[\"nf-0\"]\n",
    "    y = filtered_df[\"nf-1\"]\n",
    "    plt.plot(\n",
    "        x, \n",
    "        y,\n",
    "        j,\n",
    "        label=Index_Dictionary[i]\n",
    "    )\n",
    "\n",
    "plt.xlabel = \"pca 1\"\n",
    "plt.ylabel = \"pca 2\"\n",
    "plt.legend(loc=\"upper right\")\n",
    "plt.show()\n"
   ]
  },
  {
   "cell_type": "code",
   "execution_count": 60,
   "metadata": {},
   "outputs": [
    {
     "data": {
      "image/png": "[encoded data removed]",
      "text/plain": [
       "<Figure size 576x288 with 6 Axes>"
      ]
     },
     "metadata": {
      "needs_background": "light"
     },
     "output_type": "display_data"
    }
   ],
   "source": [
    "nrows = 2\n",
    "ncols = 3\n",
    "idx = 0\n",
    "figs, axes = plt.subplots(nrows, ncols, constrained_layout=True, figsize=(8, 4))\n",
    "for r in range(nrows):\n",
    "    for c in range(ncols):\n",
    "        i = unique_prediction_ids[idx]\n",
    "        j = markers[idx]\n",
    "        filtered_df = df[df[\"prediction_id\"] == i]\n",
    "        x = filtered_df[\"nf-0\"]\n",
    "        y = filtered_df[\"nf-1\"]\n",
    "        axes[r][c].plot(\n",
    "            x, \n",
    "            y,\n",
    "            j,\n",
    "            label=f\"{Index_Dictionary[i]}\"\n",
    "        )\n",
    "        axes[r][c].set_xlabel(\"PCA 1\")\n",
    "        axes[r][c].set_ylabel(\"PCA 2\")\n",
    "        axes[r][c].set_title(f\"{Index_Dictionary[i]}\")\n",
    "        axes[r][c].legend(loc=\"upper right\")\n",
    "        idx += 1\n"
   ]
  },
  {
   "cell_type": "code",
   "execution_count": 20,
   "metadata": {},
   "outputs": [
    {
     "data": {
      "image/png": "[encoded data removed]",
      "text/plain": [
       "<Figure size 640x480 with 2 Axes>"
      ]
     },
     "metadata": {},
     "output_type": "display_data"
    }
   ],
   "source": [
    "boxplot = df.boxplot(by=\"prediction_id\", column=[\"feature-0\", \"feature-1\"], layout=(1, 2))"
   ]
  },
  {
   "cell_type": "code",
   "execution_count": 8,
   "metadata": {},
   "outputs": [
    {
     "data": {
      "text/plain": [
       "array([<AxesSubplot:title={'center':'feature-1'}, xlabel='prediction_id'>,\n",
       "       <AxesSubplot:title={'center':'feature-2'}, xlabel='prediction_id'>],\n",
       "      dtype=object)"
      ]
     },
     "execution_count": 8,
     "metadata": {},
     "output_type": "execute_result"
    },
    {
     "data": {
      "image/png": "[encoded data removed]",
      "text/plain": [
       "<Figure size 432x288 with 2 Axes>"
      ]
     },
     "metadata": {
      "needs_background": "light"
     },
     "output_type": "display_data"
    }
   ],
   "source": [
    "# load dataset.\n",
    "from utils.seqlab import splice_site_ids, Index_Dictionary\n",
    "import os\n",
    "import pandas as pd\n",
    "import numpy as np\n",
    "from sklearn.preprocessing import StandardScaler\n",
    "import matplotlib.pyplot as plt\n",
    "\n",
    "token_reps_df = pd.read_csv(\n",
    "    os.path.join(\"prediction\", \"log\", \"token_representation_analysis.csv\")\n",
    ")\n",
    "ss_token_reps_df = token_reps_df[token_reps_df[\"prediction_id\"].isin(splice_site_ids)]\n"
   ]
  },
  {
   "cell_type": "code",
   "execution_count": 9,
   "metadata": {},
   "outputs": [
    {
     "data": {
      "text/plain": [
       "array([<AxesSubplot:title={'center':'feature-1'}, xlabel='prediction_id'>,\n",
       "       <AxesSubplot:title={'center':'feature-2'}, xlabel='prediction_id'>],\n",
       "      dtype=object)"
      ]
     },
     "execution_count": 9,
     "metadata": {},
     "output_type": "execute_result"
    },
    {
     "data": {
      "image/png": "[encoded data removed]",
      "text/plain": [
       "<Figure size 432x288 with 2 Axes>"
      ]
     },
     "metadata": {
      "needs_background": "light"
     },
     "output_type": "display_data"
    }
   ],
   "source": [
    "# boxplot.\n",
    "\n",
    "X = ss_token_reps_df[[f\"feature-{i}\" for i in range(768)]].to_numpy()\n",
    "labels = ss_token_reps_df[\"prediction_id\"].to_numpy()\n",
    "ss_token_reps_df.boxplot(by=\"prediction_id\", column=[\"feature-1\", \"feature-2\"])\n"
   ]
  },
  {
   "cell_type": "code",
   "execution_count": 30,
   "metadata": {},
   "outputs": [
    {
     "name": "stdout",
     "output_type": "stream",
     "text": [
      "eigen values and vector dimension (768,) (768, 768)\n",
      "idx (768,), sorted eigen vector (768, 768)\n"
     ]
    },
    {
     "name": "stderr",
     "output_type": "stream",
     "text": [
      "c:\\.virtualenv\\sequence-processing\\lib\\site-packages\\matplotlib\\cbook\\__init__.py:1298: ComplexWarning: Casting complex values to real discards the imaginary part\n",
      "  return np.asarray(x, float)\n"
     ]
    },
    {
     "data": {
      "image/png": "[encoded data removed]",
      "text/plain": [
       "<Figure size 432x288 with 1 Axes>"
      ]
     },
     "metadata": {
      "needs_background": "light"
     },
     "output_type": "display_data"
    }
   ],
   "source": [
    "# compute covariance matrix.\n",
    "X = StandardScaler().fit_transform(X)\n",
    "cov = (X.T @ X) / (X.shape[0] - 1)\n",
    "\n",
    "# performing eigen-decomposition.\n",
    "eig_values, eig_vectors = np.linalg.eig(cov)\n",
    "print(\"eigen values and vector dimension\", eig_values.shape, eig_vectors.shape)\n",
    "\n",
    "# determine which principal components to select.\n",
    "idx = np.argsort(eig_values, axis=0)[::-1]\n",
    "sorted_eig_vectors = eig_vectors[:, idx]\n",
    "print(f\"idx {idx.shape}, sorted eigen vector {sorted_eig_vectors.shape}\")\n",
    "\n",
    "cumsum = np.cumsum(eig_values[idx]) / np.sum(eig_values[idx])\n",
    "xint = range(1, len(cumsum) + 1)\n",
    "plt.xlabel(\"Number of components\")\n",
    "plt.ylabel(\"Cumulative explained variance\")\n",
    "# plt.xticks(xint)\n",
    "# plt.xlim(1, 768, 1)\n",
    "plt.plot(xint, cumsum)\n",
    "plt.show()\n"
   ]
  },
  {
   "cell_type": "code",
   "execution_count": 33,
   "metadata": {},
   "outputs": [
    {
     "name": "stdout",
     "output_type": "stream",
     "text": [
      "(180, 768) (768, 2)\n"
     ]
    },
    {
     "data": {
      "text/plain": [
       "(180, 2)"
      ]
     },
     "execution_count": 33,
     "metadata": {},
     "output_type": "execute_result"
    }
   ],
   "source": [
    "print(X.shape, sorted_eig_vectors[:, :2].shape)\n",
    "res = np.dot(X, sorted_eig_vectors[:, :2]).shape\n",
    "res"
   ]
  },
  {
   "cell_type": "code",
   "execution_count": 41,
   "metadata": {},
   "outputs": [
    {
     "name": "stdout",
     "output_type": "stream",
     "text": [
      "(180, 2)\n",
      "1 iiE\n",
      "3 Eii\n",
      "4 iEE\n",
      "5 EEi\n"
     ]
    },
    {
     "ename": "TypeError",
     "evalue": "ufunc 'hypot' not supported for the input types, and the inputs could not be safely coerced to any supported types according to the casting rule ''safe''",
     "output_type": "error",
     "traceback": [
      "\u001b[1;31m---------------------------------------------------------------------------\u001b[0m",
      "\u001b[1;31mTypeError\u001b[0m                                 Traceback (most recent call last)",
      "\u001b[1;32m~\\AppData\\Local\\Temp/ipykernel_15316/1201076870.py\u001b[0m in \u001b[0;36m<module>\u001b[1;34m\u001b[0m\n\u001b[0;32m     36\u001b[0m \u001b[0mplt\u001b[0m\u001b[1;33m.\u001b[0m\u001b[0mgrid\u001b[0m\u001b[1;33m(\u001b[0m\u001b[1;33m)\u001b[0m\u001b[1;33m\u001b[0m\u001b[1;33m\u001b[0m\u001b[0m\n\u001b[0;32m     37\u001b[0m \u001b[1;33m\u001b[0m\u001b[0m\n\u001b[1;32m---> 38\u001b[1;33m \u001b[0mbiplot\u001b[0m\u001b[1;33m(\u001b[0m\u001b[0meig_scores\u001b[0m\u001b[1;33m,\u001b[0m \u001b[0msorted_eig_vectors\u001b[0m\u001b[1;33m,\u001b[0m \u001b[1;33m[\u001b[0m\u001b[1;34mf\"feature-{i}\"\u001b[0m \u001b[1;32mfor\u001b[0m \u001b[0mi\u001b[0m \u001b[1;32min\u001b[0m \u001b[0mrange\u001b[0m\u001b[1;33m(\u001b[0m\u001b[1;36m768\u001b[0m\u001b[1;33m)\u001b[0m\u001b[1;33m]\u001b[0m\u001b[1;33m)\u001b[0m\u001b[1;33m\u001b[0m\u001b[1;33m\u001b[0m\u001b[0m\n\u001b[0m\u001b[0;32m     39\u001b[0m \u001b[0mplt\u001b[0m\u001b[1;33m.\u001b[0m\u001b[0mlegend\u001b[0m\u001b[1;33m(\u001b[0m\u001b[1;33m)\u001b[0m\u001b[1;33m\u001b[0m\u001b[1;33m\u001b[0m\u001b[0m\n",
      "\u001b[1;32m~\\AppData\\Local\\Temp/ipykernel_15316/1201076870.py\u001b[0m in \u001b[0;36mbiplot\u001b[1;34m(score, coeff, labels)\u001b[0m\n\u001b[0;32m     20\u001b[0m     \u001b[1;32mfor\u001b[0m \u001b[0mi\u001b[0m \u001b[1;32min\u001b[0m \u001b[0mrange\u001b[0m\u001b[1;33m(\u001b[0m\u001b[0mn\u001b[0m\u001b[1;33m)\u001b[0m\u001b[1;33m:\u001b[0m\u001b[1;33m\u001b[0m\u001b[1;33m\u001b[0m\u001b[0m\n\u001b[0;32m     21\u001b[0m         plt.arrow(\n\u001b[1;32m---> 22\u001b[1;33m             \u001b[1;36m0\u001b[0m\u001b[1;33m,\u001b[0m \u001b[1;36m0\u001b[0m\u001b[1;33m,\u001b[0m \u001b[0mcoeff\u001b[0m\u001b[1;33m[\u001b[0m\u001b[0mi\u001b[0m\u001b[1;33m,\u001b[0m \u001b[1;36m0\u001b[0m\u001b[1;33m]\u001b[0m\u001b[1;33m,\u001b[0m \u001b[0mcoeff\u001b[0m\u001b[1;33m[\u001b[0m\u001b[0mi\u001b[0m\u001b[1;33m,\u001b[0m \u001b[1;36m1\u001b[0m\u001b[1;33m]\u001b[0m\u001b[1;33m,\u001b[0m \u001b[0mcolor\u001b[0m\u001b[1;33m=\u001b[0m\u001b[1;34m\"r\"\u001b[0m\u001b[1;33m,\u001b[0m \u001b[0mhead_width\u001b[0m\u001b[1;33m=\u001b[0m\u001b[1;36m0.05\u001b[0m\u001b[1;33m,\u001b[0m \u001b[0mhead_length\u001b[0m\u001b[1;33m=\u001b[0m\u001b[1;36m0.1\u001b[0m\u001b[1;33m\u001b[0m\u001b[1;33m\u001b[0m\u001b[0m\n\u001b[0m\u001b[0;32m     23\u001b[0m         )\n\u001b[0;32m     24\u001b[0m         plt.text(\n",
      "\u001b[1;32mc:\\.virtualenv\\sequence-processing\\lib\\site-packages\\matplotlib\\pyplot.py\u001b[0m in \u001b[0;36marrow\u001b[1;34m(x, y, dx, dy, **kwargs)\u001b[0m\n\u001b[0;32m   2335\u001b[0m \u001b[1;33m@\u001b[0m\u001b[0m_copy_docstring_and_deprecators\u001b[0m\u001b[1;33m(\u001b[0m\u001b[0mAxes\u001b[0m\u001b[1;33m.\u001b[0m\u001b[0marrow\u001b[0m\u001b[1;33m)\u001b[0m\u001b[1;33m\u001b[0m\u001b[1;33m\u001b[0m\u001b[0m\n\u001b[0;32m   2336\u001b[0m \u001b[1;32mdef\u001b[0m \u001b[0marrow\u001b[0m\u001b[1;33m(\u001b[0m\u001b[0mx\u001b[0m\u001b[1;33m,\u001b[0m \u001b[0my\u001b[0m\u001b[1;33m,\u001b[0m \u001b[0mdx\u001b[0m\u001b[1;33m,\u001b[0m \u001b[0mdy\u001b[0m\u001b[1;33m,\u001b[0m \u001b[1;33m**\u001b[0m\u001b[0mkwargs\u001b[0m\u001b[1;33m)\u001b[0m\u001b[1;33m:\u001b[0m\u001b[1;33m\u001b[0m\u001b[1;33m\u001b[0m\u001b[0m\n\u001b[1;32m-> 2337\u001b[1;33m     \u001b[1;32mreturn\u001b[0m \u001b[0mgca\u001b[0m\u001b[1;33m(\u001b[0m\u001b[1;33m)\u001b[0m\u001b[1;33m.\u001b[0m\u001b[0marrow\u001b[0m\u001b[1;33m(\u001b[0m\u001b[0mx\u001b[0m\u001b[1;33m,\u001b[0m \u001b[0my\u001b[0m\u001b[1;33m,\u001b[0m \u001b[0mdx\u001b[0m\u001b[1;33m,\u001b[0m \u001b[0mdy\u001b[0m\u001b[1;33m,\u001b[0m \u001b[1;33m**\u001b[0m\u001b[0mkwargs\u001b[0m\u001b[1;33m)\u001b[0m\u001b[1;33m\u001b[0m\u001b[1;33m\u001b[0m\u001b[0m\n\u001b[0m\u001b[0;32m   2338\u001b[0m \u001b[1;33m\u001b[0m\u001b[0m\n\u001b[0;32m   2339\u001b[0m \u001b[1;33m\u001b[0m\u001b[0m\n",
      "\u001b[1;32mc:\\.virtualenv\\sequence-processing\\lib\\site-packages\\matplotlib\\axes\\_axes.py\u001b[0m in \u001b[0;36marrow\u001b[1;34m(self, x, y, dx, dy, **kwargs)\u001b[0m\n\u001b[0;32m   4960\u001b[0m         \u001b[0mdy\u001b[0m \u001b[1;33m=\u001b[0m \u001b[0mself\u001b[0m\u001b[1;33m.\u001b[0m\u001b[0mconvert_yunits\u001b[0m\u001b[1;33m(\u001b[0m\u001b[0mdy\u001b[0m\u001b[1;33m)\u001b[0m\u001b[1;33m\u001b[0m\u001b[1;33m\u001b[0m\u001b[0m\n\u001b[0;32m   4961\u001b[0m \u001b[1;33m\u001b[0m\u001b[0m\n\u001b[1;32m-> 4962\u001b[1;33m         \u001b[0ma\u001b[0m \u001b[1;33m=\u001b[0m \u001b[0mmpatches\u001b[0m\u001b[1;33m.\u001b[0m\u001b[0mFancyArrow\u001b[0m\u001b[1;33m(\u001b[0m\u001b[0mx\u001b[0m\u001b[1;33m,\u001b[0m \u001b[0my\u001b[0m\u001b[1;33m,\u001b[0m \u001b[0mdx\u001b[0m\u001b[1;33m,\u001b[0m \u001b[0mdy\u001b[0m\u001b[1;33m,\u001b[0m \u001b[1;33m**\u001b[0m\u001b[0mkwargs\u001b[0m\u001b[1;33m)\u001b[0m\u001b[1;33m\u001b[0m\u001b[1;33m\u001b[0m\u001b[0m\n\u001b[0m\u001b[0;32m   4963\u001b[0m         \u001b[0mself\u001b[0m\u001b[1;33m.\u001b[0m\u001b[0madd_patch\u001b[0m\u001b[1;33m(\u001b[0m\u001b[0ma\u001b[0m\u001b[1;33m)\u001b[0m\u001b[1;33m\u001b[0m\u001b[1;33m\u001b[0m\u001b[0m\n\u001b[0;32m   4964\u001b[0m         \u001b[0mself\u001b[0m\u001b[1;33m.\u001b[0m\u001b[0m_request_autoscale_view\u001b[0m\u001b[1;33m(\u001b[0m\u001b[1;33m)\u001b[0m\u001b[1;33m\u001b[0m\u001b[1;33m\u001b[0m\u001b[0m\n",
      "\u001b[1;32mc:\\.virtualenv\\sequence-processing\\lib\\site-packages\\matplotlib\\patches.py\u001b[0m in \u001b[0;36m__init__\u001b[1;34m(self, x, y, dx, dy, width, length_includes_head, head_width, head_length, shape, overhang, head_starts_at_zero, **kwargs)\u001b[0m\n\u001b[0;32m   1342\u001b[0m         \u001b[0mself\u001b[0m\u001b[1;33m.\u001b[0m\u001b[0m_overhang\u001b[0m \u001b[1;33m=\u001b[0m \u001b[0moverhang\u001b[0m\u001b[1;33m\u001b[0m\u001b[1;33m\u001b[0m\u001b[0m\n\u001b[0;32m   1343\u001b[0m         \u001b[0mself\u001b[0m\u001b[1;33m.\u001b[0m\u001b[0m_head_starts_at_zero\u001b[0m \u001b[1;33m=\u001b[0m \u001b[0mhead_starts_at_zero\u001b[0m\u001b[1;33m\u001b[0m\u001b[1;33m\u001b[0m\u001b[0m\n\u001b[1;32m-> 1344\u001b[1;33m         \u001b[0mself\u001b[0m\u001b[1;33m.\u001b[0m\u001b[0m_make_verts\u001b[0m\u001b[1;33m(\u001b[0m\u001b[1;33m)\u001b[0m\u001b[1;33m\u001b[0m\u001b[1;33m\u001b[0m\u001b[0m\n\u001b[0m\u001b[0;32m   1345\u001b[0m         \u001b[0msuper\u001b[0m\u001b[1;33m(\u001b[0m\u001b[1;33m)\u001b[0m\u001b[1;33m.\u001b[0m\u001b[0m__init__\u001b[0m\u001b[1;33m(\u001b[0m\u001b[0mself\u001b[0m\u001b[1;33m.\u001b[0m\u001b[0mverts\u001b[0m\u001b[1;33m,\u001b[0m \u001b[0mclosed\u001b[0m\u001b[1;33m=\u001b[0m\u001b[1;32mTrue\u001b[0m\u001b[1;33m,\u001b[0m \u001b[1;33m**\u001b[0m\u001b[0mkwargs\u001b[0m\u001b[1;33m)\u001b[0m\u001b[1;33m\u001b[0m\u001b[1;33m\u001b[0m\u001b[0m\n\u001b[0;32m   1346\u001b[0m \u001b[1;33m\u001b[0m\u001b[0m\n",
      "\u001b[1;32mc:\\.virtualenv\\sequence-processing\\lib\\site-packages\\matplotlib\\patches.py\u001b[0m in \u001b[0;36m_make_verts\u001b[1;34m(self)\u001b[0m\n\u001b[0;32m   1395\u001b[0m             \u001b[0mhead_length\u001b[0m \u001b[1;33m=\u001b[0m \u001b[0mself\u001b[0m\u001b[1;33m.\u001b[0m\u001b[0m_head_length\u001b[0m\u001b[1;33m\u001b[0m\u001b[1;33m\u001b[0m\u001b[0m\n\u001b[0;32m   1396\u001b[0m \u001b[1;33m\u001b[0m\u001b[0m\n\u001b[1;32m-> 1397\u001b[1;33m         \u001b[0mdistance\u001b[0m \u001b[1;33m=\u001b[0m \u001b[0mnp\u001b[0m\u001b[1;33m.\u001b[0m\u001b[0mhypot\u001b[0m\u001b[1;33m(\u001b[0m\u001b[0mself\u001b[0m\u001b[1;33m.\u001b[0m\u001b[0m_dx\u001b[0m\u001b[1;33m,\u001b[0m \u001b[0mself\u001b[0m\u001b[1;33m.\u001b[0m\u001b[0m_dy\u001b[0m\u001b[1;33m)\u001b[0m\u001b[1;33m\u001b[0m\u001b[1;33m\u001b[0m\u001b[0m\n\u001b[0m\u001b[0;32m   1398\u001b[0m \u001b[1;33m\u001b[0m\u001b[0m\n\u001b[0;32m   1399\u001b[0m         \u001b[1;32mif\u001b[0m \u001b[0mself\u001b[0m\u001b[1;33m.\u001b[0m\u001b[0m_length_includes_head\u001b[0m\u001b[1;33m:\u001b[0m\u001b[1;33m\u001b[0m\u001b[1;33m\u001b[0m\u001b[0m\n",
      "\u001b[1;31mTypeError\u001b[0m: ufunc 'hypot' not supported for the input types, and the inputs could not be safely coerced to any supported types according to the casting rule ''safe''"
     ]
    },
    {
     "data": {
      "image/png": "[encoded data removed]",
      "text/plain": [
       "<Figure size 432x288 with 1 Axes>"
      ]
     },
     "metadata": {
      "needs_background": "light"
     },
     "output_type": "display_data"
    }
   ],
   "source": [
    "# compute the transformation.\n",
    "eig_scores = np.dot(X, sorted_eig_vectors[:, :2])\n",
    "colors = [\"blue\", \"red\", \"green\", \"yellow\", \"gray\", \"black\"]\n",
    "\n",
    "print(eig_scores.shape)\n",
    "def biplot(score, coeff, labels):\n",
    "    xs = score[:, 0]\n",
    "    ys = score[:, 1]\n",
    "    n = coeff.shape[0]\n",
    "\n",
    "    for i, u in zip(splice_site_ids, [Index_Dictionary[a] for a in splice_site_ids]):\n",
    "        print(i, u)\n",
    "        xi = [\n",
    "            score[j, 0] for j in range(score.shape[0]) if ss_token_reps_df[\"target_id\"].tolist()[j] == u\n",
    "        ]\n",
    "        yi = [\n",
    "            score[j, 1] for j in range(score.shape[0]) if ss_token_reps_df[\"target_id\"].tolist()[j] == u\n",
    "        ]\n",
    "        plt.scatter(xi, yi, c=colors[i], label=u)\n",
    "    for i in range(n):\n",
    "        plt.arrow(\n",
    "            0, 0, coeff[i, 0], coeff[i, 1], color=\"r\", head_width=0.05, head_length=0.1\n",
    "        )\n",
    "        plt.text(\n",
    "            coeff[i, 0] * 1.35,\n",
    "            coeff[i, 1] * 1.35,\n",
    "            labels[i],\n",
    "            color=\"g\",\n",
    "            ha=\"center\",\n",
    "            va=\"center\",\n",
    "        )\n",
    "\n",
    "\n",
    "plt.xlabel(\"PC{}\".format(1))\n",
    "plt.ylabel(\"PC{}\".format(2))\n",
    "plt.grid()\n",
    "\n",
    "biplot(eig_scores, sorted_eig_vectors, [f\"feature-{i}\" for i in range(768)])\n",
    "plt.legend()"
   ]
  },
  {
   "cell_type": "code",
   "execution_count": 20,
   "metadata": {},
   "outputs": [
    {
     "data": {
      "text/html": [
       "<div>\n",
       "<style scoped>\n",
       "    .dataframe tbody tr th:only-of-type {\n",
       "        vertical-align: middle;\n",
       "    }\n",
       "\n",
       "    .dataframe tbody tr th {\n",
       "        vertical-align: top;\n",
       "    }\n",
       "\n",
       "    .dataframe thead th {\n",
       "        text-align: right;\n",
       "    }\n",
       "</style>\n",
       "<table border=\"1\" class=\"dataframe\">\n",
       "  <thead>\n",
       "    <tr style=\"text-align: right;\">\n",
       "      <th></th>\n",
       "      <th>token</th>\n",
       "      <th>target</th>\n",
       "      <th>prediction</th>\n",
       "      <th>bert_value</th>\n",
       "      <th>comparison</th>\n",
       "    </tr>\n",
       "  </thead>\n",
       "  <tbody>\n",
       "    <tr>\n",
       "      <th>1</th>\n",
       "      <td>GAA</td>\n",
       "      <td>iEE</td>\n",
       "      <td>iiE</td>\n",
       "      <td>0.3126485049724579 -1.088175892829895 -0.56700...</td>\n",
       "      <td>0</td>\n",
       "    </tr>\n",
       "    <tr>\n",
       "      <th>2</th>\n",
       "      <td>AGG</td>\n",
       "      <td>EEi</td>\n",
       "      <td>Eii</td>\n",
       "      <td>-0.1707116961479187 0.4697659909725189 1.07950...</td>\n",
       "      <td>0</td>\n",
       "    </tr>\n",
       "    <tr>\n",
       "      <th>3</th>\n",
       "      <td>GGT</td>\n",
       "      <td>Eii</td>\n",
       "      <td>iiE</td>\n",
       "      <td>-0.8013615608215332 0.10018081218004227 1.5437...</td>\n",
       "      <td>0</td>\n",
       "    </tr>\n",
       "    <tr>\n",
       "      <th>4</th>\n",
       "      <td>AGG</td>\n",
       "      <td>iiE</td>\n",
       "      <td>Eii</td>\n",
       "      <td>-0.11103878915309906 -0.24303054809570312 1.02...</td>\n",
       "      <td>0</td>\n",
       "    </tr>\n",
       "    <tr>\n",
       "      <th>5</th>\n",
       "      <td>GGA</td>\n",
       "      <td>iEE</td>\n",
       "      <td>iiE</td>\n",
       "      <td>-0.06882086396217346 0.0999293401837349 1.1488...</td>\n",
       "      <td>0</td>\n",
       "    </tr>\n",
       "    <tr>\n",
       "      <th>...</th>\n",
       "      <td>...</td>\n",
       "      <td>...</td>\n",
       "      <td>...</td>\n",
       "      <td>...</td>\n",
       "      <td>...</td>\n",
       "    </tr>\n",
       "    <tr>\n",
       "      <th>175</th>\n",
       "      <td>GGT</td>\n",
       "      <td>Eii</td>\n",
       "      <td>iiE</td>\n",
       "      <td>-0.12136223912239075 0.24540439248085022 1.074...</td>\n",
       "      <td>0</td>\n",
       "    </tr>\n",
       "    <tr>\n",
       "      <th>176</th>\n",
       "      <td>AGG</td>\n",
       "      <td>iiE</td>\n",
       "      <td>Eii</td>\n",
       "      <td>0.19183388352394104 -0.3378389775753021 0.5174...</td>\n",
       "      <td>0</td>\n",
       "    </tr>\n",
       "    <tr>\n",
       "      <th>177</th>\n",
       "      <td>GGA</td>\n",
       "      <td>iEE</td>\n",
       "      <td>EEE</td>\n",
       "      <td>0.17814867198467255 -0.09485137462615967 1.077...</td>\n",
       "      <td>0</td>\n",
       "    </tr>\n",
       "    <tr>\n",
       "      <th>178</th>\n",
       "      <td>AGG</td>\n",
       "      <td>EEi</td>\n",
       "      <td>EEE</td>\n",
       "      <td>0.021793914958834648 0.720974862575531 0.61671...</td>\n",
       "      <td>0</td>\n",
       "    </tr>\n",
       "    <tr>\n",
       "      <th>179</th>\n",
       "      <td>GGT</td>\n",
       "      <td>Eii</td>\n",
       "      <td>iiE</td>\n",
       "      <td>-0.09474881738424301 0.2509042024612427 1.0941...</td>\n",
       "      <td>0</td>\n",
       "    </tr>\n",
       "  </tbody>\n",
       "</table>\n",
       "<p>177 rows × 5 columns</p>\n",
       "</div>"
      ],
      "text/plain": [
       "    token target prediction  \\\n",
       "1     GAA    iEE        iiE   \n",
       "2     AGG    EEi        Eii   \n",
       "3     GGT    Eii        iiE   \n",
       "4     AGG    iiE        Eii   \n",
       "5     GGA    iEE        iiE   \n",
       "..    ...    ...        ...   \n",
       "175   GGT    Eii        iiE   \n",
       "176   AGG    iiE        Eii   \n",
       "177   GGA    iEE        EEE   \n",
       "178   AGG    EEi        EEE   \n",
       "179   GGT    Eii        iiE   \n",
       "\n",
       "                                            bert_value  comparison  \n",
       "1    0.3126485049724579 -1.088175892829895 -0.56700...           0  \n",
       "2    -0.1707116961479187 0.4697659909725189 1.07950...           0  \n",
       "3    -0.8013615608215332 0.10018081218004227 1.5437...           0  \n",
       "4    -0.11103878915309906 -0.24303054809570312 1.02...           0  \n",
       "5    -0.06882086396217346 0.0999293401837349 1.1488...           0  \n",
       "..                                                 ...         ...  \n",
       "175  -0.12136223912239075 0.24540439248085022 1.074...           0  \n",
       "176  0.19183388352394104 -0.3378389775753021 0.5174...           0  \n",
       "177  0.17814867198467255 -0.09485137462615967 1.077...           0  \n",
       "178  0.021793914958834648 0.720974862575531 0.61671...           0  \n",
       "179  -0.09474881738424301 0.2509042024612427 1.0941...           0  \n",
       "\n",
       "[177 rows x 5 columns]"
      ]
     },
     "execution_count": 20,
     "metadata": {},
     "output_type": "execute_result"
    }
   ],
   "source": [
    "ndf[ndf[\"comparison\"] == 0]"
   ]
  },
  {
   "cell_type": "code",
   "execution_count": 19,
   "metadata": {},
   "outputs": [],
   "source": [
    "ndf.to_csv(\n",
    "    os.path.join(\"motif_analysis\", \"token_analysis\", \"df-F1=1.csv\"), \n",
    "    index=False\n",
    ")"
   ]
  },
  {
   "cell_type": "code",
   "execution_count": 21,
   "metadata": {},
   "outputs": [
    {
     "data": {
      "text/html": [
       "<div>\n",
       "<style scoped>\n",
       "    .dataframe tbody tr th:only-of-type {\n",
       "        vertical-align: middle;\n",
       "    }\n",
       "\n",
       "    .dataframe tbody tr th {\n",
       "        vertical-align: top;\n",
       "    }\n",
       "\n",
       "    .dataframe thead th {\n",
       "        text-align: right;\n",
       "    }\n",
       "</style>\n",
       "<table border=\"1\" class=\"dataframe\">\n",
       "  <thead>\n",
       "    <tr style=\"text-align: right;\">\n",
       "      <th></th>\n",
       "      <th>token</th>\n",
       "      <th>prediction</th>\n",
       "      <th>target</th>\n",
       "    </tr>\n",
       "  </thead>\n",
       "  <tbody>\n",
       "    <tr>\n",
       "      <th>0</th>\n",
       "      <td>ACT</td>\n",
       "      <td>iii</td>\n",
       "      <td>iii</td>\n",
       "    </tr>\n",
       "    <tr>\n",
       "      <th>1</th>\n",
       "      <td>CTT</td>\n",
       "      <td>iii</td>\n",
       "      <td>iii</td>\n",
       "    </tr>\n",
       "    <tr>\n",
       "      <th>2</th>\n",
       "      <td>TTT</td>\n",
       "      <td>iii</td>\n",
       "      <td>iii</td>\n",
       "    </tr>\n",
       "    <tr>\n",
       "      <th>3</th>\n",
       "      <td>TTT</td>\n",
       "      <td>iii</td>\n",
       "      <td>iii</td>\n",
       "    </tr>\n",
       "    <tr>\n",
       "      <th>4</th>\n",
       "      <td>TTC</td>\n",
       "      <td>iii</td>\n",
       "      <td>iii</td>\n",
       "    </tr>\n",
       "  </tbody>\n",
       "</table>\n",
       "</div>"
      ],
      "text/plain": [
       "  token prediction target\n",
       "0   ACT        iii    iii\n",
       "1   CTT        iii    iii\n",
       "2   TTT        iii    iii\n",
       "3   TTT        iii    iii\n",
       "4   TTC        iii    iii"
      ]
     },
     "execution_count": 21,
     "metadata": {},
     "output_type": "execute_result"
    }
   ],
   "source": [
    "# something weird.\n",
    "import os\n",
    "import pandas as pd\n",
    "\n",
    "path = os.path.join(\"prediction\", \"dataframe-F1 Score=1.csv\")\n",
    "tokens, predictions, targets = [], [], []\n",
    "df = pd.read_csv(path)\n",
    "for step, r in df.iterrows():\n",
    "    input_tokens = r[\"input_tokens\"].split(\" \")\n",
    "    prediction_tokens = r[\"prediction_tokens\"].split(\" \")\n",
    "    target_tokens = r[\"target_tokens\"].split(\" \")\n",
    "\n",
    "    for i, j, k in zip(input_tokens, prediction_tokens, target_tokens):\n",
    "        tokens.append(i)\n",
    "        predictions.append(j)\n",
    "        targets.append(k)\n",
    "\n",
    "df = pd.DataFrame(data={\n",
    "    \"token\": tokens,\n",
    "    \"prediction\": predictions,\n",
    "    \"target\": targets\n",
    "})\n",
    "df.head(5)"
   ]
  },
  {
   "cell_type": "code",
   "execution_count": 23,
   "metadata": {},
   "outputs": [
    {
     "name": "stdout",
     "output_type": "stream",
     "text": [
      "(22950, 3)\n",
      "(22950, 3)\n",
      "(0, 3)\n"
     ]
    }
   ],
   "source": [
    "print(df.shape)\n",
    "print(df[df[\"prediction\"] == df[\"target\"]].shape)\n",
    "print(df[df[\"prediction\"] != df[\"target\"]].shape)"
   ]
  }
 ],
 "metadata": {
  "kernelspec": {
   "display_name": "sequence-processing",
   "language": "python",
   "name": "python3"
  },
  "language_info": {
   "codemirror_mode": {
    "name": "ipython",
    "version": 3
   },
   "file_extension": ".py",
   "mimetype": "text/x-python",
   "name": "python",
   "nbconvert_exporter": "python",
   "pygments_lexer": "ipython3",
   "version": "3.7.9"
  },
  "orig_nbformat": 4,
  "vscode": {
   "interpreter": {
    "hash": "14ae8cb2141f3f34f4e0523006ff2d6cb0f7956c0f094e5497e312072e4d0d3c"
   }
  }
 },
 "nbformat": 4,
 "nbformat_minor": 2
}
