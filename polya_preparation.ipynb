{
 "cells": [
  {
   "cell_type": "code",
   "execution_count": 1,
   "metadata": {},
   "outputs": [
    {
     "data": {
      "text/plain": [
       "True"
      ]
     },
     "execution_count": 1,
     "metadata": {},
     "output_type": "execute_result"
    }
   ],
   "source": [
    "data_dir = './data'\n",
    "polya_dir = '{}/poly-a'.format(data_dir)\n",
    "polya_db_dir = '{}/polya_db'.format(polya_dir)\n",
    "polya_db = '{}/human.pas.txt'.format(polya_db_dir)\n",
    "polya_db_pos_csv = '{}/human_pas_pos.csv'.format(polya_db_dir)\n",
    "polya_db_neg_csv = '{}/human_pas_neg.csv'.format(polya_db_dir)\n",
    "\n",
    "dataset_dir = './dataset'\n",
    "polya_dataset_dir = '{}/polya_db'.format(dataset_dir)\n",
    "polya_pos_csv = '{}/polya_pos.csv'.format(polya_dataset_dir)\n",
    "polya_neg_csv = '{}/polya_neg.csv'.format(polya_dataset_dir)\n",
    "\n",
    "chr_dir = '{}/chr'.format(data_dir)\n",
    "\n",
    "from data_preparation import parse_pas\n",
    "\n",
    "parse_pas(polya_db, polya_db_pos_csv, polya_db_neg_csv)\n"
   ]
  },
  {
   "cell_type": "code",
   "execution_count": 2,
   "metadata": {},
   "outputs": [
    {
     "name": "stdout",
     "output_type": "stream",
     "text": [
      "Error 'SeqRecord' object has no attribute 'write'\n"
     ]
    },
    {
     "ename": "AttributeError",
     "evalue": "'SeqRecord' object has no attribute 'close'",
     "output_type": "error",
     "traceback": [
      "\u001b[1;31m---------------------------------------------------------------------------\u001b[0m",
      "\u001b[1;31mAttributeError\u001b[0m                            Traceback (most recent call last)",
      "\u001b[1;32mz:\\Workspace\\research\\sequence-processing\\data_preparation.py\u001b[0m in \u001b[0;36mgenerate_polya_sequence\u001b[1;34m(polya_index_csv, target_csv, chr_index_dir, chr_index, flank_left_size, flank_right_size)\u001b[0m\n\u001b[0;32m    453\u001b[0m                 \u001b[0mentry\u001b[0m \u001b[1;33m=\u001b[0m \u001b[1;34m''\u001b[0m\u001b[1;33m.\u001b[0m\u001b[0mjoin\u001b[0m\u001b[1;33m(\u001b[0m\u001b[1;33m[\u001b[0m\u001b[0mleft_side\u001b[0m\u001b[1;33m,\u001b[0m \u001b[0mright_side\u001b[0m\u001b[1;33m]\u001b[0m\u001b[1;33m)\u001b[0m\u001b[1;33m\u001b[0m\u001b[1;33m\u001b[0m\u001b[0m\n\u001b[1;32m--> 454\u001b[1;33m                 \u001b[0mf\u001b[0m\u001b[1;33m.\u001b[0m\u001b[0mwrite\u001b[0m\u001b[1;33m(\u001b[0m\u001b[1;34m'{}\\n'\u001b[0m\u001b[1;33m.\u001b[0m\u001b[0mformat\u001b[0m\u001b[1;33m(\u001b[0m\u001b[0mentry\u001b[0m\u001b[1;33m)\u001b[0m\u001b[1;33m)\u001b[0m\u001b[1;33m\u001b[0m\u001b[1;33m\u001b[0m\u001b[0m\n\u001b[0m\u001b[0;32m    455\u001b[0m \u001b[1;33m\u001b[0m\u001b[0m\n",
      "\u001b[1;31mAttributeError\u001b[0m: 'SeqRecord' object has no attribute 'write'",
      "\nDuring handling of the above exception, another exception occurred:\n",
      "\u001b[1;31mAttributeError\u001b[0m                            Traceback (most recent call last)",
      "\u001b[1;32m~\\AppData\\Local\\Temp/ipykernel_15240/2882560754.py\u001b[0m in \u001b[0;36m<module>\u001b[1;34m\u001b[0m\n\u001b[0;32m      1\u001b[0m \u001b[1;32mfrom\u001b[0m \u001b[0mdata_preparation\u001b[0m \u001b[1;32mimport\u001b[0m \u001b[0mgenerate_polya_sequence\u001b[0m\u001b[1;33m,\u001b[0m \u001b[0mchr_dict\u001b[0m\u001b[1;33m\u001b[0m\u001b[1;33m\u001b[0m\u001b[0m\n\u001b[0;32m      2\u001b[0m \u001b[1;33m\u001b[0m\u001b[0m\n\u001b[1;32m----> 3\u001b[1;33m \u001b[0mgenerate_polya_sequence\u001b[0m\u001b[1;33m(\u001b[0m\u001b[0mpolya_db_pos_csv\u001b[0m\u001b[1;33m,\u001b[0m \u001b[0mpolya_pos_csv\u001b[0m\u001b[1;33m,\u001b[0m \u001b[0mchr_dir\u001b[0m\u001b[1;33m,\u001b[0m \u001b[0mchr_dict\u001b[0m\u001b[1;33m)\u001b[0m\u001b[1;33m\u001b[0m\u001b[1;33m\u001b[0m\u001b[0m\n\u001b[0m",
      "\u001b[1;32mz:\\Workspace\\research\\sequence-processing\\data_preparation.py\u001b[0m in \u001b[0;36mgenerate_polya_sequence\u001b[1;34m(polya_index_csv, target_csv, chr_index_dir, chr_index, flank_left_size, flank_right_size)\u001b[0m\n\u001b[0;32m    457\u001b[0m     \u001b[1;32mexcept\u001b[0m \u001b[0mException\u001b[0m \u001b[1;32mas\u001b[0m \u001b[0me\u001b[0m\u001b[1;33m:\u001b[0m\u001b[1;33m\u001b[0m\u001b[1;33m\u001b[0m\u001b[0m\n\u001b[0;32m    458\u001b[0m         \u001b[0mprint\u001b[0m\u001b[1;33m(\u001b[0m\u001b[1;34m'Error {}'\u001b[0m\u001b[1;33m.\u001b[0m\u001b[0mformat\u001b[0m\u001b[1;33m(\u001b[0m\u001b[0me\u001b[0m\u001b[1;33m)\u001b[0m\u001b[1;33m)\u001b[0m\u001b[1;33m\u001b[0m\u001b[1;33m\u001b[0m\u001b[0m\n\u001b[1;32m--> 459\u001b[1;33m         \u001b[0mf\u001b[0m\u001b[1;33m.\u001b[0m\u001b[0mclose\u001b[0m\u001b[1;33m(\u001b[0m\u001b[1;33m)\u001b[0m\u001b[1;33m\u001b[0m\u001b[1;33m\u001b[0m\u001b[0m\n\u001b[0m\u001b[0;32m    460\u001b[0m         \u001b[1;32mreturn\u001b[0m \u001b[1;32mFalse\u001b[0m\u001b[1;33m\u001b[0m\u001b[1;33m\u001b[0m\u001b[0m\n\u001b[0;32m    461\u001b[0m     \u001b[1;32mreturn\u001b[0m \u001b[1;32mFalse\u001b[0m\u001b[1;33m\u001b[0m\u001b[1;33m\u001b[0m\u001b[0m\n",
      "\u001b[1;31mAttributeError\u001b[0m: 'SeqRecord' object has no attribute 'close'"
     ]
    }
   ],
   "source": [
    "from data_preparation import generate_polya_sequence, chr_dict\n",
    "\n",
    "generate_polya_sequence(polya_db_pos_csv, polya_pos_csv, chr_dir, chr_dict)"
   ]
  }
 ],
 "metadata": {
  "interpreter": {
   "hash": "7170ee380771f2003055f3cee3e2e4dd0d81d1dac73a8c82197236b1572f37c2"
  },
  "kernelspec": {
   "display_name": "Python 3.7.9 64-bit ('sequence-processing': venv)",
   "language": "python",
   "name": "python3"
  },
  "language_info": {
   "codemirror_mode": {
    "name": "ipython",
    "version": 3
   },
   "file_extension": ".py",
   "mimetype": "text/x-python",
   "name": "python",
   "nbconvert_exporter": "python",
   "pygments_lexer": "ipython3",
   "version": "3.7.9"
  },
  "orig_nbformat": 4
 },
 "nbformat": 4,
 "nbformat_minor": 2
}
