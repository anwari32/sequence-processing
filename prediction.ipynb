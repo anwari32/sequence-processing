{
 "cells": [
  {
   "cell_type": "code",
   "execution_count": 2,
   "metadata": {},
   "outputs": [
    {
     "name": "stderr",
     "output_type": "stream",
     "text": [
      "c:\\.virtualenv\\deep-learning\\lib\\site-packages\\tqdm\\auto.py:22: TqdmWarning: IProgress not found. Please update jupyter and ipywidgets. See https://ipywidgets.readthedocs.io/en/stable/user_install.html\n",
      "  from .autonotebook import tqdm as notebook_tqdm\n"
     ]
    }
   ],
   "source": [
    "from multiprocessing.sharedctypes import Value\n",
    "import sys\n",
    "import os\n",
    "from getopt import getopt\n",
    "from models.seqlab import DNABERT_SL\n",
    "from utils.seqlab import NUM_LABELS, Index_Dictionary, preprocessing_kmer\n",
    "from transformers import BertForMaskedLM, BertTokenizer\n",
    "import json\n",
    "import torch\n",
    "from tqdm import tqdm\n",
    "from utils.metrics import Metrics\n",
    "import wandb\n",
    "import numpy as np\n",
    "import pandas as pd"
   ]
  },
  {
   "cell_type": "code",
   "execution_count": 3,
   "metadata": {},
   "outputs": [
    {
     "name": "stdout",
     "output_type": "stream",
     "text": [
      "using model config at models\\config\\seqlab\\base.lin1.json\n",
      "found model checkpoint at run\\sso01-adamw-lr5e-5-base.lin1-2w1boplw\\latest\\checkpoint.pth\n",
      "found test data at workspace\\seqlab-latest\\gene_index.01_test_ss_all_pos.csv\n"
     ]
    },
    {
     "name": "stderr",
     "output_type": "stream",
     "text": [
      "Preparing Data gene_index 01_test_ss_all_pos: 100%|██████████| 6961/6961 [00:49<00:00, 141.85it/s]\n"
     ]
    }
   ],
   "source": [
    "# args = parse_args(sys.argv[1:])\n",
    "# for key in args.keys():\n",
    "#     print(f\"# {key} - {args[key]}\")\n",
    "\n",
    "# use static input first.\n",
    "args = {\n",
    "    \"device\": \"cuda:0\",\n",
    "    \"model-config\": os.path.join(\"models\", \"config\", \"seqlab\", \"base.lin1.json\"),\n",
    "    \"model-checkpoint\": os.path.join(\"run\", \"sso01-adamw-lr5e-5-base.lin1-2w1boplw\", \"latest\", \"checkpoint.pth\"),\n",
    "    \"test-config\": os.path.join(\"training\", \"config\", \"seqlab\", \"ss-only.01.lr5e-5.json\"),\n",
    "    \"log\": os.path.join(\"prediction\", \"sso01-adamw-lr5e-5-base.lin1-2w1boplw\")\n",
    "}\n",
    "\n",
    "device = args.get(\"device\", \"cpu\") # specify device or use cpu otherwise.\n",
    "\n",
    "model_config_path = args.get(\"model-config\", False)\n",
    "model_checkpoint = args.get(\"model-checkpoint\", False)\n",
    "test_config_path = args.get(\"test-config\")\n",
    "test_config = json.load(open(test_config_path, \"r\"))\n",
    "test_file = test_config.get(\"test_data\", False)\n",
    "\n",
    "if not model_config_path:\n",
    "    raise ValueError(\"model config not specified.\")\n",
    "if not os.path.exists(model_config_path):\n",
    "    raise ValueError(f\"model config not exists at {model_config_path}\")\n",
    "print(f\"using model config at {model_config_path}\")\n",
    "    \n",
    "if not model_checkpoint:\n",
    "    raise ValueError(\"model checkpoint not specified.\")\n",
    "if not os.path.exists(model_checkpoint):\n",
    "    raise ValueError(f\"model checkpoint not exists at {model_checkpoint}\")\n",
    "print(f\"found model checkpoint at {model_checkpoint}\")\n",
    "\n",
    "if not test_file:\n",
    "    raise ValueError(\"test not specified.\")\n",
    "if not os.path.exists(test_file):\n",
    "    raise ValueError(f\"test file not exists at {test_file}\")\n",
    "print(f\"found test data at {test_file}\")\n",
    "\n",
    "bert_for_masked_lm = BertForMaskedLM.from_pretrained(os.path.join(\"pretrained\", \"3-new-12w-0\"))\n",
    "model = DNABERT_SL(\n",
    "    bert_for_masked_lm.bert, # bert, \n",
    "    json.load(open(model_config_path, \"r\")) # config\n",
    ")\n",
    "\n",
    "checkpoint = torch.load(model_checkpoint, map_location=device)\n",
    "model.load_state_dict(checkpoint.get(\"model\"))\n",
    "model.eval()\n",
    "model.to(device)\n",
    "\n",
    "tokenizer = BertTokenizer.from_pretrained(os.path.join(\"pretrained\", \"3-new-12w-0\"))"
   ]
  },
  {
   "cell_type": "code",
   "execution_count": null,
   "metadata": {},
   "outputs": [],
   "source": [
    "# loading data.\n",
    "batch_size = 1\n",
    "test_dataloader = preprocessing_kmer(test_file, tokenizer, batch_size)\n",
    "test_size = len(test_dataloader)\n"
   ]
  },
  {
   "cell_type": "code",
   "execution_count": 5,
   "metadata": {},
   "outputs": [
    {
     "name": "stdout",
     "output_type": "stream",
     "text": [
      "found log directory at prediction\\log\n"
     ]
    },
    {
     "data": {
      "text/html": [
       "Finishing last run (ID:2421j2cm) before initializing another..."
      ],
      "text/plain": [
       "<IPython.core.display.HTML object>"
      ]
     },
     "metadata": {},
     "output_type": "display_data"
    },
    {
     "data": {
      "text/html": [
       "Waiting for W&B process to finish... <strong style=\"color:green\">(success).</strong>"
      ],
      "text/plain": [
       "<IPython.core.display.HTML object>"
      ]
     },
     "metadata": {},
     "output_type": "display_data"
    },
    {
     "data": {
      "text/html": [
       "Synced <strong style=\"color:#cdcd00\">ethereal-sun-9</strong>: <a href=\"https://wandb.ai/anwari32/prediction/runs/2421j2cm\" target=\"_blank\">https://wandb.ai/anwari32/prediction/runs/2421j2cm</a><br/>Synced 5 W&B file(s), 0 media file(s), 0 artifact file(s) and 0 other file(s)"
      ],
      "text/plain": [
       "<IPython.core.display.HTML object>"
      ]
     },
     "metadata": {},
     "output_type": "display_data"
    },
    {
     "data": {
      "text/html": [
       "Find logs at: <code>.\\wandb\\run-20221102_094107-2421j2cm\\logs</code>"
      ],
      "text/plain": [
       "<IPython.core.display.HTML object>"
      ]
     },
     "metadata": {},
     "output_type": "display_data"
    },
    {
     "data": {
      "text/html": [
       "Successfully finished last run (ID:2421j2cm). Initializing new run:<br/>"
      ],
      "text/plain": [
       "<IPython.core.display.HTML object>"
      ]
     },
     "metadata": {},
     "output_type": "display_data"
    },
    {
     "data": {
      "text/html": [
       "Tracking run with wandb version 0.13.4"
      ],
      "text/plain": [
       "<IPython.core.display.HTML object>"
      ]
     },
     "metadata": {},
     "output_type": "display_data"
    },
    {
     "data": {
      "text/html": [
       "Run data is saved locally in <code>w:\\Research\\sequence-processing\\wandb\\run-20221102_094208-35rvm49e</code>"
      ],
      "text/plain": [
       "<IPython.core.display.HTML object>"
      ]
     },
     "metadata": {},
     "output_type": "display_data"
    },
    {
     "data": {
      "text/html": [
       "Syncing run <strong><a href=\"https://wandb.ai/anwari32/prediction/runs/35rvm49e\" target=\"_blank\">stilted-wind-10</a></strong> to <a href=\"https://wandb.ai/anwari32/prediction\" target=\"_blank\">Weights & Biases</a> (<a href=\"https://wandb.me/run\" target=\"_blank\">docs</a>)<br/>"
      ],
      "text/plain": [
       "<IPython.core.display.HTML object>"
      ]
     },
     "metadata": {},
     "output_type": "display_data"
    },
    {
     "data": {
      "text/plain": [
       "<wandb.sdk.wandb_metric.Metric at 0x1f2d51576c8>"
      ]
     },
     "execution_count": 5,
     "metadata": {},
     "output_type": "execute_result"
    }
   ],
   "source": [
    "logdir = os.path.join(\"prediction\", \"log\")\n",
    "os.makedirs(logdir, exist_ok=True)\n",
    "print(f\"found log directory at {logdir}\")\n",
    "\n",
    "# initialize wandb.\n",
    "run = wandb.init(\n",
    "    project=\"prediction\",\n",
    "    entity=\"anwari32\"\n",
    ")\n",
    "wandb.define_metric(\"prediction_step\")\n",
    "wandb.define_metric(\"prediction/*\", step_metric=\"prediction_step\")"
   ]
  },
  {
   "cell_type": "code",
   "execution_count": 6,
   "metadata": {},
   "outputs": [
    {
     "name": "stderr",
     "output_type": "stream",
     "text": [
      "Testing: 100%|██████████| 6961/6961 [07:43<00:00, 15.02it/s]\n"
     ]
    },
    {
     "data": {
      "text/html": [
       "Waiting for W&B process to finish... <strong style=\"color:green\">(success).</strong>"
      ],
      "text/plain": [
       "<IPython.core.display.HTML object>"
      ]
     },
     "metadata": {},
     "output_type": "display_data"
    },
    {
     "data": {
      "text/html": [
       "<style>\n",
       "    table.wandb td:nth-child(1) { padding: 0 10px; text-align: left ; width: auto;} td:nth-child(2) {text-align: left ; width: 100%}\n",
       "    .wandb-row { display: flex; flex-direction: row; flex-wrap: wrap; justify-content: flex-start; width: 100% }\n",
       "    .wandb-col { display: flex; flex-direction: column; flex-basis: 100%; flex: 1; padding: 10px; }\n",
       "    </style>\n",
       "<div class=\"wandb-row\"><div class=\"wandb-col\"><h3>Run history:</h3><br/><table class=\"wandb\"><tr><td>prediction/f1_score-EEE</td><td>▂▃▁▁▁▁▁▁▃█▆▄▃▄▇▅▆▇▇▁▁▂▁▅█▆▃▅▆▅▅▇██▆▅▂▂▆▄</td></tr><tr><td>prediction/f1_score-EEi</td><td>▁▁▁▁▁▁▆▁▆▁▁▁▆▅▆▁███▁▁▁▆▆█▆███▆█▆▅▆▆██▁▁▁</td></tr><tr><td>prediction/f1_score-EiE</td><td>▁▁▁▁▁▁▁▁▁▁▁▁▁▁▁▁▁▁▁▁▁▁▁▁▁▁▁▁▁▁▁▁▁▁▁▁▁▁▁▁</td></tr><tr><td>prediction/f1_score-Eii</td><td>▁▆▁▁▁▁▆█▆▁▁▁█▁▆▁███▁▁▁▆▆█▅███▆█▆▅▆███▁▁▁</td></tr><tr><td>prediction/f1_score-iEE</td><td>▁▁▁▁▁▁█▆██▃▆▁▁▁▁▁▂▆▆▁▁▁▅█▄▂▆▅▂▁███▃▅▂▁▁▁</td></tr><tr><td>prediction/f1_score-iEi</td><td>▁▁▁▁▁▁▁▁▁▁▁▁▁▁▁▁▁▁▁▁▁▁▁▁▁▁▁▁▁▁▁▁▁▁▁▁▁▁▁▁</td></tr><tr><td>prediction/f1_score-iiE</td><td>▁▁▁▁▁▁█▆████▁▁▁█▁█▆▆▁▁▁███▅▆▆▄▁████▆█▁▆▁</td></tr><tr><td>prediction/f1_score-iii</td><td>▅▆█▇▇█████▇▃▁▆█████▆▃▆▆▇█▇▆▇▇▇▇███▇▇▇▇▇▂</td></tr><tr><td>prediction/precision-EEE</td><td>▃▂▁▁▁▁▁▁████▇▇▇██▇████▁▄█▄▃▄▅▄▄▆██▅▄▂▂██</td></tr><tr><td>prediction/precision-EEi</td><td>▁▁▁▁▁▁▅▁▅▁▁▁▅▃▅▁███▁▁▁▅▅█▅███▅█▅▃▅▅██▁▁▁</td></tr><tr><td>prediction/precision-EiE</td><td>▁▁▁▁▁▁▁▁▁▁▁▁▁▁▁▁▁▁▁▁▁▁▁▁▁▁▁▁▁▁▁▁▁▁▁▁▁▁▁▁</td></tr><tr><td>prediction/precision-Eii</td><td>▁▅▁▁▁▁▅█▅▁▁▁█▁▅▁███▁▁▁▅▅█▃███▅█▅▃▅███▁▁▁</td></tr><tr><td>prediction/precision-iEE</td><td>▁▁▁▁▁▁█▅██▂▅▁▁▁▁▁▂▅▅▁▁▁▃█▃▁▅▄▁▁███▂▃▂▁▁▁</td></tr><tr><td>prediction/precision-iEi</td><td>▁▁▁▁▁▁▁▁▁▁▁▁▁▁▁▁▁▁▁▁▁▁▁▁▁▁▁▁▁▁▁▁▁▁▁▁▁▁▁▁</td></tr><tr><td>prediction/precision-iiE</td><td>▁▁▁▁▁▁█▅████▁▁▁█▁█▅▅▁▁▁███▃▅█▃▁████▅█▁▅▁</td></tr><tr><td>prediction/precision-iii</td><td>▅▇▇▇▇▇████▆▂▁▅█▇▇██▅▂▅▇█████████████▇▇▆▂</td></tr><tr><td>prediction/recall-EEE</td><td>▂▄▁▁▁▁▁▁▂█▄▃▂▃█▄▅▆▇▁▁▂▁███▆▇█▇███▇██▂▂▅▃</td></tr><tr><td>prediction/recall-EEi</td><td>▁▁▁▁▁▁█▁█▁▁▁███▁███▁▁▁███████████████▁▁▁</td></tr><tr><td>prediction/recall-EiE</td><td>▁▁▁▁▁▁▁▁▁▁▁▁▁▁▁▁▁▁▁▁▁▁▁▁▁▁▁▁▁▁▁▁▁▁▁▁▁▁▁▁</td></tr><tr><td>prediction/recall-Eii</td><td>▁█▁▁▁▁███▁▁▁█▁█▁███▁▁▁███████████████▁▁▁</td></tr><tr><td>prediction/recall-iEE</td><td>▁▁▁▁▁▁██████▁▁▁█▁███▁▁▁███████▁██████▁█▁</td></tr><tr><td>prediction/recall-iEi</td><td>▁▁▁▁▁▁▁▁▁▁▁▁▁▁▁▁▁▁▁▁▁▁▁▁▁▁▁▁▁▁▁▁▁▁▁▁▁▁▁▁</td></tr><tr><td>prediction/recall-iiE</td><td>▁▁▁▁▁▁██████▁▁▁█▁███▁▁▁█████▅█▁██████▁█▁</td></tr><tr><td>prediction/recall-iii</td><td>▄▂██████████▁▇▇██▇████▃▅█▆▂▅▅▅▅▇██▆▅▅▇██</td></tr><tr><td>prediction_step</td><td>▁▁▁▂▂▂▂▂▂▃▃▃▃▃▃▄▄▄▄▄▅▅▅▅▅▅▆▆▆▆▆▇▇▇▇▇▇███</td></tr></table><br/></div><div class=\"wandb-col\"><h3>Run summary:</h3><br/><table class=\"wandb\"><tr><td>prediction/f1_score-EEE</td><td>0.42171</td></tr><tr><td>prediction/f1_score-EEi</td><td>0</td></tr><tr><td>prediction/f1_score-EiE</td><td>0</td></tr><tr><td>prediction/f1_score-Eii</td><td>0</td></tr><tr><td>prediction/f1_score-iEE</td><td>0.06667</td></tr><tr><td>prediction/f1_score-iEi</td><td>0</td></tr><tr><td>prediction/f1_score-iiE</td><td>0</td></tr><tr><td>prediction/f1_score-iii</td><td>0</td></tr><tr><td>prediction/precision-EEE</td><td>1.0</td></tr><tr><td>prediction/precision-EEi</td><td>0</td></tr><tr><td>prediction/precision-EiE</td><td>0</td></tr><tr><td>prediction/precision-Eii</td><td>0.0</td></tr><tr><td>prediction/precision-iEE</td><td>0.03448</td></tr><tr><td>prediction/precision-iEi</td><td>0</td></tr><tr><td>prediction/precision-iiE</td><td>0.0</td></tr><tr><td>prediction/precision-iii</td><td>0.0</td></tr><tr><td>prediction/recall-EEE</td><td>0.26719</td></tr><tr><td>prediction/recall-EEi</td><td>0</td></tr><tr><td>prediction/recall-EiE</td><td>0</td></tr><tr><td>prediction/recall-Eii</td><td>0</td></tr><tr><td>prediction/recall-iEE</td><td>1.0</td></tr><tr><td>prediction/recall-iEi</td><td>0</td></tr><tr><td>prediction/recall-iiE</td><td>0</td></tr><tr><td>prediction/recall-iii</td><td>0</td></tr><tr><td>prediction_step</td><td>6960</td></tr></table><br/></div></div>"
      ],
      "text/plain": [
       "<IPython.core.display.HTML object>"
      ]
     },
     "metadata": {},
     "output_type": "display_data"
    },
    {
     "data": {
      "text/html": [
       "Synced <strong style=\"color:#cdcd00\">stilted-wind-10</strong>: <a href=\"https://wandb.ai/anwari32/prediction/runs/35rvm49e\" target=\"_blank\">https://wandb.ai/anwari32/prediction/runs/35rvm49e</a><br/>Synced 5 W&B file(s), 0 media file(s), 0 artifact file(s) and 0 other file(s)"
      ],
      "text/plain": [
       "<IPython.core.display.HTML object>"
      ]
     },
     "metadata": {},
     "output_type": "display_data"
    },
    {
     "data": {
      "text/html": [
       "Find logs at: <code>.\\wandb\\run-20221102_094208-35rvm49e\\logs</code>"
      ],
      "text/plain": [
       "<IPython.core.display.HTML object>"
      ]
     },
     "metadata": {},
     "output_type": "display_data"
    }
   ],
   "source": [
    "result = []\n",
    "prediction_step = 0\n",
    "device = \"cuda:0\"\n",
    "model.to(device)\n",
    "df_data = {}\n",
    "token_f1_scores = {}\n",
    "token_precision = {}\n",
    "token_recall = {}\n",
    "\n",
    "for i in range(NUM_LABELS):\n",
    "    label = Index_Dictionary[i]\n",
    "    token_f1_scores[label] = []\n",
    "    token_precision[label] = []\n",
    "    token_recall[label] = []\n",
    "\n",
    "for step, batch in tqdm(enumerate(test_dataloader), total=test_size, desc=\"Testing\"):\n",
    "    input_ids, attn_mask, token_type_ids, target_labels = tuple(t.to(device) for t in batch)\n",
    "    with torch.no_grad():\n",
    "        predictions, bert_output = model(input_ids, attn_mask)\n",
    "        for inputs, pred, target_label in zip(input_ids, predictions, target_labels):\n",
    "            vals, pred_ids = torch.max(pred, 1)\n",
    "            input_ids_list = inputs.tolist()\n",
    "            pred_ids_list = pred_ids.tolist()\n",
    "            target_list = target_label.tolist()\n",
    "            \n",
    "            # log to local first.\n",
    "            input_ids_str = [str(a) for a in input_ids_list]\n",
    "            input_ids_str = \" \".join(input_ids_str)\n",
    "            pred_ids_str = [str(a) for a in pred_ids_list]\n",
    "            pred_ids_str = \" \".join(pred_ids_str)\n",
    "            target_ids_str = [str(a) for a in target_list]\n",
    "            target_ids_str = \" \".join(target_ids_str)\n",
    "\n",
    "            actual_input_ids = input_ids_list[1:] # remove CLS token\n",
    "            actual_input_ids = [t for t in actual_input_ids if t > 0]\n",
    "            actual_target_ids = target_list[1:] # remove CLS token\n",
    "            actual_target_ids = [a for a in actual_target_ids if a >= 0]\n",
    "            actual_pred_ids = pred_ids_list[1:] # remove CLS prediction\n",
    "            actual_pred_ids = actual_pred_ids[0:len(actual_target_ids)]\n",
    "\n",
    "            metrics = Metrics(actual_pred_ids, actual_target_ids)\n",
    "            metrics.calculate()\n",
    "            for label_idx in range(NUM_LABELS):\n",
    "                precision = metrics.precision(label_idx)\n",
    "                recall = metrics.recall(label_idx)\n",
    "                f1_score = metrics.f1_score(label_idx)\n",
    "                label_name = Index_Dictionary[label_idx]\n",
    "                wandb.log({\n",
    "                    f\"prediction/precision-{label_name}\": precision,\n",
    "                    f\"prediction/recall-{label_name}\": recall,\n",
    "                    f\"prediction/f1_score-{label_name}\": f1_score,\n",
    "                    \"prediction_step\": prediction_step\n",
    "                })\n",
    "                token_f1_scores[label_name].append(f1_score)\n",
    "                token_precision[label_name].append(precision)\n",
    "                token_recall[label_name].append(recall)\n",
    "\n",
    "            prediction_step += 1\n",
    "\n",
    "for k in token_f1_scores.keys():\n",
    "    df_data[f\"f1_score-{k}\"] = token_f1_scores[k]\n",
    "    df_data[f\"precision-{k}\"] = token_precision[k]\n",
    "    df_data[f\"recall-{k}\"] = token_recall[k]\n",
    "\n",
    "df = pd.DataFrame(data=df_data)\n",
    "df.to_csv(os.path.join(logdir, \"prediction_log.csv\"),index=False)\n",
    "\n",
    "run.finish()"
   ]
  },
  {
   "cell_type": "code",
   "execution_count": 9,
   "metadata": {},
   "outputs": [],
   "source": [
    "logpath = os.path.join(\"prediction\", \"log\", \"prediction_log.csv\")\n",
    "df = pd.read_csv(logpath)\n",
    "df[\"f1_score_total\"] = df[\"f1_score-iii\"] + df[\"f1_score-iiE\"] + df[\"f1_score-iEE\"] + df[\"f1_score-iiE\"] + df[\"f1_score-iEE\"] + df[\"f1_score-EEE\"] \n",
    "df.head()\n",
    "df.to_csv(logpath, index=False)\n"
   ]
  },
  {
   "cell_type": "code",
   "execution_count": 16,
   "metadata": {},
   "outputs": [
    {
     "data": {
      "image/png": "[encoded data removed]",
      "text/plain": [
       "<Figure size 800x500 with 1 Axes>"
      ]
     },
     "metadata": {},
     "output_type": "display_data"
    }
   ],
   "source": [
    "import os\n",
    "import pandas as pd\n",
    "import matplotlib.pyplot as plt\n",
    "\n",
    "logpath = os.path.join(\"prediction\", \"log\", \"prediction_log.csv\")\n",
    "\n",
    "df = pd.read_csv(logpath)\n",
    "\n",
    "token_labels = labels = [\"iii\", \"EEE\", \"iEE\", \"iiE\", \"Eii\", \"EEi\"]\n",
    "xs = [i for i in range(df.shape[0])]\n",
    "\n",
    "figs, axes = plt.subplots(nrows=3, ncols=2, constrained_layout=True, figsize=(8, 7))\n",
    "\n",
    "\n",
    "plt.suptitle(\"Prediction Result\")\n",
    "plt.show()\n",
    "\n",
    "    \n",
    "    "
   ]
  },
  {
   "cell_type": "code",
   "execution_count": 12,
   "metadata": {},
   "outputs": [
    {
     "data": {
      "text/plain": [
       "PreTrainedTokenizer(name_or_path='pretrained\\3-new-12w-0', vocab_size=69, model_max_len=512, is_fast=False, padding_side='right', truncation_side='right', special_tokens={'unk_token': '[UNK]', 'sep_token': '[SEP]', 'pad_token': '[PAD]', 'cls_token': '[CLS]', 'mask_token': '[MASK]'})"
      ]
     },
     "execution_count": 12,
     "metadata": {},
     "output_type": "execute_result"
    }
   ],
   "source": [
    "tokenizer"
   ]
  },
  {
   "cell_type": "code",
   "execution_count": 33,
   "metadata": {},
   "outputs": [
    {
     "name": "stdout",
     "output_type": "stream",
     "text": [
      "                                            sequence  \\\n",
      "0  TCA CAT ATT TTG TGT GTG TGA GAC ACC CCT CTG TG...   \n",
      "1  CAT ATT TTG TGT GTG TGA GAC ACC CCT CTG TGG GG...   \n",
      "2  ATT TTG TGT GTG TGA GAC ACC CCT CTG TGG GGG GG...   \n",
      "3  TTG TGT GTG TGA GAC ACC CCT CTG TGG GGG GGA GA...   \n",
      "4  TGT GTG TGA GAC ACC CCT CTG TGG GGG GGA GAG AG...   \n",
      "\n",
      "                                               label  \n",
      "0  EEE EEE EEE EEE EEE EEE EEE EEE EEE EEE EEE EE...  \n",
      "1  EEE EEE EEE EEE EEE EEE EEE EEE EEE EEE EEE EE...  \n",
      "2  EEE EEE EEE EEE EEE EEE EEE EEE EEE EEE EEE EE...  \n",
      "3  EEE EEE EEE EEE EEE EEE EEE EEE EEE EEE EEE EE...  \n",
      "4  EEE EEE EEE EEE EEE EEE EEE EEE EEE EEE EEE EE...  \n",
      "(4553,)\n",
      "dict_keys(['label_sequence_id', 'input_ids', 'prediction', 'target', 'step', 'f1_score-iii', 'precision-iii', 'recall-iii', 'f1_score-iiE', 'precision-iiE', 'recall-iiE', 'f1_score-iEi', 'precision-iEi', 'recall-iEi', 'f1_score-Eii', 'precision-Eii', 'recall-Eii', 'f1_score-iEE', 'precision-iEE', 'recall-iEE', 'f1_score-EEi', 'precision-EEi', 'recall-EEi', 'f1_score-EiE', 'precision-EiE', 'recall-EiE', 'f1_score-EEE', 'precision-EEE', 'recall-EEE'])\n"
     ]
    },
    {
     "name": "stderr",
     "output_type": "stream",
     "text": [
      "Predicting: 100%|██████████| 4553/4553 [11:50<00:00,  6.40it/s]\n"
     ]
    },
    {
     "name": "stdout",
     "output_type": "stream",
     "text": [
      "label_sequence_id 6961\n",
      "input_ids 6961\n",
      "prediction 6961\n",
      "target 6961\n",
      "step 6961\n",
      "f1_score-iii 6961\n",
      "precision-iii 6961\n",
      "recall-iii 6961\n",
      "f1_score-iiE 6961\n",
      "precision-iiE 6961\n",
      "recall-iiE 6961\n",
      "f1_score-iEi 6961\n",
      "precision-iEi 6961\n",
      "recall-iEi 6961\n",
      "f1_score-Eii 6961\n",
      "precision-Eii 6961\n",
      "recall-Eii 6961\n",
      "f1_score-iEE 6961\n",
      "precision-iEE 6961\n",
      "recall-iEE 6961\n",
      "f1_score-EEi 6961\n",
      "precision-EEi 6961\n",
      "recall-EEi 6961\n",
      "f1_score-EiE 6961\n",
      "precision-EiE 6961\n",
      "recall-EiE 6961\n",
      "f1_score-EEE 6961\n",
      "precision-EEE 6961\n",
      "recall-EEE 6961\n"
     ]
    }
   ],
   "source": [
    "from torch import tensor\n",
    "from torch.utils.data import TensorDataset, DataLoader\n",
    "from utils.seqlab import Label_Dictionary, _process_label, Index_Dictionary\n",
    "from utils.metrics import Metrics\n",
    "from tqdm import tqdm\n",
    "\n",
    "test_df = pd.read_csv(test_file)\n",
    "print(test_df.head())\n",
    "\n",
    "unique_label_sequences = np.unique(test_df[\"label\"])\n",
    "print(unique_label_sequences.shape)\n",
    "num_classes = 8\n",
    "\n",
    "device = \"cuda:0\"\n",
    "model.to(device)\n",
    "\n",
    "unique_label_sequences_ids = []\n",
    "unique_label_sequences_names = []\n",
    "unique_label_sequence_counter = 0\n",
    "average_f1_score = {}\n",
    "average_precision = {}\n",
    "average_recall = {}\n",
    "\n",
    "error_analysis_log = {}\n",
    "error_analysis_log[\"label_sequence_id\"] = []\n",
    "error_analysis_log[\"input_ids\"] = []\n",
    "error_analysis_log[\"prediction\"] = []\n",
    "error_analysis_log[\"target\"] = []\n",
    "error_analysis_log[\"step\"] = []\n",
    "\n",
    "for i in range(num_classes):\n",
    "    k = Index_Dictionary[i]\n",
    "    average_f1_score[k] = []\n",
    "    average_precision[k] = []\n",
    "    average_recall[k] = []\n",
    "    error_analysis_log[f\"f1_score-{k}\"] = []\n",
    "    error_analysis_log[f\"precision-{k}\"] = []\n",
    "    error_analysis_log[f\"recall-{k}\"] = []\n",
    "\n",
    "\n",
    "print(error_analysis_log.keys())\n",
    "prediction_step = 0\n",
    "\n",
    "for label_sequence in tqdm(unique_label_sequences, total=unique_label_sequences.shape[0], desc=\"Predicting\"):\n",
    "    unique_label_sequences_ids.append(unique_label_sequence_counter)\n",
    "    unique_label_sequences_names.append(label_sequence)\n",
    "\n",
    "    cur_df = test_df[test_df[\"label\"] == label_sequence]\n",
    "    this_df_f1_score = {}\n",
    "    this_df_precision = {}\n",
    "    this_df_recall = {}\n",
    "    for i in range(num_classes):\n",
    "        label_name = Index_Dictionary[i]\n",
    "        this_df_f1_score[label_name] = []\n",
    "        this_df_precision[label_name] = []\n",
    "        this_df_recall[label_name] = []\n",
    "\n",
    "    for i, r in cur_df.iterrows():\n",
    "        sequence = r[\"sequence\"]\n",
    "        encoded_sequence = tokenizer.encode_plus(sequence)\n",
    "        input_ids = encoded_sequence.get(\"input_ids\")\n",
    "        attention_mask = encoded_sequence.get(\"attention_mask\")\n",
    "        target_label = r[\"label\"]\n",
    "        target_label_ids = _process_label(target_label)\n",
    "\n",
    "        arr_input_ids = [input_ids]\n",
    "        arr_input_ids = tensor(arr_input_ids)\n",
    "        arr_attention_mask = [attention_mask]\n",
    "        arr_attention_mask = tensor(arr_attention_mask)\n",
    "        arr_label_ids = [target_label_ids]\n",
    "        arr_label_ids = tensor(arr_label_ids)\n",
    "\n",
    "        y_pred, bert_output = model(\n",
    "            arr_input_ids.to(device), \n",
    "            arr_attention_mask.to(device)\n",
    "        )\n",
    "\n",
    "        y_pred_index = torch.argmax(y_pred, 2).flatten()\n",
    "        y_pred_index = y_pred_index.tolist()\n",
    "\n",
    "        # Clean up.\n",
    "        target_label_ids = target_label_ids[1:] # remove CLS token.\n",
    "        target_label_ids = [t for t in target_label_ids if t >= 0]\n",
    "        y_pred_ids = y_pred_index[1:] # remove CLS token.\n",
    "        y_pred_ids = y_pred_ids[0:len(target_label_ids)]\n",
    "\n",
    "        # log input and output in error_analysis_log\n",
    "        error_analysis_log[\"step\"].append(\n",
    "            prediction_step\n",
    "        )\n",
    "        prediction_step += 1\n",
    "\n",
    "        error_analysis_log[\"label_sequence_id\"].append(\n",
    "            unique_label_sequence_counter\n",
    "        )\n",
    "        error_analysis_log[\"input_ids\"].append(\n",
    "            tokenizer.decode(input_ids, skip_special_tokens=True)\n",
    "        )\n",
    "        error_analysis_log[\"prediction\"].append(\n",
    "            ' '.join([str(a) for a in y_pred_ids])\n",
    "        )\n",
    "        error_analysis_log[\"target\"].append(\n",
    "            ' '.join([str(a) for a in target_label_ids])\n",
    "        )\n",
    "\n",
    "        metrics = Metrics(y_pred_ids, target_label_ids)\n",
    "        metrics.calculate()\n",
    "        \n",
    "        for i in range(num_classes):\n",
    "            label_name = Index_Dictionary[i]\n",
    "            this_df_f1_score[label_name].append(metrics.f1_score(i))\n",
    "            this_df_precision[label_name].append(metrics.precision(i))\n",
    "            this_df_recall[label_name].append(metrics.recall(i))\n",
    "            error_analysis_log[f\"f1_score-{label_name}\"].append(metrics.f1_score(i))\n",
    "            error_analysis_log[f\"precision-{label_name}\"].append(metrics.precision(i))\n",
    "            error_analysis_log[f\"recall-{label_name}\"].append(metrics.recall(i))\n",
    "        \n",
    "\n",
    "    for i in range(num_classes):\n",
    "        k = Index_Dictionary[i]\n",
    "        average_f1_score[k].append(np.average(this_df_f1_score[k]))\n",
    "        average_precision[k].append(np.average(this_df_precision[k]))\n",
    "        average_recall[k].append(np.average(this_df_recall[k]))\n",
    "\n",
    "    unique_label_sequence_counter += 1\n",
    "\n",
    "\n",
    "data = {}\n",
    "data[\"label_sequence_id\"] = unique_label_sequences_ids\n",
    "data[\"label_sequence_name\"] = unique_label_sequences_names\n",
    "for i in range(num_classes):\n",
    "    label_name = Index_Dictionary[i]\n",
    "    data[f\"average-f1_score-{label_name}\"] = average_f1_score[label_name]\n",
    "    data[f\"average-precision-{label_name}\"] = average_precision[label_name]\n",
    "    data[f\"average-recall-{label_name}\"] = average_recall[label_name]\n",
    "\n",
    "result_df = pd.DataFrame(data=data)\n",
    "result_df.to_csv(\n",
    "    os.path.join(\"prediction\", \"error_analysis.csv\"), \n",
    "    index=False,\n",
    ")\n",
    "\n",
    "for k in error_analysis_log.keys():\n",
    "    print(f\"{k} {len(error_analysis_log[k])}\")\n",
    "\n",
    "error_analysis_log_df = pd.DataFrame(data=error_analysis_log)\n",
    "error_analysis_log_df.to_csv(\n",
    "    os.path.join(\"prediction\", \"error_analysis_log.csv\"),\n",
    "    index=False\n",
    ")\n"
   ]
  },
  {
   "cell_type": "code",
   "execution_count": null,
   "metadata": {},
   "outputs": [],
   "source": [
    "# prediction over gene.\n"
   ]
  },
  {
   "cell_type": "code",
   "execution_count": 17,
   "metadata": {},
   "outputs": [
    {
     "data": {
      "text/plain": [
       "{'average-f1_score': 0.5576926450901027,\n",
       " 'average-precision': 0.5145578909248743,\n",
       " 'average-recall': 0.6568118352106931}"
      ]
     },
     "execution_count": 17,
     "metadata": {},
     "output_type": "execute_result"
    }
   ],
   "source": [
    "import pandas as pd\n",
    "import numpy as np\n",
    "import matplotlib.pyplot as plt\n",
    "\n",
    "error_analysis_df = pd.read_csv(\n",
    "    os.path.join(\"prediction\", \"error_analysis.csv\")\n",
    ")\n",
    "\n",
    "error_analysis_df.head(10)\n",
    "token_labels = [\"iii\", \"EEE\", \"iEE\", \"iiE\", \"Eii\", \"EEi\"]\n",
    "summary_df = {}\n",
    "for token_label in token_labels:\n",
    "    summary_df[\"average-f1_score\"] = np.average(\n",
    "        error_analysis_df[f\"average-f1_score-{token_label}\"]\n",
    "    )\n",
    "    summary_df[\"max-f1_score\"] = np.max(\n",
    "        error_analysis_df[f\"average-f1_score-{token_label}\"]\n",
    "    )\n",
    "    summary_df[\"min-f1_score\"] = np.min(\n",
    "        error_analysis_df[f\"average-f1_score-{token_label}\"]\n",
    "    )\n",
    "    summary_df[\"average-precision\"] = np.average(\n",
    "        error_analysis_df[f\"average-precision-{token_label}\"]\n",
    "    )\n",
    "    summary_df[\"average-recall\"] = np.average(\n",
    "        error_analysis_df[f\"average-recall-{token_label}\"]\n",
    "    )\n",
    "\n",
    "summary_df"
   ]
  },
  {
   "cell_type": "code",
   "execution_count": 6,
   "metadata": {},
   "outputs": [
    {
     "data": {
      "text/plain": [
       "'AAA ATG AGC'"
      ]
     },
     "execution_count": 6,
     "metadata": {},
     "output_type": "execute_result"
    }
   ],
   "source": [
    "tokenizer.decode([2, 3, 4, 5, 12, 19, 3], skip_special_tokens=True)"
   ]
  },
  {
   "cell_type": "code",
   "execution_count": 24,
   "metadata": {},
   "outputs": [
    {
     "data": {
      "text/plain": [
       "'777777777777777777777777777777777777777777777777777777777777777777777777777777777777777777777777777777777777777777777777777777777777777777777777777777777777777777777777777777777777777777777777777777777777777777777777777777777777777777777777777777777777777777777777777777777777777777777777777777777777777777777777777777777777777777777777777777777777777777777777777777777777777777777777777777777777777777777777777777777777777777777777777777777777777777777777777777777777777777777777777777777777777777777777777775'"
      ]
     },
     "execution_count": 24,
     "metadata": {},
     "output_type": "execute_result"
    }
   ],
   "source": [
    "a = \"7 7 7 7 7 7 7 7 7 7 7 7 7 7 7 7 7 7 7 7 7 7 7 7 7 7 7 7 7 7 7 7 7 7 7 7 7 7 7 7 7 7 7 7 7 7 7 7 7 7 7 7 7 7 7 7 7 7 7 7 7 7 7 7 7 7 7 7 7 7 7 7 7 7 7 7 7 7 7 7 7 7 7 7 7 7 7 7 7 7 7 7 7 7 7 7 7 7 7 7 7 7 7 7 7 7 7 7 7 7 7 7 7 7 7 7 7 7 7 7 7 7 7 7 7 7 7 7 7 7 7 7 7 7 7 7 7 7 7 7 7 7 7 7 7 7 7 7 7 7 7 7 7 7 7 7 7 7 7 7 7 7 7 7 7 7 7 7 7 7 7 7 7 7 7 7 7 7 7 7 7 7 7 7 7 7 7 7 7 7 7 7 7 7 7 7 7 7 7 7 7 7 7 7 7 7 7 7 7 7 7 7 7 7 7 7 7 7 7 7 7 7 7 7 7 7 7 7 7 7 7 7 7 7 7 7 7 7 7 7 7 7 7 7 7 7 7 7 7 7 7 7 7 7 7 7 7 7 7 7 7 7 7 7 7 7 7 7 7 7 7 7 7 7 7 7 7 7 7 7 7 7 7 7 7 7 7 7 7 7 7 7 7 7 7 7 7 7 7 7 7 7 7 7 7 7 7 7 7 7 7 7 7 7 7 7 7 7 7 7 7 7 7 7 7 7 7 7 7 7 7 7 7 7 7 7 7 7 7 7 7 7 7 7 7 7 7 7 7 7 7 7 7 7 7 7 7 7 7 7 7 7 7 7 7 7 7 7 7 7 7 7 7 7 7 7 7 7 7 7 7 7 7 7 7 7 7 7 7 7 7 7 7 7 7 7 7 7 7 7 7 7 7 7 7 7 7 7 7 7 7 7 7 7 7 7 7 7 7 7 7 7 7 7 7 7 7 7 7 7 7 7 7 7 7 7 7 7 7 7 7 7 7 7 7 7 7 7 7 7 7 7 7 7 7 7 7 7 7 7 7 7 7 7 7 7 7 7 7 7 7 7 7 7 7 7 7 7 7 7 7 7 7 7 7 7 7 7 7 7 7 7 7 7 7 7 7 7 7 7 7 7 7 7 7 7 7 7 7 5\"\n",
    "a = a.split(' ')\n",
    "a = \"\".join(a)\n",
    "a"
   ]
  }
 ],
 "metadata": {
  "kernelspec": {
   "display_name": "Python 3.7.9 ('deep-learning')",
   "language": "python",
   "name": "python3"
  },
  "language_info": {
   "codemirror_mode": {
    "name": "ipython",
    "version": 3
   },
   "file_extension": ".py",
   "mimetype": "text/x-python",
   "name": "python",
   "nbconvert_exporter": "python",
   "pygments_lexer": "ipython3",
   "version": "3.7.9"
  },
  "orig_nbformat": 4,
  "vscode": {
   "interpreter": {
    "hash": "cb381ed8bacaf36aa3bfaca5a0502d4671ddf79cb6e63c342c2d7fda9a71fcc6"
   }
  }
 },
 "nbformat": 4,
 "nbformat_minor": 2
}
