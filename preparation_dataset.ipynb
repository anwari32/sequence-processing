{
 "cells": [
  {
   "cell_type": "code",
   "execution_count": 1,
   "metadata": {},
   "outputs": [
    {
     "name": "stdout",
     "output_type": "stream",
     "text": [
      "Generate expanded training data: Truerain.csv: 330/330\n",
      "Generate expanded training data: Truealidation.csv: 42/42\n",
      "Generate expanded training data: Trueest.csv: 42/42\n",
      "Generate expanded training data: Truees/train.csv: 40/40\n",
      "Generate expanded training data: Truees/validation.csv: 40/40\n",
      "Generate expanded training data: Truees/test.csv: 40/40\n",
      "Processing source ./sample/polya/train.csv: 275/404\r"
     ]
    }
   ],
   "source": [
    "\"\"\"\n",
    "Generate tokenized and expanded datasets.\n",
    "Data from sample or data folder are not expanded (shouldn't be expanded).\n",
    "Data will be expanded when they are moving to dataset folder.\n",
    "Here, we will be preparing samples. \n",
    "\"\"\"\n",
    "from data_dir import dataset_sample_polya_dir, dataset_sample_prom_dir, dataset_sample_ss_dir, sample_ss_dir, sample_prom_dir, sample_polya_dir\n",
    "from data_preparation import expand_files_in_dir, expand_by_sliding_window\n",
    "\n",
    "dirs = [(sample_prom_dir, dataset_sample_prom_dir), (sample_ss_dir, dataset_sample_ss_dir), (sample_polya_dir, dataset_sample_polya_dir)]\n",
    "for src_dir, target_dir in dirs:\n",
    "    print(\"Generate expanded training data: {}\".format(expand_by_sliding_window(\"{}/train.csv\".format(src_dir), \"{}/train.csv\".format(target_dir))))\n",
    "    print(\"Generate expanded training data: {}\".format(expand_by_sliding_window(\"{}/validation.csv\".format(src_dir), \"{}/validation.csv\".format(target_dir))))\n",
    "    print(\"Generate expanded training data: {}\".format(expand_by_sliding_window(\"{}/test.csv\".format(src_dir), \"{}/test.csv\".format(target_dir))))\n"
   ]
  },
  {
   "cell_type": "code",
   "execution_count": 2,
   "metadata": {},
   "outputs": [
    {
     "name": "stdout",
     "output_type": "stream",
     "text": [
      "Processing source ./sample/polya/train.csv: 146/404\r"
     ]
    }
   ],
   "source": [
    "from data_dir import dataset_sample_polya_dir, dataset_sample_prom_dir, dataset_sample_ss_dir, sample_ss_dir, sample_prom_dir, sample_polya_dir\n",
    "from data_preparation import expand_files_in_dir, expand_by_sliding_window\n",
    "\n",
    "dirs = [(sample_polya_dir, dataset_sample_polya_dir)]\n",
    "for src_dir, target_dir in dirs:\n",
    "    print(\"Generate expanded training data: {}\".format(expand_by_sliding_window(\"{}/train.csv\".format(src_dir), \"{}/train.csv\".format(target_dir))))\n",
    "    print(\"Generate expanded validation data: {}\".format(expand_by_sliding_window(\"{}/validation.csv\".format(src_dir), \"{}/validation.csv\".format(target_dir))))\n",
    "    print(\"Generate expanded test data: {}\".format(expand_by_sliding_window(\"{}/test.csv\".format(src_dir), \"{}/test.csv\".format(target_dir))))"
   ]
  }
 ],
 "metadata": {
  "interpreter": {
   "hash": "473c7453bcb969eece5b07ef8b7f234e7c84010927f6bebce35f0aeb1f8c121e"
  },
  "kernelspec": {
   "display_name": "Python 3.9.1 64-bit ('sequence-processing-py39': venv)",
   "language": "python",
   "name": "python3"
  },
  "language_info": {
   "codemirror_mode": {
    "name": "ipython",
    "version": 3
   },
   "file_extension": ".py",
   "mimetype": "text/x-python",
   "name": "python",
   "nbconvert_exporter": "python",
   "pygments_lexer": "ipython3",
   "version": "3.9.1"
  },
  "orig_nbformat": 4
 },
 "nbformat": 4,
 "nbformat_minor": 2
}
