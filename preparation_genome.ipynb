{
 "cells": [
  {
   "cell_type": "code",
   "execution_count": 1,
   "metadata": {},
   "outputs": [
    {
     "data": {
      "text/plain": [
       "True"
      ]
     },
     "execution_count": 1,
     "metadata": {},
     "output_type": "execute_result"
    }
   ],
   "source": [
    "\"\"\"\n",
    "This notebook is for parsing genome annotation into csv indices.\n",
    "\"\"\"\n",
    "from data_preparation import gff_to_csv\n",
    "from data_dir import annotated_grch38_gff, annotated_grch38_gff_csv\n",
    "\n",
    "gff_to_csv(annotated_grch38_gff, annotated_grch38_gff_csv)"
   ]
  },
  {
   "cell_type": "code",
   "execution_count": 1,
   "metadata": {},
   "outputs": [
    {
     "data": {
      "text/plain": [
       "True"
      ]
     },
     "execution_count": 1,
     "metadata": {},
     "output_type": "execute_result"
    }
   ],
   "source": [
    "from data_preparation import gff_to_csvs\n",
    "from data_dir import annotated_grch38_gff, annotated_grch38_gff_strand_dir\n",
    "\n",
    "gff_to_csvs(annotated_grch38_gff, annotated_grch38_gff_strand_dir)"
   ]
  },
  {
   "cell_type": "code",
   "execution_count": 1,
   "metadata": {},
   "outputs": [
    {
     "data": {
      "text/plain": [
       "True"
      ]
     },
     "execution_count": 1,
     "metadata": {},
     "output_type": "execute_result"
    }
   ],
   "source": [
    "from data_preparation import gff_to_csvs\n",
    "import os\n",
    "\n",
    "rat_genome_folder = os.path.join(\"data\", \"rat\")\n",
    "rat_genome_gff = os.path.join(rat_genome_folder, \"GCF_000001635.27_GRCm39_genomic.gff\")\n",
    "\n",
    "gff_to_csvs(rat_genome_gff, rat_genome_folder)\n"
   ]
  },
  {
   "cell_type": "code",
   "execution_count": 14,
   "metadata": {},
   "outputs": [
    {
     "data": {
      "text/plain": [
       "195154279"
      ]
     },
     "execution_count": 14,
     "metadata": {},
     "output_type": "execute_result"
    }
   ],
   "source": [
    "from Bio import SeqIO\n",
    "import os\n",
    "\n",
    "rat_genome_dir = os.path.join(\"data\", \"rat\")\n",
    "rat_chr1_csv = os.path.join(rat_genome_dir, \"NC_000067.7.csv\")\n",
    "rat_chr1_fasta = os.path.join(rat_genome_dir, \"NC_000067.7.fasta\")\n",
    "\n",
    "assert os.path.exists(rat_chr1_fasta), f\"rat chr1 fasta not found.\"\n",
    "assert os.path.exists(rat_chr1_csv), f\"rat chr1 csv not found.\"\n",
    "\n",
    "record = SeqIO.parse(rat_chr1_fasta, \"fasta\")\n",
    "first_record = next(record)\n",
    "len(first_record.seq)"
   ]
  },
  {
   "cell_type": "code",
   "execution_count": 17,
   "metadata": {},
   "outputs": [],
   "source": [
    "import os\n",
    "paths = [os.path.join(\"data\", \"rat\", \"gene_dir\", f\"chr{a + 1}\") for a in range(21)]\n",
    "for p in paths:\n",
    "    os.makedirs(p, exist_ok=True)"
   ]
  },
  {
   "cell_type": "code",
   "execution_count": 2,
   "metadata": {},
   "outputs": [],
   "source": [
    "import os\n",
    "rat_genome_dir  = os.path.join(\"data\", \"rat\")\n",
    "rat_chr1_fasta  = os.path.join(rat_genome_dir, \"NC_000067.7.fasta\")\n",
    "rat_chr1_csv    = os.path.join(rat_genome_dir, \"NC_000067.7.csv\")\n",
    "rat_chr2_fasta  = os.path.join(rat_genome_dir, \"NC_000068.8.fasta\")\n",
    "rat_chr2_csv    = os.path.join(rat_genome_dir, \"NC_000068.8.csv\")\n",
    "rat_chr3_fasta  = os.path.join(rat_genome_dir, \"NC_000069.7.fasta\")\n",
    "rat_chr3_csv    = os.path.join(rat_genome_dir, \"NC_000069.7.csv\")\n",
    "rat_chr4_fasta  = os.path.join(rat_genome_dir, \"NC_000070.7.fasta\")\n",
    "rat_chr4_csv    = os.path.join(rat_genome_dir, \"NC_000070.7.csv\")\n",
    "rat_chr5_fasta  = os.path.join(rat_genome_dir, \"NC_000071.7.fasta\")\n",
    "rat_chr5_csv    = os.path.join(rat_genome_dir, \"NC_000071.7.csv\")\n",
    "rat_chr6_fasta  = os.path.join(rat_genome_dir, \"NC_000072.7.fasta\")\n",
    "rat_chr6_csv    = os.path.join(rat_genome_dir, \"NC_000072.7.csv\")\n",
    "rat_chr7_fasta  = os.path.join(rat_genome_dir, \"NC_000073.7.fasta\")\n",
    "rat_chr7_csv    = os.path.join(rat_genome_dir, \"NC_000073.7.csv\")\n",
    "rat_chr8_fasta  = os.path.join(rat_genome_dir, \"NC_000074.7.fasta\")\n",
    "rat_chr8_csv    = os.path.join(rat_genome_dir, \"NC_000074.7.csv\")\n",
    "rat_chr9_fasta  = os.path.join(rat_genome_dir, \"NC_000075.7.fasta\")\n",
    "rat_chr9_csv    = os.path.join(rat_genome_dir, \"NC_000075.7.csv\")\n",
    "rat_chr10_fasta = os.path.join(rat_genome_dir, \"NC_000076.7.fasta\")\n",
    "rat_chr10_csv   = os.path.join(rat_genome_dir, \"NC_000076.7.csv\")\n",
    "rat_chr11_fasta = os.path.join(rat_genome_dir, \"NC_000077.7.fasta\")\n",
    "rat_chr11_csv   = os.path.join(rat_genome_dir, \"NC_000077.7.csv\")\n",
    "rat_chr12_fasta = os.path.join(rat_genome_dir, \"NC_000078.7.fasta\")\n",
    "rat_chr12_csv   = os.path.join(rat_genome_dir, \"NC_000078.7.csv\")\n",
    "rat_chr13_fasta = os.path.join(rat_genome_dir, \"NC_000079.7.fasta\")\n",
    "rat_chr13_csv   = os.path.join(rat_genome_dir, \"NC_000079.7.csv\")\n",
    "rat_chr14_fasta = os.path.join(rat_genome_dir, \"NC_000080.7.fasta\")\n",
    "rat_chr14_csv   = os.path.join(rat_genome_dir, \"NC_000080.7.csv\")\n",
    "rat_chr15_fasta = os.path.join(rat_genome_dir, \"NC_000081.7.fasta\")\n",
    "rat_chr15_csv   = os.path.join(rat_genome_dir, \"NC_000081.7.csv\")\n",
    "rat_chr16_fasta = os.path.join(rat_genome_dir, \"NC_000082.7.fasta\")\n",
    "rat_chr16_csv   = os.path.join(rat_genome_dir, \"NC_000082.7.csv\")\n",
    "rat_chr17_fasta = os.path.join(rat_genome_dir, \"NC_000083.7.fasta\")\n",
    "rat_chr17_csv   = os.path.join(rat_genome_dir, \"NC_000083.7.csv\")\n",
    "rat_chr18_fasta = os.path.join(rat_genome_dir, \"NC_000084.7.fasta\")\n",
    "rat_chr18_csv   = os.path.join(rat_genome_dir, \"NC_000084.7.csv\")\n",
    "rat_chr19_fasta = os.path.join(rat_genome_dir, \"NC_000085.7.fasta\")\n",
    "rat_chr19_csv   = os.path.join(rat_genome_dir, \"NC_000085.7.csv\")\n",
    "rat_chr20_fasta = os.path.join(rat_genome_dir, \"NC_000086.8.fasta\")\n",
    "rat_chr20_csv   = os.path.join(rat_genome_dir, \"NC_000086.8.csv\")\n",
    "rat_chr21_fasta = os.path.join(rat_genome_dir, \"NC_000087.8.fasta\")\n",
    "rat_chr21_csv   = os.path.join(rat_genome_dir, \"NC_000087.8.csv\") "
   ]
  },
  {
   "cell_type": "code",
   "execution_count": 9,
   "metadata": {},
   "outputs": [],
   "source": [
    "for f, c, d in zip(fastas, srcs, chr_dirs):\n",
    "    c = os.path.join(os.path.dirname(c), f\"{os.path.basename(c).split('.')[:-1]}.positive-strand.csv\")\n",
    "    if os.path.exists(f) and os.path.exists(c):\n",
    "        os.rename(f, os.path.join(d, os.path.basename(f))) # Move fasta.\n",
    "        os.rename(c, os.path.join(d, os.path.basename(c))) # Move index."
   ]
  },
  {
   "cell_type": "code",
   "execution_count": 24,
   "metadata": {},
   "outputs": [],
   "source": [
    "import os\n",
    "rat_genome_dir  = os.path.join(\"data\", \"rat\")\n",
    "rat_chr1_fasta  = os.path.join(rat_genome_dir, \"chr1\", \"NC_000067.7.fasta\")\n",
    "rat_chr1_csv    = os.path.join(rat_genome_dir, \"chr1\", \"NC_000067.7.positive-strand.csv\")\n",
    "rat_chr2_fasta  = os.path.join(rat_genome_dir, \"chr2\", \"NC_000068.8.fasta\")\n",
    "rat_chr2_csv    = os.path.join(rat_genome_dir, \"chr2\", \"NC_000068.8.positive-strand.csv\")\n",
    "rat_chr3_fasta  = os.path.join(rat_genome_dir, \"chr3\", \"NC_000069.7.fasta\")\n",
    "rat_chr3_csv    = os.path.join(rat_genome_dir, \"chr3\", \"NC_000069.7.positive-strand.csv\")\n",
    "rat_chr4_fasta  = os.path.join(rat_genome_dir, \"chr4\", \"NC_000070.7.fasta\")\n",
    "rat_chr4_csv    = os.path.join(rat_genome_dir, \"chr4\", \"NC_000070.7.positive-strand.csv\")\n",
    "rat_chr5_fasta  = os.path.join(rat_genome_dir, \"chr5\", \"NC_000071.7.fasta\")\n",
    "rat_chr5_csv    = os.path.join(rat_genome_dir, \"chr5\", \"NC_000071.7.positive-strand.csv\")\n",
    "rat_chr6_fasta  = os.path.join(rat_genome_dir, \"chr6\", \"NC_000072.7.fasta\")\n",
    "rat_chr6_csv    = os.path.join(rat_genome_dir, \"chr6\", \"NC_000072.7.positive-strand.csv\")\n",
    "rat_chr7_fasta  = os.path.join(rat_genome_dir, \"chr7\", \"NC_000073.7.fasta\")\n",
    "rat_chr7_csv    = os.path.join(rat_genome_dir, \"chr7\", \"NC_000073.7.positive-strand.csv\")\n",
    "rat_chr8_fasta  = os.path.join(rat_genome_dir, \"chr8\", \"NC_000074.7.fasta\")\n",
    "rat_chr8_csv    = os.path.join(rat_genome_dir, \"chr8\", \"NC_000074.7.positive-strand.csv\")\n",
    "rat_chr9_fasta  = os.path.join(rat_genome_dir, \"chr9\", \"NC_000075.7.fasta\")\n",
    "rat_chr9_csv    = os.path.join(rat_genome_dir, \"chr9\", \"NC_000075.7.positive-strand.csv\")\n",
    "rat_chr10_fasta = os.path.join(rat_genome_dir, \"chr10\", \"NC_000076.7.fasta\")\n",
    "rat_chr10_csv   = os.path.join(rat_genome_dir, \"chr10\", \"NC_000076.7.positive-strand.csv\")\n",
    "rat_chr11_fasta = os.path.join(rat_genome_dir, \"chr11\", \"NC_000077.7.fasta\")\n",
    "rat_chr11_csv   = os.path.join(rat_genome_dir, \"chr11\", \"NC_000077.7.positive-strand.csv\")\n",
    "rat_chr12_fasta = os.path.join(rat_genome_dir, \"chr12\", \"NC_000078.7.fasta\")\n",
    "rat_chr12_csv   = os.path.join(rat_genome_dir, \"chr12\", \"NC_000078.7.positive-strand.csv\")\n",
    "rat_chr13_fasta = os.path.join(rat_genome_dir, \"chr13\", \"NC_000079.7.fasta\")\n",
    "rat_chr13_csv   = os.path.join(rat_genome_dir, \"chr13\", \"NC_000079.7.positive-strand.csv\")\n",
    "rat_chr14_fasta = os.path.join(rat_genome_dir, \"chr14\", \"NC_000080.7.fasta\")\n",
    "rat_chr14_csv   = os.path.join(rat_genome_dir, \"chr14\", \"NC_000080.7.positive-strand.csv\")\n",
    "rat_chr15_fasta = os.path.join(rat_genome_dir, \"chr15\", \"NC_000081.7.fasta\")\n",
    "rat_chr15_csv   = os.path.join(rat_genome_dir, \"chr15\", \"NC_000081.7.positive-strand.csv\")\n",
    "rat_chr16_fasta = os.path.join(rat_genome_dir, \"chr16\", \"NC_000082.7.fasta\")\n",
    "rat_chr16_csv   = os.path.join(rat_genome_dir, \"chr16\", \"NC_000082.7.positive-strand.csv\")\n",
    "rat_chr17_fasta = os.path.join(rat_genome_dir, \"chr17\", \"NC_000083.7.fasta\")\n",
    "rat_chr17_csv   = os.path.join(rat_genome_dir, \"chr17\", \"NC_000083.7.positive-strand.csv\")\n",
    "rat_chr18_fasta = os.path.join(rat_genome_dir, \"chr18\", \"NC_000084.7.fasta\")\n",
    "rat_chr18_csv   = os.path.join(rat_genome_dir, \"chr18\", \"NC_000084.7.positive-strand.csv\")\n",
    "rat_chr19_fasta = os.path.join(rat_genome_dir, \"chr19\", \"NC_000085.7.fasta\")\n",
    "rat_chr19_csv   = os.path.join(rat_genome_dir, \"chr19\", \"NC_000085.7.positive-strand.csv\")\n",
    "rat_chr20_fasta = os.path.join(rat_genome_dir, \"chr20\", \"NC_000086.8.fasta\")\n",
    "rat_chr20_csv   = os.path.join(rat_genome_dir, \"chr20\", \"NC_000086.8.positive-strand.csv\")\n",
    "rat_chr21_fasta = os.path.join(rat_genome_dir, \"chr21\", \"NC_000087.8.fasta\")\n",
    "rat_chr21_csv   = os.path.join(rat_genome_dir, \"chr21\", \"NC_000087.8.positive-strand.csv\") "
   ]
  },
  {
   "cell_type": "code",
   "execution_count": 28,
   "metadata": {},
   "outputs": [],
   "source": [
    "# Create positive strand from chromosome CSVs.\n",
    "# Filter all csvs by it strand column.\n",
    "import pandas as pd\n",
    "\n",
    "fastas = [\n",
    "    rat_chr1_fasta, rat_chr2_fasta, rat_chr3_fasta, rat_chr4_fasta, rat_chr5_fasta, \n",
    "    rat_chr6_fasta, rat_chr7_fasta, rat_chr8_fasta, rat_chr9_fasta, rat_chr10_fasta, \n",
    "    rat_chr11_fasta, rat_chr12_fasta, rat_chr13_fasta, rat_chr14_fasta, rat_chr15_fasta, \n",
    "    rat_chr16_fasta, rat_chr17_fasta, rat_chr18_fasta, rat_chr19_fasta, rat_chr20_fasta, \n",
    "    rat_chr21_fasta\n",
    "]\n",
    "\n",
    "srcs = [\n",
    "    rat_chr1_csv, rat_chr2_csv, rat_chr3_csv, rat_chr4_csv, rat_chr5_csv, \n",
    "    rat_chr6_csv, rat_chr7_csv, rat_chr8_csv, rat_chr9_csv, rat_chr10_csv, \n",
    "    rat_chr11_csv, rat_chr12_csv, rat_chr13_csv, rat_chr14_csv, rat_chr15_csv, \n",
    "    rat_chr16_csv, rat_chr17_csv, rat_chr18_csv, rat_chr19_csv, rat_chr20_csv, \n",
    "    rat_chr21_csv\n",
    "]\n"
   ]
  },
  {
   "cell_type": "code",
   "execution_count": 30,
   "metadata": {},
   "outputs": [],
   "source": [
    "# Generate gene files from FASTA and gene indices.\n",
    "import os\n",
    "from Bio import SeqIO\n",
    "\n",
    "def generate_gene_files_from_fastas_and_indices(fastas: list, gene_indices: list, target_dirs: str):\n",
    "    # raise NotImplementedError()\n",
    "    for f, g, t in zip(fastas, gene_indices, target_dirs):\n",
    "        generate_gene_files(f, g, t)\n",
    "\n",
    "def generate_gene_files(fasta: str, gene_index: str, target_dir: str):\n",
    "    # raise NotImplementedError()\n",
    "    if not os.path.exists(fasta):\n",
    "        raise FileNotFoundError(f\"Fasta file {fasta} not found\")\n",
    "    if not os.path.exists(gene_index):\n",
    "        raise FileNotFoundError(f\"Gene index file {gene_index} not found\")\n",
    "\n",
    "    _columns = ['sequence', 'label']\n",
    "    record = next(SeqIO.parse(fasta, \"fasta\"))\n",
    "    complete_sequence = str(record.seq)\n",
    "\n",
    "    gene_index_df = pd.read_csv(gene_index)\n",
    "    gene_region = gene_index_df[gene_index_df[\"region\"] == \"gene\"]\n",
    "\n",
    "    if gene_region.shape[0] > 0:\n",
    "        for i, r in gene_region.iterrows():\n",
    "            gene_name = r[\"gene\"]\n",
    "            gene_df = pd.DataFrame(columns=_columns)\n",
    "            gene_sequence = complete_sequence[r[\"start_index\"]:r[\"end\"]]\n",
    "            gene_sequential_labelling = ['i' for b in gene_sequence]\n",
    "            \n",
    "            exons = gene_index_df[gene_index_df[\"genbank\"] == gene_name]\n",
    "            exons = exons[exons[\"region\"] == \"exon\"]\n",
    "            for j, k in exons.iterrows():\n",
    "                gene_start_index = k[\"start_index\"] - r[\"start_index\"]\n",
    "                gene_end_index = k[\"end_index\"] - r[\"start_index\"]\n",
    "                for p in range(gene_start_index, gene_end_index + 1):\n",
    "                    gene_sequential_labelling[p] = 'E'\n",
    "            gene_sequential_labelling = \"\".join(gene_sequential_labelling)\n",
    "            gene_df = pd.concat([\n",
    "                gene_df,\n",
    "                pd.DataFrame([[gene_sequence, gene_sequential_labelling]], columns=_columns)\n",
    "            ])\n",
    "            if gene_df.shape[0] > 0:\n",
    "                fname = os.path.join(target_dir, f\"{gene_name}.csv\")\n",
    "                if os.path.exists(fname):\n",
    "                    os.remove(fname)\n",
    "                gene_df.to_csv(fname, index=False)\n",
    "\n",
    "#generate_gene_files(\n",
    "#    os.path.join(\"data\", \"rat\", \"chr1\", \"NC_000067.7.fasta\"),\n",
    "#    os.path.join(\"data\", \"rat\", \"chr1\", \"NC_000067.7.positive-strand.csv\"),\n",
    "#)\n",
    "\n"
   ]
  },
  {
   "cell_type": "code",
   "execution_count": 32,
   "metadata": {},
   "outputs": [
    {
     "ename": "FileNotFoundError",
     "evalue": "Gene index file data\\rat\\chr10\\NC_000076.7.positive-strand.csv not found",
     "output_type": "error",
     "traceback": [
      "\u001b[1;31m---------------------------------------------------------------------------\u001b[0m",
      "\u001b[1;31mFileNotFoundError\u001b[0m                         Traceback (most recent call last)",
      "\u001b[1;32m~\\AppData\\Local\\Temp/ipykernel_8912/1998782145.py\u001b[0m in \u001b[0;36m<module>\u001b[1;34m\u001b[0m\n\u001b[0;32m      1\u001b[0m \u001b[0mpaths\u001b[0m \u001b[1;33m=\u001b[0m \u001b[1;33m[\u001b[0m\u001b[0mos\u001b[0m\u001b[1;33m.\u001b[0m\u001b[0mpath\u001b[0m\u001b[1;33m.\u001b[0m\u001b[0mjoin\u001b[0m\u001b[1;33m(\u001b[0m\u001b[1;34m\"data\"\u001b[0m\u001b[1;33m,\u001b[0m \u001b[1;34m\"rat\"\u001b[0m\u001b[1;33m,\u001b[0m \u001b[1;34m\"gene_dir\"\u001b[0m\u001b[1;33m,\u001b[0m \u001b[1;34mf\"chr{a + 1}\"\u001b[0m\u001b[1;33m)\u001b[0m \u001b[1;32mfor\u001b[0m \u001b[0ma\u001b[0m \u001b[1;32min\u001b[0m \u001b[0mrange\u001b[0m\u001b[1;33m(\u001b[0m\u001b[1;36m21\u001b[0m\u001b[1;33m)\u001b[0m\u001b[1;33m]\u001b[0m\u001b[1;33m\u001b[0m\u001b[1;33m\u001b[0m\u001b[0m\n\u001b[1;32m----> 2\u001b[1;33m \u001b[0mgenerate_gene_files_from_fastas_and_indices\u001b[0m\u001b[1;33m(\u001b[0m\u001b[0mfastas\u001b[0m\u001b[1;33m[\u001b[0m\u001b[1;36m2\u001b[0m\u001b[1;33m:\u001b[0m\u001b[1;33m]\u001b[0m\u001b[1;33m,\u001b[0m \u001b[0msrcs\u001b[0m\u001b[1;33m[\u001b[0m\u001b[1;36m2\u001b[0m\u001b[1;33m:\u001b[0m\u001b[1;33m]\u001b[0m\u001b[1;33m,\u001b[0m \u001b[0mpaths\u001b[0m\u001b[1;33m[\u001b[0m\u001b[1;36m2\u001b[0m\u001b[1;33m:\u001b[0m\u001b[1;33m]\u001b[0m\u001b[1;33m)\u001b[0m\u001b[1;33m\u001b[0m\u001b[1;33m\u001b[0m\u001b[0m\n\u001b[0m",
      "\u001b[1;32m~\\AppData\\Local\\Temp/ipykernel_8912/2295794162.py\u001b[0m in \u001b[0;36mgenerate_gene_files_from_fastas_and_indices\u001b[1;34m(fastas, gene_indices, target_dirs)\u001b[0m\n\u001b[0;32m      6\u001b[0m     \u001b[1;31m# raise NotImplementedError()\u001b[0m\u001b[1;33m\u001b[0m\u001b[1;33m\u001b[0m\u001b[1;33m\u001b[0m\u001b[0m\n\u001b[0;32m      7\u001b[0m     \u001b[1;32mfor\u001b[0m \u001b[0mf\u001b[0m\u001b[1;33m,\u001b[0m \u001b[0mg\u001b[0m\u001b[1;33m,\u001b[0m \u001b[0mt\u001b[0m \u001b[1;32min\u001b[0m \u001b[0mzip\u001b[0m\u001b[1;33m(\u001b[0m\u001b[0mfastas\u001b[0m\u001b[1;33m,\u001b[0m \u001b[0mgene_indices\u001b[0m\u001b[1;33m,\u001b[0m \u001b[0mtarget_dirs\u001b[0m\u001b[1;33m)\u001b[0m\u001b[1;33m:\u001b[0m\u001b[1;33m\u001b[0m\u001b[1;33m\u001b[0m\u001b[0m\n\u001b[1;32m----> 8\u001b[1;33m         \u001b[0mgenerate_gene_files\u001b[0m\u001b[1;33m(\u001b[0m\u001b[0mf\u001b[0m\u001b[1;33m,\u001b[0m \u001b[0mg\u001b[0m\u001b[1;33m,\u001b[0m \u001b[0mt\u001b[0m\u001b[1;33m)\u001b[0m\u001b[1;33m\u001b[0m\u001b[1;33m\u001b[0m\u001b[0m\n\u001b[0m\u001b[0;32m      9\u001b[0m \u001b[1;33m\u001b[0m\u001b[0m\n\u001b[0;32m     10\u001b[0m \u001b[1;32mdef\u001b[0m \u001b[0mgenerate_gene_files\u001b[0m\u001b[1;33m(\u001b[0m\u001b[0mfasta\u001b[0m\u001b[1;33m:\u001b[0m \u001b[0mstr\u001b[0m\u001b[1;33m,\u001b[0m \u001b[0mgene_index\u001b[0m\u001b[1;33m:\u001b[0m \u001b[0mstr\u001b[0m\u001b[1;33m,\u001b[0m \u001b[0mtarget_dir\u001b[0m\u001b[1;33m:\u001b[0m \u001b[0mstr\u001b[0m\u001b[1;33m)\u001b[0m\u001b[1;33m:\u001b[0m\u001b[1;33m\u001b[0m\u001b[1;33m\u001b[0m\u001b[0m\n",
      "\u001b[1;32m~\\AppData\\Local\\Temp/ipykernel_8912/2295794162.py\u001b[0m in \u001b[0;36mgenerate_gene_files\u001b[1;34m(fasta, gene_index, target_dir)\u001b[0m\n\u001b[0;32m     13\u001b[0m         \u001b[1;32mraise\u001b[0m \u001b[0mFileNotFoundError\u001b[0m\u001b[1;33m(\u001b[0m\u001b[1;34mf\"Fasta file {fasta} not found\"\u001b[0m\u001b[1;33m)\u001b[0m\u001b[1;33m\u001b[0m\u001b[1;33m\u001b[0m\u001b[0m\n\u001b[0;32m     14\u001b[0m     \u001b[1;32mif\u001b[0m \u001b[1;32mnot\u001b[0m \u001b[0mos\u001b[0m\u001b[1;33m.\u001b[0m\u001b[0mpath\u001b[0m\u001b[1;33m.\u001b[0m\u001b[0mexists\u001b[0m\u001b[1;33m(\u001b[0m\u001b[0mgene_index\u001b[0m\u001b[1;33m)\u001b[0m\u001b[1;33m:\u001b[0m\u001b[1;33m\u001b[0m\u001b[1;33m\u001b[0m\u001b[0m\n\u001b[1;32m---> 15\u001b[1;33m         \u001b[1;32mraise\u001b[0m \u001b[0mFileNotFoundError\u001b[0m\u001b[1;33m(\u001b[0m\u001b[1;34mf\"Gene index file {gene_index} not found\"\u001b[0m\u001b[1;33m)\u001b[0m\u001b[1;33m\u001b[0m\u001b[1;33m\u001b[0m\u001b[0m\n\u001b[0m\u001b[0;32m     16\u001b[0m \u001b[1;33m\u001b[0m\u001b[0m\n\u001b[0;32m     17\u001b[0m     \u001b[0m_columns\u001b[0m \u001b[1;33m=\u001b[0m \u001b[1;33m[\u001b[0m\u001b[1;34m'sequence'\u001b[0m\u001b[1;33m,\u001b[0m \u001b[1;34m'label'\u001b[0m\u001b[1;33m]\u001b[0m\u001b[1;33m\u001b[0m\u001b[1;33m\u001b[0m\u001b[0m\n",
      "\u001b[1;31mFileNotFoundError\u001b[0m: Gene index file data\\rat\\chr10\\NC_000076.7.positive-strand.csv not found"
     ]
    }
   ],
   "source": [
    "paths = [os.path.join(\"data\", \"rat\", \"gene_dir\", f\"chr{a + 1}\") for a in range(21)]\n",
    "generate_gene_files_from_fastas_and_indices(fastas[2:], srcs[2:], paths[2:])"
   ]
  },
  {
   "cell_type": "code",
   "execution_count": 21,
   "metadata": {},
   "outputs": [
    {
     "data": {
      "text/plain": [
       "['data\\\\rat\\\\chr1',\n",
       " 'data\\\\rat\\\\chr2',\n",
       " 'data\\\\rat\\\\chr3',\n",
       " 'data\\\\rat\\\\chr4',\n",
       " 'data\\\\rat\\\\chr5',\n",
       " 'data\\\\rat\\\\chr6',\n",
       " 'data\\\\rat\\\\chr7',\n",
       " 'data\\\\rat\\\\chr8',\n",
       " 'data\\\\rat\\\\chr9',\n",
       " 'data\\\\rat\\\\chr10',\n",
       " 'data\\\\rat\\\\chr11']"
      ]
     },
     "execution_count": 21,
     "metadata": {},
     "output_type": "execute_result"
    }
   ],
   "source": [
    "rat_genome_dir = os.path.join(\"data\", \"rat\")\n",
    "chrs_dir = [os.path.join(rat_genome_dir, f\"chr{a + 1}\") for a in range(11)]\n",
    "chrs_dir"
   ]
  }
 ],
 "metadata": {
  "kernelspec": {
   "display_name": "Python 3.7.9 64-bit",
   "language": "python",
   "name": "python3"
  },
  "language_info": {
   "codemirror_mode": {
    "name": "ipython",
    "version": 3
   },
   "file_extension": ".py",
   "mimetype": "text/x-python",
   "name": "python",
   "nbconvert_exporter": "python",
   "pygments_lexer": "ipython3",
   "version": "3.7.9"
  },
  "orig_nbformat": 4,
  "vscode": {
   "interpreter": {
    "hash": "14ae8cb2141f3f34f4e0523006ff2d6cb0f7956c0f094e5497e312072e4d0d3c"
   }
  }
 },
 "nbformat": 4,
 "nbformat_minor": 2
}
