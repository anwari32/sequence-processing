{
 "cells": [
  {
   "cell_type": "code",
   "execution_count": 1,
   "metadata": {},
   "outputs": [
    {
     "name": "stdout",
     "output_type": "stream",
     "text": [
      "./data/genome/grch38/GRCh38_latest_genomic.gff\n",
      "./data/poly-a/grch38/polya_index.csv\n",
      "./data/poly-a/grch38/polya_positive.csv\n",
      "Generate polya index from annotated grch38 gff: True\n"
     ]
    }
   ],
   "source": [
    "# Generate polya index from genome GFF.\n",
    "from data_dir import annotated_grch38_gff, polya_grch38_index_csv\n",
    "from data_preparation import generate_polya_index_from_annotated_genome\n",
    "print('Generate polya index from annotated grch38 gff: {}'.format(generate_polya_index_from_annotated_genome(annotated_grch38_gff, polya_grch38_index_csv)))"
   ]
  },
  {
   "cell_type": "code",
   "execution_count": 1,
   "metadata": {},
   "outputs": [
    {
     "name": "stdout",
     "output_type": "stream",
     "text": [
      "Generate polya positive set from polya index: True\n"
     ]
    }
   ],
   "source": [
    "from data_preparation import generate_polya_positive_dataset_from_index\n",
    "from data_dir import polya_grch38_index_csv, polya_grch38_positive_csv\n",
    "print('Generate polya positive set from polya index: {}'.format(generate_polya_positive_dataset_from_index(polya_grch38_index_csv, polya_grch38_positive_csv)))"
   ]
  },
  {
   "cell_type": "code",
   "execution_count": null,
   "metadata": {},
   "outputs": [],
   "source": [
    "from data_preparation import generate_negative_dataset\n",
    "from data_dir import polya_grch38_positive_csv, polya_grch38_negative_csv\n",
    "print(\"Generate polya negative set from positive data {}\".format(generate_negative_dataset(polya_grch38_positive_csv, polya_grch38_negative_csv)))"
   ]
  },
  {
   "cell_type": "code",
   "execution_count": null,
   "metadata": {},
   "outputs": [],
   "source": [
    "from data_preparation import generate_kmer_csv\n",
    "from data_dir import polya_grch38_positive_csv, polya_grch38_negative_csv, polya_grch38_positive_kmer_csv, polya_grch38_negative_kmer_csv\n",
    "print(\"Generate kmer version of polya positive {}\".format(generate_kmer_csv(polya_grch38_positive_csv, polya_grch38_positive_kmer_csv)))\n",
    "print(\"Generate kmer version of polya negative {}\".format(generate_kmer_csv(polya_grch38_negative_csv, polya_grch38_negative_kmer_csv)))"
   ]
  },
  {
   "cell_type": "code",
   "execution_count": 3,
   "metadata": {},
   "outputs": [
    {
     "name": "stdout",
     "output_type": "stream",
     "text": [
      "Generate train, validation, and test for positive data: ['./sample/polya/positive/train.csv', './sample/polya/positive/validation.csv', './sample/polya/positive/test.csv']\n",
      "Generate train, validation, and test for negative data: ['./sample/polya/negative/train.csv', './sample/polya/negative/validation.csv', './sample/polya/negative/test.csv']\n"
     ]
    }
   ],
   "source": [
    "\"\"\"\n",
    "Generate train, validation, and test for positive and negative data.\n",
    "\"\"\"\n",
    "from data_preparation import generate_datasets\n",
    "from data_dir import polya_grch38_positive_csv, polya_grch38_negative_csv, sample_polya_pos_dir, sample_polya_neg_dir\n",
    "\n",
    "print(\"Generate train, validation, and test for positive data: {}\".format(generate_datasets(polya_grch38_positive_csv, sample_polya_pos_dir)))\n",
    "print(\"Generate train, validation, and test for negative data: {}\".format(generate_datasets(polya_grch38_negative_csv, sample_polya_neg_dir)))"
   ]
  },
  {
   "cell_type": "code",
   "execution_count": 4,
   "metadata": {},
   "outputs": [
    {
     "data": {
      "text/plain": [
       "True"
      ]
     },
     "execution_count": 4,
     "metadata": {},
     "output_type": "execute_result"
    }
   ],
   "source": [
    "\"\"\"\n",
    "Merge positive and negative train, validation, and test data.\n",
    "\"\"\"\n",
    "from data_preparation import merge_csv\n",
    "from data_dir import sample_polya_pos_dir, sample_polya_neg_dir, sample_polya_train_csv, sample_polya_validation_csv, sample_polya_test_csv\n",
    "\n",
    "merge_csv([\n",
    "    \"{}/train.csv\".format(sample_polya_pos_dir),\n",
    "    \"{}/train.csv\".format(sample_polya_neg_dir)\n",
    "], sample_polya_train_csv)\n",
    "merge_csv([\n",
    "    \"{}/validation.csv\".format(sample_polya_pos_dir),\n",
    "    \"{}/validation.csv\".format(sample_polya_neg_dir)\n",
    "], sample_polya_validation_csv)\n",
    "merge_csv([\n",
    "    \"{}/test.csv\".format(sample_polya_pos_dir),\n",
    "    \"{}/test.csv\".format(sample_polya_neg_dir)\n",
    "], sample_polya_test_csv)"
   ]
  },
  {
   "cell_type": "code",
   "execution_count": null,
   "metadata": {},
   "outputs": [],
   "source": [
    "\"\"\"\n",
    "Expand sample train, validation, and test data.\n",
    "\"\"\"\n",
    "from data_preparation import expand_files_in_dir\n",
    "from data_dir import sample_polya_dir\n",
    "\n",
    "print(\"Generate expanded datasets: {}\".format(expand_files_in_dir(sample_polya_dir)))"
   ]
  }
 ],
 "metadata": {
  "interpreter": {
   "hash": "473c7453bcb969eece5b07ef8b7f234e7c84010927f6bebce35f0aeb1f8c121e"
  },
  "kernelspec": {
   "display_name": "Python 3.9.1 64-bit ('sequence-processing-py39': venv)",
   "language": "python",
   "name": "python3"
  },
  "language_info": {
   "codemirror_mode": {
    "name": "ipython",
    "version": 3
   },
   "file_extension": ".py",
   "mimetype": "text/x-python",
   "name": "python",
   "nbconvert_exporter": "python",
   "pygments_lexer": "ipython3",
   "version": "3.9.1"
  },
  "orig_nbformat": 4
 },
 "nbformat": 4,
 "nbformat_minor": 2
}
