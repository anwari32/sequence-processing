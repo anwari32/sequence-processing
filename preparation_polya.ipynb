{
 "cells": [
  {
   "cell_type": "code",
   "execution_count": 1,
   "metadata": {},
   "outputs": [
    {
     "name": "stdout",
     "output_type": "stream",
     "text": [
      "Generate polya index from annotated grch38 gff: True\n"
     ]
    }
   ],
   "source": [
    "# Generate polya index from genome GFF.\n",
    "from data_dir import annotated_grch38_gff, polya_grch38_index_csv\n",
    "from data_preparation import generate_polya_index_from_annotated_genome\n",
    "print('Generate polya index from annotated grch38 gff: {}'.format(generate_polya_index_from_annotated_genome(annotated_grch38_gff, polya_grch38_index_csv)))"
   ]
  },
  {
   "cell_type": "code",
   "execution_count": 2,
   "metadata": {},
   "outputs": [
    {
     "name": "stdout",
     "output_type": "stream",
     "text": [
      "Generate polya positive set from polya index: True\n",
      "Generated samples for positive set from polya\n"
     ]
    }
   ],
   "source": [
    "\"\"\"\n",
    "Generate positive set from polya index.\n",
    "\"\"\"\n",
    "from data_preparation import generate_polya_positive_dataset_from_index\n",
    "from data_dir import polya_grch38_index_csv, polya_grch38_positive_csv\n",
    "print('Generate polya positive set from polya index: {}'.format(generate_polya_positive_dataset_from_index(polya_grch38_index_csv, polya_grch38_positive_csv)))\n",
    "print(f\"Generated samples for positive set from polya\")"
   ]
  },
  {
   "cell_type": "code",
   "execution_count": 1,
   "metadata": {},
   "outputs": [
    {
     "name": "stdout",
     "output_type": "stream",
     "text": [
      "Generate polya negative set from positive data True\n"
     ]
    }
   ],
   "source": [
    "\"\"\"\n",
    "Generate negative set from positive set.\n",
    "\"\"\"\n",
    "from data_preparation import generate_negative_dataset\n",
    "from data_dir import polya_grch38_positive_csv, polya_grch38_negative_csv\n",
    "print(\"Generate polya negative set from positive data {}\".format(generate_negative_dataset(polya_grch38_positive_csv, polya_grch38_negative_csv)))"
   ]
  },
  {
   "cell_type": "code",
   "execution_count": 7,
   "metadata": {},
   "outputs": [
    {
     "name": "stdout",
     "output_type": "stream",
     "text": [
      "Generating kmer for <data\\poly-a\\grch38\\polya_negative.csv>: 1908/1908                                                      \r"
     ]
    },
    {
     "data": {
      "text/plain": [
       "True"
      ]
     },
     "execution_count": 7,
     "metadata": {},
     "output_type": "execute_result"
    }
   ],
   "source": [
    "\"\"\"Chunks positive and negative into 512-chars-chunk.\"\"\"\n",
    "import os\n",
    "positive = os.path.join(\"data\", \"poly-a\", \"grch38\", \"polya_positive.csv\")\n",
    "positive_chunk = os.path.join(\"data\", \"poly-a\", \"grch38\", \"polya_positive.expanded.csv\")\n",
    "negative = os.path.join(\"data\", \"poly-a\", \"grch38\", \"polya_negative.csv\")\n",
    "negative_chunk = os.path.join(\"data\", \"poly-a\", \"grch38\", \"polya_negative.expanded.csv\")\n",
    "\n",
    "from data_preparation import generate_chunk_csv\n",
    "generate_chunk_csv(positive, positive_chunk, chunk_size=512, stride=256)\n",
    "generate_chunk_csv(negative, negative_chunk, chunk_size=512, stride=256)"
   ]
  },
  {
   "cell_type": "code",
   "execution_count": 9,
   "metadata": {},
   "outputs": [
    {
     "name": "stdout",
     "output_type": "stream",
     "text": [
      "original positive size 14477\n",
      "original negative size 14477\n",
      "original positive size 14477 => balanced positive size = 6943\n",
      "original negative size 14477 => balanced negative size = 6943\n"
     ]
    }
   ],
   "source": [
    "\"\"\"\n",
    "Create balanced dataset. Size of promoter is 6943 so do sampling for positive and negative data for 6943 instance only.\n",
    "\"\"\"\n",
    "import os\n",
    "import pandas as pd\n",
    "positive_balanced = os.path.join(\"data\", \"poly-a\", \"grch38\", \"polya_positive.balanced.csv\")\n",
    "positive_chunk = os.path.join(\"data\", \"poly-a\", \"grch38\", \"polya_positive.expanded.csv\")\n",
    "negative_balanced = os.path.join(\"data\", \"poly-a\", \"grch38\", \"polya_negative.balanced.csv\")\n",
    "negative_chunk = os.path.join(\"data\", \"poly-a\", \"grch38\", \"polya_negative.expanded.csv\")\n",
    "size_pos = pd.read_csv(positive_chunk).shape[0]\n",
    "size_neg = pd.read_csv(negative_chunk).shape[0]\n",
    "print(f\"original positive size {size_pos}\")\n",
    "print(f\"original negative size {size_neg}\")\n",
    "\n",
    "if (size_pos > 6943):\n",
    "    positive_df = pd.read_csv(positive_chunk).sample(n=6943)\n",
    "    positive_df.to_csv(positive_balanced, index=False)\n",
    "    print(f\"original positive size {size_pos} => balanced positive size = {positive_df.shape[0]}\")\n",
    "if (size_neg > 6943):\n",
    "    negative_df = pd.read_csv(negative_chunk).sample(n=6943)\n",
    "    negative_df.to_csv(negative_balanced, index=False)\n",
    "    print(f\"original negative size {size_neg} => balanced negative size = {negative_df.shape[0]}\")"
   ]
  },
  {
   "cell_type": "code",
   "execution_count": 11,
   "metadata": {},
   "outputs": [],
   "source": [
    "import os\n",
    "from data_preparation import split_csv\n",
    "\"\"\"Split imbalanced dataset\"\"\"\n",
    "positive_chunk = os.path.join(\"data\", \"poly-a\", \"grch38\", \"polya_positive.expanded.csv\")\n",
    "positive_chunk_train = os.path.join(\"data\", \"poly-a\", \"grch38\", \"polya_positive.train.csv\")\n",
    "positive_chunk_validation = os.path.join(\"data\", \"poly-a\", \"grch38\", \"polya_positive.validation.csv\")\n",
    "split_csv(positive_chunk, [0.8, 0.2], [positive_chunk_train, positive_chunk_validation])\n",
    "\n",
    "\n",
    "negative_chunk = os.path.join(\"data\", \"poly-a\", \"grch38\", \"polya_negative.expanded.csv\")\n",
    "negative_chunk_train = os.path.join(\"data\", \"poly-a\", \"grch38\", \"polya_negative.train.csv\")\n",
    "negative_chunk_validation = os.path.join(\"data\", \"poly-a\", \"grch38\", \"polya_negative.validation.csv\")\n",
    "split_csv(negative_chunk, [0.8, 0.2], [negative_chunk_train, negative_chunk_validation])\n",
    "\n",
    "\n",
    "\"\"\"Split balanced dataset\"\"\"\n",
    "positive_balanced = os.path.join(\"data\", \"poly-a\", \"grch38\", \"polya_positive.balanced.csv\")\n",
    "positive_balanced_train = os.path.join(\"data\", \"poly-a\", \"grch38\", \"polya_positive.balanced.train.csv\")\n",
    "positive_balanced_validation = os.path.join(\"data\", \"poly-a\", \"grch38\", \"polya_positive.balanced.validation.csv\")\n",
    "split_csv(positive_balanced, [0.8, 0.2], [positive_balanced_train, positive_balanced_validation])\n",
    "\n",
    "negative_balanced = os.path.join(\"data\", \"poly-a\", \"grch38\", \"polya_negative.balanced.csv\")\n",
    "negative_balanced_train = os.path.join(\"data\", \"poly-a\", \"grch38\", \"polya_negative.balanced.train.csv\")\n",
    "negative_balanced_validation = os.path.join(\"data\", \"poly-a\", \"grch38\", \"polya_negative.balanced.validation.csv\")\n",
    "split_csv(negative_balanced, [0.8, 0.2], [negative_balanced_train, negative_balanced_validation])"
   ]
  },
  {
   "cell_type": "code",
   "execution_count": 12,
   "metadata": {},
   "outputs": [
    {
     "name": "stderr",
     "output_type": "stream",
     "text": [
      "100%|██████████| 2/2 [00:00<00:00,  7.48it/s]\n",
      "100%|██████████| 2/2 [00:00<00:00, 27.68it/s]\n",
      "100%|██████████| 2/2 [00:00<00:00, 10.41it/s]\n",
      "100%|██████████| 2/2 [00:00<00:00, 25.78it/s]\n"
     ]
    },
    {
     "data": {
      "text/plain": [
       "True"
      ]
     },
     "execution_count": 12,
     "metadata": {},
     "output_type": "execute_result"
    }
   ],
   "source": [
    "\"\"\"Merge training and validation imbalanced data\"\"\"\n",
    "import os\n",
    "from data_preparation import merge_csv\n",
    "positive_chunk_train = os.path.join(\"data\", \"poly-a\", \"grch38\", \"polya_positive.train.csv\")\n",
    "positive_chunk_validation = os.path.join(\"data\", \"poly-a\", \"grch38\", \"polya_positive.validation.csv\")\n",
    "negative_chunk_train = os.path.join(\"data\", \"poly-a\", \"grch38\", \"polya_negative.train.csv\")\n",
    "negative_chunk_validation = os.path.join(\"data\", \"poly-a\", \"grch38\", \"polya_negative.validation.csv\")\n",
    "chunk_train = os.path.join(\"data\", \"poly-a\", \"grch38\", \"polya_train.csv\")\n",
    "chunk_validation = os.path.join(\"data\", \"poly-a\", \"grch38\", \"polya_validation.csv\")\n",
    "\n",
    "merge_csv([positive_chunk_train, negative_chunk_train], chunk_train)\n",
    "merge_csv([positive_chunk_validation, negative_chunk_validation], chunk_validation)\n",
    "\n",
    "\"\"\"Merge training and validation balanced data\"\"\"\n",
    "positive_balanced_train = os.path.join(\"data\", \"poly-a\", \"grch38\", \"polya_positive.balanced.train.csv\")\n",
    "positive_balanced_validation = os.path.join(\"data\", \"poly-a\", \"grch38\", \"polya_positive.balanced.validation.csv\")\n",
    "negative_balanced_train = os.path.join(\"data\", \"poly-a\", \"grch38\", \"polya_negative.balanced.train.csv\")\n",
    "negative_balanced_validation = os.path.join(\"data\", \"poly-a\", \"grch38\", \"polya_negative.balanced.validation.csv\")\n",
    "chunk_balanced_train = os.path.join(\"data\", \"poly-a\", \"grch38\", \"polya_train.balanced.csv\")\n",
    "chunk_balanced_validation = os.path.join(\"data\", \"poly-a\", \"grch38\", \"polya_validation.balanced.csv\")\n",
    "\n",
    "merge_csv([positive_balanced_train, negative_balanced_train], chunk_balanced_train)\n",
    "merge_csv([positive_balanced_validation, negative_balanced_validation], chunk_balanced_validation)\n",
    "\n",
    "\n"
   ]
  },
  {
   "cell_type": "code",
   "execution_count": null,
   "metadata": {},
   "outputs": [],
   "source": [
    "\"\"\"\n",
    "Generate kmer version for both positive and negative polya.\n",
    "\"\"\"\n",
    "from data_preparation import generate_kmer_csv\n",
    "from data_dir import polya_grch38_positive_csv, polya_grch38_negative_csv, polya_grch38_positive_kmer_csv, polya_grch38_negative_kmer_csv\n",
    "\n",
    "print(\"Generate kmer version of polya positive data: {}\".format(generate_kmer_csv(polya_grch38_positive_csv, polya_grch38_positive_kmer_csv)))\n",
    "print(\"Generate kmer version of polya negative data: {}\".format(generate_kmer_csv(polya_grch38_negative_csv, polya_grch38_negative_kmer_csv)))"
   ]
  },
  {
   "cell_type": "code",
   "execution_count": 1,
   "metadata": {},
   "outputs": [],
   "source": [
    "\"\"\"\n",
    "Generate train and validation for positive and negative\n",
    "\"\"\"\n",
    "from data_preparation import split_csv\n",
    "import os\n",
    "\n",
    "fractions = [0.8, 0.2]\n",
    "positive_chunk = os.path.join(\"data\", \"poly-a\", \"grch38\", \"polya_positive.expanded.csv\")\n",
    "positive_chunk_train = os.path.join(\"data\", \"poly-a\", \"grch38\", \"polya_positive.expanded.train.csv\")\n",
    "positive_chunk_val = os.path.join(\"data\", \"poly-a\", \"grch38\", \"polya_positive.expanded.validation.csv\")\n",
    "\n",
    "negative_chunk = os.path.join(\"data\", \"poly-a\", \"grch38\", \"polya_negative.expanded.csv\")\n",
    "negative_chunk_train = os.path.join(\"data\", \"poly-a\", \"grch38\", \"polya_negative.expanded.train.csv\")\n",
    "negative_chunk_val = os.path.join(\"data\", \"poly-a\", \"grch38\", \"polya_negative.expanded.validation.csv\")\n",
    "\n",
    "split_csv(positive_chunk, fractions, [positive_chunk_train, positive_chunk_val])\n",
    "split_csv(negative_chunk, fractions, [negative_chunk_train, negative_chunk_val])"
   ]
  },
  {
   "cell_type": "code",
   "execution_count": 5,
   "metadata": {},
   "outputs": [
    {
     "name": "stderr",
     "output_type": "stream",
     "text": [
      "100%|██████████| 2/2 [00:00<00:00,  7.46it/s]\n",
      "100%|██████████| 2/2 [00:00<00:00, 42.56it/s]\n"
     ]
    },
    {
     "data": {
      "text/plain": [
       "True"
      ]
     },
     "execution_count": 5,
     "metadata": {},
     "output_type": "execute_result"
    }
   ],
   "source": [
    "\"\"\"Merge train and validation\"\"\"\n",
    "from data_preparation import merge_csv\n",
    "import os\n",
    "\n",
    "trains = [\n",
    "    os.path.join(\"data\", \"poly-a\", \"grch38\", \"polya_positive.expanded.train.csv\"),\n",
    "    os.path.join(\"data\", \"poly-a\", \"grch38\", \"polya_negative.expanded.train.csv\"),\n",
    "]\n",
    "vals = [\n",
    "    os.path.join(\"data\", \"poly-a\", \"grch38\", \"polya_positive.expanded.validation.csv\"),\n",
    "    os.path.join(\"data\", \"poly-a\", \"grch38\", \"polya_negative.expanded.validation.csv\"),\n",
    "]\n",
    "\n",
    "merge_csv(trains, os.path.join(\"data\", \"poly-a\", \"grch38\", \"polya_train.imbalanced.csv\"))\n",
    "merge_csv(vals, os.path.join(\"data\", \"poly-a\", \"grch38\", \"polya_val.imbalanced.csv\"))"
   ]
  }
 ],
 "metadata": {
  "interpreter": {
   "hash": "473c7453bcb969eece5b07ef8b7f234e7c84010927f6bebce35f0aeb1f8c121e"
  },
  "kernelspec": {
   "display_name": "Python 3.9.1 64-bit ('sequence-processing-py39': venv)",
   "language": "python",
   "name": "python3"
  },
  "language_info": {
   "codemirror_mode": {
    "name": "ipython",
    "version": 3
   },
   "file_extension": ".py",
   "mimetype": "text/x-python",
   "name": "python",
   "nbconvert_exporter": "python",
   "pygments_lexer": "ipython3",
   "version": "3.9.1"
  },
  "orig_nbformat": 4
 },
 "nbformat": 4,
 "nbformat_minor": 2
}
