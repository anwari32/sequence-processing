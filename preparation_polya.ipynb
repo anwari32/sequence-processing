{
 "cells": [
  {
   "cell_type": "code",
   "execution_count": 1,
   "metadata": {},
   "outputs": [
    {
     "name": "stdout",
     "output_type": "stream",
     "text": [
      "./data/genome/grch38/GRCh38_latest_genomic.gff\n",
      "./data/poly-a/grch38/polya_index.csv\n",
      "./data/poly-a/grch38/polya_positive.csv\n",
      "Generate polya index from annotated grch38 gff: True\n"
     ]
    }
   ],
   "source": [
    "# Generate polya index from genome GFF.\n",
    "from data_dir import annotated_grch38_gff, polya_grch38_index_csv\n",
    "from data_preparation import generate_polya_index_from_annotated_genome\n",
    "print('Generate polya index from annotated grch38 gff: {}'.format(generate_polya_index_from_annotated_genome(annotated_grch38_gff, polya_grch38_index_csv)))"
   ]
  },
  {
   "cell_type": "code",
   "execution_count": 1,
   "metadata": {},
   "outputs": [
    {
     "name": "stdout",
     "output_type": "stream",
     "text": [
      "Generate polya positive set from polya index: True\n"
     ]
    }
   ],
   "source": [
    "\"\"\"\n",
    "Generate positive set from polya index.\n",
    "\"\"\"\n",
    "from data_preparation import generate_polya_positive_dataset_from_index\n",
    "from data_dir import polya_grch38_index_csv, polya_grch38_positive_csv\n",
    "print('Generate polya positive set from polya index: {}'.format(generate_polya_positive_dataset_from_index(polya_grch38_index_csv, polya_grch38_positive_csv)))"
   ]
  },
  {
   "cell_type": "code",
   "execution_count": null,
   "metadata": {},
   "outputs": [],
   "source": [
    "\"\"\"\n",
    "Generate negative set from positive set.\n",
    "\"\"\"\n",
    "from data_preparation import generate_negative_dataset\n",
    "from data_dir import polya_grch38_positive_csv, polya_grch38_negative_csv\n",
    "print(\"Generate polya negative set from positive data {}\".format(generate_negative_dataset(polya_grch38_positive_csv, polya_grch38_negative_csv)))"
   ]
  },
  {
   "cell_type": "code",
   "execution_count": null,
   "metadata": {},
   "outputs": [],
   "source": [
    "\"\"\"\n",
    "Generate kmer version for both positive and negative polya.\n",
    "\"\"\"\n",
    "from data_preparation import generate_kmer_csv\n",
    "from data_dir import polya_grch38_positive_csv, polya_grch38_negative_csv, polya_grch38_positive_kmer_csv, polya_grch38_negative_kmer_csv\n",
    "\n",
    "print(\"Generate kmer version of polya positive data: {}\".format(generate_kmer_csv(polya_grch38_positive_csv, polya_grch38_positive_kmer_csv)))\n",
    "print(\"Generate kmer version of polya negative data: {}\".format(generate_kmer_csv(polya_grch38_negative_csv, polya_grch38_negative_kmer_csv)))"
   ]
  },
  {
   "cell_type": "code",
   "execution_count": 4,
   "metadata": {},
   "outputs": [
    {
     "name": "stdout",
     "output_type": "stream",
     "text": [
      "Generate dataset from positive kmer: ['./data/poly-a/grch38/positive/train.csv', './data/poly-a/grch38/positive/validation.csv', './data/poly-a/grch38/positive/test.csv']\n",
      "Generate dataset from negative kmer: ['./data/poly-a/grch38/negative/train.csv', './data/poly-a/grch38/negative/validation.csv', './data/poly-a/grch38/negative/test.csv']\n"
     ]
    }
   ],
   "source": [
    "\"\"\"\n",
    "Generate train, validation, and test set.\n",
    "\"\"\"\n",
    "from data_preparation import generate_datasets\n",
    "from data_dir import polya_grch38_positive_kmer_csv, polya_grch38_negative_kmer_csv, polya_grch38_negative_dir, polya_grch38_positive_dir\n",
    "\n",
    "print(\"Generate dataset from positive kmer: {}\".format(generate_datasets(polya_grch38_positive_kmer_csv, polya_grch38_positive_dir)))\n",
    "print(\"Generate dataset from negative kmer: {}\".format(generate_datasets(polya_grch38_negative_kmer_csv, polya_grch38_negative_dir)))"
   ]
  },
  {
   "cell_type": "code",
   "execution_count": 5,
   "metadata": {},
   "outputs": [
    {
     "name": "stdout",
     "output_type": "stream",
     "text": [
      "Generate sample for ./data/poly-a/grch38/positive/train.csv => ./sample/polya/positive/train.csv\n",
      "Generate sample for ./data/poly-a/grch38/positive/validation.csv => ./sample/polya/positive/validation.csv\n",
      "Generate sample for ./data/poly-a/grch38/positive/test.csv => ./sample/polya/positive/test.csv\n",
      "Generate sample for ./data/poly-a/grch38/negative/train.csv => ./sample/polya/negative/train.csv\n",
      "Generate sample for ./data/poly-a/grch38/negative/validation.csv => ./sample/polya/negative/validation.csv\n",
      "Generate sample for ./data/poly-a/grch38/negative/test.csv => ./sample/polya/negative/test.csv\n"
     ]
    }
   ],
   "source": [
    "\"\"\"\n",
    "Generate samples from kmer positive and kmer negative data.\n",
    "\"\"\"\n",
    "from data_preparation import generate_sample\n",
    "from data_dir import polya_grch38_positive_dir, polya_grch38_negative_dir, sample_polya_pos_dir, sample_polya_neg_dir\n",
    "\n",
    "# Create samples.\n",
    "polya_pos_srcs = [\n",
    "    (\"{}/train.csv\".format(polya_grch38_positive_dir), \"{}/train.csv\".format(sample_polya_pos_dir)),\n",
    "    (\"{}/validation.csv\".format(polya_grch38_positive_dir), \"{}/validation.csv\".format(sample_polya_pos_dir)),\n",
    "    (\"{}/test.csv\".format(polya_grch38_positive_dir), \"{}/test.csv\".format(sample_polya_pos_dir) ),\n",
    "]\n",
    "polya_neg_srcs = [\n",
    "    (\"{}/train.csv\".format(polya_grch38_negative_dir), \"{}/train.csv\".format(sample_polya_neg_dir)), \n",
    "    (\"{}/validation.csv\".format(polya_grch38_negative_dir), \"{}/validation.csv\".format(sample_polya_neg_dir)),\n",
    "    (\"{}/test.csv\".format(polya_grch38_negative_dir), \"{}/test.csv\".format(sample_polya_neg_dir)),\n",
    "]\n",
    "domain = [polya_pos_srcs, polya_neg_srcs]\n",
    "for dom in domain:\n",
    "    for src in dom:\n",
    "        src_csv = src[0]\n",
    "        target_csv = src[1]\n",
    "        generate_sample(src_csv, target_csv, frac_sample=0.1)\n"
   ]
  },
  {
   "cell_type": "code",
   "execution_count": 3,
   "metadata": {},
   "outputs": [
    {
     "name": "stdout",
     "output_type": "stream",
     "text": [
      "Generate train, validation, and test for positive data: ['./sample/polya/positive/train.csv', './sample/polya/positive/validation.csv', './sample/polya/positive/test.csv']\n",
      "Generate train, validation, and test for negative data: ['./sample/polya/negative/train.csv', './sample/polya/negative/validation.csv', './sample/polya/negative/test.csv']\n"
     ]
    }
   ],
   "source": [
    "\"\"\"\n",
    "Generate train, validation, and test for positive and negative data.\n",
    "\"\"\"\n",
    "from data_preparation import generate_datasets\n",
    "from data_dir import polya_grch38_positive_csv, polya_grch38_negative_csv, sample_polya_pos_dir, sample_polya_neg_dir\n",
    "\n",
    "print(\"Generate train, validation, and test for positive data: {}\".format(generate_datasets(polya_grch38_positive_csv, sample_polya_pos_dir)))\n",
    "print(\"Generate train, validation, and test for negative data: {}\".format(generate_datasets(polya_grch38_negative_csv, sample_polya_neg_dir)))"
   ]
  },
  {
   "cell_type": "code",
   "execution_count": 1,
   "metadata": {},
   "outputs": [
    {
     "data": {
      "text/plain": [
       "True"
      ]
     },
     "execution_count": 1,
     "metadata": {},
     "output_type": "execute_result"
    }
   ],
   "source": [
    "\"\"\"\n",
    "Merge positive and negative train, validation, and test data.\n",
    "\"\"\"\n",
    "from data_preparation import merge_csv\n",
    "from data_dir import sample_polya_pos_dir, sample_polya_neg_dir, sample_polya_train_csv, sample_polya_validation_csv, sample_polya_test_csv\n",
    "\n",
    "merge_csv([\n",
    "    \"{}/train.csv\".format(sample_polya_pos_dir),\n",
    "    \"{}/train.csv\".format(sample_polya_neg_dir)\n",
    "], sample_polya_train_csv)\n",
    "merge_csv([\n",
    "    \"{}/validation.csv\".format(sample_polya_pos_dir),\n",
    "    \"{}/validation.csv\".format(sample_polya_neg_dir)\n",
    "], sample_polya_validation_csv)\n",
    "merge_csv([\n",
    "    \"{}/test.csv\".format(sample_polya_pos_dir),\n",
    "    \"{}/test.csv\".format(sample_polya_neg_dir)\n",
    "], sample_polya_test_csv)"
   ]
  },
  {
   "cell_type": "code",
   "execution_count": 1,
   "metadata": {},
   "outputs": [
    {
     "name": "stdout",
     "output_type": "stream",
     "text": [
      "Merging ['./data/poly-a/grch38/polya_negative_kmer.csv', './data/poly-a/grch38/polya_positive_kmer.csv'] => ./data/poly-a/grch38/train.csv: True\n"
     ]
    }
   ],
   "source": [
    "\"\"\"\n",
    "Merge positive and negative poly A.\n",
    "\"\"\"\n",
    "from data_preparation import merge_csv\n",
    "from data_dir import polya_grch38_negative_kmer_csv, polya_grch38_positive_kmer_csv, polya_grch38_train_csv\n",
    "\n",
    "files = [polya_grch38_negative_kmer_csv, polya_grch38_positive_kmer_csv]\n",
    "print(\"Merging {} => {}: {}\".format(files, polya_grch38_train_csv, merge_csv(files, polya_grch38_train_csv)))\n"
   ]
  },
  {
   "cell_type": "code",
   "execution_count": 1,
   "metadata": {},
   "outputs": [
    {
     "name": "stdout",
     "output_type": "stream",
     "text": [
      "Error [Errno 28] No space left on devicesv: 404/404\n",
      "Error Traceback (most recent call last):\n",
      "  File \"w:\\Research\\_sequence-processing\\data_preparation.py\", line 993, in expand_by_sliding_window\n",
      "    target_df.to_csv(target_csv, index=False)\n",
      "  File \"c:\\.virtualenv\\sequence-processing-py39\\lib\\site-packages\\pandas\\core\\generic.py\", line 3563, in to_csv\n",
      "    return DataFrameRenderer(formatter).to_csv(\n",
      "  File \"c:\\.virtualenv\\sequence-processing-py39\\lib\\site-packages\\pandas\\io\\formats\\format.py\", line 1180, in to_csv\n",
      "    csv_formatter.save()\n",
      "  File \"c:\\.virtualenv\\sequence-processing-py39\\lib\\site-packages\\pandas\\io\\formats\\csvs.py\", line 261, in save\n",
      "    self._save()\n",
      "  File \"c:\\.virtualenv\\sequence-processing-py39\\lib\\site-packages\\pandas\\io\\formats\\csvs.py\", line 266, in _save\n",
      "    self._save_body()\n",
      "  File \"c:\\.virtualenv\\sequence-processing-py39\\lib\\site-packages\\pandas\\io\\formats\\csvs.py\", line 304, in _save_body\n",
      "    self._save_chunk(start_i, end_i)\n",
      "  File \"c:\\.virtualenv\\sequence-processing-py39\\lib\\site-packages\\pandas\\io\\formats\\csvs.py\", line 315, in _save_chunk\n",
      "    libwriters.write_csv_rows(\n",
      "  File \"pandas\\_libs\\writers.pyx\", line 72, in pandas._libs.writers.write_csv_rows\n",
      "OSError: [Errno 28] No space left on device\n",
      "\n",
      "Error Failed executing sequence expansion.\n",
      "Error Traceback (most recent call last):\n",
      "  File \"w:\\Research\\_sequence-processing\\data_preparation.py\", line 1072, in expand_files_in_dir\n",
      "    raise Exception(\"Failed executing sequence expansion.\")\n",
      "Exception: Failed executing sequence expansion.\n",
      "\n",
      "Generate expanded datasets: False\n"
     ]
    }
   ],
   "source": [
    "\"\"\"\n",
    "Expand sample train, validation, and test data.\n",
    "\"\"\"\n",
    "from data_preparation import expand_files_in_dir\n",
    "from data_dir import sample_polya_dir\n",
    "\n",
    "print(\"Generate expanded datasets: {}\".format(expand_files_in_dir(sample_polya_dir, length=510)))"
   ]
  }
 ],
 "metadata": {
  "interpreter": {
   "hash": "473c7453bcb969eece5b07ef8b7f234e7c84010927f6bebce35f0aeb1f8c121e"
  },
  "kernelspec": {
   "display_name": "Python 3.9.1 64-bit ('sequence-processing-py39': venv)",
   "language": "python",
   "name": "python3"
  },
  "language_info": {
   "codemirror_mode": {
    "name": "ipython",
    "version": 3
   },
   "file_extension": ".py",
   "mimetype": "text/x-python",
   "name": "python",
   "nbconvert_exporter": "python",
   "pygments_lexer": "ipython3",
   "version": "3.9.1"
  },
  "orig_nbformat": 4
 },
 "nbformat": 4,
 "nbformat_minor": 2
}
