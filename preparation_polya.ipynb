{
 "cells": [
  {
   "cell_type": "code",
   "execution_count": 1,
   "metadata": {},
   "outputs": [],
   "source": [
    "\"\"\"\n",
    "Create dataset from existing Poly-A dataset from dragon-polyA & omni-polyA.\n",
    "\"\"\"\n",
    "data_dir = './data'\n",
    "polya_dir = '{}/poly-a'.format(data_dir)\n",
    "deerectpolya = '{}/deerectpolya'.format(polya_dir)\n",
    "human_polya_dir = '{}/human'.format(deerectpolya)\n",
    "omni_polya_dir = '{}/omni_polyA_data'.format(human_polya_dir)\n",
    "pos_omni_polya_dir = '{}/positive'.format(omni_polya_dir)\n",
    "neg_omni_polya_dir = '{}/negative'.format(omni_polya_dir)\n",
    "\n",
    "dataset_dir = './dataset'\n",
    "polya_dataset_dir = '{}/polya'.format(dataset_dir)\n",
    "pos_omni_polya_csv = '{}/pos_omni_polya.csv'.format(polya_dataset_dir)\n",
    "neg_omni_polya_csv = '{}/neg_omni_polya.csv'.format(polya_dataset_dir)\n",
    "\n",
    "polya_pos_dataset_dir = '{}/positive'.format(polya_dataset_dir)\n",
    "polya_neg_dataset_dir = '{}/negative'.format(polya_dataset_dir)\n"
   ]
  },
  {
   "cell_type": "code",
   "execution_count": 5,
   "metadata": {},
   "outputs": [
    {
     "name": "stdout",
     "output_type": "stream",
     "text": [
      "['AAAAAG.txt', 'AAGAAA.txt', 'AATAAA.txt', 'AATACA.txt', 'AATAGA.txt', 'AATATA.txt', 'ACTAAA.txt', 'AGTAAA.txt', 'ATTAAA.txt', 'CATAAA.txt', 'GATAAA.txt', 'TATAAA.txt']\n",
      "True\n",
      "['AAAAAG.txt', 'AAGAAA.txt', 'AATAAA.txt', 'AATACA.txt', 'AATAGA.txt', 'AATATA.txt', 'ACTAAA.txt', 'AGTAAA.txt', 'ATTAAA.txt', 'CATAAA.txt', 'GATAAA.txt', 'TATAAA.txt']\n",
      "True\n"
     ]
    }
   ],
   "source": [
    "import os\n",
    "from data_preparation import merge_file_into_csv\n",
    "\n",
    "pos_polya_files = os.listdir(pos_omni_polya_dir)\n",
    "neg_polya_files = os.listdir(neg_omni_polya_dir)\n",
    "\n",
    "print(pos_polya_files)\n",
    "print(\n",
    "    merge_file_into_csv(pos_omni_polya_dir, pos_omni_polya_csv, 1)\n",
    ")\n",
    "print(neg_polya_files)\n",
    "print(\n",
    "    merge_file_into_csv(neg_omni_polya_dir, neg_omni_polya_csv, 0)\n",
    ")"
   ]
  },
  {
   "cell_type": "code",
   "execution_count": 3,
   "metadata": {},
   "outputs": [],
   "source": [
    "\"\"\"\n",
    "Create datasets from positive and negative set.\n",
    "\"\"\"\n",
    "from data_preparation import generate_datasets\n",
    "\n",
    "pos_train_val_test_path = generate_datasets(pos_omni_polya_csv, polya_pos_dataset_dir)\n",
    "neg_train_val_test_path = generate_datasets(neg_omni_polya_csv, polya_neg_dataset_dir)"
   ]
  },
  {
   "cell_type": "code",
   "execution_count": 4,
   "metadata": {},
   "outputs": [
    {
     "data": {
      "text/plain": [
       "'./dataset/polya/negative/test_sample.csv'"
      ]
     },
     "execution_count": 4,
     "metadata": {},
     "output_type": "execute_result"
    }
   ],
   "source": [
    "\"\"\"\n",
    "Create sample dataset from positive and negative set.\n",
    "\"\"\"\n",
    "from data_preparation import generate_sample\n",
    "\n",
    "pos_train_sample = '{}/train_sample.csv'.format(polya_pos_dataset_dir)\n",
    "pos_validation_sample = '{}/validation_sample.csv'.format(polya_pos_dataset_dir)\n",
    "pos_test_sample = '{}/test_sample.csv'.format(polya_pos_dataset_dir)\n",
    "neg_train_sample = '{}/train_sample.csv'.format(polya_neg_dataset_dir)\n",
    "neg_validation_sample = '{}/validation_sample.csv'.format(polya_neg_dataset_dir)\n",
    "neg_test_sample = '{}/test_sample.csv'.format(polya_neg_dataset_dir)\n",
    "\n",
    "generate_sample(pos_train_val_test_path[0], pos_train_sample)\n",
    "generate_sample(pos_train_val_test_path[1], pos_validation_sample)\n",
    "generate_sample(pos_train_val_test_path[2], pos_test_sample)\n",
    "\n",
    "generate_sample(neg_train_val_test_path[0], neg_train_sample)\n",
    "generate_sample(neg_train_val_test_path[1], neg_validation_sample)\n",
    "generate_sample(neg_train_val_test_path[2], neg_test_sample)\n"
   ]
  }
 ],
 "metadata": {
  "interpreter": {
   "hash": "473c7453bcb969eece5b07ef8b7f234e7c84010927f6bebce35f0aeb1f8c121e"
  },
  "kernelspec": {
   "display_name": "Python 3.9.1 64-bit ('sequence-processing-py39': venv)",
   "language": "python",
   "name": "python3"
  },
  "language_info": {
   "codemirror_mode": {
    "name": "ipython",
    "version": 3
   },
   "file_extension": ".py",
   "mimetype": "text/x-python",
   "name": "python",
   "nbconvert_exporter": "python",
   "pygments_lexer": "ipython3",
   "version": "3.9.1"
  },
  "orig_nbformat": 4
 },
 "nbformat": 4,
 "nbformat_minor": 2
}
