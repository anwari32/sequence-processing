{
 "cells": [
  {
   "cell_type": "code",
   "execution_count": 1,
   "metadata": {},
   "outputs": [
    {
     "name": "stdout",
     "output_type": "stream",
     "text": [
      "./data/genome/grch38/GRCh38_latest_genomic.gff\n",
      "./data/poly-a/grch38/polya_index.csv\n",
      "./data/poly-a/grch38/polya_positive.csv\n",
      "Generate polya index from annotated grch38 gff: True\n"
     ]
    }
   ],
   "source": [
    "# Generate polya index from genome GFF.\n",
    "from data_dir import annotated_grch38_gff, polya_grch38_index_csv\n",
    "from data_preparation import generate_polya_index_from_annotated_genome\n",
    "print('Generate polya index from annotated grch38 gff: {}'.format(generate_polya_index_from_annotated_genome(annotated_grch38_gff, polya_grch38_index_csv)))"
   ]
  },
  {
   "cell_type": "code",
   "execution_count": 1,
   "metadata": {},
   "outputs": [
    {
     "name": "stdout",
     "output_type": "stream",
     "text": [
      "Generate polya positive set from polya index: True\n"
     ]
    }
   ],
   "source": [
    "\"\"\"\n",
    "Generate positive set from polya index.\n",
    "\"\"\"\n",
    "from data_preparation import generate_polya_positive_dataset_from_index\n",
    "from data_dir import polya_grch38_index_csv, polya_grch38_positive_csv\n",
    "print('Generate polya positive set from polya index: {}'.format(generate_polya_positive_dataset_from_index(polya_grch38_index_csv, polya_grch38_positive_csv)))"
   ]
  },
  {
   "cell_type": "code",
   "execution_count": null,
   "metadata": {},
   "outputs": [],
   "source": [
    "\"\"\"\n",
    "Generate negative set from positive set.\n",
    "\"\"\"\n",
    "from data_preparation import generate_negative_dataset\n",
    "from data_dir import polya_grch38_positive_csv, polya_grch38_negative_csv\n",
    "print(\"Generate polya negative set from positive data {}\".format(generate_negative_dataset(polya_grch38_positive_csv, polya_grch38_negative_csv)))"
   ]
  },
  {
   "cell_type": "code",
   "execution_count": null,
   "metadata": {},
   "outputs": [],
   "source": [
    "\"\"\"\n",
    "Generate kmer version for both positive and negative polya.\n",
    "\"\"\"\n",
    "from data_preparation import generate_kmer_csv\n",
    "from data_dir import polya_grch38_positive_csv, polya_grch38_negative_csv, polya_grch38_positive_kmer_csv, polya_grch38_negative_kmer_csv\n",
    "\n",
    "print(\"Generate kmer version of polya positive data: {}\".format(generate_kmer_csv(polya_grch38_positive_csv, polya_grch38_positive_kmer_csv)))\n",
    "print(\"Generate kmer version of polya negative data: {}\".format(generate_kmer_csv(polya_grch38_negative_csv, polya_grch38_negative_kmer_csv)))"
   ]
  },
  {
   "cell_type": "code",
   "execution_count": 3,
   "metadata": {},
   "outputs": [
    {
     "name": "stdout",
     "output_type": "stream",
     "text": [
      "Splitting and storing split to ./data/poly-a/grch38/train.positive.kmer.csv\n",
      "Splitting and storing split to ./data/poly-a/grch38/validation.positive.kmer.csv\n",
      "Splitting and storing split to ./data/poly-a/grch38/train.negative.kmer.csv\n",
      "Splitting and storing split to ./data/poly-a/grch38/validation.negative.kmer.csv\n"
     ]
    },
    {
     "data": {
      "text/plain": [
       "True"
      ]
     },
     "execution_count": 3,
     "metadata": {},
     "output_type": "execute_result"
    }
   ],
   "source": [
    "\"\"\"\n",
    "Generate train and validation for positive and negative\n",
    "\"\"\"\n",
    "from data_preparation import split_and_store_csv\n",
    "from data_dir import polya_grch38_positive_kmer_csv, polya_grch38_negative_kmer_csv, polya_grch38_dir\n",
    "\n",
    "fractions = [0.9, 0.1]\n",
    "split_and_store_csv(polya_grch38_positive_kmer_csv, fractions, ['{}/train.positive.kmer.csv'.format(polya_grch38_dir), '{}/validation.positive.kmer.csv'.format(polya_grch38_dir)])\n",
    "split_and_store_csv(polya_grch38_negative_kmer_csv, fractions, ['{}/train.negative.kmer.csv'.format(polya_grch38_dir), '{}/validation.negative.kmer.csv'.format(polya_grch38_dir)])"
   ]
  },
  {
   "cell_type": "code",
   "execution_count": 8,
   "metadata": {},
   "outputs": [],
   "source": [
    "\"\"\"\n",
    "Merge positive and negative poly A.\n",
    "\"\"\"\n",
    "from data_preparation import merge_csv\n",
    "from data_dir import polya_grch38_negative_kmer_csv, polya_grch38_positive_kmer_csv, polya_grch38_train_csv, polya_grch38_dir\n",
    "\n",
    "for _type in ['train', 'validation']:\n",
    "    pos = '{}/{}.positive.kmer.csv'.format(polya_grch38_dir, _type)\n",
    "    neg = '{}/{}.negative.kmer.csv'.format(polya_grch38_dir, _type)\n",
    "    target = '{}/{}.kmer.csv'.format(polya_grch38_dir, _type)\n",
    "    merge_csv([pos, neg], target)\n"
   ]
  }
 ],
 "metadata": {
  "interpreter": {
   "hash": "473c7453bcb969eece5b07ef8b7f234e7c84010927f6bebce35f0aeb1f8c121e"
  },
  "kernelspec": {
   "display_name": "Python 3.9.1 64-bit ('sequence-processing-py39': venv)",
   "language": "python",
   "name": "python3"
  },
  "language_info": {
   "codemirror_mode": {
    "name": "ipython",
    "version": 3
   },
   "file_extension": ".py",
   "mimetype": "text/x-python",
   "name": "python",
   "nbconvert_exporter": "python",
   "pygments_lexer": "ipython3",
   "version": "3.9.1"
  },
  "orig_nbformat": 4
 },
 "nbformat": 4,
 "nbformat_minor": 2
}
