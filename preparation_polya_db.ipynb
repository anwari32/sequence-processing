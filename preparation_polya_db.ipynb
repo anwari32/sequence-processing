{
 "cells": [
  {
   "cell_type": "code",
   "execution_count": 1,
   "metadata": {},
   "outputs": [],
   "source": [
    "data_dir = './data'\n",
    "polya_dir = '{}/poly-a'.format(data_dir)\n",
    "polya_db_dir = '{}/polya_db'.format(polya_dir)\n",
    "polya_db = '{}/human.pas.txt'.format(polya_db_dir)\n",
    "polya_db_pos_csv = '{}/human_pas_pos.csv'.format(polya_db_dir)\n",
    "polya_db_neg_csv = '{}/human_pas_neg.csv'.format(polya_db_dir)\n",
    "polya_db_pos_chr1_csv = '{}/human_pas_pos_chr1.csv'.format(polya_db_dir)\n",
    "polya_db_neg_chr1_csv = '{}/human_pas_neg_chr1.csv'.format(polya_db_dir)\n",
    "\n",
    "\n",
    "dataset_dir = './dataset'\n",
    "polya_dataset_dir = '{}/polya_db'.format(dataset_dir)\n",
    "polya_pos_csv = '{}/polya_pos.csv'.format(polya_dataset_dir)\n",
    "polya_pos_chr1_csv = '{}/polya_pos_chr1.csv'.format(polya_dataset_dir)\n",
    "polya_neg_csv = '{}/polya_neg.csv'.format(polya_dataset_dir)\n",
    "polya_neg_chr1_csv = '{}/polya_neg_chr1.csv'.format(polya_dataset_dir)\n",
    "\n",
    "chr_dir = '{}/chr'.format(data_dir)"
   ]
  },
  {
   "cell_type": "code",
   "execution_count": 5,
   "metadata": {},
   "outputs": [
    {
     "name": "stdout",
     "output_type": "stream",
     "text": [
      "NNNNNNNNNNNNNNNNNNNNNNNNNNNNNN\n"
     ]
    }
   ],
   "source": [
    "from Bio import SeqIO\n",
    "\n",
    "fasta = SeqIO.parse('./data/chr/NC_000001.11.fasta', 'fasta')\n",
    "full_str_arr = []\n",
    "for f in fasta:\n",
    "    str_seq = str(f.seq)\n",
    "    substr = []\n",
    "    for i in range(565287-10, 565287+20):\n",
    "        substr.append(str_seq[i])\n",
    "    print(''.join(substr))\n",
    "    "
   ]
  },
  {
   "cell_type": "code",
   "execution_count": null,
   "metadata": {},
   "outputs": [],
   "source": [
    "from data_preparation import parse_pas\n",
    "\n",
    "# Parse human PAS data into csv files.\n",
    "parse_pas(polya_db, polya_db_pos_csv, polya_db_neg_csv)\n",
    "parse_pas(polya_db, polya_db_pos_chr1_csv, polya_db_neg_chr1_csv, chr_filter=['chr1'])"
   ]
  },
  {
   "cell_type": "code",
   "execution_count": 2,
   "metadata": {},
   "outputs": [
    {
     "name": "stdout",
     "output_type": "stream",
     "text": [
      "Generating Poly-A sequence from 22295 indices.\n",
      "Processing 22295/22295, pas id chr1:249218568:-\r"
     ]
    },
    {
     "data": {
      "text/plain": [
       "True"
      ]
     },
     "execution_count": 2,
     "metadata": {},
     "output_type": "execute_result"
    }
   ],
   "source": [
    "from data_preparation import generate_polya_sequence, chr_dict\n",
    "\n",
    "# generate_polya_sequence(polya_db_pos_csv, polya_pos_csv, chr_dir, chr_dict)\n",
    "generate_polya_sequence(polya_db_pos_chr1_csv, polya_pos_chr1_csv, chr_dir, chr_dict)"
   ]
  }
 ],
 "metadata": {
  "interpreter": {
   "hash": "7170ee380771f2003055f3cee3e2e4dd0d81d1dac73a8c82197236b1572f37c2"
  },
  "kernelspec": {
   "display_name": "Python 3.7.9 64-bit ('sequence-processing': venv)",
   "language": "python",
   "name": "python3"
  },
  "language_info": {
   "codemirror_mode": {
    "name": "ipython",
    "version": 3
   },
   "file_extension": ".py",
   "mimetype": "text/x-python",
   "name": "python",
   "nbconvert_exporter": "python",
   "pygments_lexer": "ipython3",
   "version": "3.9.1"
  },
  "orig_nbformat": 4
 },
 "nbformat": 4,
 "nbformat_minor": 2
}
