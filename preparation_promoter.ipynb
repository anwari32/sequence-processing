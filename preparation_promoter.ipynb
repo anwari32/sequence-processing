{
 "cells": [
  {
   "cell_type": "code",
   "execution_count": 2,
   "metadata": {},
   "outputs": [],
   "source": [
    "import os\n",
    "from utils.utils import shuffle_sequence_in_csv\n",
    "\n",
    "path = os.path.join(\"data\", \"promoter\", \"epd\")\n",
    "positives = [\n",
    "    os.path.join(path, \"human_tata_min128_plus383.fasta\"),\n",
    "    os.path.join(path, \"human_tata_min256_plus255.fasta\"),\n",
    "    os.path.join(path, \"human_tata_min384_plus127.fasta\"),\n",
    "    #os.path.join(path, \"human_tata_min499_plus100.fasta\"),\n",
    "]\n",
    "negatives = [\n",
    "    os.path.join(path, \"human_non_tata_min128_plus383.fasta\"),\n",
    "    os.path.join(path, \"human_non_tata_min256_plus255.fasta\"),\n",
    "    os.path.join(path, \"human_non_tata_min384_plus127.fasta\"),\n",
    "    #os.path.join(path, \"human_non_tata_min499_plus100.fasta\"),\n",
    "]\n",
    "generated_negatives = [\n",
    "    os.path.join(path, \"human_generated_non_tata_min128_plus383.fasta\"),\n",
    "    os.path.join(path, \"human_generated_non_tata_min256_plus255.fasta\"),\n",
    "    os.path.join(path, \"human_generated_non_tata_min384_plus127.fasta\"),\n",
    "]"
   ]
  },
  {
   "cell_type": "code",
   "execution_count": 22,
   "metadata": {},
   "outputs": [],
   "source": [
    "\"\"\"\n",
    "1. Generate CSV from FASTAs.\n",
    "\"\"\"\n",
    "\n",
    "import os\n",
    "from utils.utils import shuffle_sequence_in_csv\n",
    "\n",
    "path = os.path.join(\"data\", \"promoter\", \"epd\")\n",
    "positives = [\n",
    "    os.path.join(path, \"human_tata_min128_plus383.fasta\"),\n",
    "    os.path.join(path, \"human_tata_min256_plus255.fasta\"),\n",
    "    os.path.join(path, \"human_tata_min384_plus127.fasta\"),\n",
    "    #os.path.join(path, \"human_tata_min499_plus100.fasta\"),\n",
    "]\n",
    "negatives = [\n",
    "    os.path.join(path, \"human_non_tata_min128_plus383.fasta\"),\n",
    "    os.path.join(path, \"human_non_tata_min256_plus255.fasta\"),\n",
    "    os.path.join(path, \"human_non_tata_min384_plus127.fasta\"),\n",
    "    #os.path.join(path, \"human_non_tata_min499_plus100.fasta\"),\n",
    "]\n",
    "\n",
    "from data_preparation import generate_csv_from_fasta\n",
    "for p in positives:\n",
    "    bname = os.path.basename(p)\n",
    "    target_path = os.path.join(path, f\"{bname.split('.')[0]}.csv\")\n",
    "    generate_csv_from_fasta(p, target_path, 1)\n",
    "for n in negatives:\n",
    "    bname = os.path.basename(n)\n",
    "    target_path = os.path.join(path, f\"{bname.split('.')[0]}.csv\")\n",
    "    generate_csv_from_fasta(p, target_path, 0)\n",
    "\n"
   ]
  },
  {
   "cell_type": "code",
   "execution_count": 5,
   "metadata": {},
   "outputs": [],
   "source": [
    "# Still on 1., Generate shuffled positives as generated negatives.\n",
    "import os\n",
    "from utils.utils import shuffle_sequence_in_csv\n",
    "import pandas as pd\n",
    "\n",
    "path = os.path.join(\"data\", \"promoter\", \"epd\")\n",
    "positive_csvs = [\n",
    "    os.path.join(path, f) for f in [\"human_tata_min128_plus383.csv\", \"human_tata_min256_plus255.csv\", \"human_tata_min384_plus127.csv\"]\n",
    "]\n",
    "generated_negatives = [\n",
    "    os.path.join(path, \"human_generated_non_tata_min128_plus383.csv\"),\n",
    "    os.path.join(path, \"human_generated_non_tata_min256_plus255.csv\"),\n",
    "    os.path.join(path, \"human_generated_non_tata_min384_plus127.csv\"),\n",
    "]\n",
    "\n",
    "for p, g in zip(positive_csvs, generated_negatives):\n",
    "    shuffle_sequence_in_csv(p, g)\n",
    "\n",
    "# Change label into negative.\n",
    "for g in generated_negatives:\n",
    "    df = pd.read_csv(g)\n",
    "    df['label'] = df['label'].apply(lambda x: 0)\n",
    "    df.to_csv(g, index=False)\n"
   ]
  },
  {
   "cell_type": "code",
   "execution_count": 9,
   "metadata": {},
   "outputs": [
    {
     "name": "stderr",
     "output_type": "stream",
     "text": [
      "100%|██████████| 3/3 [00:00<00:00, 23.08it/s]\n",
      "100%|██████████| 3/3 [00:00<00:00, 21.43it/s]\n"
     ]
    },
    {
     "data": {
      "text/plain": [
       "True"
      ]
     },
     "execution_count": 9,
     "metadata": {},
     "output_type": "execute_result"
    }
   ],
   "source": [
    "\"\"\"Merge positive and negative\"\"\"\n",
    "import os\n",
    "path = os.path.join(\"data\", \"promoter\", \"epd\")\n",
    "positives = [\n",
    "    os.path.join(path, \"human_tata_min128_plus383.csv\"),\n",
    "    os.path.join(path, \"human_tata_min256_plus255.csv\"),\n",
    "    os.path.join(path, \"human_tata_min384_plus127.csv\"),\n",
    "    #os.path.join(path, \"human_tata_min499_plus100.csv\"),\n",
    "]\n",
    "negatives = [\n",
    "    os.path.join(path, \"human_non_tata_min128_plus383.csv\"),\n",
    "    os.path.join(path, \"human_non_tata_min256_plus255.csv\"),\n",
    "    os.path.join(path, \"human_non_tata_min384_plus127.csv\"),\n",
    "    #os.path.join(path, \"human_non_tata_min499_plus100.csv\"),\n",
    "]\n",
    "\n",
    "positive = os.path.join(path, \"human_tata.csv\")\n",
    "negative = os.path.join(path, \"human_non_tata.csv\")\n",
    "\n",
    "from data_preparation import merge_csv\n",
    "merge_csv(positives, positive)\n",
    "merge_csv(negatives, negative)"
   ]
  },
  {
   "cell_type": "code",
   "execution_count": 6,
   "metadata": {},
   "outputs": [
    {
     "name": "stderr",
     "output_type": "stream",
     "text": [
      "100%|██████████| 3/3 [00:00<00:00, 30.46it/s]\n"
     ]
    },
    {
     "data": {
      "text/plain": [
       "True"
      ]
     },
     "execution_count": 6,
     "metadata": {},
     "output_type": "execute_result"
    }
   ],
   "source": [
    "\"\"\"Merge generated negatives\"\"\"\n",
    "import os\n",
    "path = os.path.join(\"data\", \"promoter\", \"epd\")\n",
    "generated_negatives = [\n",
    "    os.path.join(path, \"human_generated_non_tata_min128_plus383.csv\"),\n",
    "    os.path.join(path, \"human_generated_non_tata_min256_plus255.csv\"),\n",
    "    os.path.join(path, \"human_generated_non_tata_min384_plus127.csv\"),\n",
    "    #os.path.join(path, \"human_non_tata_min499_plus100.csv\"),\n",
    "]\n",
    "\n",
    "generated_negative = os.path.join(path, \"human_generated_non_tata.csv\")\n",
    "\n",
    "from data_preparation import merge_csv\n",
    "merge_csv(generated_negatives, generated_negative)"
   ]
  },
  {
   "cell_type": "code",
   "execution_count": 10,
   "metadata": {},
   "outputs": [
    {
     "name": "stdout",
     "output_type": "stream",
     "text": [
      "size of positive: 6943\n",
      "size of negative: 9195\n",
      "Length 6943\n"
     ]
    }
   ],
   "source": [
    "\"\"\"\n",
    "Create balanced positive and negative dataset.\n",
    "\"\"\"\n",
    "\n",
    "import pandas as pd\n",
    "import os\n",
    "path = os.path.join(\"data\", \"promoter\", \"epd\")\n",
    "positive = os.path.join(path, \"human_tata.csv\")\n",
    "negative = os.path.join(path, \"human_non_tata.csv\")\n",
    "positive_balanced = os.path.join(path, \"human_tata.balanced.csv\")\n",
    "negative_balanced = os.path.join(path, \"human_non_tata.balanced.csv\")\n",
    "\n",
    "size_pos = pd.read_csv(positive).shape[0]\n",
    "size_neg = pd.read_csv(negative).shape[0]\n",
    "print(f\"size of positive: {size_pos}\")\n",
    "print(f\"size of negative: {size_neg}\")\n",
    "\n",
    "if size_pos != size_neg:\n",
    "    min_val = min([size_neg, size_pos])\n",
    "    print(f\"Length {min_val}\")\n",
    "    path = os.path.join(\"data\", \"promoter\", \"epd\")\n",
    "    positive = os.path.join(path, \"human_tata.csv\")\n",
    "    negative = os.path.join(path, \"human_non_tata.csv\")\n",
    "    positive_df = pd.read_csv(positive).sample(n=min_val)\n",
    "    negative_df = pd.read_csv(negative).sample(n=min_val)\n",
    "    positive_df.to_csv(positive_balanced, index=False)\n",
    "    negative_df.to_csv(negative_balanced, index=False)"
   ]
  },
  {
   "cell_type": "code",
   "execution_count": null,
   "metadata": {},
   "outputs": [],
   "source": [
    "\"\"\"\n",
    "Create balanced positive and generated dataset.\n",
    "\"\"\"\n",
    "\n",
    "import pandas as pd\n",
    "import os\n",
    "path = os.path.join(\"data\", \"promoter\", \"epd\")\n",
    "positive = os.path.join(path, \"human_tata.csv\")\n",
    "generated_negative = os.path.join(path, \"human_generated_non_tata.csv\")\n",
    "positive_balanced = os.path.join(path, \"human_tata.balanced.csv\")\n",
    "generated_negative_balanced = os.path.join(path, \"human_non_tata.balanced.csv\")\n",
    "\n",
    "size_pos = pd.read_csv(positive).shape[0]\n",
    "size_neg = pd.read_csv(negative).shape[0]\n",
    "print(f\"size of positive: {size_pos}\")\n",
    "print(f\"size of negative: {size_neg}\")\n",
    "\n",
    "if size_pos != size_neg:\n",
    "    min_val = min([size_neg, size_pos])\n",
    "    print(f\"Length {min_val}\")\n",
    "    path = os.path.join(\"data\", \"promoter\", \"epd\")\n",
    "    positive = os.path.join(path, \"human_tata.csv\")\n",
    "    negative = os.path.join(path, \"human_non_tata.csv\")\n",
    "    positive_df = pd.read_csv(positive).sample(n=min_val)\n",
    "    negative_df = pd.read_csv(negative).sample(n=min_val)\n",
    "    positive_df.to_csv(positive_balanced, index=False)\n",
    "    negative_df.to_csv(negative_balanced, index=False)"
   ]
  },
  {
   "cell_type": "code",
   "execution_count": 11,
   "metadata": {},
   "outputs": [
    {
     "name": "stderr",
     "output_type": "stream",
     "text": [
      "100%|██████████| 2/2 [00:00<00:00, 11.17it/s]\n",
      "100%|██████████| 2/2 [00:00<00:00, 37.04it/s]\n"
     ]
    },
    {
     "data": {
      "text/plain": [
       "True"
      ]
     },
     "execution_count": 11,
     "metadata": {},
     "output_type": "execute_result"
    }
   ],
   "source": [
    "\"\"\"Create train and validation for positive and negative\"\"\"\n",
    "from data_preparation import split_csv\n",
    "path = os.path.join(\"data\", \"promoter\", \"epd\")\n",
    "positive = os.path.join(path, \"human_tata.csv\")\n",
    "positive_train = os.path.join(path, \"human_tata.train.csv\")\n",
    "positive_validation = os.path.join(path, \"human_tata.validation.csv\")\n",
    "negative = os.path.join(path, \"human_non_tata.csv\")\n",
    "negative_train = os.path.join(path, \"human_non_tata.train.csv\")\n",
    "negative_validation = os.path.join(path, \"human_non_tata.validation.csv\")\n",
    "split_csv(positive, [0.8, 0.2], [positive_train, positive_validation])\n",
    "split_csv(negative, [0.8, 0.2], [negative_train, negative_validation])\n",
    "\n",
    "\"\"\"Merge training and validation\"\"\"\n",
    "from data_preparation import merge_csv\n",
    "train = os.path.join(path, \"promoter.train.csv\")\n",
    "validation = os.path.join(path, \"promoter.validation.csv\")\n",
    "merge_csv([positive_train, negative_train], train)\n",
    "merge_csv([positive_validation, negative_validation], validation)"
   ]
  },
  {
   "cell_type": "code",
   "execution_count": 8,
   "metadata": {},
   "outputs": [],
   "source": [
    "\"\"\"Create train and validation for generated negative\"\"\"\n",
    "from data_preparation import split_csv\n",
    "import os\n",
    "path = os.path.join(\"data\", \"promoter\", \"epd\")\n",
    "generated_negative = os.path.join(path, \"human_generated_non_tata.csv\")\n",
    "generated_negative_train = os.path.join(path, \"human_generated_non_tata.train.csv\")\n",
    "generated_negative_validation = os.path.join(path, \"human_generated_non_tata.validation.csv\")\n",
    "split_csv(generated_negative, [0.8, 0.2], [generated_negative_train, generated_negative_validation])"
   ]
  },
  {
   "cell_type": "code",
   "execution_count": 12,
   "metadata": {},
   "outputs": [
    {
     "name": "stderr",
     "output_type": "stream",
     "text": [
      "100%|██████████| 2/2 [00:00<00:00, 13.29it/s]\n",
      "100%|██████████| 2/2 [00:00<00:00, 42.46it/s]\n"
     ]
    },
    {
     "data": {
      "text/plain": [
       "True"
      ]
     },
     "execution_count": 12,
     "metadata": {},
     "output_type": "execute_result"
    }
   ],
   "source": [
    "\"\"\"Create train and validation for balanced dataset.\"\"\"\n",
    "from data_preparation import split_csv\n",
    "path = os.path.join(\"data\", \"promoter\", \"epd\")\n",
    "positive = os.path.join(path, \"human_tata.balanced.csv\")\n",
    "positive_train = os.path.join(path, \"human_tata.balanced.train.csv\")\n",
    "positive_validation = os.path.join(path, \"human_tata.balanced.validation.csv\")\n",
    "negative = os.path.join(path, \"human_non_tata.balanced.csv\")\n",
    "negative_train = os.path.join(path, \"human_non_tata.balanced.train.csv\")\n",
    "negative_validation = os.path.join(path, \"human_non_tata.balanced.validation.csv\")\n",
    "split_csv(positive, [0.8, 0.2], [positive_train, positive_validation])\n",
    "split_csv(negative, [0.8, 0.2], [negative_train, negative_validation])\n",
    "\n",
    "\"\"\"Merge training and validation\"\"\"\n",
    "from data_preparation import merge_csv\n",
    "train = os.path.join(path, \"promoter_train.balanced.csv\")\n",
    "validation = os.path.join(path, \"promoter_validation.balanced.csv\")\n",
    "merge_csv([positive_train, negative_train], train)\n",
    "merge_csv([positive_validation, negative_validation], validation)"
   ]
  },
  {
   "cell_type": "code",
   "execution_count": 23,
   "metadata": {},
   "outputs": [
    {
     "name": "stdout",
     "output_type": "stream",
     "text": [
      "Generating kmer for <data\\promoter\\epd\\human_non_tata_min384_plus127.csv>: 3065/3065                                                      \r"
     ]
    }
   ],
   "source": [
    "\"\"\"\n",
    "This step and the following are necessary if you need to create kmer version of sequence.\n",
    "Generate kmer format.\n",
    "\"\"\"\n",
    "import os\n",
    "path = os.path.join(\"data\", \"promoter\", \"epd\")\n",
    "positives = [\n",
    "    os.path.join(path, \"human_tata_min128_plus383.csv\"),\n",
    "    os.path.join(path, \"human_tata_min256_plus255.csv\"),\n",
    "    os.path.join(path, \"human_tata_min384_plus127.csv\"),\n",
    "    #os.path.join(path, \"human_tata_min499_plus100.csv\"),\n",
    "]\n",
    "negatives = [\n",
    "    os.path.join(path, \"human_non_tata_min128_plus383.csv\"),\n",
    "    os.path.join(path, \"human_non_tata_min256_plus255.csv\"),\n",
    "    os.path.join(path, \"human_non_tata_min384_plus127.csv\"),\n",
    "    #os.path.join(path, \"human_non_tata_min499_plus100.csv\"),\n",
    "]\n",
    "\n",
    "from data_preparation import generate_kmer_csv\n",
    "for p in positives:\n",
    "    bname = os.path.basename(p)\n",
    "    target_path = os.path.join(path, f\"{bname.split('.')[0]}.kmer.csv\")\n",
    "    generate_kmer_csv(p, target_path)\n",
    "for n in negatives:\n",
    "    bname = os.path.basename(n)\n",
    "    target_path = os.path.join(path, f\"{bname.split('.')[0]}.kmer.csv\")\n",
    "    generate_kmer_csv(n, target_path)\n"
   ]
  },
  {
   "cell_type": "code",
   "execution_count": 10,
   "metadata": {},
   "outputs": [
    {
     "name": "stdout",
     "output_type": "stream",
     "text": [
      "Generating kmer for <data\\promoter\\epd\\human_generated_non_tata_min384_plus127.csv>: 3065/3065                                                      \r"
     ]
    }
   ],
   "source": [
    "\"\"\"This step and the following are necessary if you need to create kmer version of generated negative sequence.\"\"\"\n",
    "import os\n",
    "from data_preparation import generate_kmer_csv\n",
    "\n",
    "path = os.path.join(\"data\", \"promoter\", \"epd\")\n",
    "generated_negatives = [\n",
    "    os.path.join(path, \"human_generated_non_tata_min128_plus383.csv\"),\n",
    "    os.path.join(path, \"human_generated_non_tata_min256_plus255.csv\"),\n",
    "    os.path.join(path, \"human_generated_non_tata_min384_plus127.csv\"),\n",
    "]\n",
    "for n in generated_negatives:\n",
    "    bname = os.path.basename(n)\n",
    "    target_path = os.path.join(path, f\"{bname.split('.')[0]}.kmer.csv\")\n",
    "    generate_kmer_csv(n, target_path)\n"
   ]
  },
  {
   "cell_type": "code",
   "execution_count": 11,
   "metadata": {},
   "outputs": [
    {
     "name": "stdout",
     "output_type": "stream",
     "text": [
      "Generating kmer for <data\\promoter\\epd\\human_generated_non_tata.validation.csv>: 1389/1389                                                      \r"
     ]
    }
   ],
   "source": [
    "\"\"\"Generate kmer version of generated negative\"\"\"\n",
    "import os\n",
    "from data_preparation import generate_kmer_csv\n",
    "\n",
    "path = os.path.join(\"data\", \"promoter\", \"epd\")\n",
    "srcs = [\n",
    "    os.path.join(path, \"human_generated_non_tata.csv\"),\n",
    "    os.path.join(path, \"human_generated_non_tata.train.csv\"),\n",
    "    os.path.join(path, \"human_generated_non_tata.validation.csv\"),\n",
    "]\n",
    "\n",
    "dests = [\n",
    "    os.path.join(path, \"human_generated_non_tata.kmer.csv\"),\n",
    "    os.path.join(path, \"human_generated_non_tata.kmer.train.csv\"),\n",
    "    os.path.join(path, \"human_generated_non_tata.kmer.validation.csv\"),\n",
    "]\n",
    "\n",
    "for s, d in zip(srcs, dests):\n",
    "    generate_kmer_csv(s, d)\n"
   ]
  },
  {
   "cell_type": "code",
   "execution_count": 14,
   "metadata": {},
   "outputs": [
    {
     "name": "stdout",
     "output_type": "stream",
     "text": [
      "Generating kmer for <data\\promoter\\epd\\human_tata.balanced.validation.csv>: 1389/1389                                                      \r"
     ]
    }
   ],
   "source": [
    "import os\n",
    "from data_preparation import generate_kmer_csv\n",
    "\n",
    "path = os.path.join(\"data\", \"promoter\", \"epd\")\n",
    "srcs = [\n",
    "    os.path.join(path, \"human_tata.balanced.train.csv\"),\n",
    "    os.path.join(path, \"human_tata.balanced.validation.csv\"),\n",
    "]\n",
    "dests = [\n",
    "    os.path.join(path, \"human_tata.balanced.kmer.train.csv\"),\n",
    "    os.path.join(path, \"human_tata.balanced.kmer.validation.csv\"),\n",
    "]\n",
    "\n",
    "for s, d in zip(srcs, dests):\n",
    "    generate_kmer_csv(s, d)"
   ]
  },
  {
   "cell_type": "code",
   "execution_count": 24,
   "metadata": {},
   "outputs": [],
   "source": [
    "\"\"\"\n",
    "Split into train and validation.\n",
    "\"\"\"\n",
    "import os\n",
    "path = os.path.join(\"data\", \"promoter\", \"epd\")\n",
    "positives = [\n",
    "    os.path.join(path, \"human_tata_min128_plus383.kmer.csv\"),\n",
    "    os.path.join(path, \"human_tata_min256_plus255.kmer.csv\"),\n",
    "    os.path.join(path, \"human_tata_min384_plus127.kmer.csv\"),\n",
    "    #os.path.join(path, \"human_tata_min499_plus100.kmer.csv\"),\n",
    "]\n",
    "negatives = [\n",
    "    os.path.join(path, \"human_non_tata_min128_plus383.kmer.csv\"),\n",
    "    os.path.join(path, \"human_non_tata_min256_plus255.kmer.csv\"),\n",
    "    os.path.join(path, \"human_non_tata_min384_plus127.kmer.csv\"),\n",
    "    #os.path.join(path, \"human_non_tata_min499_plus100.kmer.csv\"),\n",
    "]\n",
    "\n",
    "import pandas as pd\n",
    "positives_negatives = [positives, negatives]\n",
    "for pn in positives_negatives:\n",
    "    for p in pn:\n",
    "        df = pd.read_csv(p)\n",
    "        train_df = df.sample(frac=0.8)\n",
    "        validation_df = df.drop(train_df.index)\n",
    "        train_df.to_csv(\n",
    "            os.path.join(path, f\"{'.'.join(os.path.basename(p).split('.')[0:2])}.train.csv\"),\n",
    "            index=False\n",
    "        )\n",
    "        validation_df.to_csv(\n",
    "            os.path.join(path, f\"{'.'.join(os.path.basename(p).split('.')[0:2])}.validation.csv\"),\n",
    "            index=False\n",
    "        )"
   ]
  },
  {
   "cell_type": "code",
   "execution_count": 25,
   "metadata": {},
   "outputs": [
    {
     "name": "stderr",
     "output_type": "stream",
     "text": [
      "100%|██████████| 6/6 [00:00<00:00, 10.98it/s]\n",
      "100%|██████████| 6/6 [00:00<00:00, 11.37it/s]\n"
     ]
    },
    {
     "data": {
      "text/plain": [
       "True"
      ]
     },
     "execution_count": 25,
     "metadata": {},
     "output_type": "execute_result"
    }
   ],
   "source": [
    "\"\"\"\n",
    "Merge CSV which is already in kmer version.\n",
    "\"\"\"\n",
    "import os\n",
    "from data_preparation import merge_csv\n",
    "path = os.path.join(\"data\", \"promoter\", \"epd\")\n",
    "trains = [\n",
    "    os.path.join(path, \"human_tata_min128_plus383.kmer.train.csv\"),\n",
    "    os.path.join(path, \"human_tata_min256_plus255.kmer.train.csv\"),\n",
    "    os.path.join(path, \"human_tata_min384_plus127.kmer.train.csv\"),\n",
    "    #os.path.join(path, \"human_tata_min499_plus100.kmer.train.csv\"),\n",
    "    os.path.join(path, \"human_non_tata_min128_plus383.kmer.train.csv\"),\n",
    "    os.path.join(path, \"human_non_tata_min256_plus255.kmer.train.csv\"),\n",
    "    os.path.join(path, \"human_non_tata_min384_plus127.kmer.train.csv\"),\n",
    "    #os.path.join(path, \"human_non_tata_min499_plus100.kmer.train.csv\"),\n",
    "]\n",
    "merge_csv(trains, os.path.join(path, \"human_tata.kmer.train.csv\"))\n",
    "validations = [\n",
    "    os.path.join(path, \"human_tata_min128_plus383.kmer.validation.csv\"),\n",
    "    os.path.join(path, \"human_tata_min256_plus255.kmer.validation.csv\"),\n",
    "    os.path.join(path, \"human_tata_min384_plus127.kmer.validation.csv\"),\n",
    "    #os.path.join(path, \"human_tata_min499_plus100.kmer.validation.csv\"),\n",
    "    os.path.join(path, \"human_non_tata_min128_plus383.kmer.validation.csv\"),\n",
    "    os.path.join(path, \"human_non_tata_min256_plus255.kmer.validation.csv\"),\n",
    "    os.path.join(path, \"human_non_tata_min384_plus127.kmer.validation.csv\"),\n",
    "    #os.path.join(path, \"human_non_tata_min499_plus100.kmer.validation.csv\"),\n",
    "]\n",
    "merge_csv(trains, os.path.join(path, \"human_tata.kmer.validation.csv\"))\n"
   ]
  },
  {
   "cell_type": "code",
   "execution_count": 16,
   "metadata": {},
   "outputs": [
    {
     "data": {
      "text/plain": [
       "598"
      ]
     },
     "execution_count": 16,
     "metadata": {},
     "output_type": "execute_result"
    }
   ],
   "source": [
    "s = \"ATT TTG TGG GGG GGG GGC GCA CAA AAT ATG TGC GCT CTC TCC CCT CTG TGT GTT TTA TAT ATC TCC CCA CAC ACA CAC ACA CAG AGT GTG TGT GTC TCA CAT ATT TTT TTA TAA AAG AGG GGG GGT GTG TGA GAC ACA CAT ATT TTA TAG AGA GAG AGA GAT ATG TGG GGC GCA CAT ATG TGA GAA AAG AGT GTG TGC GCC CCC CCA CAG AGC GCA CAC ACA CAG AGA GAG AGC GCA CAG AGG GGT GTG TGC GCT CTC TCA CAC ACA CAG AGG GGC GCT CTG TGT GTT TTG TGG GGG GGT GTC TCC CCC CCC CCA CAC ACC CCC CCT CTA TAC ACT CTG TGA GAC ACA CAC ACA CAC ACC CCA CAA AAG AGC GCA CAC ACA CAC ACG CGT GTC TCT CTG TGC GCC CCC CCT CTG TGC GCC CCA CAT ATG TGG GGT GTG TGG GGG GGG GGA GAG AGC GCA CAA AAA AAC ACA CAA AAT ATG TGT GTT TTA TAT ATG TGG GGT GTT TTC TCC CCG CGA GAC ACT CTC TCC CCC CCC CCG CGG GGG GGA GAG AGG GGC GCC CCA CAG AGG GGC GCC CCG CGG GGG GGC GCA CAT ATT TTT TTC TCA CAC ACT CTG TGT GTA TAG AGG GGA GAT ATG TGT GTT TTG TGA GAA AAG AGC GCC CCG CGC GCA CAG AGG GGC GCA CAG AGT GTC TCG CGT GTC TCG CGC GCT CTG TGC GCG CGA GAG AGA GAA AAG AGA GAG AGA GAG AGC GCC CCT CTG TGG GGC GCT CTC TCT CTG TGA GAT ATG TGT GTC TCC CCA CAC ACT CTG TGT GTC TCT CTT TTC TCC CCA CAG AGG GGG GGA GAG AGC GCC CCT CTG TGG GGT GTG TGG GGG GGA GAA AAG AGG GGA GAA AAG AGG GGA GAG AGT GTG TGG GGG GGC GCA CAG AGC GCG CGG GGC GCC CCC CCC CCT CTC TCG CGC GCT CTC TCT CTG TGC GCG CGG GGG GGC GCC CCT CTC TCT CTC TCC CCT CTG TGC GCC CCC CCT CTT TTT TTG TGT GTA TAC ACT CTC TCC CCA CAC ACG CGA GAG AGG GGT GTG TGT GTG TGA GAG AGG GGA GAA AAG AGT GTT TTG TGC GCC CCG CGG GGG GGT GTC TCA CAC ACC CCC CCA CAG AGC GCA CAG AGA GAG AGG GGG GGA GAG AGA GAG AGG GGT GTG TGA GAT ATG TGT GTC TCC CCC CCC CCT CTC TCT CTG TGT GTT TTC TCT CTT TTC TCC CCT CTA TAA AAT ATT TTT TTG TGT GTA TAG AGC GCT CTA TAA AAT ATC TCA CAG AGA GAT ATT TTC TCT CTG TGC GCC CCT CTG TGC GCA CAG AGC GCC CCA CAG AGG GGC GCT CTC TCT CTC TCT CTG TGG GGG GGG GGA GAT ATG TGA GAA AAT ATC TCT CTA TAA AAT ATA TAA AAA AAG AGG GGA GAG AGG GGC GCG CGG GGC GCG CGA GAC ACC CCT CTG TGG GGA GAG AGA GAG AGG GGA GAG AGG GGA GAC ACA CAG AGA GAC ACA CAA AAC ACA CAA AAG AGT GTG TGA GAC ACC CCA CAG AGG GGG GGG GGG GGG GGA GAC ACA CAG AGC GCA CAC ACT CTT TTC TCT CTT TTT TTC TCA CAG AGT GTA TAC ACA CAT ATT TTT TTT TTC TCC CCT CTG TGT GTT TTA TAG AGA GAC ACT CTC TCG CGG GGG GGG GGT GTA TAT ATT TTA TAG AGA GAG AGA GAC ACC CCC CCA CAA AAA AAG AGA GAT ATA TAC ACC CCC CCA CAA AAG AGG GGA GAG AGG GGA GAG AGT GTG TGA GAG AGA GAG AGC GCG\"\n",
    "s = s.split(' ')\n",
    "len(s)"
   ]
  },
  {
   "cell_type": "code",
   "execution_count": 16,
   "metadata": {},
   "outputs": [
    {
     "name": "stderr",
     "output_type": "stream",
     "text": [
      "100%|██████████| 2/2 [00:00<00:00,  4.93it/s]\n",
      "100%|██████████| 2/2 [00:00<00:00, 21.50it/s]\n"
     ]
    },
    {
     "data": {
      "text/plain": [
       "True"
      ]
     },
     "execution_count": 16,
     "metadata": {},
     "output_type": "execute_result"
    }
   ],
   "source": [
    "\"\"\"Generate promoter data from positive and generated negative data in kmer version.\"\"\"\n",
    "import os\n",
    "from data_preparation import merge_csv\n",
    "\n",
    "path = os.path.join(\"data\", \"promoter\", \"epd\")\n",
    "train_srcs = [\n",
    "    os.path.join(path, \"human_tata.balanced.kmer.train.csv\"),\n",
    "    os.path.join(path, \"human_generated_non_tata.kmer.train.csv\")\n",
    "]\n",
    "train_dest = os.path.join(path, \"promoter_train.balanced.generated_negative.kmer.csv\")\n",
    "merge_csv(train_srcs, train_dest)\n",
    "validation_srcs = [\n",
    "    os.path.join(path, \"human_tata.balanced.kmer.validation.csv\"),\n",
    "    os.path.join(path, \"human_generated_non_tata.kmer.validation.csv\")\n",
    "]\n",
    "validation_dest = os.path.join(path, \"promoter_validation.balanced.generated_negative.kmer.csv\")\n",
    "merge_csv(validation_srcs, validation_dest)\n"
   ]
  },
  {
   "cell_type": "code",
   "execution_count": 17,
   "metadata": {},
   "outputs": [
    {
     "name": "stderr",
     "output_type": "stream",
     "text": [
      "100%|██████████| 2/2 [00:00<00:00, 18.08it/s]\n",
      "100%|██████████| 2/2 [00:00<00:00, 81.56it/s]\n"
     ]
    },
    {
     "data": {
      "text/plain": [
       "True"
      ]
     },
     "execution_count": 17,
     "metadata": {},
     "output_type": "execute_result"
    }
   ],
   "source": [
    "\"\"\"\n",
    "Generate promoter data from positive and generate negative data in normal format.\n",
    "\"\"\"\n",
    "import os\n",
    "from data_preparation import merge_csv\n",
    "\n",
    "path = os.path.join(\"data\", \"promoter\", \"epd\")\n",
    "train_srcs = [\n",
    "    os.path.join(path, \"human_tata.balanced.train.csv\"),\n",
    "    os.path.join(path, \"human_generated_non_tata.train.csv\")\n",
    "]\n",
    "train_dest = os.path.join(path, \"promoter_train.balanced.generated_negative.csv\")\n",
    "merge_csv(train_srcs, train_dest)\n",
    "validation_srcs = [\n",
    "    os.path.join(path, \"human_tata.balanced.validation.csv\"),\n",
    "    os.path.join(path, \"human_generated_non_tata.validation.csv\")\n",
    "]\n",
    "validation_dest = os.path.join(path, \"promoter_validation.balanced.generated_negative.csv\")\n",
    "merge_csv(validation_srcs, validation_dest)"
   ]
  },
  {
   "cell_type": "code",
   "execution_count": null,
   "metadata": {},
   "outputs": [],
   "source": []
  }
 ],
 "metadata": {
  "interpreter": {
   "hash": "1bcc05615a70b396b2914747c544672e77157727153b1cb6572b3ac9e1c1c348"
  },
  "kernelspec": {
   "display_name": "Python 3.9.1 64-bit ('sequence-processing-py39': venv)",
   "language": "python",
   "name": "python3"
  },
  "language_info": {
   "codemirror_mode": {
    "name": "ipython",
    "version": 3
   },
   "file_extension": ".py",
   "mimetype": "text/x-python",
   "name": "python",
   "nbconvert_exporter": "python",
   "pygments_lexer": "ipython3",
   "version": "3.9.1"
  },
  "orig_nbformat": 4
 },
 "nbformat": 4,
 "nbformat_minor": 2
}
