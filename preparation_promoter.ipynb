{
 "cells": [
  {
   "cell_type": "code",
   "execution_count": null,
   "metadata": {},
   "outputs": [],
   "source": [
    "\"\"\"\n",
    "Generate positive and negative dataset.\n",
    "Still not expanded.\n",
    "\"\"\"\n",
    "from data_preparation import generate_csv_from_fasta, generate_negative_dataset\n",
    "from data_dir import epd_tata, epd_pos_tata_csv, epd_neg_tata_csv\n",
    "\n",
    "print(\"Generate positive csv from EPD data {}\".format(generate_csv_from_fasta(epd_tata, epd_pos_tata_csv, 1)))\n",
    "print(\"Generate negative csv from positive data {}\".format(generate_negative_dataset(epd_pos_tata_csv, epd_neg_tata_csv)))"
   ]
  },
  {
   "cell_type": "code",
   "execution_count": null,
   "metadata": {},
   "outputs": [],
   "source": [
    "\"\"\"\n",
    "Generate kmer version for both positive and negative promoter data.\n",
    "\"\"\"\n",
    "from data_preparation import generate_kmer_csv\n",
    "from data_dir import epd_pos_tata_csv, epd_neg_tata_csv, epd_pos_tata_kmer_csv, epd_neg_tata_kmer_csv\n",
    "\n",
    "print(\"Generate kmer csv from positive data {}\".format(generate_kmer_csv(epd_pos_tata_csv, epd_pos_tata_kmer_csv)))\n",
    "print(\"Generate kmer csv from negative data {}\".format(generate_kmer_csv(epd_neg_tata_csv, epd_neg_tata_kmer_csv)))"
   ]
  },
  {
   "cell_type": "code",
   "execution_count": 1,
   "metadata": {},
   "outputs": [
    {
     "data": {
      "text/plain": [
       "['./data/epd/human_non_tata_kmer/train.csv',\n",
       " './data/epd/human_non_tata_kmer/validation.csv',\n",
       " './data/epd/human_non_tata_kmer/test.csv']"
      ]
     },
     "execution_count": 1,
     "metadata": {},
     "output_type": "execute_result"
    }
   ],
   "source": [
    "\"\"\"\n",
    "Generate train, validation, and test data for both positive and negative promoter data.\n",
    "\"\"\"\n",
    "from data_preparation import generate_datasets\n",
    "from data_dir import epd_pos_tata_kmer_csv, epd_neg_tata_kmer_csv, epd_pos_tata_kmer_dir, epd_neg_tata_kmer_dir\n",
    "\n",
    "generate_datasets(epd_pos_tata_kmer_csv, epd_pos_tata_kmer_dir)\n",
    "generate_datasets(epd_neg_tata_kmer_csv, epd_neg_tata_kmer_dir)"
   ]
  },
  {
   "cell_type": "code",
   "execution_count": 1,
   "metadata": {},
   "outputs": [
    {
     "name": "stdout",
     "output_type": "stream",
     "text": [
      "Expanding positive dataset: Truean_tata_kmer/validation.csv: 207/207\n",
      "Expanding negative dataset: Truean_non_tata_kmer/validation.csv: 207/207\n"
     ]
    }
   ],
   "source": [
    "\"\"\"\n",
    "Generate expanded datasets.\n",
    "\"\"\"\n",
    "import os\n",
    "from data_dir import epd_pos_tata_kmer_dir, epd_neg_tata_kmer_dir\n",
    "from data_preparation import expand_files_in_dir\n",
    "\n",
    "print(\"Expanding positive dataset: {}\".format(expand_files_in_dir(epd_pos_tata_kmer_dir)))\n",
    "print(\"Expanding negative dataset: {}\".format(expand_files_in_dir(epd_neg_tata_kmer_dir)))"
   ]
  },
  {
   "cell_type": "code",
   "execution_count": 1,
   "metadata": {},
   "outputs": [],
   "source": [
    "\"\"\"\n",
    "Generate samples for train, validation, and data for both positive and negative dataset.\n",
    "\"\"\"\n",
    "from data_preparation import generate_sample\n",
    "from data_dir import epd_pos_tata_kmer_dir, epd_neg_tata_kmer_dir, sample_prom_pos_dir, sample_prom_neg_dir\n",
    "\n",
    "# Create samples.\n",
    "prom_pos_srcs = [\n",
    "    (\"{}/train.csv\".format(epd_pos_tata_kmer_dir), \"{}/train.csv\".format(sample_prom_pos_dir)),\n",
    "    (\"{}/validation.csv\".format(epd_pos_tata_kmer_dir), \"{}/validation.csv\".format(sample_prom_pos_dir)),\n",
    "    (\"{}/test.csv\".format(epd_pos_tata_kmer_dir), \"{}/test.csv\".format(sample_prom_pos_dir) ),\n",
    "]\n",
    "prom_neg_srcs = [\n",
    "    (\"{}/train.csv\".format(epd_neg_tata_kmer_dir), \"{}/train.csv\".format(sample_prom_neg_dir)), \n",
    "    (\"{}/validation.csv\".format(epd_neg_tata_kmer_dir), \"{}/validation.csv\".format(sample_prom_neg_dir)),\n",
    "    (\"{}/test.csv\".format(epd_neg_tata_kmer_dir), \"{}/test.csv\".format(sample_prom_neg_dir)),\n",
    "]\n",
    "domain = [prom_pos_srcs, prom_neg_srcs]\n",
    "for dom in domain:\n",
    "    for src in dom:\n",
    "        src_csv = src[0]\n",
    "        target_csv = src[1]\n",
    "        generate_sample(src_csv, target_csv, frac_sample=0.1)"
   ]
  },
  {
   "cell_type": "code",
   "execution_count": 2,
   "metadata": {},
   "outputs": [
    {
     "name": "stdout",
     "output_type": "stream",
     "text": [
      "Merging sample training data: True\n",
      "Merging sample validation data: True\n",
      "Merging sample test data: True\n"
     ]
    }
   ],
   "source": [
    "\"\"\"\n",
    "Merge samples.\n",
    "\"\"\"\n",
    "from data_dir import sample_prom_neg_dir, sample_prom_pos_dir, sample_prom_train_sample_csv, sample_prom_validation_sample_csv, sample_prom_test_sample_csv\n",
    "from data_preparation import merge_csv\n",
    "\n",
    "print(\"Merging sample training data: {}\".format(merge_csv([\n",
    "    \"{}/train.csv\".format(sample_prom_pos_dir),\n",
    "    \"{}/train.csv\".format(sample_prom_neg_dir)\n",
    "], sample_prom_train_sample_csv)))\n",
    "print(\"Merging sample validation data: {}\".format(merge_csv([\n",
    "    \"{}/validation.csv\".format(sample_prom_pos_dir),\n",
    "    \"{}/validation.csv\".format(sample_prom_neg_dir)\n",
    "], sample_prom_validation_sample_csv)))\n",
    "print(\"Merging sample test data: {}\".format(merge_csv([\n",
    "    \"{}/test.csv\".format(sample_prom_pos_dir),\n",
    "    \"{}/test.csv\".format(sample_prom_neg_dir)\n",
    "], sample_prom_test_sample_csv)))"
   ]
  },
  {
   "cell_type": "code",
   "execution_count": 1,
   "metadata": {},
   "outputs": [
    {
     "name": "stdout",
     "output_type": "stream",
     "text": [
      "Merging training data: True\n",
      "Merging validation data: True\n",
      "Merging test data: True\n"
     ]
    }
   ],
   "source": [
    "\"\"\"\n",
    "Merge original data.\n",
    "\"\"\"\n",
    "from data_dir import epd_pos_tata_train_csv, epd_pos_tata_validation_csv, epd_pos_tata_test_csv, epd_neg_tata_train_csv, epd_neg_tata_validation_csv, epd_neg_tata_test_csv\n",
    "from data_dir import dataset_prom_train_csv, dataset_prom_validation_csv, dataset_prom_test_csv\n",
    "from data_preparation import merge_csv\n",
    "\n",
    "print(\"Merging training data: {}\".format(merge_csv([\n",
    "    epd_pos_tata_train_csv,\n",
    "    epd_neg_tata_train_csv,\n",
    "], dataset_prom_train_csv)))\n",
    "print(\"Merging validation data: {}\".format(merge_csv([\n",
    "    epd_pos_tata_validation_csv,\n",
    "    epd_neg_tata_validation_csv\n",
    "], dataset_prom_validation_csv)))\n",
    "print(\"Merging test data: {}\".format(merge_csv([\n",
    "    epd_pos_tata_test_csv,\n",
    "    epd_neg_tata_test_csv\n",
    "], dataset_prom_test_csv)))"
   ]
  }
 ],
 "metadata": {
  "interpreter": {
   "hash": "7170ee380771f2003055f3cee3e2e4dd0d81d1dac73a8c82197236b1572f37c2"
  },
  "kernelspec": {
   "display_name": "Python 3.7.9 64-bit ('sequence-processing': venv)",
   "language": "python",
   "name": "python3"
  },
  "language_info": {
   "codemirror_mode": {
    "name": "ipython",
    "version": 3
   },
   "file_extension": ".py",
   "mimetype": "text/x-python",
   "name": "python",
   "nbconvert_exporter": "python",
   "pygments_lexer": "ipython3",
   "version": "3.9.1"
  },
  "orig_nbformat": 4
 },
 "nbformat": 4,
 "nbformat_minor": 2
}
