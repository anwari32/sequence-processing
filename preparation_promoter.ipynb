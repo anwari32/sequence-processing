{
 "cells": [
  {
   "cell_type": "code",
   "execution_count": 2,
   "metadata": {},
   "outputs": [
    {
     "name": "stdout",
     "output_type": "stream",
     "text": [
      "Generate positive csv from positive EPD data True\n",
      "Generate negative csv from positive data True\n",
      "Generate negative csv from negative EPD Data True\n"
     ]
    }
   ],
   "source": [
    "\"\"\"\n",
    "Generate positive and negative dataset.\n",
    "Still not expanded.\n",
    "\"\"\"\n",
    "from data_preparation import generate_csv_from_fasta, generate_negative_dataset\n",
    "from data_dir import epd_tata_min128_plus383_fasta, epd_tata_min256_plus255_csv, epd_tata_min\n",
    "\n",
    "print(\"Generate positive csv from positive EPD data {}\".format(generate_csv_from_fasta(epd_tata, epd_pos_tata_csv, 1)))\n",
    "print(\"Generate negative csv from positive data {}\".format(generate_negative_dataset(epd_pos_tata_csv, epd_neg_tata_csv)))\n",
    "print(\"Generate negative csv from negative EPD Data {}\".format(generate_csv_from_fasta(epd_non_tata, epd_non_tata_csv, 0)))"
   ]
  },
  {
   "cell_type": "code",
   "execution_count": null,
   "metadata": {},
   "outputs": [],
   "source": [
    "\"\"\"\n",
    "Generate samples for negatives.\n",
    "\"\"\"\n",
    "from data_preparation import generate_sample\n",
    "from data_dir import epd_neg_tata_csv, epd_non_tata_csv, epd_pos_tata_csv, epd_pos_tata_csv\n",
    "import os\n",
    "\n",
    "negative_generated = os.path.join(\"data\", \"epd\", \"negative_tata_generated_sample.csv\")\n",
    "negative_epd = os.path.join(\"data\", \"epd\", \"negative_tata_epd_sample.csv\")\n",
    "positive_epd = os.path.join(\"data\", \"epd\", \"positive_tata_epd_sample.csv\")\n",
    "n_sample = 750\n",
    "\n",
    "\n",
    "print(f\"Generate {n_sample} sample of {epd_neg_tata_csv}: {generate_sample(epd_neg_tata_csv, negative_generated, n_sample=n_sample)}\")\n",
    "print(f\"Generate {n_sample} sample of {epd_non_tata_csv}: {generate_sample(epd_non_tata_csv, negative_epd, n_sample=n_sample)}\")\n",
    "\"\"\"\n",
    "Generate sample for positives.\n",
    "\"\"\"\n",
    "print(f\"Generate {n_sample * 2} sample of {epd_pos_tata_csv}: {generate_sample(epd_pos_tata_csv, positive)}\")\n"
   ]
  },
  {
   "cell_type": "code",
   "execution_count": null,
   "metadata": {},
   "outputs": [],
   "source": [
    "\"\"\"\n",
    "Generate kmer version for both positive and negative promoter data.\n",
    "\"\"\"\n",
    "from data_preparation import generate_kmer_csv\n",
    "from data_dir import epd_pos_tata_csv, epd_neg_tata_csv, epd_pos_tata_kmer_csv, epd_neg_tata_kmer_csv\n",
    "\n",
    "print(\"Generate kmer csv from positive data {}\".format(generate_kmer_csv(epd_pos_tata_csv, epd_pos_tata_kmer_csv)))\n",
    "print(\"Generate kmer csv from negative data {}\".format(generate_kmer_csv(epd_neg_tata_csv, epd_neg_tata_kmer_csv)))"
   ]
  },
  {
   "cell_type": "code",
   "execution_count": 1,
   "metadata": {},
   "outputs": [
    {
     "name": "stdout",
     "output_type": "stream",
     "text": [
      "Splitting and storing split to ./data/epd/train.positive.csv\n",
      "Splitting and storing split to ./data/epd/validation.positive.csv\n",
      "Splitting and storing split to ./data/epd/train.negative.csv\n",
      "Splitting and storing split to ./data/epd/validation.negative.csv\n"
     ]
    },
    {
     "data": {
      "text/plain": [
       "True"
      ]
     },
     "execution_count": 1,
     "metadata": {},
     "output_type": "execute_result"
    }
   ],
   "source": [
    "\"\"\"\n",
    "Generate train and validation for positive and negative\n",
    "\"\"\"\n",
    "from data_preparation import split_and_store_csv\n",
    "from data_dir import epd_pos_tata_kmer_csv, epd_neg_tata_kmer_csv, epd_pos_tata_kmer_dir, epd_neg_tata_kmer_dir, data_epd_dir\n",
    "\n",
    "fractions = [0.9, 0.1]\n",
    "split_and_store_csv(epd_pos_tata_kmer_csv, fractions, ['{}/train.positive.csv'.format(data_epd_dir), '{}/validation.positive.csv'.format(data_epd_dir)])\n",
    "split_and_store_csv(epd_neg_tata_kmer_csv, fractions, ['{}/train.negative.csv'.format(data_epd_dir), '{}/validation.negative.csv'.format(data_epd_dir)])"
   ]
  },
  {
   "cell_type": "code",
   "execution_count": 2,
   "metadata": {},
   "outputs": [],
   "source": [
    "\"\"\"\n",
    "Merging positive and negative for each of its training and validation file.\n",
    "\"\"\"\n",
    "from data_dir import data_epd_dir\n",
    "from data_preparation import merge_csv\n",
    "for _type in ['train', 'validation']:\n",
    "    pos = '{}/{}.positive.csv'.format(data_epd_dir, _type)\n",
    "    neg = '{}/{}.negative.csv'.format(data_epd_dir, _type)\n",
    "    target = '{}/{}.csv'.format(data_epd_dir, _type)\n",
    "    merge_csv([pos, neg], target)"
   ]
  }
 ],
 "metadata": {
  "interpreter": {
   "hash": "7170ee380771f2003055f3cee3e2e4dd0d81d1dac73a8c82197236b1572f37c2"
  },
  "kernelspec": {
   "display_name": "Python 3.7.9 64-bit ('sequence-processing': venv)",
   "language": "python",
   "name": "python3"
  },
  "language_info": {
   "codemirror_mode": {
    "name": "ipython",
    "version": 3
   },
   "file_extension": ".py",
   "mimetype": "text/x-python",
   "name": "python",
   "nbconvert_exporter": "python",
   "pygments_lexer": "ipython3",
   "version": "3.7.9"
  },
  "orig_nbformat": 4
 },
 "nbformat": 4,
 "nbformat_minor": 2
}
