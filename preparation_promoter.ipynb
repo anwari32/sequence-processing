{
 "cells": [
  {
   "cell_type": "code",
   "execution_count": null,
   "metadata": {},
   "outputs": [],
   "source": [
    "\"\"\"\n",
    "Generate positive and negative dataset.\n",
    "Still not expanded.\n",
    "\"\"\"\n",
    "from data_preparation import generate_csv_from_fasta, generate_negative_dataset\n",
    "from data_dir import epd_tata, epd_pos_tata_csv, epd_neg_tata_csv\n",
    "\n",
    "print(\"Generate positive csv from EPD data {}\".format(generate_csv_from_fasta(epd_tata, epd_pos_tata_csv, 1)))\n",
    "print(\"Generate negative csv from positive data {}\".format(generate_negative_dataset(epd_pos_tata_csv, epd_neg_tata_csv)))"
   ]
  },
  {
   "cell_type": "code",
   "execution_count": null,
   "metadata": {},
   "outputs": [],
   "source": [
    "\"\"\"\n",
    "Generate kmer version for both positive and negative promoter data.\n",
    "\"\"\"\n",
    "from data_preparation import generate_kmer_csv\n",
    "from data_dir import epd_pos_tata_csv, epd_neg_tata_csv, epd_pos_tata_kmer_csv, epd_neg_tata_kmer_csv\n",
    "\n",
    "print(\"Generate kmer csv from positive data {}\".format(generate_kmer_csv(epd_pos_tata_csv, epd_pos_tata_kmer_csv)))\n",
    "print(\"Generate kmer csv from negative data {}\".format(generate_kmer_csv(epd_neg_tata_csv, epd_neg_tata_kmer_csv)))"
   ]
  },
  {
   "cell_type": "code",
   "execution_count": 1,
   "metadata": {},
   "outputs": [
    {
     "name": "stdout",
     "output_type": "stream",
     "text": [
      "Splitting and storing split to ./data/epd/train.positive.csv\n",
      "Splitting and storing split to ./data/epd/validation.positive.csv\n",
      "Splitting and storing split to ./data/epd/train.negative.csv\n",
      "Splitting and storing split to ./data/epd/validation.negative.csv\n"
     ]
    },
    {
     "data": {
      "text/plain": [
       "True"
      ]
     },
     "execution_count": 1,
     "metadata": {},
     "output_type": "execute_result"
    }
   ],
   "source": [
    "\"\"\"\n",
    "Generate train and validation for positive and negative\n",
    "\"\"\"\n",
    "from data_preparation import split_and_store_csv\n",
    "from data_dir import epd_pos_tata_kmer_csv, epd_neg_tata_kmer_csv, epd_pos_tata_kmer_dir, epd_neg_tata_kmer_dir, data_epd_dir\n",
    "\n",
    "fractions = [0.9, 0.1]\n",
    "split_and_store_csv(epd_pos_tata_kmer_csv, fractions, ['{}/train.positive.csv'.format(data_epd_dir), '{}/validation.positive.csv'.format(data_epd_dir)])\n",
    "split_and_store_csv(epd_neg_tata_kmer_csv, fractions, ['{}/train.negative.csv'.format(data_epd_dir), '{}/validation.negative.csv'.format(data_epd_dir)])"
   ]
  },
  {
   "cell_type": "code",
   "execution_count": 2,
   "metadata": {},
   "outputs": [],
   "source": [
    "\"\"\"\n",
    "Merging positive and negative for each of its training and validation file.\n",
    "\"\"\"\n",
    "from data_dir import data_epd_dir\n",
    "from data_preparation import merge_csv\n",
    "for _type in ['train', 'validation']:\n",
    "    pos = '{}/{}.positive.csv'.format(data_epd_dir, _type)\n",
    "    neg = '{}/{}.negative.csv'.format(data_epd_dir, _type)\n",
    "    target = '{}/{}.csv'.format(data_epd_dir, _type)\n",
    "    merge_csv([pos, neg], target)"
   ]
  }
 ],
 "metadata": {
  "interpreter": {
   "hash": "7170ee380771f2003055f3cee3e2e4dd0d81d1dac73a8c82197236b1572f37c2"
  },
  "kernelspec": {
   "display_name": "Python 3.7.9 64-bit ('sequence-processing': venv)",
   "language": "python",
   "name": "python3"
  },
  "language_info": {
   "codemirror_mode": {
    "name": "ipython",
    "version": 3
   },
   "file_extension": ".py",
   "mimetype": "text/x-python",
   "name": "python",
   "nbconvert_exporter": "python",
   "pygments_lexer": "ipython3",
   "version": "3.7.9"
  },
  "orig_nbformat": 4
 },
 "nbformat": 4,
 "nbformat_minor": 2
}
