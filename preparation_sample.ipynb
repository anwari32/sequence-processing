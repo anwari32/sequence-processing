{
 "cells": [
  {
   "cell_type": "code",
   "execution_count": 1,
   "metadata": {},
   "outputs": [],
   "source": [
    "\"\"\"\n",
    "Merge training, validation, and test files from each dataset.\n",
    "Datasets: Promoter, SS, and Poly-A\n",
    "\"\"\"\n",
    "dataset_dir = './dataset'\n",
    "dataset_prom_dir = '{}/promoter'.format(dataset_dir)\n",
    "dataset_prom_pos_dir = '{}/pos_human_prom_dataset'.format(dataset_prom_dir)\n",
    "dataset_prom_pos_train_sample_csv = '{}/train_expanded.csv'.format(dataset_prom_pos_dir)\n",
    "dataset_prom_pos_validation_sample_csv = '{}/validation_expanded.csv'.format(dataset_prom_pos_dir)\n",
    "dataset_prom_pos_test_sample_csv = '{}/test_expanded.csv'.format(dataset_prom_pos_dir)\n",
    "dataset_prom_neg_dir = '{}/neg_human_prom_dataset'.format(dataset_prom_dir)\n",
    "dataset_prom_neg_train_sample_csv = '{}/train_expanded.csv'.format(dataset_prom_neg_dir)\n",
    "dataset_prom_neg_validation_sample_csv = '{}/validation_expanded.csv'.format(dataset_prom_neg_dir)\n",
    "dataset_prom_neg_test_sample_csv = '{}/test_expanded.csv'.format(dataset_prom_neg_dir)\n",
    "\n",
    "dataset_ss_dir = '{}/splice-sites'.format(dataset_dir)\n",
    "dataset_ss_pos_acc_dir = '{}/pos_ss_acc_dataset'.format(dataset_ss_dir)\n",
    "dataset_ss_pos_acc_train_sample_csv = '{}/train_sample_expanded.csv'.format(dataset_ss_pos_acc_dir)\n",
    "dataset_ss_pos_acc_validation_sample_csv = '{}/validation_sample_expanded.csv'.format(dataset_ss_pos_acc_dir)\n",
    "dataset_ss_pos_acc_test_sample_csv = '{}/test_sample_expanded.csv'.format(dataset_ss_pos_acc_dir)\n",
    "dataset_ss_pos_don_dir = '{}/pos_ss_don_dataset'.format(dataset_ss_dir)\n",
    "dataset_ss_pos_don_train_sample_csv = '{}/train_sample_expanded.csv'.format(dataset_ss_pos_don_dir)\n",
    "dataset_ss_pos_don_validation_sample_csv = '{}/validation_sample_expanded.csv'.format(dataset_ss_pos_don_dir)\n",
    "dataset_ss_pos_don_test_sample_csv = '{}/test_sample_expanded.csv'.format(dataset_ss_pos_don_dir)\n",
    "dataset_ss_neg_acc_dir = '{}/neg_ss_acc_dataset'.format(dataset_ss_dir)\n",
    "dataset_ss_neg_acc_train_sample_csv = '{}/train_sample_expanded.csv'.format(dataset_ss_neg_acc_dir)\n",
    "dataset_ss_neg_acc_validation_sample_csv = '{}/validation_sample_expanded.csv'.format(dataset_ss_neg_acc_dir)\n",
    "dataset_ss_neg_acc_test_sample_csv = '{}/test_sample_expanded.csv'.format(dataset_ss_neg_acc_dir)\n",
    "dataset_ss_neg_don_dir = '{}/neg_ss_don_dataset'.format(dataset_ss_dir)\n",
    "dataset_ss_neg_don_train_sample_csv = '{}/train_sample_expanded.csv'.format(dataset_ss_neg_don_dir)\n",
    "dataset_ss_neg_don_validation_sample_csv = '{}/validation_sample_expanded.csv'.format(dataset_ss_neg_don_dir)\n",
    "dataset_ss_neg_don_test_sample_csv = '{}/test_sample_expanded.csv'.format(dataset_ss_neg_don_dir)\n",
    "\n",
    "dataset_polya_dir = '{}/polya'.format(dataset_dir)\n",
    "dataset_polya_pos_dir = '{}/positive'.format(dataset_polya_dir)\n",
    "dataset_polya_pos_train_sample_csv = '{}/train_sample.csv'.format(dataset_polya_pos_dir)\n",
    "dataset_polya_pos_train_csv = '{}/train.csv'.format(dataset_polya_pos_dir)\n",
    "dataset_polya_pos_validation_sample_csv = '{}/validation_sample.csv'.format(dataset_polya_pos_dir)\n",
    "dataset_polya_pos_validation_csv = '{}/validation.csv'.format(dataset_polya_pos_dir)\n",
    "dataset_polya_pos_test_sample_csv = '{}/test_sample.csv'.format(dataset_polya_pos_dir)\n",
    "dataset_polya_pos_test_csv = '{}/test.csv'.format(dataset_polya_pos_dir)\n",
    "dataset_polya_neg_dir = '{}/negative'.format(dataset_polya_dir)\n",
    "dataset_polya_neg_train_sample_csv = '{}/train_sample.csv'.format(dataset_polya_neg_dir)\n",
    "dataset_polya_neg_train_csv = '{}/train.csv'.format(dataset_polya_neg_dir)\n",
    "dataset_polya_neg_validation_sample_csv = '{}/validation_sample.csv'.format(dataset_polya_neg_dir)\n",
    "dataset_polya_neg_validation_csv = '{}/validation.csv'.format(dataset_polya_neg_dir)\n",
    "dataset_polya_neg_test_sample_csv = '{}/test_sample.csv'.format(dataset_polya_neg_dir)\n",
    "dataset_polya_neg_test_csv = '{}/test.csv'.format(dataset_polya_neg_dir)\n",
    "\n",
    "sample_dir = './sample'\n",
    "sample_prom_dir = '{}/promoter'.format(sample_dir)\n",
    "sample_prom_train_sample_csv = '{}/train_sample.csv'.format(sample_prom_dir)\n",
    "sample_prom_validation_sample_csv = '{}/validation_sample.csv'.format(sample_prom_dir)\n",
    "sample_prom_test_sample_csv = '{}/test_sample.csv'.format(sample_prom_dir)\n",
    "sample_ss_dir = '{}/splice-sites'.format(sample_dir)\n",
    "sample_ss_train_sample_csv = '{}/train_sample.csv'.format(sample_ss_dir)\n",
    "sample_ss_validation_sample_csv = '{}/validation_sample.csv'.format(sample_ss_dir)\n",
    "sample_ss_test_sample_csv = '{}/test_sample.csv'.format(sample_ss_dir)\n",
    "sample_polya_dir = '{}/polya'.format(sample_dir)\n",
    "sample_polya_train_sample = '{}/train_sample.csv'.format(sample_polya_dir)\n",
    "sample_polya_validation_sample = '{}/validation_sample.csv'.format(sample_polya_dir)\n",
    "sample_polya_test_sample = '{}/test_sample.csv'.format(sample_polya_dir)"
   ]
  },
  {
   "cell_type": "code",
   "execution_count": null,
   "metadata": {},
   "outputs": [],
   "source": [
    "\"\"\"\n",
    "Merge promoter train, validation, and test set.\n",
    "\"\"\"\n",
    "from data_preparation import merge_csv\n",
    "prom_train_datasets = []\n",
    "prom_validation_datasets = []\n",
    "prom_test_datasets = []\n"
   ]
  },
  {
   "cell_type": "code",
   "execution_count": null,
   "metadata": {},
   "outputs": [],
   "source": [
    "\"\"\"\n",
    "Merge ss train, validation, and test set.\n",
    "\"\"\"\n",
    "from data_preparation import merge_csv\n",
    "\n",
    "ss_train_datasets = [\n",
    "    dataset_ss_pos_acc_train_sample_csv,\n",
    "    dataset_ss_pos_don_train_sample_csv,\n",
    "    dataset_ss_neg_acc_train_sample_csv,\n",
    "    dataset_ss_neg_don_train_sample_csv\n",
    "]\n",
    "ss_validation_datasets = [\n",
    "    dataset_ss_pos_acc_validation_sample_csv,\n",
    "    dataset_ss_pos_don_validation_sample_csv,\n",
    "    dataset_ss_neg_acc_validation_sample_csv,\n",
    "    dataset_ss_neg_don_validation_sample_csv\n",
    "]\n",
    "ss_test_datasets = []\n"
   ]
  },
  {
   "cell_type": "code",
   "execution_count": 7,
   "metadata": {},
   "outputs": [
    {
     "name": "stdout",
     "output_type": "stream",
     "text": [
      "merging polya training data True\n",
      "merging polya validation data True\n",
      "merging polya test data True\n"
     ]
    }
   ],
   "source": [
    "\"\"\"\n",
    "Merge polya train, validation, and test set.\n",
    "\"\"\"\n",
    "from data_preparation import merge_csv\n",
    "\n",
    "polya_train_datasets = [\n",
    "    dataset_polya_pos_train_sample_csv,\n",
    "    dataset_polya_neg_train_sample_csv,\n",
    "]\n",
    "print('merging polya training data {}'.format(merge_csv(polya_train_datasets, sample_polya_train_sample)))\n",
    "\n",
    "polya_validation_datasets = [\n",
    "    dataset_polya_pos_validation_sample_csv,\n",
    "    dataset_polya_neg_validation_sample_csv,\n",
    "]\n",
    "print('merging polya validation data {}'.format(merge_csv(polya_validation_datasets, sample_polya_validation_sample)))\n",
    "\n",
    "polya_test_datasets = [\n",
    "    dataset_polya_pos_test_sample_csv,\n",
    "    dataset_polya_neg_test_sample_csv,\n",
    "]\n",
    "print('merging polya test data {}'.format(merge_csv(polya_test_datasets, sample_polya_test_sample)))"
   ]
  }
 ],
 "metadata": {
  "interpreter": {
   "hash": "473c7453bcb969eece5b07ef8b7f234e7c84010927f6bebce35f0aeb1f8c121e"
  },
  "kernelspec": {
   "display_name": "Python 3.9.1 64-bit ('sequence-processing-py39': venv)",
   "language": "python",
   "name": "python3"
  },
  "language_info": {
   "codemirror_mode": {
    "name": "ipython",
    "version": 3
   },
   "file_extension": ".py",
   "mimetype": "text/x-python",
   "name": "python",
   "nbconvert_exporter": "python",
   "pygments_lexer": "ipython3",
   "version": "3.9.1"
  },
  "orig_nbformat": 4
 },
 "nbformat": 4,
 "nbformat_minor": 2
}
