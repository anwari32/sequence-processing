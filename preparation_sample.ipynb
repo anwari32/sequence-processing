{
 "cells": [
  {
   "cell_type": "code",
   "execution_count": null,
   "metadata": {},
   "outputs": [],
   "source": [
    "\"\"\"\n",
    "Merge promoter, ss, and poly-a datasets.\n",
    "Train data merged with other train data, validation data merged with other validation data, etc.\n",
    "\"\"\"\n",
    "from data_preparation import merge_prom_ss_polya_csv\n",
    "from data_dir import (\n",
    "    sample_dir,\n",
    "    sample_prom_train_sample_csv,\n",
    "    sample_ss_train_sample_csv,\n",
    "    sample_polya_train_sample_csv,\n",
    "    sample_prom_validation_sample_csv,\n",
    "    sample_ss_validation_sample_csv,\n",
    "    sample_polya_validation_sample_csv,\n",
    "    sample_prom_test_sample_csv,\n",
    "    sample_ss_test_sample_csv,\n",
    "    sample_polya_test_sample_csv\n",
    ")\n",
    "\n",
    "train_sample_datasets = {\n",
    "    'prom': [sample_prom_train_sample_csv],\n",
    "    'ss': [sample_ss_train_sample_csv],\n",
    "    'polya': [sample_polya_train_sample_csv]\n",
    "}\n",
    "train_datasets = []\n",
    "validation_sample_datasets = {\n",
    "    'prom': [sample_prom_validation_sample_csv],\n",
    "    'ss': [sample_ss_validation_sample_csv],\n",
    "    'polya': [sample_polya_validation_sample_csv]\n",
    "}\n",
    "validation_datasets = []\n",
    "test_sample_datasets = {\n",
    "    'prom': [sample_prom_test_sample_csv],\n",
    "    'ss': [sample_ss_test_sample_csv],\n",
    "    'polya': [sample_polya_test_sample_csv]\n",
    "}\n",
    "test_datasets = []\n",
    "\n",
    "train_sample_csv = '{}/train_sample.csv'.format(sample_dir)\n",
    "validation_sample_csv = '{}/validation_sample.csv'.format(sample_dir)\n",
    "test_sample_csv = '{}/test_sample.csv'.format(sample_dir)\n",
    "\n",
    "\n",
    "print('merging prom, ss, and polya train set {}'.format(merge_prom_ss_polya_csv(train_sample_datasets, train_sample_csv)))\n",
    "print('merging prom, ss, and polya validation set {}'.format(merge_prom_ss_polya_csv(validation_sample_datasets, validation_sample_csv)))\n",
    "print('merging prom, ss, and polya test set {}'.format(merge_prom_ss_polya_csv(test_sample_datasets, test_sample_csv)))"
   ]
  }
 ],
 "metadata": {
  "interpreter": {
   "hash": "473c7453bcb969eece5b07ef8b7f234e7c84010927f6bebce35f0aeb1f8c121e"
  },
  "kernelspec": {
   "display_name": "Python 3.9.1 64-bit ('sequence-processing-py39': venv)",
   "language": "python",
   "name": "python3"
  },
  "language_info": {
   "codemirror_mode": {
    "name": "ipython",
    "version": 3
   },
   "file_extension": ".py",
   "mimetype": "text/x-python",
   "name": "python",
   "nbconvert_exporter": "python",
   "pygments_lexer": "ipython3",
   "version": "3.9.1"
  },
  "orig_nbformat": 4
 },
 "nbformat": 4,
 "nbformat_minor": 2
}
