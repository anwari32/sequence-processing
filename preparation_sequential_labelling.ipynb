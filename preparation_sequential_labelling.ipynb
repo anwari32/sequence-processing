{
 "cells": [
  {
   "cell_type": "code",
   "execution_count": 3,
   "metadata": {},
   "outputs": [
    {
     "name": "stdout",
     "output_type": "stream",
     "text": [
      "Processing workspace\\seq2seq-stride.384\\chr24\\ZFY.expanded.csv                                                                                 \r"
     ]
    }
   ],
   "source": [
    "\"\"\"\n",
    "Merge genes.\n",
    "\"\"\"\n",
    "import os\n",
    "from data_preparation import merge_csv\n",
    "for c in range(4, 24):\n",
    "    chr = f\"chr{c+1}\"\n",
    "    src_dir = os.path.join(\"workspace\", \"seq2seq-stride.384\", chr)\n",
    "    dest_file = os.path.join(\"workspace\", \"seq2seq-stride.384\", chr, \"bundle.csv\")\n",
    "    src_files = [os.path.join(src_dir, fname) for fname in os.listdir(src_dir)] \n",
    "    status = merge_csv(src_files, dest_file)\n",
    "    if not status:\n",
    "        print(f\"Something wrong with merging files in directory {src_dir}.\")\n",
    "        raise Exception(\"something wrong.\")\n"
   ]
  },
  {
   "cell_type": "code",
   "execution_count": 4,
   "metadata": {},
   "outputs": [
    {
     "name": "stdout",
     "output_type": "stream",
     "text": [
      "Sample workspace\\seq2seq-stride.384\\chr1\\bundle.csv, fraction 100\n",
      "Sample workspace\\seq2seq-stride.384\\chr2\\bundle.csv, fraction 100\n",
      "Sample workspace\\seq2seq-stride.384\\chr3\\bundle.csv, fraction 100\n",
      "Sample workspace\\seq2seq-stride.384\\chr4\\bundle.csv, fraction 100\n",
      "Sample workspace\\seq2seq-stride.384\\chr5\\bundle.csv, fraction 100\n",
      "Sample workspace\\seq2seq-stride.384\\chr6\\bundle.csv, fraction 100\n",
      "Sample workspace\\seq2seq-stride.384\\chr7\\bundle.csv, fraction 100\n",
      "Sample workspace\\seq2seq-stride.384\\chr8\\bundle.csv, fraction 100\n",
      "Sample workspace\\seq2seq-stride.384\\chr9\\bundle.csv, fraction 100\n",
      "Sample workspace\\seq2seq-stride.384\\chr10\\bundle.csv, fraction 100\n",
      "Sample workspace\\seq2seq-stride.384\\chr11\\bundle.csv, fraction 100\n",
      "Sample workspace\\seq2seq-stride.384\\chr12\\bundle.csv, fraction 100\n",
      "Sample workspace\\seq2seq-stride.384\\chr13\\bundle.csv, fraction 100\n",
      "Sample workspace\\seq2seq-stride.384\\chr14\\bundle.csv, fraction 100\n",
      "Sample workspace\\seq2seq-stride.384\\chr15\\bundle.csv, fraction 100\n",
      "Sample workspace\\seq2seq-stride.384\\chr16\\bundle.csv, fraction 100\n",
      "Sample workspace\\seq2seq-stride.384\\chr17\\bundle.csv, fraction 100\n",
      "Sample workspace\\seq2seq-stride.384\\chr18\\bundle.csv, fraction 100\n",
      "Sample workspace\\seq2seq-stride.384\\chr19\\bundle.csv, fraction 100\n",
      "Sample workspace\\seq2seq-stride.384\\chr20\\bundle.csv, fraction 100\n",
      "Sample workspace\\seq2seq-stride.384\\chr21\\bundle.csv, fraction 100\n",
      "Sample workspace\\seq2seq-stride.384\\chr22\\bundle.csv, fraction 100\n",
      "Sample workspace\\seq2seq-stride.384\\chr23\\bundle.csv, fraction 100\n",
      "Sample workspace\\seq2seq-stride.384\\chr24\\bundle.csv, fraction 100\n"
     ]
    }
   ],
   "source": [
    "\"\"\"\n",
    "Make sample from bundle.csv.\n",
    "\"\"\"\n",
    "from utils.utils import create_n_sample\n",
    "import os\n",
    "\n",
    "n_sample = 100\n",
    "for c in range(24):\n",
    "    bundle_csv = os.path.join(\"workspace\", \"seq2seq-stride.384\", f\"chr{c+1}\", \"bundle.csv\")\n",
    "    bundle_sample_csv = os.path.join(\"workspace\", \"seq2seq-stride.384\", f\"chr{c+1}\", \"bundle.sample.csv\")\n",
    "    create_n_sample(bundle_csv, n_sample, bundle_sample_csv)"
   ]
  },
  {
   "cell_type": "code",
   "execution_count": 1,
   "metadata": {},
   "outputs": [
    {
     "name": "stdout",
     "output_type": "stream",
     "text": [
      "Splitting and storing split to workspace\\seq2seq-stride.384\\chr1\\bundle.train.csv\n",
      "Splitting and storing split to workspace\\seq2seq-stride.384\\chr1\\bundle.validation.csv\n",
      "Splitting and storing split to workspace\\seq2seq-stride.384\\chr1\\bundle.test.csv\n",
      "Splitting and storing split to workspace\\seq2seq-stride.384\\chr2\\bundle.train.csv\n",
      "Splitting and storing split to workspace\\seq2seq-stride.384\\chr2\\bundle.validation.csv\n",
      "Splitting and storing split to workspace\\seq2seq-stride.384\\chr2\\bundle.test.csv\n",
      "Splitting and storing split to workspace\\seq2seq-stride.384\\chr3\\bundle.train.csv\n",
      "Splitting and storing split to workspace\\seq2seq-stride.384\\chr3\\bundle.validation.csv\n",
      "Splitting and storing split to workspace\\seq2seq-stride.384\\chr3\\bundle.test.csv\n",
      "Splitting and storing split to workspace\\seq2seq-stride.384\\chr4\\bundle.train.csv\n",
      "Splitting and storing split to workspace\\seq2seq-stride.384\\chr4\\bundle.validation.csv\n",
      "Splitting and storing split to workspace\\seq2seq-stride.384\\chr4\\bundle.test.csv\n",
      "Splitting and storing split to workspace\\seq2seq-stride.384\\chr5\\bundle.train.csv\n",
      "Splitting and storing split to workspace\\seq2seq-stride.384\\chr5\\bundle.validation.csv\n",
      "Splitting and storing split to workspace\\seq2seq-stride.384\\chr5\\bundle.test.csv\n",
      "Splitting and storing split to workspace\\seq2seq-stride.384\\chr6\\bundle.train.csv\n",
      "Splitting and storing split to workspace\\seq2seq-stride.384\\chr6\\bundle.validation.csv\n",
      "Splitting and storing split to workspace\\seq2seq-stride.384\\chr6\\bundle.test.csv\n",
      "Splitting and storing split to workspace\\seq2seq-stride.384\\chr7\\bundle.train.csv\n",
      "Splitting and storing split to workspace\\seq2seq-stride.384\\chr7\\bundle.validation.csv\n",
      "Splitting and storing split to workspace\\seq2seq-stride.384\\chr7\\bundle.test.csv\n",
      "Splitting and storing split to workspace\\seq2seq-stride.384\\chr8\\bundle.train.csv\n",
      "Splitting and storing split to workspace\\seq2seq-stride.384\\chr8\\bundle.validation.csv\n",
      "Splitting and storing split to workspace\\seq2seq-stride.384\\chr8\\bundle.test.csv\n",
      "Splitting and storing split to workspace\\seq2seq-stride.384\\chr9\\bundle.train.csv\n",
      "Splitting and storing split to workspace\\seq2seq-stride.384\\chr9\\bundle.validation.csv\n",
      "Splitting and storing split to workspace\\seq2seq-stride.384\\chr9\\bundle.test.csv\n",
      "Splitting and storing split to workspace\\seq2seq-stride.384\\chr10\\bundle.train.csv\n",
      "Splitting and storing split to workspace\\seq2seq-stride.384\\chr10\\bundle.validation.csv\n",
      "Splitting and storing split to workspace\\seq2seq-stride.384\\chr10\\bundle.test.csv\n",
      "Splitting and storing split to workspace\\seq2seq-stride.384\\chr11\\bundle.train.csv\n",
      "Splitting and storing split to workspace\\seq2seq-stride.384\\chr11\\bundle.validation.csv\n",
      "Splitting and storing split to workspace\\seq2seq-stride.384\\chr11\\bundle.test.csv\n",
      "Splitting and storing split to workspace\\seq2seq-stride.384\\chr12\\bundle.train.csv\n",
      "Splitting and storing split to workspace\\seq2seq-stride.384\\chr12\\bundle.validation.csv\n",
      "Splitting and storing split to workspace\\seq2seq-stride.384\\chr12\\bundle.test.csv\n",
      "Splitting and storing split to workspace\\seq2seq-stride.384\\chr13\\bundle.train.csv\n",
      "Splitting and storing split to workspace\\seq2seq-stride.384\\chr13\\bundle.validation.csv\n",
      "Splitting and storing split to workspace\\seq2seq-stride.384\\chr13\\bundle.test.csv\n",
      "Splitting and storing split to workspace\\seq2seq-stride.384\\chr14\\bundle.train.csv\n",
      "Splitting and storing split to workspace\\seq2seq-stride.384\\chr14\\bundle.validation.csv\n",
      "Splitting and storing split to workspace\\seq2seq-stride.384\\chr14\\bundle.test.csv\n",
      "Splitting and storing split to workspace\\seq2seq-stride.384\\chr15\\bundle.train.csv\n",
      "Splitting and storing split to workspace\\seq2seq-stride.384\\chr15\\bundle.validation.csv\n",
      "Splitting and storing split to workspace\\seq2seq-stride.384\\chr15\\bundle.test.csv\n",
      "Splitting and storing split to workspace\\seq2seq-stride.384\\chr16\\bundle.train.csv\n",
      "Splitting and storing split to workspace\\seq2seq-stride.384\\chr16\\bundle.validation.csv\n",
      "Splitting and storing split to workspace\\seq2seq-stride.384\\chr16\\bundle.test.csv\n",
      "Splitting and storing split to workspace\\seq2seq-stride.384\\chr17\\bundle.train.csv\n",
      "Splitting and storing split to workspace\\seq2seq-stride.384\\chr17\\bundle.validation.csv\n",
      "Splitting and storing split to workspace\\seq2seq-stride.384\\chr17\\bundle.test.csv\n",
      "Splitting and storing split to workspace\\seq2seq-stride.384\\chr18\\bundle.train.csv\n",
      "Splitting and storing split to workspace\\seq2seq-stride.384\\chr18\\bundle.validation.csv\n",
      "Splitting and storing split to workspace\\seq2seq-stride.384\\chr18\\bundle.test.csv\n",
      "Splitting and storing split to workspace\\seq2seq-stride.384\\chr19\\bundle.train.csv\n",
      "Splitting and storing split to workspace\\seq2seq-stride.384\\chr19\\bundle.validation.csv\n",
      "Splitting and storing split to workspace\\seq2seq-stride.384\\chr19\\bundle.test.csv\n",
      "Splitting and storing split to workspace\\seq2seq-stride.384\\chr20\\bundle.train.csv\n",
      "Splitting and storing split to workspace\\seq2seq-stride.384\\chr20\\bundle.validation.csv\n",
      "Splitting and storing split to workspace\\seq2seq-stride.384\\chr20\\bundle.test.csv\n",
      "Splitting and storing split to workspace\\seq2seq-stride.384\\chr21\\bundle.train.csv\n",
      "Splitting and storing split to workspace\\seq2seq-stride.384\\chr21\\bundle.validation.csv\n",
      "Splitting and storing split to workspace\\seq2seq-stride.384\\chr21\\bundle.test.csv\n",
      "Splitting and storing split to workspace\\seq2seq-stride.384\\chr22\\bundle.train.csv\n",
      "Splitting and storing split to workspace\\seq2seq-stride.384\\chr22\\bundle.validation.csv\n",
      "Splitting and storing split to workspace\\seq2seq-stride.384\\chr22\\bundle.test.csv\n",
      "Splitting and storing split to workspace\\seq2seq-stride.384\\chr23\\bundle.train.csv\n",
      "Splitting and storing split to workspace\\seq2seq-stride.384\\chr23\\bundle.validation.csv\n",
      "Splitting and storing split to workspace\\seq2seq-stride.384\\chr23\\bundle.test.csv\n",
      "Splitting and storing split to workspace\\seq2seq-stride.384\\chr24\\bundle.train.csv\n",
      "Splitting and storing split to workspace\\seq2seq-stride.384\\chr24\\bundle.validation.csv\n",
      "Splitting and storing split to workspace\\seq2seq-stride.384\\chr24\\bundle.test.csv\n"
     ]
    }
   ],
   "source": [
    "\"\"\"\n",
    "Make train, validation, and test bundle for each chr.\n",
    "\"\"\"\n",
    "from utils.utils import split_and_store_csv\n",
    "import os\n",
    "\n",
    "fractions = [0.7, 0.2, 0.1]\n",
    "file_types = [\"train\", \"validation\", \"test\"]\n",
    "dest_dir = [os.path.join(\"workspace\", \"seq2seq-stride.384\", f\"chr{c+1}\") for c in range(24)]\n",
    "src_files = [os.path.join(\"workspace\", \"seq2seq-stride.384\", f\"chr{c+1}\", \"bundle.csv\") for c in range(24)]\n",
    "dest_train_files = [os.path.join(\"workspace\", \"seq2seq-stride.384\", f\"chr{c+1}\", \"bundle.train.csv\") for c in range(24)]\n",
    "dest_valid_files = [os.path.join(\"workspace\", \"seq2seq-stride.384\", f\"chr{c+1}\", \"bundle.validation.csv\") for c in range(24)]\n",
    "dest_test_files = [os.path.join(\"workspace\", \"seq2seq-stride.384\", f\"chr{c+1}\", \"bundle.test.csv\") for c in range(24)]\n",
    "\n",
    "for src, dest_train, dest_valid, dest_test in zip(src_files, dest_train_files, dest_valid_files, dest_test_files):\n",
    "    split_and_store_csv(src, fractions, [\n",
    "        dest_train, dest_valid, dest_test\n",
    "    ])"
   ]
  },
  {
   "cell_type": "code",
   "execution_count": 1,
   "metadata": {},
   "outputs": [
    {
     "name": "stderr",
     "output_type": "stream",
     "text": [
      "100%|██████████| 24/24 [00:00<00:00, 165.46it/s]"
     ]
    },
    {
     "name": "stdout",
     "output_type": "stream",
     "text": [
      "Processing workspace\\seq2seq-stride.384\\chr24\\bundle.sample.csv                                                              \r"
     ]
    },
    {
     "name": "stderr",
     "output_type": "stream",
     "text": [
      "\n"
     ]
    },
    {
     "data": {
      "text/plain": [
       "True"
      ]
     },
     "execution_count": 1,
     "metadata": {},
     "output_type": "execute_result"
    }
   ],
   "source": [
    "\"\"\"\n",
    "Merge bundle.sample.csv from every chr.\n",
    "\"\"\"\n",
    "from data_preparation import merge_csv\n",
    "import os\n",
    "chr_bundle_sample_csvs = [os.path.join(\"workspace\", \"seq2seq-stride.384\", f\"chr{c+1}\", \"bundle.sample.csv\") for c in range(24)]\n",
    "merged_bundle_sample = os.path.join(\"workspace\", \"seq2seq-stride.384\", \"bundle.sample.csv\")\n",
    "merge_csv(chr_bundle_sample_csvs, merged_bundle_sample)"
   ]
  },
  {
   "cell_type": "code",
   "execution_count": 2,
   "metadata": {},
   "outputs": [
    {
     "name": "stderr",
     "output_type": "stream",
     "text": [
      "  0%|          | 0/24 [00:00<?, ?it/s]"
     ]
    },
    {
     "name": "stdout",
     "output_type": "stream",
     "text": [
      "Processing workspace\\seq2seq-stride.384\\chr1\\bundle.csv                                                              \r"
     ]
    },
    {
     "name": "stderr",
     "output_type": "stream",
     "text": [
      "  4%|▍         | 1/24 [00:02<01:05,  2.83s/it]"
     ]
    },
    {
     "name": "stdout",
     "output_type": "stream",
     "text": [
      "Processing workspace\\seq2seq-stride.384\\chr2\\bundle.csv                                                              \r"
     ]
    },
    {
     "name": "stderr",
     "output_type": "stream",
     "text": [
      "  8%|▊         | 2/24 [00:05<01:02,  2.85s/it]"
     ]
    },
    {
     "name": "stdout",
     "output_type": "stream",
     "text": [
      "Processing workspace\\seq2seq-stride.384\\chr3\\bundle.csv                                                              \r"
     ]
    },
    {
     "name": "stderr",
     "output_type": "stream",
     "text": [
      " 12%|█▎        | 3/24 [00:08<00:55,  2.64s/it]"
     ]
    },
    {
     "name": "stdout",
     "output_type": "stream",
     "text": [
      "Processing workspace\\seq2seq-stride.384\\chr4\\bundle.csv                                                              \r"
     ]
    },
    {
     "name": "stderr",
     "output_type": "stream",
     "text": [
      " 17%|█▋        | 4/24 [00:10<00:47,  2.38s/it]"
     ]
    },
    {
     "name": "stdout",
     "output_type": "stream",
     "text": [
      "Processing workspace\\seq2seq-stride.384\\chr5\\bundle.csv                                                              \r"
     ]
    },
    {
     "name": "stderr",
     "output_type": "stream",
     "text": [
      " 21%|██        | 5/24 [00:12<00:43,  2.28s/it]"
     ]
    },
    {
     "name": "stdout",
     "output_type": "stream",
     "text": [
      "Processing workspace\\seq2seq-stride.384\\chr6\\bundle.csv                                                              \r"
     ]
    },
    {
     "name": "stderr",
     "output_type": "stream",
     "text": [
      " 25%|██▌       | 6/24 [00:17<01:02,  3.47s/it]"
     ]
    },
    {
     "name": "stdout",
     "output_type": "stream",
     "text": [
      "Processing workspace\\seq2seq-stride.384\\chr7\\bundle.csv                                                              \r"
     ]
    },
    {
     "name": "stderr",
     "output_type": "stream",
     "text": [
      " 29%|██▉       | 7/24 [00:20<00:56,  3.32s/it]"
     ]
    },
    {
     "name": "stdout",
     "output_type": "stream",
     "text": [
      "Processing workspace\\seq2seq-stride.384\\chr8\\bundle.csv                                                              \r"
     ]
    },
    {
     "name": "stderr",
     "output_type": "stream",
     "text": [
      " 33%|███▎      | 8/24 [00:23<00:49,  3.10s/it]"
     ]
    },
    {
     "name": "stdout",
     "output_type": "stream",
     "text": [
      "Processing workspace\\seq2seq-stride.384\\chr9\\bundle.csv                                                              \r"
     ]
    },
    {
     "name": "stderr",
     "output_type": "stream",
     "text": [
      " 38%|███▊      | 9/24 [00:25<00:42,  2.86s/it]"
     ]
    },
    {
     "name": "stdout",
     "output_type": "stream",
     "text": [
      "Processing workspace\\seq2seq-stride.384\\chr10\\bundle.csv                                                              \r"
     ]
    },
    {
     "name": "stderr",
     "output_type": "stream",
     "text": [
      " 42%|████▏     | 10/24 [00:27<00:36,  2.61s/it]"
     ]
    },
    {
     "name": "stdout",
     "output_type": "stream",
     "text": [
      "Processing workspace\\seq2seq-stride.384\\chr11\\bundle.csv                                                              \r"
     ]
    },
    {
     "name": "stderr",
     "output_type": "stream",
     "text": [
      " 46%|████▌     | 11/24 [00:30<00:33,  2.59s/it]"
     ]
    },
    {
     "name": "stdout",
     "output_type": "stream",
     "text": [
      "Processing workspace\\seq2seq-stride.384\\chr12\\bundle.csv                                                              \r"
     ]
    },
    {
     "name": "stderr",
     "output_type": "stream",
     "text": [
      " 50%|█████     | 12/24 [00:33<00:30,  2.57s/it]"
     ]
    },
    {
     "name": "stdout",
     "output_type": "stream",
     "text": [
      "Processing workspace\\seq2seq-stride.384\\chr13\\bundle.csv                                                              \r"
     ]
    },
    {
     "name": "stderr",
     "output_type": "stream",
     "text": [
      " 54%|█████▍    | 13/24 [00:34<00:24,  2.23s/it]"
     ]
    },
    {
     "name": "stdout",
     "output_type": "stream",
     "text": [
      "Processing workspace\\seq2seq-stride.384\\chr14\\bundle.csv                                                              \r"
     ]
    },
    {
     "name": "stderr",
     "output_type": "stream",
     "text": [
      " 58%|█████▊    | 14/24 [00:36<00:20,  2.01s/it]"
     ]
    },
    {
     "name": "stdout",
     "output_type": "stream",
     "text": [
      "Processing workspace\\seq2seq-stride.384\\chr15\\bundle.csv                                                              \r"
     ]
    },
    {
     "name": "stderr",
     "output_type": "stream",
     "text": [
      " 62%|██████▎   | 15/24 [00:38<00:18,  2.08s/it]"
     ]
    },
    {
     "name": "stdout",
     "output_type": "stream",
     "text": [
      "Processing workspace\\seq2seq-stride.384\\chr16\\bundle.csv                                                              \r"
     ]
    },
    {
     "name": "stderr",
     "output_type": "stream",
     "text": [
      " 67%|██████▋   | 16/24 [00:39<00:15,  1.88s/it]"
     ]
    },
    {
     "name": "stdout",
     "output_type": "stream",
     "text": [
      "Processing workspace\\seq2seq-stride.384\\chr17\\bundle.csv                                                              \r"
     ]
    },
    {
     "name": "stderr",
     "output_type": "stream",
     "text": [
      " 71%|███████   | 17/24 [00:41<00:12,  1.79s/it]"
     ]
    },
    {
     "name": "stdout",
     "output_type": "stream",
     "text": [
      "Processing workspace\\seq2seq-stride.384\\chr18\\bundle.csv                                                              \r"
     ]
    },
    {
     "name": "stderr",
     "output_type": "stream",
     "text": [
      " 75%|███████▌  | 18/24 [00:42<00:10,  1.67s/it]"
     ]
    },
    {
     "name": "stdout",
     "output_type": "stream",
     "text": [
      "Processing workspace\\seq2seq-stride.384\\chr19\\bundle.csv                                                              \r"
     ]
    },
    {
     "name": "stderr",
     "output_type": "stream",
     "text": [
      " 79%|███████▉  | 19/24 [00:43<00:07,  1.52s/it]"
     ]
    },
    {
     "name": "stdout",
     "output_type": "stream",
     "text": [
      "Processing workspace\\seq2seq-stride.384\\chr20\\bundle.csv                                                              \r"
     ]
    },
    {
     "name": "stderr",
     "output_type": "stream",
     "text": [
      " 83%|████████▎ | 20/24 [00:45<00:05,  1.44s/it]"
     ]
    },
    {
     "name": "stdout",
     "output_type": "stream",
     "text": [
      "Processing workspace\\seq2seq-stride.384\\chr21\\bundle.csv                                                              \r"
     ]
    },
    {
     "name": "stderr",
     "output_type": "stream",
     "text": [
      " 88%|████████▊ | 21/24 [00:45<00:03,  1.12s/it]"
     ]
    },
    {
     "name": "stdout",
     "output_type": "stream",
     "text": [
      "Processing workspace\\seq2seq-stride.384\\chr22\\bundle.csv                                                              \r"
     ]
    },
    {
     "name": "stderr",
     "output_type": "stream",
     "text": [
      " 92%|█████████▏| 22/24 [00:46<00:02,  1.04s/it]"
     ]
    },
    {
     "name": "stdout",
     "output_type": "stream",
     "text": [
      "Processing workspace\\seq2seq-stride.384\\chr23\\bundle.csv                                                              \r"
     ]
    },
    {
     "name": "stderr",
     "output_type": "stream",
     "text": [
      "100%|██████████| 24/24 [00:48<00:00,  2.01s/it]"
     ]
    },
    {
     "name": "stdout",
     "output_type": "stream",
     "text": [
      "Processing workspace\\seq2seq-stride.384\\chr24\\bundle.csv                                                              \r"
     ]
    },
    {
     "name": "stderr",
     "output_type": "stream",
     "text": [
      "\n"
     ]
    },
    {
     "data": {
      "text/plain": [
       "True"
      ]
     },
     "execution_count": 2,
     "metadata": {},
     "output_type": "execute_result"
    }
   ],
   "source": [
    "\"\"\"\n",
    "Merge bundle from every chr.\n",
    "\"\"\"\n",
    "from data_preparation import merge_csv\n",
    "import os\n",
    "chr_bundle_csvs = [os.path.join(\"workspace\", \"seq2seq-stride.384\", f\"chr{c+1}\", \"bundle.csv\") for c in range(24)]\n",
    "merged_bundle = os.path.join(\"workspace\", \"seq2seq-stride.384\", \"bundle.csv\")\n",
    "merge_csv(chr_bundle_csvs, merged_bundle)"
   ]
  },
  {
   "cell_type": "code",
   "execution_count": 1,
   "metadata": {},
   "outputs": [
    {
     "name": "stderr",
     "output_type": "stream",
     "text": [
      "100%|██████████| 24/24 [00:23<00:00,  1.02it/s]\n",
      "100%|██████████| 24/24 [00:02<00:00,  9.89it/s]\n",
      "100%|██████████| 24/24 [00:09<00:00,  2.40it/s]\n"
     ]
    }
   ],
   "source": [
    "\"\"\"\n",
    "Merge bundle train, validation, and test from every chr.\n",
    "\"\"\"\n",
    "from data_preparation import merge_csv\n",
    "import os\n",
    "\n",
    "for t in [\"train\", \"validation\", \"test\"]:\n",
    "    chr_bundle_csvs = [os.path.join(\"workspace\", \"seq2seq-stride.384\", f\"chr{c+1}\", f\"bundle.{t}.csv\") for c in range(24)]\n",
    "    merged_bundle = os.path.join(\"workspace\", \"seq2seq-stride.384\", f\"bundle.{t}.csv\")\n",
    "    merge_csv(chr_bundle_csvs, merged_bundle)"
   ]
  },
  {
   "cell_type": "code",
   "execution_count": 2,
   "metadata": {},
   "outputs": [
    {
     "name": "stderr",
     "output_type": "stream",
     "text": [
      "100%|██████████| 24/24 [00:24<00:00,  1.03s/it]\n",
      "100%|██████████| 24/24 [00:02<00:00, 11.89it/s]\n",
      "100%|██████████| 24/24 [00:07<00:00,  3.16it/s]\n"
     ]
    }
   ],
   "source": [
    "\"\"\"\n",
    "Merge bundle training, validation, and test from every chr.\n",
    "\"\"\"\n",
    "from data_preparation import merge_csv\n",
    "import os\n",
    "for t in [\"train\", \"validation\", \"test\"]:\n",
    "    chr_bundle_csvs = [os.path.join(\"workspace\", \"seq2seq-stride.384\", f\"chr{c+1}\", f\"bundle.{t}.csv\") for c in range(24)]\n",
    "    merged_bundle = os.path.join(\"workspace\", \"seq2seq-stride.384\", f\"bundle.{t}.csv\")\n",
    "    merge_csv(chr_bundle_csvs, merged_bundle)"
   ]
  },
  {
   "cell_type": "code",
   "execution_count": 3,
   "metadata": {},
   "outputs": [
    {
     "ename": "FileNotFoundError",
     "evalue": "[WinError 3] The system cannot find the path specified: 'data\\\\genome\\\\sequential-labelling-positive-strand\\\\chr1'",
     "output_type": "error",
     "traceback": [
      "\u001b[1;31m---------------------------------------------------------------------------\u001b[0m",
      "\u001b[1;31mFileNotFoundError\u001b[0m                         Traceback (most recent call last)",
      "\u001b[1;32mw:\\Research\\sequence-processing\\preparation_sequential_labelling.ipynb Cell 6'\u001b[0m in \u001b[0;36m<module>\u001b[1;34m\u001b[0m\n\u001b[0;32m     <a href='vscode-notebook-cell:/w%3A/Research/sequence-processing/preparation_sequential_labelling.ipynb#ch0000001?line=9'>10</a>\u001b[0m \u001b[39mif\u001b[39;00m \u001b[39mnot\u001b[39;00m os\u001b[39m.\u001b[39mpath\u001b[39m.\u001b[39mexists(genes_expansion_dir_by_chr):\n\u001b[0;32m     <a href='vscode-notebook-cell:/w%3A/Research/sequence-processing/preparation_sequential_labelling.ipynb#ch0000001?line=10'>11</a>\u001b[0m     os\u001b[39m.\u001b[39mmakedirs(genes_expansion_dir_by_chr, exist_ok\u001b[39m=\u001b[39m\u001b[39mTrue\u001b[39;00m)\n\u001b[1;32m---> <a href='vscode-notebook-cell:/w%3A/Research/sequence-processing/preparation_sequential_labelling.ipynb#ch0000001?line=11'>12</a>\u001b[0m \u001b[39mfor\u001b[39;00m gene_file \u001b[39min\u001b[39;00m os\u001b[39m.\u001b[39;49mlistdir(genes_dir_by_chr):\n\u001b[0;32m     <a href='vscode-notebook-cell:/w%3A/Research/sequence-processing/preparation_sequential_labelling.ipynb#ch0000001?line=12'>13</a>\u001b[0m     gene_file_path \u001b[39m=\u001b[39m os\u001b[39m.\u001b[39mpath\u001b[39m.\u001b[39mjoin(genes_dir_by_chr, gene_file)\n\u001b[0;32m     <a href='vscode-notebook-cell:/w%3A/Research/sequence-processing/preparation_sequential_labelling.ipynb#ch0000001?line=13'>14</a>\u001b[0m     gene_expansion_file_path \u001b[39m=\u001b[39m os\u001b[39m.\u001b[39mpath\u001b[39m.\u001b[39mjoin(genes_expansion_dir_by_chr, \u001b[39mf\u001b[39m\u001b[39m\"\u001b[39m\u001b[39m{\u001b[39;00mgene_file\u001b[39m.\u001b[39msplit(\u001b[39m'\u001b[39m\u001b[39m.\u001b[39m\u001b[39m'\u001b[39m)[\u001b[39m0\u001b[39m]\u001b[39m}\u001b[39;00m\u001b[39m.expanded.csv\u001b[39m\u001b[39m\"\u001b[39m)\n",
      "\u001b[1;31mFileNotFoundError\u001b[0m: [WinError 3] The system cannot find the path specified: 'data\\\\genome\\\\sequential-labelling-positive-strand\\\\chr1'"
     ]
    }
   ],
   "source": [
    "from data_preparation import kmer\n",
    "import pandas as pd\n",
    "import os\n",
    "\n",
    "_cols = ['sequence', 'label']\n",
    "_stride = 256\n",
    "for c in ['chr{}'.format(i+1) for i in range(24)]:\n",
    "    genes_dir_by_chr = os.path.join('data', 'genome', 'sequential-labelling-positive-strand', c)\n",
    "    genes_expansion_dir_by_chr = os.path.join('workspace', 'sequential-labelling-stride.256', c)\n",
    "    if not os.path.exists(genes_expansion_dir_by_chr):\n",
    "        os.makedirs(genes_expansion_dir_by_chr, exist_ok=True)\n",
    "    for gene_file in os.listdir(genes_dir_by_chr):\n",
    "        gene_file_path = os.path.join(genes_dir_by_chr, gene_file)\n",
    "        gene_expansion_file_path = os.path.join(genes_expansion_dir_by_chr, f\"{gene_file.split('.')[0]}.expanded.csv\")\n",
    "        if os.path.exists(gene_expansion_file_path):\n",
    "            os.remove(gene_expansion_file_path)\n",
    "        target_file = open(gene_expansion_file_path, 'x')\n",
    "        target_file.write(f\"sequence,label\\n\")\n",
    "        df = pd.read_csv(gene_file_path)\n",
    "        print(f\"Working on {c} {gene_file_path}                                 \", end='\\r')\n",
    "        for _, row in df.iterrows():\n",
    "            seq_chunks = kmer(row['sequence'].strip(), _stride)\n",
    "            label_chunks = kmer(row['label'].strip(), _stride)\n",
    "            for seq, label in zip(seq_chunks, label_chunks):\n",
    "                target_file.write(f\"{seq},{label}\\n\")\n",
    "        target_file.close()\n"
   ]
  },
  {
   "cell_type": "code",
   "execution_count": 1,
   "metadata": {},
   "outputs": [
    {
     "name": "stdout",
     "output_type": "stream",
     "text": [
      "Success: data\\genome\\grch38\\genes\\chr10\\RPL23AP60.csv                                                                   \r"
     ]
    },
    {
     "name": "stderr",
     "output_type": "stream",
     "text": [
      "C:\\Users\\lmanw\\AppData\\Local\\Temp\\ipykernel_21168\\3840047348.py:35: DtypeWarning: Columns (7,9,10) have mixed types. Specify dtype option on import or set low_memory=False.\n",
      "  df = pd.read_csv(path)\n"
     ]
    },
    {
     "name": "stdout",
     "output_type": "stream",
     "text": [
      "Success: data\\genome\\grch38\\genes\\chr24\\DDX11L16.csv                                                                       \r"
     ]
    }
   ],
   "source": [
    "\"\"\"\n",
    "Filter index based on gene name.\n",
    "\"\"\"\n",
    "import os\n",
    "import pandas as pd\n",
    "_chr_indices = [\n",
    "    'NC_000001.11.csv',\n",
    "    'NC_000002.12.csv',\n",
    "    'NC_000003.12.csv',\n",
    "    'NC_000004.12.csv',\n",
    "    'NC_000005.10.csv',\n",
    "    'NC_000006.12.csv',\n",
    "    'NC_000007.14.csv',\n",
    "    'NC_000008.11.csv',\n",
    "    'NC_000009.12.csv',\n",
    "    'NC_000010.11.csv',\n",
    "    'NC_000011.10.csv',\n",
    "    'NC_000012.12.csv',\n",
    "    'NC_000013.11.csv',\n",
    "    'NC_000014.9.csv',\n",
    "    'NC_000015.10.csv',\n",
    "    'NC_000016.10.csv',\n",
    "    'NC_000017.11.csv',\n",
    "    'NC_000018.10.csv',\n",
    "    'NC_000019.10.csv',\n",
    "    'NC_000020.11.csv',\n",
    "    'NC_000021.9.csv',\n",
    "    'NC_000022.11.csv',\n",
    "    'NC_000023.11.csv',\n",
    "    'NC_000024.10.csv']\n",
    "_chr_dir = [\"chr{}\".format(i+1) for i in range(len(_chr_indices))]\n",
    "\n",
    "for chr, chr_number in zip(_chr_indices, _chr_dir):\n",
    "    path = os.path.join('data', 'genome', 'grch38', 'csvs_strand', chr)\n",
    "    df = pd.read_csv(path)\n",
    "    genes = list(df['gene'].unique())\n",
    "    genes = [a for a in genes if not pd.isnull(a)]\n",
    "    for g in genes:\n",
    "        ndf = df[df['gene'] == g]\n",
    "        path = os.path.join('data', 'genome', 'grch38', 'genes', chr_number,\"{}.csv\".format(g))\n",
    "        if not os.path.exists(os.path.dirname(path)):\n",
    "            os.mkdir(os.path.dirname(path))\n",
    "        ndf.to_csv(path, index=False)\n",
    "        print(\"Success: {}                                                      \".format(path), end=\"\\r\")"
   ]
  },
  {
   "cell_type": "code",
   "execution_count": 4,
   "metadata": {},
   "outputs": [
    {
     "name": "stdout",
     "output_type": "stream",
     "text": [
      "Working on chr chr24 gene ZNF92P1Y.csv                                                     \r"
     ]
    }
   ],
   "source": [
    "\"\"\"\n",
    "Generate sequence from fasta based on gene indices.\n",
    "\"\"\"\n",
    "import os\n",
    "from Bio import SeqIO\n",
    "import pandas as pd\n",
    "from tqdm import tqdm\n",
    "from data_dir import chr_fasta_mapname\n",
    "\n",
    "strand = '+'\n",
    "chrs = ['chr{}'.format(i+1) for i in range(24)] # Folder name.\n",
    "# chrs = ['chr{}'.format(i+1) for i in range(2)] # Folder name.\n",
    "\n",
    "for c in chrs:\n",
    "    chr_genes_indices_dir = os.path.join(\"data\", \"genome\", \"grch38\", \"genes\", c)\n",
    "    chr_genes_sequence_csv_dir = os.path.join(\"data\", \"genome\", \"seqlab.positive.strand\",c)\n",
    "    chr_fasta = os.path.join(\"data\", \"chr\", chr_fasta_mapname[c])\n",
    "\n",
    "#chr1_genes_indices_dir = os.path.join(\"data\", \"genome\", \"grch38\", \"genes\", \"chr1\")\n",
    "#chr1_genes_sequence_csv_dir = os.path.join(\"data\", \"genome\", \"sequential-labelling\", \"chr1\")\n",
    "#chr1_fasta = os.path.join(\"data\", \"chr\", \"NC_000001.11.fasta\")\n",
    "\n",
    "    if not os.path.exists(chr_fasta):\n",
    "        raise FileNotFoundError(\"Fasta {} not found.\".format(chr_fasta))\n",
    "\n",
    "    \"\"\"\n",
    "    Read whole chromosome here and return its complete sequence.\n",
    "    Yes, it's long.\n",
    "    \"\"\"\n",
    "    records = SeqIO.parse(chr_fasta, \"fasta\")\n",
    "    chr_records = next(records)\n",
    "    chr_sequence = str(chr_records.seq)\n",
    "    genome_sequence = chr_sequence # Use genome sequence reader here.\n",
    "\n",
    "    _columns = ['sequence', 'label']\n",
    "    for fname in os.listdir(chr_genes_indices_dir):\n",
    "        print(\"Working on chr {} gene {}                                    \".format(c, fname), end='\\r')\n",
    "        fpath = os.path.join(chr_genes_indices_dir, fname)\n",
    "        if os.path.isfile(fpath):\n",
    "            \"\"\"\n",
    "            Gene index found. Read the index and cross-reference with genome sequence.\n",
    "            \"\"\"\n",
    "            index_df = pd.read_csv(fpath)\n",
    "            gene_region = index_df[index_df['region'] == \"gene\"]\n",
    "            if strand != None:\n",
    "                gene_region = gene_region[gene_region['strand'] == strand]\n",
    "\n",
    "            if len(gene_region) > 0:\n",
    "                gene_df = pd.DataFrame(columns=_columns)\n",
    "                for i, g in gene_region.iterrows():\n",
    "                    gene_start_index = int(g['start_index'])\n",
    "                    gene_end_index = int(g['end_index'])\n",
    "                    gene_sequence = genome_sequence[gene_start_index:gene_end_index + 1]\n",
    "                    # print(\"Gene sequence: {}\".format(gene_sequence))\n",
    "                    # If gene sequence isn't None then this gene is available in chromosome sequence.\n",
    "                    if gene_sequence != None:\n",
    "                        gene_sequential_labelling = ['i' for a in gene_sequence]\n",
    "                        exons = index_df[index_df['region'] == \"exon\"]\n",
    "                        #if strand != None:\n",
    "                        #    exons = index_df[index_df['strand'] == strand]\n",
    "                        for j, r in exons.iterrows():\n",
    "                            start_index = int(r['start_index'])\n",
    "                            end_index = int(r['end_index'])\n",
    "                            if (start_index >= gene_start_index and end_index <= gene_end_index):\n",
    "                                start_index = int(r['start_index']) - gene_start_index\n",
    "                                end_index = int(r['end_index']) - gene_start_index\n",
    "                                for k in range(start_index, end_index + 1):\n",
    "                                    gene_sequential_labelling[k] = 'E'\n",
    "                        gene_sequential_labelling = ''.join(gene_sequential_labelling)\n",
    "                        #endfor\n",
    "                        gene_df = pd.concat([gene_df, pd.DataFrame([[gene_sequence, gene_sequential_labelling]], columns=_columns)])\n",
    "\n",
    "                target_path = os.path.join(chr_genes_sequence_csv_dir, fname)\n",
    "                # data\\genome\\sequential-labelling\\chr1\n",
    "                # Only write of dataframe is not empty.\n",
    "                if gene_df.shape[0] > 0:\n",
    "                    if not os.path.exists(chr_genes_sequence_csv_dir):\n",
    "                        os.makedirs(chr_genes_sequence_csv_dir, exist_ok=True)\n",
    "                    if gene_df.shape[0] > 0:    \n",
    "                        gene_df.to_csv(target_path, index=False)\n",
    "                    "
   ]
  },
  {
   "cell_type": "code",
   "execution_count": 6,
   "metadata": {},
   "outputs": [
    {
     "name": "stdout",
     "output_type": "stream",
     "text": [
      "Processing chr24 ZFY.csv                                       \r"
     ]
    }
   ],
   "source": [
    "\"\"\"Chunk each gene into 512 characters, for each chromosome.\"\"\"\n",
    "import pandas as pd\n",
    "from data_preparation import kmer\n",
    "import os\n",
    "\n",
    "chrs = [f\"chr{i + 1}\" for i in range(5, 24, 1)] # Test one chromosome.\n",
    "chr_paths = [os.path.join(\"data\", \"genome\", \"seqlab.positive.strand\", chr) for chr in chrs]\n",
    "for cp in chr_paths:\n",
    "    genes = os.listdir(cp)\n",
    "    genes = [g for g in genes if \"expanded\" not in g.split('.')]\n",
    "    for gene in genes:\n",
    "        gene_path = os.path.join(cp, gene)\n",
    "        gene_df = pd.read_csv(gene_path)\n",
    "        print(f\"Processing {os.path.basename(cp)} {gene}                    \", end=\"\\r\")\n",
    "        for i, r in gene_df.iterrows():\n",
    "            sequence = r[\"sequence\"]\n",
    "            label = r[\"label\"]\n",
    "            seq_chunks = kmer(sequence, 512, 256)\n",
    "            label_chunks = kmer(label, 512, 256)\n",
    "            dest_path = os.path.join(cp, f\"{gene.split('.')[0]}.expanded.csv\")\n",
    "            if os.path.exists(dest_path):\n",
    "                os.remove(dest_path)\n",
    "            dest = open(dest_path, \"x\")\n",
    "            dest.write(\"sequence,label\\n\")\n",
    "            for c, l in zip(seq_chunks, label_chunks):\n",
    "                dest.write(f\"{c},{l}\\n\")\n",
    "            dest.close()\n"
   ]
  },
  {
   "cell_type": "code",
   "execution_count": 8,
   "metadata": {},
   "outputs": [],
   "source": [
    "import os\n",
    "for i in range(24):\n",
    "    k = i + 1\n",
    "    src_path = os.path.join(\"data\", \"genome\", \"seqlab.positive.strand\", f\"chr{k}\")\n",
    "    dest_path = os.path.join(\"data\", \"genome\", \"seqlab.positive.strand\", f\"chr{k}.expanded\")\n",
    "    if not os.path.exists(dest_path):\n",
    "        os.makedirs(dest_path, exist_ok=True)\n",
    "    files = os.listdir(src_path)\n",
    "    files = [f for f in files if \"expanded\" in f.split('.')]\n",
    "    for f in files:\n",
    "        oldpath = os.path.join(src_path, f)\n",
    "        newpath = os.path.join(dest_path, f)\n",
    "        if not os.path.exists(newpath):\n",
    "            os.rename(oldpath, newpath)\n",
    "        else:\n",
    "            print(f\"Skip {oldpath}                                                    \", end=\"\\r\")"
   ]
  },
  {
   "cell_type": "code",
   "execution_count": 10,
   "metadata": {},
   "outputs": [],
   "source": [
    "\"\"\"\n",
    "Rename files in expanded folder\n",
    "filename.expanded.csv => filename.csv\n",
    "\"\"\"\n",
    "src_paths = [os.path.join(\"data\", \"genome\", \"seqlab.positive.strand\", f\"chr{i + 1}.expanded\") for i in range(24)]\n",
    "for srcdir in src_paths:\n",
    "    files = os.listdir(srcdir)\n",
    "    for f in files:\n",
    "        oldpath = os.path.join(srcdir, f)\n",
    "        newpath = os.path.join(srcdir, f\"{f.split('.')[0]}.csv\")\n",
    "        os.rename(oldpath, newpath)"
   ]
  },
  {
   "cell_type": "code",
   "execution_count": 11,
   "metadata": {},
   "outputs": [],
   "source": [
    "\"\"\"Generate kmer version from expanded sequence.\"\"\"\n",
    "import os\n",
    "import pandas as pd\n",
    "from data_preparation import str_kmer\n",
    "\n",
    "src_paths = [os.path.join(\"data\", \"genome\", \"seqlab.positive.strand\", f\"chr{i + 1}.expanded\") for i in range(24)]\n",
    "dest_paths = [os.path.join(\"data\", \"genome\", \"seqlab.positive.strand\", f\"chr{i + 1}.expanded.kmer\") for i in range(24)]\n",
    "\n",
    "for srcdir, destdir in zip(src_paths, dest_paths):\n",
    "    files = os.listdir(srcdir)\n",
    "    for f in files:\n",
    "        src = os.path.join(srcdir, f)\n",
    "        dest = os.path.join(destdir, f)\n",
    "        if not os.path.exists(destdir):\n",
    "            os.makedirs(destdir, exist_ok=True)\n",
    "        if os.path.exists(dest):\n",
    "            os.remove(dest)\n",
    "        dest = open(dest, \"x\")\n",
    "        dest.write(\"sequence,label\\n\")\n",
    "        df = pd.read_csv(src)\n",
    "        for i, r in df.iterrows():\n",
    "            sequence = r[\"sequence\"]\n",
    "            label = r[\"label\"]\n",
    "            dest.write(f\"{str_kmer(sequence, 3)},{str_kmer(label, 3)}\\n\")\n",
    "        dest.close()\n",
    "            "
   ]
  },
  {
   "cell_type": "code",
   "execution_count": 13,
   "metadata": {},
   "outputs": [],
   "source": [
    "\"\"\"\n",
    "Generate gene index in CSV ('chr', 'gene') to see if dataset split can be done by genes.\n",
    "\"\"\"\n",
    "import pandas as pd\n",
    "import os\n",
    "\n",
    "strand = os.path.join(\"data\", \"genome\", \"seqlab.positive.strand\")\n",
    "chrs = [os.path.join(strand, f\"chr{i+1}\") for i in range(24)]\n",
    "_cols = [\"chr\", \"gene\"]\n",
    "df = pd.DataFrame(columns=_cols)\n",
    "for chrdir in chrs:\n",
    "    files = os.listdir(chrdir)\n",
    "    for f in files:\n",
    "        df = pd.concat([df, \n",
    "            pd.DataFrame([[os.path.basename(chrdir), f]], columns=_cols)\n",
    "        ])\n",
    "gene_index = os.path.join(strand, f\"gene_index.csv\")\n",
    "if os.path.exists(gene_index):\n",
    "    os.remove(gene_index)\n",
    "df.to_csv(gene_index, index=False)"
   ]
  },
  {
   "cell_type": "code",
   "execution_count": null,
   "metadata": {},
   "outputs": [],
   "source": [
    "\"\"\"\n",
    "Split gene_index for training, validation, and testing.\n",
    "\"\"\"\n",
    "import os\n",
    "strand = os.path.join(\"data\", \"genome\", \"seqlab.positive.strand\")\n",
    "gene_index = os.path.join(strand, f\"gene_index.csv\")\n",
    "train_index = os.path.join(strand, \"gene_train_index.csv\")\n",
    "val_index = os.path.join(strand, \"gene_validation_index.csv\")\n",
    "test_index = os.path.join(strand, \"gene_test_index.csv\")\n",
    "\n",
    "import pandas as pd\n",
    "df = pd.read_csv(gene_index)\n",
    "train_df = df.sample(frac=0.8)\n",
    "test_df = df.drop(train_df.index)\n",
    "val_df = train_df.sample(frac=0.8)\n",
    "train_df = train_df.drop(val_df.index)\n",
    "train_df.to_csv(train_index, index=False)\n",
    "val_df.to_csv(val_index, index=False)\n",
    "test_df.to_csv(test_index, index=False)"
   ]
  },
  {
   "cell_type": "code",
   "execution_count": 11,
   "metadata": {},
   "outputs": [],
   "source": [
    "import pandas as pd\n",
    "_cols = ['chr', 'gene']\n",
    "df_path = os.path.join('workspace', 'sequential-labelling', 'gene_index.csv')\n",
    "_dir = os.path.join('workspace', 'sequential-labelling', 'duplicate genes')\n",
    "os.makedirs(_dir, exist_ok=True)\n",
    "df = pd.read_csv(df_path)\n",
    "train_df = pd.DataFrame(columns=_cols)\n",
    "valid_df = pd.DataFrame(columns=_cols)\n",
    "test_df = pd.DataFrame(columns=_cols)\n",
    "genes_unique = df['gene'].unique()\n",
    "for g in genes_unique:\n",
    "    filtered_df = df[df['gene'] == g]\n",
    "    if filtered_df.shape[0] > 1:\n",
    "        _g = \"{}.csv\".format(g)\n",
    "        filtered_df.to_csv(os.path.join(_dir, _g), index=False)"
   ]
  },
  {
   "cell_type": "code",
   "execution_count": null,
   "metadata": {},
   "outputs": [],
   "source": [
    "import os\n",
    "\n",
    "gene_index_dir = os.path.join('workspace', 'sequential-labelling')\n",
    "gene_index = os.path.join(gene_index_dir, 'gene_index.csv')\n",
    "gene_"
   ]
  },
  {
   "cell_type": "code",
   "execution_count": 2,
   "metadata": {},
   "outputs": [
    {
     "name": "stdout",
     "output_type": "stream",
     "text": [
      "./data/genome/grch38/GRCh38_latest_genomic.gff\n",
      "./data/genome/grch38/grch38_gff.csv\n",
      "./data/genome/grch38/csvs\n"
     ]
    }
   ],
   "source": [
    "from data_preparation import gff_to_csvs, gff_to_csv\n",
    "from data_dir import (annotated_grch38_gff, annotated_grch38_gff_dir, annotated_grch38_gff_csv)\n",
    "\n",
    "print(annotated_grch38_gff)\n",
    "print(annotated_grch38_gff_csv)\n",
    "print(annotated_grch38_gff_dir)"
   ]
  },
  {
   "cell_type": "code",
   "execution_count": 2,
   "metadata": {},
   "outputs": [
    {
     "name": "stdout",
     "output_type": "stream",
     "text": [
      "Generate sequential labelling data/genome/grch38/csvs/NC_000021.9.csv => data/genome/grch38/labels\\chr21.csv: True data/genome/grch38/labels\\chr21.csv\n"
     ]
    }
   ],
   "source": [
    "from data_dir import chr21_fasta, chr21_index_csv, data_genome_grch38_labels_dir\n",
    "from data_preparation import generate_sequence_labelling\n",
    "import os\n",
    "\n",
    "target_path = os.path.join(data_genome_grch38_labels_dir, 'chr21.csv')\n",
    "print(\"Generate sequential labelling {} => {}: {}\".format(chr21_index_csv, target_path, generate_sequence_labelling(chr21_index_csv, chr21_fasta, target_path)))\n"
   ]
  },
  {
   "cell_type": "code",
   "execution_count": 4,
   "metadata": {},
   "outputs": [
    {
     "name": "stdout",
     "output_type": "stream",
     "text": [
      "data/genome/grch38/csvs/NC_000001.11.csv data/chr/NC_000001.11.fasta data/genome/labseq\\chr1.csv\n"
     ]
    }
   ],
   "source": [
    "from data_dir import (\n",
    "    chr1_index_csv, chr2_index_csv, chr3_index_csv, chr4_index_csv, chr5_index_csv, chr6_index_csv, chr7_index_csv, chr8_index_csv, chr9_index_csv, chr10_index_csv,\n",
    "    chr11_index_csv, chr12_index_csv, chr13_index_csv, chr14_index_csv, chr15_index_csv, chr16_index_csv, chr17_index_csv, chr18_index_csv, chr19_index_csv, chr20_index_csv,\n",
    "    chr21_index_csv, chr22_index_csv, chr23_index_csv, chr24_index_csv\n",
    ")\n",
    "from data_dir import (\n",
    "    chr1_fasta, chr2_fasta, chr3_fasta, chr4_fasta, chr5_fasta, chr6_fasta, chr7_fasta, chr8_fasta, chr9_fasta, chr10_fasta, \n",
    "\tchr11_fasta, chr12_fasta, chr13_fasta, chr14_fasta, chr15_fasta, chr16_fasta, chr17_fasta, chr18_fasta, chr19_fasta, chr20_fasta, \n",
    "\tchr21_fasta, chr22_fasta, chr23_fasta, chr24_fasta,\n",
    ")\n",
    "chr_fastas = [\n",
    "    chr1_fasta,\n",
    "\t#chr2_fasta, chr3_fasta, chr4_fasta, chr5_fasta, chr6_fasta, chr7_fasta, chr8_fasta, chr9_fasta, chr10_fasta,\n",
    "\t#chr11_fasta, chr12_fasta, chr13_fasta, chr14_fasta, chr15_fasta, chr16_fasta, chr17_fasta, chr18_fasta, chr19_fasta, chr20_fasta,\n",
    "\t#chr21_fasta, chr22_fasta, chr23_fasta, chr24_fasta\n",
    "]\n",
    "from data_dir import labseq_dir, labseq_names\n",
    "from data_preparation import generate_sequence_labelling\n",
    "chr_indices = [\n",
    "    chr1_index_csv, \n",
    "\t#chr2_index_csv, chr3_index_csv, chr4_index_csv, chr5_index_csv, chr6_index_csv, chr7_index_csv, chr8_index_csv, chr9_index_csv, chr10_index_csv,\n",
    "    #chr11_index_csv, chr12_index_csv, chr13_index_csv, chr14_index_csv, chr15_index_csv, chr16_index_csv, chr17_index_csv, chr18_index_csv, chr19_index_csv, chr20_index_csv,\n",
    "    #chr21_index_csv, chr22_index_csv, chr23_index_csv, chr24_index_csv\n",
    "]\n",
    "chr_labseq_path = [os.path.join(labseq_dir, fname) for fname in labseq_names[0:1]]\n",
    "for src, fasta, target in zip(chr_indices, chr_fastas, chr_labseq_path):\n",
    "    print(src, fasta, target)\n",
    "    #print(\"Generating sequential labelling for index {}, from fasta {}, to {}: {}\".format(src, fasta, target, generate_sequence_labelling(src, fasta, target, do_expand=True, expand_size=512)))"
   ]
  },
  {
   "cell_type": "code",
   "execution_count": 2,
   "metadata": {},
   "outputs": [
    {
     "data": {
      "text/plain": [
       "['a', 'a', 'a', 'a', 'a', 'b', 'a', 'a', 'a', 'a']"
      ]
     },
     "execution_count": 2,
     "metadata": {},
     "output_type": "execute_result"
    }
   ],
   "source": [
    "from sequential_labelling import Label_Dictionary\n",
    "import pandas as pd\n",
    "from tqdm import tqdm\n",
    "import os\n",
    "\n",
    "def prepare_sequence_from_csv(src_csv, label_dictionary=Label_Dictionary):\n",
    "    \"\"\"\n",
    "    Convert sequence into tokenized DNA sequence and label sequence.\n",
    "    CSV source has columns `sequence` and `label`. \n",
    "    `sequence` contains tokenized DNA sequence and `label` contains sequence of labels.\n",
    "    @param      src_csv (string): path to CSV source.\n",
    "    @param      label_dictionary (dict): dictionary to convert label into number.\n",
    "    @return     sequence, labels\n",
    "    \"\"\"\n",
    "    if not os.path.exists(src_csv):\n",
    "        raise FileNotFoundError(src_csv)\n",
    "    if label_dictionary == None:\n",
    "        raise Exception(\"Argument `label_dictionary` cannot be empty!\")\n",
    "    \n",
    "    df = pd.read_csv(src_csv)\n",
    "    return list(df['sequence']), list(df['label'])\n",
    "    "
   ]
  }
 ],
 "metadata": {
  "interpreter": {
   "hash": "473c7453bcb969eece5b07ef8b7f234e7c84010927f6bebce35f0aeb1f8c121e"
  },
  "kernelspec": {
   "display_name": "Python 3.9.1 64-bit ('sequence-processing-py39': venv)",
   "language": "python",
   "name": "python3"
  },
  "language_info": {
   "codemirror_mode": {
    "name": "ipython",
    "version": 3
   },
   "file_extension": ".py",
   "mimetype": "text/x-python",
   "name": "python",
   "nbconvert_exporter": "python",
   "pygments_lexer": "ipython3",
   "version": "3.9.1"
  },
  "orig_nbformat": 4
 },
 "nbformat": 4,
 "nbformat_minor": 2
}
