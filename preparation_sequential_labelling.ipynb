{
 "cells": [
  {
   "cell_type": "code",
   "execution_count": 2,
   "metadata": {},
   "outputs": [
    {
     "name": "stdout",
     "output_type": "stream",
     "text": [
      "./data/genome/grch38/GRCh38_latest_genomic.gff\n",
      "./data/genome/grch38/grch38_gff.csv\n",
      "./data/genome/grch38/csvs\n"
     ]
    }
   ],
   "source": [
    "from data_preparation import gff_to_csvs, gff_to_csv\n",
    "from data_dir import (annotated_grch38_gff, annotated_grch38_gff_dir, annotated_grch38_gff_csv)\n",
    "\n",
    "print(annotated_grch38_gff)\n",
    "print(annotated_grch38_gff_csv)\n",
    "print(annotated_grch38_gff_dir)"
   ]
  },
  {
   "cell_type": "code",
   "execution_count": 1,
   "metadata": {},
   "outputs": [
    {
     "name": "stderr",
     "output_type": "stream",
     "text": [
      "100%|██████████| 352637/352637 [00:04<00:00, 78798.55it/s]\n"
     ]
    }
   ],
   "source": [
    "from data_dir import chr1_index_csv, annotated_grch38_gff_dir, chr1_fasta, data_genome_grch38_labels_dir\n",
    "from data_preparation import kmer\n",
    "import os \n",
    "from tqdm import tqdm\n",
    "\n",
    "from data_dir import chr1_fasta\n",
    "from Bio import SeqIO\n",
    "\n",
    "records = SeqIO.parse(chr1_fasta, 'fasta')\n",
    "genome_record = next(records)\n",
    "genome_str = str(genome_record.seq)\n",
    "genome_length = len(genome_str)\n",
    "annotation = ['.' for i in range(genome_length)]\n",
    "\n",
    "f = open(chr1_index_csv, 'r')\n",
    "next(f) # Skip first line since first line is just header.\n",
    "\n",
    "\n",
    "for line in tqdm(f, total=352637):\n",
    "    \"\"\"\n",
    "    Since the file is basically CSV, parsing CSV is carried out manually line by line.\n",
    "    The header is this.\n",
    "    `sequence_id,refseq,region,start_index,end_index,start,end,gene,gene_id,genbank,ensembl`\n",
    "    Enjoy tah siah!\n",
    "    \"\"\"\n",
    "    arr_line = line.strip().split(',')\n",
    "    seq_id = arr_line[0]\n",
    "    refseq = arr_line[1]\n",
    "    region = arr_line[2]\n",
    "    start_index = int(arr_line[3])\n",
    "    end_index = int(arr_line[4])\n",
    "    start = int(arr_line[5])\n",
    "    end = int(arr_line[6])\n",
    "    \n",
    "    if region == 'region':\n",
    "        \"\"\"\n",
    "        This is the genome range. `annotation` has been initialized based on sequence in genome fasta file.\n",
    "        Compare the size and use the largest.\n",
    "        \"\"\"\n",
    "        if len(annotation) < end:\n",
    "            annotation = ['.' for i in range(end)]\n",
    "        \n",
    "    elif region == 'exon':\n",
    "        \"\"\"\n",
    "        This is exon. Take the region and write 'E' on annotation sequence.\n",
    "        \"\"\"\n",
    "        start_region = start_index\n",
    "        end_region = end\n",
    "        for j in range(start_index, end):\n",
    "            annotation[j] = 'E'\n",
    "    else:\n",
    "        continue\n",
    "#endfor\n",
    "fin_annotation = ''.join(annotation)\n",
    "\"\"\"\n",
    "Compare the sequence and the annotation sequence. \n",
    "If annotation sequence is smaller than sequence, pad it with '.'.\n",
    "If DNA sequence is smaller, pad it with 'N'.\n",
    "\"\"\"\n",
    "annotation_length = len(annotation)\n",
    "delta = genome_length - annotation_length\n",
    "if (delta > 0):\n",
    "    print('padding annotation')\n",
    "    for k in range(0, delta):\n",
    "        annotation.append('.')\n",
    "if (delta < 0):\n",
    "    print('padding sequence')\n",
    "    for k in range(0, delta):\n",
    "        genome_str = genome_str + 'N'\n",
    "\n",
    "annotation_str = ''.join(annotation)\n",
    "arr_annotation_str = kmer(annotation_str, 512, 512)\n",
    "arr_genome_str = kmer(genome_str, 512, 512)\n",
    "path = '{}/chr1_annotation.csv'.format(data_genome_grch38_labels_dir)\n",
    "if os.path.exists(path):\n",
    "    os.remove(path)\n",
    "g = open(path, 'x')\n",
    "g.write('sequence,label\\n')\n",
    "for seq, label in zip(arr_genome_str, arr_annotation_str):\n",
    "    g.write('{},{}\\n'.format(seq, label))\n",
    "g.close()"
   ]
  },
  {
   "cell_type": "code",
   "execution_count": 19,
   "metadata": {},
   "outputs": [
    {
     "data": {
      "text/plain": [
       "'asgagdsffXXX'"
      ]
     },
     "execution_count": 19,
     "metadata": {},
     "output_type": "execute_result"
    }
   ],
   "source": [
    "s = 'asgagdsff'\n",
    "s = s + ('XXX')\n",
    "s"
   ]
  },
  {
   "cell_type": "code",
   "execution_count": 15,
   "metadata": {},
   "outputs": [
    {
     "data": {
      "text/plain": [
       "'N'"
      ]
     },
     "execution_count": 15,
     "metadata": {},
     "output_type": "execute_result"
    }
   ],
   "source": [
    "genome_str[248956421:248956422]"
   ]
  },
  {
   "cell_type": "code",
   "execution_count": 1,
   "metadata": {},
   "outputs": [
    {
     "name": "stdout",
     "output_type": "stream",
     "text": [
      "Processing index ./data/genome/grch38/exon/NC_000001.11.csv: [42872/186102]\r"
     ]
    },
    {
     "ename": "MemoryError",
     "evalue": "",
     "output_type": "error",
     "traceback": [
      "\u001b[1;31m---------------------------------------------------------------------------\u001b[0m",
      "\u001b[1;31mMemoryError\u001b[0m                               Traceback (most recent call last)",
      "\u001b[1;32mw:\\Research\\_sequence-processing\\preparation_sequential_labelling.ipynb Cell 3'\u001b[0m in \u001b[0;36m<module>\u001b[1;34m\u001b[0m\n\u001b[0;32m     <a href='vscode-notebook-cell:/w%3A/Research/_sequence-processing/preparation_sequential_labelling.ipynb#ch0000002?line=24'>25</a>\u001b[0m chr_labseq_path \u001b[39m=\u001b[39m [\u001b[39m\"\u001b[39m\u001b[39m{}\u001b[39;00m\u001b[39m/\u001b[39m\u001b[39m{}\u001b[39;00m\u001b[39m\"\u001b[39m\u001b[39m.\u001b[39mformat(labseq_dir, fname) \u001b[39mfor\u001b[39;00m fname \u001b[39min\u001b[39;00m labseq_names[\u001b[39m0\u001b[39m:\u001b[39m1\u001b[39m]]\n\u001b[0;32m     <a href='vscode-notebook-cell:/w%3A/Research/_sequence-processing/preparation_sequential_labelling.ipynb#ch0000002?line=25'>26</a>\u001b[0m \u001b[39mfor\u001b[39;00m src, fasta, target \u001b[39min\u001b[39;00m \u001b[39mzip\u001b[39m(chr_indices, chr_fastas, chr_labseq_path):\n\u001b[1;32m---> <a href='vscode-notebook-cell:/w%3A/Research/_sequence-processing/preparation_sequential_labelling.ipynb#ch0000002?line=26'>27</a>\u001b[0m     \u001b[39mprint\u001b[39m(\u001b[39m\"\u001b[39m\u001b[39mGenerating sequential labelling for index \u001b[39m\u001b[39m{}\u001b[39;00m\u001b[39m, from fasta \u001b[39m\u001b[39m{}\u001b[39;00m\u001b[39m, to \u001b[39m\u001b[39m{}\u001b[39;00m\u001b[39m: \u001b[39m\u001b[39m{}\u001b[39;00m\u001b[39m\"\u001b[39m\u001b[39m.\u001b[39mformat(src, fasta, target, generate_sequence_labelling(src, fasta, target, do_expand\u001b[39m=\u001b[39;49m\u001b[39mTrue\u001b[39;49;00m, expand_size\u001b[39m=\u001b[39;49m\u001b[39m512\u001b[39;49m)))\n",
      "File \u001b[1;32mw:\\Research\\_sequence-processing\\data_preparation.py:275\u001b[0m, in \u001b[0;36mgenerate_sequence_labelling\u001b[1;34m(chr_index, chr_fasta, target_csv, do_kmer, do_expand, kmer_size, expand_size, region)\u001b[0m\n\u001b[0;32m    <a href='file:///w%3A/Research/_sequence-processing/data_preparation.py?line=272'>273</a>\u001b[0m         arr_label_sequence[j] \u001b[39m=\u001b[39m \u001b[39m'\u001b[39m\u001b[39mE\u001b[39m\u001b[39m'\u001b[39m\n\u001b[0;32m    <a href='file:///w%3A/Research/_sequence-processing/data_preparation.py?line=273'>274</a>\u001b[0m     \u001b[39m#endfor\u001b[39;00m\n\u001b[1;32m--> <a href='file:///w%3A/Research/_sequence-processing/data_preparation.py?line=274'>275</a>\u001b[0m     label_sequence \u001b[39m=\u001b[39m \u001b[39m'\u001b[39;49m\u001b[39m'\u001b[39;49m\u001b[39m.\u001b[39;49mjoin(arr_label_sequence) \u001b[39m# Convert array of character back to string.\u001b[39;00m\n\u001b[0;32m    <a href='file:///w%3A/Research/_sequence-processing/data_preparation.py?line=275'>276</a>\u001b[0m \u001b[39m#endfor\u001b[39;00m\n\u001b[0;32m    <a href='file:///w%3A/Research/_sequence-processing/data_preparation.py?line=277'>278</a>\u001b[0m \u001b[39mif\u001b[39;00m os\u001b[39m.\u001b[39mpath\u001b[39m.\u001b[39mexists(target_csv):\n",
      "\u001b[1;31mMemoryError\u001b[0m: "
     ]
    }
   ],
   "source": [
    "from data_dir import (\n",
    "    chr1_index_csv, chr2_index_csv, chr3_index_csv, chr4_index_csv, chr5_index_csv, chr6_index_csv, chr7_index_csv, chr8_index_csv, chr9_index_csv, chr10_index_csv,\n",
    "    chr11_index_csv, chr12_index_csv, chr13_index_csv, chr14_index_csv, chr15_index_csv, chr16_index_csv, chr17_index_csv, chr18_index_csv, chr19_index_csv, chr20_index_csv,\n",
    "    chr21_index_csv, chr22_index_csv, chr23_index_csv, chr24_index_csv\n",
    ")\n",
    "from data_dir import (\n",
    "    chr1_fasta, chr2_fasta, chr3_fasta, chr4_fasta, chr5_fasta, chr6_fasta, chr7_fasta, chr8_fasta, chr9_fasta, chr10_fasta, \n",
    "\tchr11_fasta, chr12_fasta, chr13_fasta, chr14_fasta, chr15_fasta, chr16_fasta, chr17_fasta, chr18_fasta, chr19_fasta, chr20_fasta, \n",
    "\tchr21_fasta, chr22_fasta, chr23_fasta, chr24_fasta,\n",
    ")\n",
    "chr_fastas = [\n",
    "    chr1_fasta,\n",
    "\t#chr2_fasta, chr3_fasta, chr4_fasta, chr5_fasta, chr6_fasta, chr7_fasta, chr8_fasta, chr9_fasta, chr10_fasta,\n",
    "\t#chr11_fasta, chr12_fasta, chr13_fasta, chr14_fasta, chr15_fasta, chr16_fasta, chr17_fasta, chr18_fasta, chr19_fasta, chr20_fasta,\n",
    "\t#chr21_fasta, chr22_fasta, chr23_fasta, chr24_fasta\n",
    "]\n",
    "from data_dir import labseq_dir, labseq_names\n",
    "from data_preparation import generate_sequence_labelling\n",
    "chr_indices = [\n",
    "    chr1_index_csv, \n",
    "\t#chr2_index_csv, chr3_index_csv, chr4_index_csv, chr5_index_csv, chr6_index_csv, chr7_index_csv, chr8_index_csv, chr9_index_csv, chr10_index_csv,\n",
    "    #chr11_index_csv, chr12_index_csv, chr13_index_csv, chr14_index_csv, chr15_index_csv, chr16_index_csv, chr17_index_csv, chr18_index_csv, chr19_index_csv, chr20_index_csv,\n",
    "    #chr21_index_csv, chr22_index_csv, chr23_index_csv, chr24_index_csv\n",
    "]\n",
    "chr_labseq_path = [\"{}/{}\".format(labseq_dir, fname) for fname in labseq_names[0:1]]\n",
    "for src, fasta, target in zip(chr_indices, chr_fastas, chr_labseq_path):\n",
    "    print(\"Generating sequential labelling for index {}, from fasta {}, to {}: {}\".format(src, fasta, target, generate_sequence_labelling(src, fasta, target, do_expand=True, expand_size=512)))"
   ]
  },
  {
   "cell_type": "code",
   "execution_count": 2,
   "metadata": {},
   "outputs": [
    {
     "data": {
      "text/plain": [
       "['a', 'a', 'a', 'a', 'a', 'b', 'a', 'a', 'a', 'a']"
      ]
     },
     "execution_count": 2,
     "metadata": {},
     "output_type": "execute_result"
    }
   ],
   "source": [
    "from sequential_labelling import Label_Dictionary\n",
    "import pandas as pd\n",
    "from tqdm import tqdm\n",
    "import os\n",
    "\n",
    "def prepare_sequence_from_csv(src_csv, label_dictionary=Label_Dictionary):\n",
    "    \"\"\"\n",
    "    Convert sequence into tokenized DNA sequence and label sequence.\n",
    "    CSV source has columns `sequence` and `label`. \n",
    "    `sequence` contains tokenized DNA sequence and `label` contains sequence of labels.\n",
    "    @param      src_csv (string): path to CSV source.\n",
    "    @param      label_dictionary (dict): dictionary to convert label into number.\n",
    "    @return     sequence, labels\n",
    "    \"\"\"\n",
    "    if not os.path.exists(src_csv):\n",
    "        raise FileNotFoundError(src_csv)\n",
    "    if label_dictionary == None:\n",
    "        raise Exception(\"Argument `label_dictionary` cannot be empty!\")\n",
    "    \n",
    "    df = pd.read_csv(src_csv)\n",
    "    return list(df['sequence']), list(df['label'])\n",
    "    "
   ]
  }
 ],
 "metadata": {
  "interpreter": {
   "hash": "473c7453bcb969eece5b07ef8b7f234e7c84010927f6bebce35f0aeb1f8c121e"
  },
  "kernelspec": {
   "display_name": "Python 3.9.1 64-bit ('sequence-processing-py39': venv)",
   "language": "python",
   "name": "python3"
  },
  "language_info": {
   "codemirror_mode": {
    "name": "ipython",
    "version": 3
   },
   "file_extension": ".py",
   "mimetype": "text/x-python",
   "name": "python",
   "nbconvert_exporter": "python",
   "pygments_lexer": "ipython3",
   "version": "3.9.1"
  },
  "orig_nbformat": 4
 },
 "nbformat": 4,
 "nbformat_minor": 2
}
