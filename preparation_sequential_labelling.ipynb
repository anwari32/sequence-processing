{
 "cells": [
  {
   "cell_type": "code",
   "execution_count": 1,
   "metadata": {},
   "outputs": [
    {
     "name": "stdout",
     "output_type": "stream",
     "text": [
      "Success: data\\genome\\grch38\\genes\\chr10\\RPL23AP60.csv                                                                   \r"
     ]
    },
    {
     "name": "stderr",
     "output_type": "stream",
     "text": [
      "C:\\Users\\lmanw\\AppData\\Local\\Temp\\ipykernel_21168\\3840047348.py:35: DtypeWarning: Columns (7,9,10) have mixed types. Specify dtype option on import or set low_memory=False.\n",
      "  df = pd.read_csv(path)\n"
     ]
    },
    {
     "name": "stdout",
     "output_type": "stream",
     "text": [
      "Success: data\\genome\\grch38\\genes\\chr24\\DDX11L16.csv                                                                       \r"
     ]
    }
   ],
   "source": [
    "\"\"\"\n",
    "Filter index based on gene name.\n",
    "\"\"\"\n",
    "import os\n",
    "import pandas as pd\n",
    "_chr_indices = [\n",
    "    'NC_000001.11.csv',\n",
    "    'NC_000002.12.csv',\n",
    "    'NC_000003.12.csv',\n",
    "    'NC_000004.12.csv',\n",
    "    'NC_000005.10.csv',\n",
    "    'NC_000006.12.csv',\n",
    "    'NC_000007.14.csv',\n",
    "    'NC_000008.11.csv',\n",
    "    'NC_000009.12.csv',\n",
    "    'NC_000010.11.csv',\n",
    "    'NC_000011.10.csv',\n",
    "    'NC_000012.12.csv',\n",
    "    'NC_000013.11.csv',\n",
    "    'NC_000014.9.csv',\n",
    "    'NC_000015.10.csv',\n",
    "    'NC_000016.10.csv',\n",
    "    'NC_000017.11.csv',\n",
    "    'NC_000018.10.csv',\n",
    "    'NC_000019.10.csv',\n",
    "    'NC_000020.11.csv',\n",
    "    'NC_000021.9.csv',\n",
    "    'NC_000022.11.csv',\n",
    "    'NC_000023.11.csv',\n",
    "    'NC_000024.10.csv']\n",
    "_chr_dir = [\"chr{}\".format(i+1) for i in range(len(_chr_indices))]\n",
    "\n",
    "for chr, chr_number in zip(_chr_indices, _chr_dir):\n",
    "    path = os.path.join('data', 'genome', 'grch38', 'csvs_strand', chr)\n",
    "    df = pd.read_csv(path)\n",
    "    genes = list(df['gene'].unique())\n",
    "    genes = [a for a in genes if not pd.isnull(a)]\n",
    "    for g in genes:\n",
    "        ndf = df[df['gene'] == g]\n",
    "        path = os.path.join('data', 'genome', 'grch38', 'genes', chr_number,\"{}.csv\".format(g))\n",
    "        if not os.path.exists(os.path.dirname(path)):\n",
    "            os.mkdir(os.path.dirname(path))\n",
    "        ndf.to_csv(path, index=False)\n",
    "        print(\"Success: {}                                                      \".format(path), end=\"\\r\")"
   ]
  },
  {
   "cell_type": "code",
   "execution_count": 4,
   "metadata": {},
   "outputs": [
    {
     "name": "stdout",
     "output_type": "stream",
     "text": [
      "Working on chr chr24 gene ZNF92P1Y.csv                                                     \r"
     ]
    }
   ],
   "source": [
    "\"\"\"\n",
    "Generate sequence from fasta based on gene indices.\n",
    "\"\"\"\n",
    "import os\n",
    "from Bio import SeqIO\n",
    "import pandas as pd\n",
    "from tqdm import tqdm\n",
    "from data_dir import chr_fasta_mapname\n",
    "\n",
    "strand = '+'\n",
    "chrs = ['chr{}'.format(i+1) for i in range(24)] # Folder name.\n",
    "\n",
    "for c in chrs:\n",
    "    chr_genes_indices_dir = os.path.join(\"data\", \"genome\", \"grch38\", \"genes\", c)\n",
    "    chr_genes_sequence_csv_dir = os.path.join(\"data\", \"genome\", \"sequential-labelling-positive-strand\",c)\n",
    "    chr_fasta = os.path.join(\"data\", \"chr\", chr_fasta_mapname[c])\n",
    "\n",
    "#chr1_genes_indices_dir = os.path.join(\"data\", \"genome\", \"grch38\", \"genes\", \"chr1\")\n",
    "#chr1_genes_sequence_csv_dir = os.path.join(\"data\", \"genome\", \"sequential-labelling\", \"chr1\")\n",
    "#chr1_fasta = os.path.join(\"data\", \"chr\", \"NC_000001.11.fasta\")\n",
    "\n",
    "    if not os.path.exists(chr_fasta):\n",
    "        raise FileNotFoundError(\"Fasta {} not found.\".format(chr_fasta))\n",
    "\n",
    "    \"\"\"\n",
    "    Read whole chromosome here and return its complete sequence.\n",
    "    Yes, it's long.\n",
    "    \"\"\"\n",
    "    records = SeqIO.parse(chr_fasta, \"fasta\")\n",
    "    chr_records = next(records)\n",
    "    chr_sequence = str(chr_records.seq)\n",
    "    genome_sequence = chr_sequence # Use genome sequence reader here.\n",
    "\n",
    "    _columns = ['sequence', 'label']\n",
    "    for fname in os.listdir(chr_genes_indices_dir):\n",
    "        print(\"Working on chr {} gene {}                                    \".format(c, fname), end='\\r')\n",
    "        fpath = os.path.join(chr_genes_indices_dir, fname)\n",
    "        if os.path.isfile(fpath):\n",
    "            \"\"\"\n",
    "            Gene index found. Read the index and cross-reference with genome sequence.\n",
    "            \"\"\"\n",
    "            index_df = pd.read_csv(fpath)\n",
    "            gene_region = index_df[index_df['region'] == \"gene\"]\n",
    "\n",
    "            if len(gene_region) > 0:\n",
    "                gene_df = pd.DataFrame(columns=_columns)\n",
    "                for i, g in gene_region.iterrows():\n",
    "                    gene_start_index = int(g['start_index'])\n",
    "                    gene_end_index = int(g['end_index'])\n",
    "                    gene_sequence = genome_sequence[gene_start_index:gene_end_index + 1]\n",
    "                    # print(\"Gene sequence: {}\".format(gene_sequence))\n",
    "                    # If gene sequence isn't None then this gene is available in chromosome sequence.\n",
    "                    if gene_sequence != None:\n",
    "                        gene_sequential_labelling = ['.' for a in gene_sequence]\n",
    "                        exons = index_df[index_df['region'] == \"exon\"]\n",
    "                        if strand != None:\n",
    "                            exons = index_df[index_df['strand'] == strand]\n",
    "                        for i, r in exons.iterrows():\n",
    "                            start_index = int(r['start_index'])\n",
    "                            end_index = int(r['end_index'])\n",
    "                            if (start_index >= gene_start_index and end_index <= gene_end_index):\n",
    "                                start_index = int(r['start_index']) - gene_start_index\n",
    "                                end_index = int(r['end_index']) - gene_start_index\n",
    "                                for i in range(start_index, end_index + 1):\n",
    "                                    gene_sequential_labelling[i] = 'E'\n",
    "                        gene_sequential_labelling = ''.join(gene_sequential_labelling)\n",
    "                        #endfor\n",
    "                        gene_df = pd.concat([gene_df, pd.DataFrame([[gene_sequence, gene_sequential_labelling]], columns=_columns)])\n",
    "\n",
    "                target_path = os.path.join(chr_genes_sequence_csv_dir, fname)\n",
    "                # data\\genome\\sequential-labelling\\chr1\n",
    "                # Only write of dataframe is not empty.\n",
    "                if gene_df.shape[0] > 0:\n",
    "                    if not os.path.exists(chr_genes_sequence_csv_dir):\n",
    "                        os.makedirs(chr_genes_sequence_csv_dir, exist_ok=True)    \n",
    "                    gene_df.to_csv(target_path, index=False)\n",
    "                    "
   ]
  },
  {
   "cell_type": "code",
   "execution_count": 5,
   "metadata": {},
   "outputs": [],
   "source": [
    "\"\"\"\n",
    "Generate gene index in CSV ('chr', 'gene') to see if dataset split can be done by genes.\n",
    "\"\"\"\n",
    "import pandas as pd\n",
    "\n",
    "chrs = ['chr{}'.format(i+1) for i in range(24)]\n",
    "pos_strand = os.path.join(\"data\", \"genome\", \"sequential-labelling-positive-strand\")\n",
    "chrs = [os.path.join(pos_strand, c) for c in chrs]\n",
    "\n",
    "genes = []\n",
    "cs = []\n",
    "_cols = ['chr', 'gene']\n",
    "df = pd.DataFrame(columns=_cols)\n",
    "for path in chrs:\n",
    "    (head, tail) = os.path.split(path)\n",
    "    for gindex in os.listdir(path):\n",
    "        gindex = gindex.split('.')\n",
    "        gindex = gindex[0]\n",
    "        genes.append(gindex)\n",
    "        cs.append(tail)\n",
    "#endfor\n",
    "df['chr'] = cs\n",
    "df['gene'] = genes\n",
    "tpath = os.path.join('workspace', 'sequential-labelling', 'gene_index.csv')\n",
    "os.makedirs(os.path.dirname(tpath), exist_ok=True)\n",
    "df.to_csv(\n",
    "    tpath,\n",
    "    index=False\n",
    ")"
   ]
  },
  {
   "cell_type": "code",
   "execution_count": 11,
   "metadata": {},
   "outputs": [],
   "source": [
    "import pandas as pd\n",
    "_cols = ['chr', 'gene']\n",
    "df_path = os.path.join('workspace', 'sequential-labelling', 'gene_index.csv')\n",
    "_dir = os.path.join('workspace', 'sequential-labelling', 'duplicate genes')\n",
    "os.makedirs(_dir, exist_ok=True)\n",
    "df = pd.read_csv(df_path)\n",
    "train_df = pd.DataFrame(columns=_cols)\n",
    "valid_df = pd.DataFrame(columns=_cols)\n",
    "test_df = pd.DataFrame(columns=_cols)\n",
    "genes_unique = df['gene'].unique()\n",
    "for g in genes_unique:\n",
    "    filtered_df = df[df['gene'] == g]\n",
    "    if filtered_df.shape[0] > 1:\n",
    "        _g = \"{}.csv\".format(g)\n",
    "        filtered_df.to_csv(os.path.join(_dir, _g), index=False)"
   ]
  },
  {
   "cell_type": "code",
   "execution_count": null,
   "metadata": {},
   "outputs": [],
   "source": [
    "import os\n",
    "\n",
    "gene_index_dir = os.path.join('workspace', 'sequential-labelling')\n",
    "gene_index = os.path.join(gene_index_dir, 'gene_index.csv')\n"
   ]
  },
  {
   "cell_type": "code",
   "execution_count": 2,
   "metadata": {},
   "outputs": [
    {
     "name": "stdout",
     "output_type": "stream",
     "text": [
      "./data/genome/grch38/GRCh38_latest_genomic.gff\n",
      "./data/genome/grch38/grch38_gff.csv\n",
      "./data/genome/grch38/csvs\n"
     ]
    }
   ],
   "source": [
    "from data_preparation import gff_to_csvs, gff_to_csv\n",
    "from data_dir import (annotated_grch38_gff, annotated_grch38_gff_dir, annotated_grch38_gff_csv)\n",
    "\n",
    "print(annotated_grch38_gff)\n",
    "print(annotated_grch38_gff_csv)\n",
    "print(annotated_grch38_gff_dir)"
   ]
  },
  {
   "cell_type": "code",
   "execution_count": 2,
   "metadata": {},
   "outputs": [
    {
     "name": "stdout",
     "output_type": "stream",
     "text": [
      "Generate sequential labelling data/genome/grch38/csvs/NC_000021.9.csv => data/genome/grch38/labels\\chr21.csv: True data/genome/grch38/labels\\chr21.csv\n"
     ]
    }
   ],
   "source": [
    "from data_dir import chr21_fasta, chr21_index_csv, data_genome_grch38_labels_dir\n",
    "from data_preparation import generate_sequence_labelling\n",
    "import os\n",
    "\n",
    "target_path = os.path.join(data_genome_grch38_labels_dir, 'chr21.csv')\n",
    "print(\"Generate sequential labelling {} => {}: {}\".format(chr21_index_csv, target_path, generate_sequence_labelling(chr21_index_csv, chr21_fasta, target_path)))\n"
   ]
  },
  {
   "cell_type": "code",
   "execution_count": 4,
   "metadata": {},
   "outputs": [
    {
     "name": "stdout",
     "output_type": "stream",
     "text": [
      "data/genome/grch38/csvs/NC_000001.11.csv data/chr/NC_000001.11.fasta data/genome/labseq\\chr1.csv\n"
     ]
    }
   ],
   "source": [
    "from data_dir import (\n",
    "    chr1_index_csv, chr2_index_csv, chr3_index_csv, chr4_index_csv, chr5_index_csv, chr6_index_csv, chr7_index_csv, chr8_index_csv, chr9_index_csv, chr10_index_csv,\n",
    "    chr11_index_csv, chr12_index_csv, chr13_index_csv, chr14_index_csv, chr15_index_csv, chr16_index_csv, chr17_index_csv, chr18_index_csv, chr19_index_csv, chr20_index_csv,\n",
    "    chr21_index_csv, chr22_index_csv, chr23_index_csv, chr24_index_csv\n",
    ")\n",
    "from data_dir import (\n",
    "    chr1_fasta, chr2_fasta, chr3_fasta, chr4_fasta, chr5_fasta, chr6_fasta, chr7_fasta, chr8_fasta, chr9_fasta, chr10_fasta, \n",
    "\tchr11_fasta, chr12_fasta, chr13_fasta, chr14_fasta, chr15_fasta, chr16_fasta, chr17_fasta, chr18_fasta, chr19_fasta, chr20_fasta, \n",
    "\tchr21_fasta, chr22_fasta, chr23_fasta, chr24_fasta,\n",
    ")\n",
    "chr_fastas = [\n",
    "    chr1_fasta,\n",
    "\t#chr2_fasta, chr3_fasta, chr4_fasta, chr5_fasta, chr6_fasta, chr7_fasta, chr8_fasta, chr9_fasta, chr10_fasta,\n",
    "\t#chr11_fasta, chr12_fasta, chr13_fasta, chr14_fasta, chr15_fasta, chr16_fasta, chr17_fasta, chr18_fasta, chr19_fasta, chr20_fasta,\n",
    "\t#chr21_fasta, chr22_fasta, chr23_fasta, chr24_fasta\n",
    "]\n",
    "from data_dir import labseq_dir, labseq_names\n",
    "from data_preparation import generate_sequence_labelling\n",
    "chr_indices = [\n",
    "    chr1_index_csv, \n",
    "\t#chr2_index_csv, chr3_index_csv, chr4_index_csv, chr5_index_csv, chr6_index_csv, chr7_index_csv, chr8_index_csv, chr9_index_csv, chr10_index_csv,\n",
    "    #chr11_index_csv, chr12_index_csv, chr13_index_csv, chr14_index_csv, chr15_index_csv, chr16_index_csv, chr17_index_csv, chr18_index_csv, chr19_index_csv, chr20_index_csv,\n",
    "    #chr21_index_csv, chr22_index_csv, chr23_index_csv, chr24_index_csv\n",
    "]\n",
    "chr_labseq_path = [os.path.join(labseq_dir, fname) for fname in labseq_names[0:1]]\n",
    "for src, fasta, target in zip(chr_indices, chr_fastas, chr_labseq_path):\n",
    "    print(src, fasta, target)\n",
    "    #print(\"Generating sequential labelling for index {}, from fasta {}, to {}: {}\".format(src, fasta, target, generate_sequence_labelling(src, fasta, target, do_expand=True, expand_size=512)))"
   ]
  },
  {
   "cell_type": "code",
   "execution_count": 2,
   "metadata": {},
   "outputs": [
    {
     "data": {
      "text/plain": [
       "['a', 'a', 'a', 'a', 'a', 'b', 'a', 'a', 'a', 'a']"
      ]
     },
     "execution_count": 2,
     "metadata": {},
     "output_type": "execute_result"
    }
   ],
   "source": [
    "from sequential_labelling import Label_Dictionary\n",
    "import pandas as pd\n",
    "from tqdm import tqdm\n",
    "import os\n",
    "\n",
    "def prepare_sequence_from_csv(src_csv, label_dictionary=Label_Dictionary):\n",
    "    \"\"\"\n",
    "    Convert sequence into tokenized DNA sequence and label sequence.\n",
    "    CSV source has columns `sequence` and `label`. \n",
    "    `sequence` contains tokenized DNA sequence and `label` contains sequence of labels.\n",
    "    @param      src_csv (string): path to CSV source.\n",
    "    @param      label_dictionary (dict): dictionary to convert label into number.\n",
    "    @return     sequence, labels\n",
    "    \"\"\"\n",
    "    if not os.path.exists(src_csv):\n",
    "        raise FileNotFoundError(src_csv)\n",
    "    if label_dictionary == None:\n",
    "        raise Exception(\"Argument `label_dictionary` cannot be empty!\")\n",
    "    \n",
    "    df = pd.read_csv(src_csv)\n",
    "    return list(df['sequence']), list(df['label'])\n",
    "    "
   ]
  }
 ],
 "metadata": {
  "interpreter": {
   "hash": "473c7453bcb969eece5b07ef8b7f234e7c84010927f6bebce35f0aeb1f8c121e"
  },
  "kernelspec": {
   "display_name": "Python 3.9.1 64-bit ('sequence-processing-py39': venv)",
   "language": "python",
   "name": "python3"
  },
  "language_info": {
   "codemirror_mode": {
    "name": "ipython",
    "version": 3
   },
   "file_extension": ".py",
   "mimetype": "text/x-python",
   "name": "python",
   "nbconvert_exporter": "python",
   "pygments_lexer": "ipython3",
   "version": "3.7.9"
  },
  "orig_nbformat": 4
 },
 "nbformat": 4,
 "nbformat_minor": 2
}
