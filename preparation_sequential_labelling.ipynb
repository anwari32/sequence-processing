{
 "cells": [
  {
   "cell_type": "code",
   "execution_count": 2,
   "metadata": {},
   "outputs": [
    {
     "name": "stdout",
     "output_type": "stream",
     "text": [
      "./data/genome/grch38/GRCh38_latest_genomic.gff\n",
      "./data/genome/grch38/grch38_gff.csv\n",
      "./data/genome/grch38/csvs\n"
     ]
    }
   ],
   "source": [
    "from data_preparation import gff_to_csvs, gff_to_csv\n",
    "from data_dir import (annotated_grch38_gff, annotated_grch38_gff_dir, annotated_grch38_gff_csv)\n",
    "\n",
    "print(annotated_grch38_gff)\n",
    "print(annotated_grch38_gff_csv)\n",
    "print(annotated_grch38_gff_dir)"
   ]
  },
  {
   "cell_type": "code",
   "execution_count": null,
   "metadata": {},
   "outputs": [],
   "source": [
    "# Generate CSV from GFF.\n",
    "print(gff_to_csv(annotated_grch38_gff, annotated_grch38_gff_csv))\n",
    "print(gff_to_csvs(annotated_grch38_gff, annotated_grch38_gff_dir))"
   ]
  },
  {
   "cell_type": "code",
   "execution_count": 3,
   "metadata": {},
   "outputs": [],
   "source": [
    "from data_dir import (\n",
    "    chr1_index_csv, chr2_index_csv, chr3_index_csv, chr4_index_csv, chr5_index_csv, chr6_index_csv, chr7_index_csv, chr8_index_csv, chr9_index_csv, chr10_index_csv,\n",
    "    chr11_index_csv, chr12_index_csv, chr13_index_csv, chr14_index_csv, chr15_index_csv, chr16_index_csv, chr17_index_csv, chr18_index_csv, chr19_index_csv, chr20_index_csv,\n",
    "    chr21_index_csv, chr22_index_csv, chr23_index_csv, chr24_index_csv\n",
    ")\n",
    "from data_dir import (\n",
    "    chr1_fasta,\n",
    "\tchr2_fasta,\n",
    "\tchr3_fasta,\n",
    "\tchr4_fasta,\n",
    "\tchr5_fasta,\n",
    "\tchr6_fasta,\n",
    "\tchr7_fasta,\n",
    "\tchr8_fasta,\n",
    "\tchr9_fasta,\n",
    "\tchr10_fasta,\n",
    "\tchr11_fasta,\n",
    "\tchr12_fasta,\n",
    "\tchr13_fasta,\n",
    "\tchr14_fasta,\n",
    "\tchr15_fasta,\n",
    "\tchr16_fasta,\n",
    "\tchr17_fasta,\n",
    "\tchr18_fasta,\n",
    "\tchr19_fasta,\n",
    "\tchr20_fasta,\n",
    "\tchr21_fasta,\n",
    "\tchr22_fasta,\n",
    "\tchr23_fasta,\n",
    "\tchr24_fasta,\n",
    ")\n",
    "chr_fastas = [\n",
    "    chr1_fasta,\n",
    "\tchr2_fasta,\n",
    "\tchr3_fasta,\n",
    "\tchr4_fasta,\n",
    "\tchr5_fasta,\n",
    "\tchr6_fasta,\n",
    "\tchr7_fasta,\n",
    "\tchr8_fasta,\n",
    "\tchr9_fasta,\n",
    "\tchr10_fasta,\n",
    "\tchr11_fasta,\n",
    "\tchr12_fasta,\n",
    "\tchr13_fasta,\n",
    "\tchr14_fasta,\n",
    "\tchr15_fasta,\n",
    "\tchr16_fasta,\n",
    "\tchr17_fasta,\n",
    "\tchr18_fasta,\n",
    "\tchr19_fasta,\n",
    "\tchr20_fasta,\n",
    "\tchr21_fasta,\n",
    "\tchr22_fasta,\n",
    "\tchr23_fasta,\n",
    "\tchr24_fasta\n",
    "]\n",
    "from data_dir import labseq_dir, labseq_names\n",
    "from data_preparation import generate_sequence_labelling\n",
    "chr_indices = [\n",
    "    chr1_index_csv, chr2_index_csv, chr3_index_csv, chr4_index_csv, chr5_index_csv, chr6_index_csv, chr7_index_csv, chr8_index_csv, chr9_index_csv, chr10_index_csv,\n",
    "    chr11_index_csv, chr12_index_csv, chr13_index_csv, chr14_index_csv, chr15_index_csv, chr16_index_csv, chr17_index_csv, chr18_index_csv, chr19_index_csv, chr20_index_csv,\n",
    "    chr21_index_csv, chr22_index_csv, chr23_index_csv, chr24_index_csv\n",
    "]\n",
    "chr_labseq_path = [\"{}/{}\".format(labseq_dir, fname) for fname in labseq_names]\n",
    "#for src, fasta, target in zip(chr_indices, chr_fastas, chr_labseq_path):\n",
    "for src, fasta, target in zip([chr1_index_csv], [chr1_fasta], [chr_labseq_path[0]]):\n",
    "    print(\"Generating sequential labelling for index {}, from fasta {}, to {}: {}\".format(src, fasta, target, generate_sequence_labelling(src, fasta, target, do_expand=True, expand_size=512)))"
   ]
  }
 ],
 "metadata": {
  "interpreter": {
   "hash": "473c7453bcb969eece5b07ef8b7f234e7c84010927f6bebce35f0aeb1f8c121e"
  },
  "kernelspec": {
   "display_name": "Python 3.9.1 64-bit ('sequence-processing-py39': venv)",
   "language": "python",
   "name": "python3"
  },
  "language_info": {
   "codemirror_mode": {
    "name": "ipython",
    "version": 3
   },
   "file_extension": ".py",
   "mimetype": "text/x-python",
   "name": "python",
   "nbconvert_exporter": "python",
   "pygments_lexer": "ipython3",
   "version": "3.9.1"
  },
  "orig_nbformat": 4
 },
 "nbformat": 4,
 "nbformat_minor": 2
}
