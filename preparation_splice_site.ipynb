{
 "cells": [
  {
   "cell_type": "code",
   "execution_count": 1,
   "metadata": {},
   "outputs": [
    {
     "name": "stdout",
     "output_type": "stream",
     "text": [
      "Generate train, validation, and test data from ./data/splice-sites/splice-deep/pos_ss_acc_hs.csv: ['./data/splice-sites/splice-deep/pos_acc/train.csv', './data/splice-sites/splice-deep/pos_acc/validation.csv', './data/splice-sites/splice-deep/pos_acc/test.csv']\n",
      "Generate train, validation, and test data from ./data/splice-sites/splice-deep/pos_ss_don_hs.csv: ['./data/splice-sites/splice-deep/pos_don/train.csv', './data/splice-sites/splice-deep/pos_don/validation.csv', './data/splice-sites/splice-deep/pos_don/test.csv']\n",
      "Generate train, validation, and test data from ./data/splice-sites/splice-deep/pos_ss_acc_hs.csv: ['./data/splice-sites/splice-deep/neg_acc/train.csv', './data/splice-sites/splice-deep/neg_acc/validation.csv', './data/splice-sites/splice-deep/neg_acc/test.csv']\n",
      "Generate train, validation, and test data from ./data/splice-sites/splice-deep/pos_ss_acc_hs.csv: ['./data/splice-sites/splice-deep/neg_don/train.csv', './data/splice-sites/splice-deep/neg_don/validation.csv', './data/splice-sites/splice-deep/neg_don/test.csv']\n"
     ]
    }
   ],
   "source": [
    "\"\"\"\n",
    "For each positive and negative data, split into three parts: train, validation, and test.\n",
    "\"\"\"\n",
    "\n",
    "from data_dir import ss_pos_acc_csv, ss_pos_don_csv, ss_neg_acc_csv, ss_neg_don_csv, ss_pos_acc_dir, ss_pos_don_dir, ss_neg_acc_dir, ss_neg_don_dir\n",
    "from data_preparation import generate_datasets\n",
    "\n",
    "print(\"Generate train, validation, and test data from {}: {}\".format(ss_pos_acc_csv, generate_datasets(ss_pos_acc_csv, ss_pos_acc_dir)))\n",
    "print(\"Generate train, validation, and test data from {}: {}\".format(ss_pos_don_csv, generate_datasets(ss_pos_don_csv, ss_pos_don_dir)))\n",
    "print(\"Generate train, validation, and test data from {}: {}\".format(ss_pos_acc_csv, generate_datasets(ss_neg_acc_csv, ss_neg_acc_dir)))\n",
    "print(\"Generate train, validation, and test data from {}: {}\".format(ss_pos_acc_csv, generate_datasets(ss_neg_don_csv, ss_neg_don_dir)))"
   ]
  },
  {
   "cell_type": "code",
   "execution_count": 1,
   "metadata": {},
   "outputs": [
    {
     "name": "stdout",
     "output_type": "stream",
     "text": [
      "Generating training data: True\n",
      "Generating validation data: True\n",
      "Generating test data: True\n"
     ]
    }
   ],
   "source": [
    "\"\"\"\n",
    "Merge each training data. Store them in original folder. Don't create for dataset folder yet.\n",
    "\"\"\"\n",
    "from data_dir import ss_pos_acc_dir, ss_pos_don_dir, ss_neg_acc_dir, ss_neg_don_dir, ss_train_csv, ss_validation_csv, ss_test_csv\n",
    "from data_preparation import merge_csv\n",
    "\n",
    "print(\"Generating training data: {}\".format(merge_csv([\"{}/train.csv\".format(a) for a in [ss_pos_acc_dir, ss_pos_don_dir, ss_neg_acc_dir, ss_neg_don_dir]], ss_train_csv)))\n",
    "print(\"Generating validation data: {}\".format(merge_csv([\"{}/validation.csv\".format(a) for a in [ss_pos_acc_dir, ss_pos_don_dir, ss_neg_acc_dir, ss_neg_don_dir]], ss_validation_csv)))\n",
    "print(\"Generating test data: {}\".format(merge_csv([\"{}/test.csv\".format(a) for a in [ss_pos_acc_dir, ss_pos_don_dir, ss_neg_acc_dir, ss_neg_don_dir]], ss_test_csv)))"
   ]
  },
  {
   "cell_type": "code",
   "execution_count": 2,
   "metadata": {},
   "outputs": [
    {
     "name": "stdout",
     "output_type": "stream",
     "text": [
      "Generate expanded training data: True/splice-deep/train.csv: 797680/797680\n",
      "Generate expanded validation data: Trueplice-deep/validation.csv: 99710/99710\n",
      "Generate expanded test data: Trueites/splice-deep/test.csv: 99710/99710\n"
     ]
    }
   ],
   "source": [
    "\"\"\"\n",
    "Expand training, validation, and test data if sequence has more than 512 characters.\n",
    "\"\"\"\n",
    "from data_dir import ss_train_csv, ss_validation_csv, ss_test_csv, dataset_ss_train_csv, dataset_ss_validation_csv, dataset_ss_test_csv\n",
    "from data_preparation import expand_by_sliding_window\n",
    "\n",
    "print(\"Generate expanded training data: {}\".format(expand_by_sliding_window(ss_train_csv, dataset_ss_train_csv)))\n",
    "print(\"Generate expanded validation data: {}\".format(expand_by_sliding_window(ss_validation_csv, dataset_ss_validation_csv)))\n",
    "print(\"Generate expanded test data: {}\".format(expand_by_sliding_window(ss_test_csv, dataset_ss_test_csv)))\n"
   ]
  },
  {
   "cell_type": "code",
   "execution_count": 1,
   "metadata": {},
   "outputs": [
    {
     "name": "stdout",
     "output_type": "stream",
     "text": [
      "Generate sample for ./data/splice-sites/splice-deep/pos_acc/train.csv => ./data/splice-sites/splice-deep/pos_acc/train_sample.csv\n",
      "Generate sample for ./data/splice-sites/splice-deep/pos_acc/validation.csv => ./data/splice-sites/splice-deep/pos_acc/validation_sample.csv\n",
      "Generate sample for ./data/splice-sites/splice-deep/pos_acc/test.csv => ./data/splice-sites/splice-deep/pos_acc/test_sample.csv\n",
      "Generate sample for ./data/splice-sites/splice-deep/pos_don/train.csv => ./data/splice-sites/splice-deep/pos_don/train_sample.csv\n",
      "Generate sample for ./data/splice-sites/splice-deep/pos_don/validation.csv => ./data/splice-sites/splice-deep/pos_don/validation_sample.csv\n",
      "Generate sample for ./data/splice-sites/splice-deep/pos_don/test.csv => ./data/splice-sites/splice-deep/pos_don/test_sample.csv\n",
      "Generate sample for ./data/splice-sites/splice-deep/neg_acc/train.csv => ./data/splice-sites/splice-deep/neg_acc/train_sample.csv\n",
      "Generate sample for ./data/splice-sites/splice-deep/neg_acc/validation.csv => ./data/splice-sites/splice-deep/neg_acc/validation_sample.csv\n",
      "Generate sample for ./data/splice-sites/splice-deep/neg_acc/test.csv => ./data/splice-sites/splice-deep/neg_acc/test_sample.csv\n",
      "Generate sample for ./data/splice-sites/splice-deep/neg_don/train.csv => ./data/splice-sites/splice-deep/neg_don/train_sample.csv\n",
      "Generate sample for ./data/splice-sites/splice-deep/neg_don/validation.csv => ./data/splice-sites/splice-deep/neg_don/validation_sample.csv\n",
      "Generate sample for ./data/splice-sites/splice-deep/neg_don/test.csv => ./data/splice-sites/splice-deep/neg_don/test_sample.csv\n"
     ]
    }
   ],
   "source": [
    "\"\"\"\n",
    "Preparing samples.\n",
    "\"\"\"\n",
    "from data_dir import ss_pos_acc_dir, ss_pos_don_dir, ss_neg_acc_dir, ss_neg_don_dir\n",
    "from data_preparation import generate_sample\n",
    "\n",
    "# First, create samples.\n",
    "for dir in [ss_pos_acc_dir, ss_pos_don_dir, ss_neg_acc_dir, ss_neg_don_dir]:\n",
    "    files = [('train.csv', 'train_sample.csv'), ('validation.csv', 'validation_sample.csv'), ('test.csv', 'test_sample.csv')]\n",
    "    paths = [(\"{}/{}\".format(dir, a[0]), \"{}/{}\".format(dir, a[1])) for a in files]\n",
    "    for path in paths:\n",
    "        generate_sample(path[0], path[1])"
   ]
  },
  {
   "cell_type": "code",
   "execution_count": null,
   "metadata": {},
   "outputs": [],
   "source": [
    "from data_dir import ss_pos_acc_dir, ss_pos_don_dir, ss_neg_acc_dir, ss_neg_don_dir, sample_ss_validation_csv, sample_ss_train_csv, sample_ss_test_csv\n",
    "from data_preparation import merge_csv\n",
    "\n",
    "# Second, merge samples and store in ./sample/splice-sites folder.\n",
    "file_set = [('train_sample.csv', sample_ss_train_csv) , ('validation_sample.csv', sample_ss_validation_csv), ('test_sample.csv', sample_ss_test_csv)]\n",
    "for file in file_set:\n",
    "    dirs = [ss_pos_acc_dir, ss_pos_don_dir, ss_neg_acc_dir, ss_neg_don_dir]\n",
    "    files = [\"{}/{}\".format(dir, file[0]) for dir in dirs]\n",
    "    merge_csv(files, file[1])"
   ]
  }
 ],
 "metadata": {
  "interpreter": {
   "hash": "473c7453bcb969eece5b07ef8b7f234e7c84010927f6bebce35f0aeb1f8c121e"
  },
  "kernelspec": {
   "display_name": "Python 3.9.1 64-bit ('sequence-processing-py39': venv)",
   "language": "python",
   "name": "python3"
  },
  "language_info": {
   "codemirror_mode": {
    "name": "ipython",
    "version": 3
   },
   "file_extension": ".py",
   "mimetype": "text/x-python",
   "name": "python",
   "nbconvert_exporter": "python",
   "pygments_lexer": "ipython3",
   "version": "3.9.1"
  },
  "orig_nbformat": 4
 },
 "nbformat": 4,
 "nbformat_minor": 2
}
