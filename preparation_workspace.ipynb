{
 "cells": [
  {
   "cell_type": "code",
   "execution_count": 2,
   "metadata": {},
   "outputs": [],
   "source": [
    "\"\"\"Create sample gene index for testing.\"\"\"\n",
    "import pandas as pd\n",
    "df = pd.read_csv(\"workspace\\\\seqlab\\\\gene_dir\\\\seqlab.positive.strand\\\\gene_index.csv\")\n",
    "sf = df.sample(frac=0.01)\n",
    "sf.to_csv(\"workspace\\\\seqlab\\\\gene_dir\\\\seqlab.positive.strand\\\\gene_index.sample.csv\", index=False)"
   ]
  },
  {
   "cell_type": "code",
   "execution_count": 6,
   "metadata": {},
   "outputs": [],
   "source": [
    "\"\"\"Make small sample from bundle sample.\"\"\"\n",
    "import pandas as pd\n",
    "df = pd.read_csv(\"workspace\\\\seqlab\\\\by_sequence\\\\seqlab-stride.256\\\\bundle.csv\")\n",
    "sample_df = df.sample(n=10, random_state=1337)\n",
    "sample_df.to_csv(\"workspace\\\\seqlab\\\\by_sequence\\\\seqlab-stride.256\\\\bundle.sample.small.csv\", index=False)"
   ]
  },
  {
   "cell_type": "code",
   "execution_count": 1,
   "metadata": {},
   "outputs": [
    {
     "name": "stdout",
     "output_type": "stream",
     "text": [
      "data\\promoter\\epd\\promoter_train.csv found.\n",
      "data\\promoter\\epd\\promoter_validation.csv found.\n",
      "data\\splice-sites\\splice-deep\\ss_train.csv found.\n",
      "data\\splice-sites\\splice-deep\\ss_validation.csv found.\n",
      "data\\poly-a\\grch38\\polya_train.csv found.\n",
      "data\\poly-a\\grch38\\polya_validation.csv found.\n"
     ]
    },
    {
     "data": {
      "text/plain": [
       "True"
      ]
     },
     "execution_count": 1,
     "metadata": {},
     "output_type": "execute_result"
    }
   ],
   "source": [
    "\"\"\"Merge promoter, ss, and polya (imbalanced data)\"\"\"\n",
    "import os\n",
    "promoter = os.path.join(\"data\", \"promoter\", \"epd\")\n",
    "promoter_train = os.path.join(promoter, \"promoter_train.csv\")\n",
    "promoter_validation = os.path.join(promoter, \"promoter_validation.csv\")\n",
    "ss = os.path.join(\"data\", \"splice-sites\", \"splice-deep\")\n",
    "ss_train = os.path.join(ss, \"ss_train.csv\")\n",
    "ss_validation = os.path.join(ss, \"ss_validation.csv\")\n",
    "polya = os.path.join(\"data\", \"poly-a\", \"grch38\")\n",
    "polya_train = os.path.join(polya, \"polya_train.csv\")\n",
    "polya_validation = os.path.join(polya, \"polya_validation.csv\")\n",
    "\n",
    "for p in [promoter_train, promoter_validation, ss_train, ss_validation, polya_train, polya_validation]:\n",
    "    if os.path.exists(p):\n",
    "        print(f\"{p} found.\")\n",
    "    else:\n",
    "        print(f\"{p} not found.\")\n",
    "\n",
    "from data_preparation import merge_prom_ss_polya_csv\n",
    "\n",
    "\"\"\"Merging training data\"\"\"\n",
    "train_path = os.path.join(\"workspace\", \"mtl\", \"train.csv\")\n",
    "validation_path = os.path.join(\"workspace\", \"mtl\", \"validation.csv\")\n",
    "\n",
    "merge_prom_ss_polya_csv({\n",
    "    \"prom\": [promoter_train],\n",
    "    \"ss\": [ss_train],\n",
    "    \"polya\": [polya_train]\n",
    "}, train_path)\n",
    "\n",
    "merge_prom_ss_polya_csv({\n",
    "    \"prom\": [promoter_validation],\n",
    "    \"ss\": [ss_validation],\n",
    "    \"polya\": [polya_validation]\n",
    "}, validation_path)"
   ]
  },
  {
   "cell_type": "code",
   "execution_count": 2,
   "metadata": {},
   "outputs": [
    {
     "name": "stdout",
     "output_type": "stream",
     "text": [
      "data\\promoter\\epd\\promoter_train.balanced.csv found.\n",
      "data\\promoter\\epd\\promoter_validation.balanced.csv found.\n",
      "data\\splice-sites\\splice-deep\\ss_train.balanced.csv found.\n",
      "data\\splice-sites\\splice-deep\\ss_validation.balanced.csv found.\n",
      "data\\poly-a\\grch38\\polya_train.balanced.csv found.\n",
      "data\\poly-a\\grch38\\polya_validation.balanced.csv found.\n"
     ]
    }
   ],
   "source": [
    "\"\"\"Merge promoter, ss, and polya balanced data\"\"\"\n",
    "import os\n",
    "promoter = os.path.join(\"data\", \"promoter\", \"epd\")\n",
    "promoter_train = os.path.join(promoter, \"promoter_train.balanced.csv\")\n",
    "promoter_validation = os.path.join(promoter, \"promoter_validation.balanced.csv\")\n",
    "ss = os.path.join(\"data\", \"splice-sites\", \"splice-deep\")\n",
    "ss_train = os.path.join(ss, \"ss_train.balanced.csv\")\n",
    "ss_validation = os.path.join(ss, \"ss_validation.balanced.csv\")\n",
    "polya = os.path.join(\"data\", \"poly-a\", \"grch38\")\n",
    "polya_train = os.path.join(polya, \"polya_train.balanced.csv\")\n",
    "polya_validation = os.path.join(polya, \"polya_validation.balanced.csv\")\n",
    "\n",
    "checkpoints = []\n",
    "for p in [promoter_train, promoter_validation, ss_train, ss_validation, polya_train, polya_validation]:\n",
    "    if os.path.exists(p):\n",
    "        print(f\"{p} found.\")\n",
    "        checkpoints.append(True)\n",
    "    else:\n",
    "        print(f\"{p} not found.\")\n",
    "        checkpoints.append(False)\n",
    "\n",
    "if all(checkpoints):\n",
    "    from data_preparation import merge_prom_ss_polya_csv\n",
    "\n",
    "    \"\"\"Merging training data\"\"\"\n",
    "    train_path = os.path.join(\"workspace\", \"mtl\", \"train.balanced.csv\")\n",
    "    validation_path = os.path.join(\"workspace\", \"mtl\", \"validation.balanced.csv\")\n",
    "\n",
    "    merge_prom_ss_polya_csv({\n",
    "        \"prom\": [promoter_train],\n",
    "        \"ss\": [ss_train],\n",
    "        \"polya\": [polya_train]\n",
    "    }, train_path)\n",
    "\n",
    "    merge_prom_ss_polya_csv({\n",
    "        \"prom\": [promoter_validation],\n",
    "        \"ss\": [ss_validation],\n",
    "        \"polya\": [polya_validation]\n",
    "    }, validation_path)"
   ]
  },
  {
   "cell_type": "code",
   "execution_count": 5,
   "metadata": {},
   "outputs": [],
   "source": [
    "\"\"\"Create sample data.\"\"\"\n",
    "import pandas as pd\n",
    "import os\n",
    "pd.read_csv(os.path.join(\"workspace\", \"mtl\", \"train.csv\")).sample(n=10).to_csv(os.path.join(\"workspace\", \"mtl\", \"train.sample.csv\"), index=False)\n",
    "pd.read_csv(os.path.join(\"workspace\", \"mtl\", \"validation.csv\")).sample(n=5).to_csv(os.path.join(\"workspace\", \"mtl\", \"validation.sample.csv\"), index=False)\n"
   ]
  }
 ],
 "metadata": {
  "interpreter": {
   "hash": "473c7453bcb969eece5b07ef8b7f234e7c84010927f6bebce35f0aeb1f8c121e"
  },
  "kernelspec": {
   "display_name": "Python 3.9.1 64-bit ('sequence-processing-py39': venv)",
   "language": "python",
   "name": "python3"
  },
  "language_info": {
   "codemirror_mode": {
    "name": "ipython",
    "version": 3
   },
   "file_extension": ".py",
   "mimetype": "text/x-python",
   "name": "python",
   "nbconvert_exporter": "python",
   "pygments_lexer": "ipython3",
   "version": "3.9.1"
  },
  "orig_nbformat": 4
 },
 "nbformat": 4,
 "nbformat_minor": 2
}
