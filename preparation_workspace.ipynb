{
 "cells": [
  {
   "cell_type": "code",
   "execution_count": 2,
   "metadata": {},
   "outputs": [
    {
     "name": "stdout",
     "output_type": "stream",
     "text": [
      "Generate sample for workspace\\validation.csv => workspace\\validation.sample.csv\r"
     ]
    },
    {
     "data": {
      "text/plain": [
       "'workspace\\\\validation.sample.csv'"
      ]
     },
     "execution_count": 2,
     "metadata": {},
     "output_type": "execute_result"
    }
   ],
   "source": [
    "import os\n",
    "from data_dir import workspace_dir\n",
    "from data_preparation import generate_sample\n",
    "\n",
    "generate_sample(os.path.join(workspace_dir, 'train.csv'), os.path.join(workspace_dir, 'train.sample.csv'), n_sample=10000)\n",
    "generate_sample(os.path.join(workspace_dir, 'validation.csv'), os.path.join(workspace_dir, 'validation.sample.csv'), n_sample=100)"
   ]
  }
 ],
 "metadata": {
  "interpreter": {
   "hash": "473c7453bcb969eece5b07ef8b7f234e7c84010927f6bebce35f0aeb1f8c121e"
  },
  "kernelspec": {
   "display_name": "Python 3.9.1 64-bit ('sequence-processing-py39': venv)",
   "language": "python",
   "name": "python3"
  },
  "language_info": {
   "codemirror_mode": {
    "name": "ipython",
    "version": 3
   },
   "file_extension": ".py",
   "mimetype": "text/x-python",
   "name": "python",
   "nbconvert_exporter": "python",
   "pygments_lexer": "ipython3",
   "version": "3.9.1"
  },
  "orig_nbformat": 4
 },
 "nbformat": 4,
 "nbformat_minor": 2
}
