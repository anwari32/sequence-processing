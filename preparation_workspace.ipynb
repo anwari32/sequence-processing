{
 "cells": [
  {
   "cell_type": "code",
   "execution_count": 2,
   "metadata": {},
   "outputs": [],
   "source": [
    "\"\"\"Create sample gene index for testing.\"\"\"\n",
    "import pandas as pd\n",
    "df = pd.read_csv(\"workspace\\\\seqlab\\\\gene_dir\\\\seqlab.positive.strand\\\\gene_index.csv\")\n",
    "sf = df.sample(frac=0.01)\n",
    "sf.to_csv(\"workspace\\\\seqlab\\\\gene_dir\\\\seqlab.positive.strand\\\\gene_index.sample.csv\", index=False)"
   ]
  },
  {
   "cell_type": "code",
   "execution_count": 6,
   "metadata": {},
   "outputs": [],
   "source": [
    "\"\"\"Make small sample from bundle sample.\"\"\"\n",
    "import pandas as pd\n",
    "df = pd.read_csv(\"workspace\\\\seqlab\\\\by_sequence\\\\seqlab-stride.256\\\\bundle.csv\")\n",
    "sample_df = df.sample(n=10, random_state=1337)\n",
    "sample_df.to_csv(\"workspace\\\\seqlab\\\\by_sequence\\\\seqlab-stride.256\\\\bundle.sample.small.csv\", index=False)"
   ]
  }
 ],
 "metadata": {
  "interpreter": {
   "hash": "473c7453bcb969eece5b07ef8b7f234e7c84010927f6bebce35f0aeb1f8c121e"
  },
  "kernelspec": {
   "display_name": "Python 3.9.1 64-bit ('sequence-processing-py39': venv)",
   "language": "python",
   "name": "python3"
  },
  "language_info": {
   "codemirror_mode": {
    "name": "ipython",
    "version": 3
   },
   "file_extension": ".py",
   "mimetype": "text/x-python",
   "name": "python",
   "nbconvert_exporter": "python",
   "pygments_lexer": "ipython3",
   "version": "3.9.1"
  },
  "orig_nbformat": 4
 },
 "nbformat": 4,
 "nbformat_minor": 2
}
