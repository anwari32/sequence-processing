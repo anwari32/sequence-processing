{
 "cells": [
  {
   "cell_type": "code",
   "execution_count": 3,
   "metadata": {},
   "outputs": [],
   "source": [
    "\"\"\"Create sample gene index for testing.\"\"\"\n",
    "import pandas as pd\n",
    "df = pd.read_csv(\"workspace\\\\seqlab\\\\by_genes\\\\gene_dir\\\\seqlab.strand-positive.kmer.stride-510\\\\gene_index.csv\")\n",
    "sf = df.sample(frac=0.01)\n",
    "sf.to_csv(\"workspace\\\\seqlab\\\\by_genes\\\\gene_dir\\\\seqlab.strand-positive.kmer.stride-510\\\\gene_index.sample.csv\", index=False)"
   ]
  },
  {
   "cell_type": "code",
   "execution_count": 6,
   "metadata": {},
   "outputs": [],
   "source": [
    "\"\"\"Make small sample from bundle sample.\"\"\"\n",
    "import pandas as pd\n",
    "df = pd.read_csv(\"workspace\\\\seqlab\\\\by_sequence\\\\seqlab-stride.256\\\\bundle.csv\")\n",
    "sample_df = df.sample(n=10, random_state=1337)\n",
    "sample_df.to_csv(\"workspace\\\\seqlab\\\\by_sequence\\\\seqlab-stride.256\\\\bundle.sample.small.csv\", index=False)"
   ]
  },
  {
   "cell_type": "code",
   "execution_count": 1,
   "metadata": {},
   "outputs": [
    {
     "name": "stdout",
     "output_type": "stream",
     "text": [
      "data\\promoter\\epd\\promoter_train.csv found.\n",
      "data\\promoter\\epd\\promoter_validation.csv found.\n",
      "data\\splice-sites\\splice-deep\\ss_train.csv found.\n",
      "data\\splice-sites\\splice-deep\\ss_validation.csv found.\n",
      "data\\poly-a\\grch38\\polya_train.csv found.\n",
      "data\\poly-a\\grch38\\polya_validation.csv found.\n"
     ]
    },
    {
     "data": {
      "text/plain": [
       "True"
      ]
     },
     "execution_count": 1,
     "metadata": {},
     "output_type": "execute_result"
    }
   ],
   "source": [
    "\"\"\"Merge promoter, ss, and polya (imbalanced data)\"\"\"\n",
    "import os\n",
    "promoter = os.path.join(\"data\", \"promoter\", \"epd\")\n",
    "promoter_train = os.path.join(promoter, \"promoter_train.csv\")\n",
    "promoter_validation = os.path.join(promoter, \"promoter_validation.csv\")\n",
    "ss = os.path.join(\"data\", \"splice-sites\", \"splice-deep\")\n",
    "ss_train = os.path.join(ss, \"ss_train.csv\")\n",
    "ss_validation = os.path.join(ss, \"ss_validation.csv\")\n",
    "polya = os.path.join(\"data\", \"poly-a\", \"grch38\")\n",
    "polya_train = os.path.join(polya, \"polya_train.csv\")\n",
    "polya_validation = os.path.join(polya, \"polya_validation.csv\")\n",
    "\n",
    "for p in [promoter_train, promoter_validation, ss_train, ss_validation, polya_train, polya_validation]:\n",
    "    if os.path.exists(p):\n",
    "        print(f\"{p} found.\")\n",
    "    else:\n",
    "        print(f\"{p} not found.\")\n",
    "\n",
    "from data_preparation import merge_prom_ss_polya_csv\n",
    "\n",
    "\"\"\"Merging training data\"\"\"\n",
    "train_path = os.path.join(\"workspace\", \"mtl\", \"train.csv\")\n",
    "validation_path = os.path.join(\"workspace\", \"mtl\", \"validation.csv\")\n",
    "\n",
    "merge_prom_ss_polya_csv({\n",
    "    \"prom\": [promoter_train],\n",
    "    \"ss\": [ss_train],\n",
    "    \"polya\": [polya_train]\n",
    "}, train_path)\n",
    "\n",
    "merge_prom_ss_polya_csv({\n",
    "    \"prom\": [promoter_validation],\n",
    "    \"ss\": [ss_validation],\n",
    "    \"polya\": [polya_validation]\n",
    "}, validation_path)"
   ]
  },
  {
   "cell_type": "code",
   "execution_count": 2,
   "metadata": {},
   "outputs": [
    {
     "name": "stdout",
     "output_type": "stream",
     "text": [
      "data\\promoter\\epd\\promoter_train.balanced.csv found.\n",
      "data\\promoter\\epd\\promoter_validation.balanced.csv found.\n",
      "data\\splice-sites\\splice-deep\\ss_train.balanced.csv found.\n",
      "data\\splice-sites\\splice-deep\\ss_validation.balanced.csv found.\n",
      "data\\poly-a\\grch38\\polya_train.balanced.csv found.\n",
      "data\\poly-a\\grch38\\polya_validation.balanced.csv found.\n"
     ]
    }
   ],
   "source": [
    "\"\"\"Merge promoter, ss, and polya balanced data\"\"\"\n",
    "import os\n",
    "promoter = os.path.join(\"data\", \"promoter\", \"epd\")\n",
    "promoter_train = os.path.join(promoter, \"promoter_train.balanced.csv\")\n",
    "promoter_validation = os.path.join(promoter, \"promoter_validation.balanced.csv\")\n",
    "ss = os.path.join(\"data\", \"splice-sites\", \"splice-deep\")\n",
    "ss_train = os.path.join(ss, \"ss_train.balanced.csv\")\n",
    "ss_validation = os.path.join(ss, \"ss_validation.balanced.csv\")\n",
    "polya = os.path.join(\"data\", \"poly-a\", \"grch38\")\n",
    "polya_train = os.path.join(polya, \"polya_train.balanced.csv\")\n",
    "polya_validation = os.path.join(polya, \"polya_validation.balanced.csv\")\n",
    "\n",
    "checkpoints = []\n",
    "for p in [promoter_train, promoter_validation, ss_train, ss_validation, polya_train, polya_validation]:\n",
    "    if os.path.exists(p):\n",
    "        print(f\"{p} found.\")\n",
    "        checkpoints.append(True)\n",
    "    else:\n",
    "        print(f\"{p} not found.\")\n",
    "        checkpoints.append(False)\n",
    "\n",
    "if all(checkpoints):\n",
    "    from data_preparation import merge_prom_ss_polya_csv\n",
    "\n",
    "    \"\"\"Merging training data\"\"\"\n",
    "    train_path = os.path.join(\"workspace\", \"mtl\", \"train.balanced.csv\")\n",
    "    validation_path = os.path.join(\"workspace\", \"mtl\", \"validation.balanced.csv\")\n",
    "\n",
    "    merge_prom_ss_polya_csv({\n",
    "        \"prom\": [promoter_train],\n",
    "        \"ss\": [ss_train],\n",
    "        \"polya\": [polya_train]\n",
    "    }, train_path)\n",
    "\n",
    "    merge_prom_ss_polya_csv({\n",
    "        \"prom\": [promoter_validation],\n",
    "        \"ss\": [ss_validation],\n",
    "        \"polya\": [polya_validation]\n",
    "    }, validation_path)"
   ]
  },
  {
   "cell_type": "code",
   "execution_count": 5,
   "metadata": {},
   "outputs": [],
   "source": [
    "\"\"\"Create sample data.\"\"\"\n",
    "import pandas as pd\n",
    "import os\n",
    "pd.read_csv(os.path.join(\"workspace\", \"mtl\", \"train.csv\")).sample(n=10).to_csv(os.path.join(\"workspace\", \"mtl\", \"train.sample.csv\"), index=False)\n",
    "pd.read_csv(os.path.join(\"workspace\", \"mtl\", \"validation.csv\")).sample(n=5).to_csv(os.path.join(\"workspace\", \"mtl\", \"validation.sample.csv\"), index=False)\n"
   ]
  },
  {
   "cell_type": "code",
   "execution_count": 1,
   "metadata": {},
   "outputs": [
    {
     "name": "stdout",
     "output_type": "stream",
     "text": [
      "Working in workspace\\mtl\\original\\train.balanced.csv\n",
      "Working in workspace\\mtl\\original\\train.csv\n",
      "Working in workspace\\mtl\\original\\train.sample.csv\n",
      "Working in workspace\\mtl\\original\\train.sample.long.csv\n",
      "Working in workspace\\mtl\\original\\validation.balanced.csv\n",
      "Working in workspace\\mtl\\original\\validation.csv\n",
      "Working in workspace\\mtl\\original\\validation.sample.csv\n"
     ]
    }
   ],
   "source": [
    "import os\n",
    "import pandas as pd\n",
    "from data_preparation import str_kmer\n",
    "_columns = [\"sequence\", \"label_prom\", \"label_ss\", \"label_polya\"]\n",
    "src_paths = [\n",
    "    os.path.join(\"workspace\", \"mtl\", \"original\", p) for p in [\n",
    "        'train.balanced.csv',\n",
    "        'train.csv',\n",
    "        'train.sample.csv',\n",
    "        'train.sample.long.csv',\n",
    "        'validation.balanced.csv',\n",
    "        'validation.csv',\n",
    "        'validation.sample.csv'\n",
    "    ]\n",
    "]\n",
    "\n",
    "for src_path in src_paths:\n",
    "    print(f\"Working in {src_path}\")\n",
    "    src_df = pd.read_csv(src_path)\n",
    "    # target_df = pd.DataFrame(columns=_columns)\n",
    "    dest_path = os.path.join(\"workspace\", \"mtl\", os.path.basename(src_path))\n",
    "    if os.path.exists(dest_path):\n",
    "        os.remove(dest_path)\n",
    "    dest = open(dest_path, \"x\")\n",
    "    dest.write(f\"{','.join(_columns)}\\n\")\n",
    "    for i, r in src_df.iterrows():\n",
    "        seq_kmer = str_kmer(r[\"sequence\"], 3)\n",
    "        #target_df = pd.concat([target_df, pd.DataFrame([\n",
    "        #    [seq_kmer, r[\"label_prom\"], r[\"label_ss\"], r[\"label_polya\"]]\n",
    "        #], columns=_columns)])\n",
    "        dest.write(f\"{seq_kmer},{r['label_prom']},{r['label_ss']},{r['label_polya']}\\n\")\n",
    "    #target_df.to_csv(os.path.join(\"workspace\", \"mtl\", os.path.basename(src_path)), index=False)\n",
    "    dest.close()\n"
   ]
<<<<<<< Updated upstream
=======
  },
  {
   "cell_type": "code",
   "execution_count": 3,
   "metadata": {},
   "outputs": [
    {
     "name": "stdout",
     "output_type": "stream",
     "text": [
      "data\\promoter\\epd\\promoter_train.csv found.\n",
      "data\\promoter\\epd\\promoter_validation.csv found.\n",
      "data\\splice-sites\\splice-deep\\ss_train.csv found.\n",
      "data\\splice-sites\\splice-deep\\ss_validation.csv found.\n",
      "data\\poly-a\\grch38\\polya_train.csv found.\n",
      "data\\poly-a\\grch38\\polya_validation.csv found.\n"
     ]
    }
   ],
   "source": [
    "\"\"\"Generate imbalanced data\"\"\"\n",
    "import os\n",
    "promoter = os.path.join(\"data\", \"promoter\", \"epd\")\n",
    "promoter_train = os.path.join(promoter, \"promoter_train.csv\")\n",
    "promoter_validation = os.path.join(promoter, \"promoter_validation.csv\")\n",
    "ss = os.path.join(\"data\", \"splice-sites\", \"splice-deep\")\n",
    "ss_train = os.path.join(ss, \"ss_train.csv\")\n",
    "ss_validation = os.path.join(ss, \"ss_validation.csv\")\n",
    "polya = os.path.join(\"data\", \"poly-a\", \"grch38\")\n",
    "polya_train = os.path.join(polya, \"polya_train.csv\")\n",
    "polya_validation = os.path.join(polya, \"polya_validation.csv\")\n",
    "\n",
    "checkpoints = []\n",
    "for p in [promoter_train, promoter_validation, ss_train, ss_validation, polya_train, polya_validation]:\n",
    "    if os.path.exists(p):\n",
    "        print(f\"{p} found.\")\n",
    "        checkpoints.append(True)\n",
    "    else:\n",
    "        print(f\"{p} not found.\")\n",
    "        checkpoints.append(False)\n",
    "\n",
    "if all(checkpoints):\n",
    "    from data_preparation import merge_prom_ss_polya_csv\n",
    "\n",
    "    \"\"\"Merging training data\"\"\"\n",
    "    train_path = os.path.join(\"workspace\", \"mtl\", \"imbalanced\", \"train.csv\")\n",
    "    validation_path = os.path.join(\"workspace\", \"mtl\", \"imbalanced\", \"validation.csv\")\n",
    "\n",
    "    merge_prom_ss_polya_csv({\n",
    "        \"prom\": [promoter_train],\n",
    "        \"ss\": [ss_train],\n",
    "        \"polya\": [polya_train]\n",
    "    }, train_path)\n",
    "\n",
    "    merge_prom_ss_polya_csv({\n",
    "        \"prom\": [promoter_validation],\n",
    "        \"ss\": [ss_validation],\n",
    "        \"polya\": [polya_validation]\n",
    "    }, validation_path)"
   ]
  },
  {
   "cell_type": "code",
   "execution_count": null,
   "metadata": {},
   "outputs": [],
   "source": [
    "\"\"\"\n",
    "Generate complete data.\n",
    "1. promoter (positive, negative, and generated negative without balancing)\n",
    "2. splice site (positive and negative, without balancing)\n",
    "3. polyA (positve and negative)\n",
    "\"\"\""
   ]
  },
  {
   "cell_type": "code",
   "execution_count": 2,
   "metadata": {},
   "outputs": [],
   "source": [
    "\"\"\"\n",
    "Augment MTL training data with generated negative promoter.\n",
    "\"\"\"\n",
    "import os \n",
    "\n",
    "# Generated negative promoter is in CSV with 'sequence' and 'label' columns.\n",
    "# Need to convert the column format into\n",
    "# Convert augment into three labels as in (sequence,label_prom,label_ss,label_polya) along the way.\n",
    "\n",
    "import pandas as pd\n",
    "\n",
    "train_df = pd.read_csv(os.path.join(\"workspace\", \"mtl\", \"balanced\", \"train.csv\")) # Define the path.\n",
    "train_augment_df = pd.read_csv(os.path.join(\"data\", \"promoter\", \"epd\", \"human_generated_non_tata.train.csv\")) # Define the path.\n",
    "train_augment_df.rename({\"label\":\"label_prom\"})\n",
    "train_augment_df[\"label_ss\"] = 0\n",
    "train_augment_df[\"label_polya\"] = 0\n",
    "\n",
    "train_df = pd.concat([train_df, train_df])\n",
    "train_dest = os.path.join(\"workspace\", \"mtl\", \"balanced_prom_augmented\", \"train.csv\")\n",
    "train_df.to_csv(train_dest, index=False)\n",
    "\n",
    "validation_df = pd.read_csv(os.path.join(\"workspace\", \"mtl\", \"balanced\", \"validation.csv\")) # Define the path.\n",
    "validation_augment_df = pd.read_csv(os.path.join(\"data\", \"promoter\", \"epd\", \"human_generated_non_tata.validation.csv\")) # Define the path.\n",
    "validation_augment_df.rename({\"label\":\"label_prom\"})\n",
    "validation_augment_df[\"label_ss\"] = 0\n",
    "validation_augment_df[\"label_polya\"] = 0\n",
    "\n",
    "validation_df = pd.concat([validation_df, validation_augment_df])\n",
    "validation_dest = os.path.join(\"workspace\", \"mtl\", \"balanced_prom_augmented\", \"validation.csv\")\n",
    "validation_df.to_csv(validation_dest, index=False)\n"
   ]
  },
  {
   "cell_type": "code",
   "execution_count": 3,
   "metadata": {},
   "outputs": [],
   "source": [
    "# Convert all sequences in multiple CSV files into kmer form.\n",
    "import os\n",
    "path = os.path.join(\"workspace\", \"mtl\")\n",
    "paths = [\n",
    "    os.path.join(path, \"balanced\"),\n",
    "    os.path.join(path, \"balanced_prom_augmented\"),\n",
    "    os.path.join(path, \"imbalanced\"),\n",
    "]\n",
    "\n",
    "from data_preparation import str_kmer\n",
    "import pandas as pd\n",
    "for p in paths:\n",
    "    for t in [\"train\", \"validation\"]:\n",
    "        src_df = pd.read_csv(os.path.join(p, f\"{t}.csv\"))\n",
    "        dest_df = src_df.copy(deep=True)\n",
    "        dest_df = dest_df[\"sequence\"].apply(lambda x: str_kmer(x, 3))\n",
    "        dest_df.to_csv(os.path.join(p, f\"{t}.kmer.csv\"), index=False)\n",
    "        "
   ]
>>>>>>> Stashed changes
  }
 ],
 "metadata": {
  "interpreter": {
   "hash": "1bcc05615a70b396b2914747c544672e77157727153b1cb6572b3ac9e1c1c348"
  },
  "kernelspec": {
   "display_name": "Python 3.9.1 64-bit ('sequence-processing-py39': venv)",
   "language": "python",
   "name": "python3"
  },
  "language_info": {
   "codemirror_mode": {
    "name": "ipython",
    "version": 3
   },
   "file_extension": ".py",
   "mimetype": "text/x-python",
   "name": "python",
   "nbconvert_exporter": "python",
   "pygments_lexer": "ipython3",
   "version": "3.9.1"
  },
  "orig_nbformat": 4
 },
 "nbformat": 4,
 "nbformat_minor": 2
}
