{
 "cells": [
  {
   "cell_type": "code",
   "execution_count": 3,
   "metadata": {},
   "outputs": [],
   "source": [
    "\"\"\"Create sample gene index for testing.\"\"\"\n",
    "import pandas as pd\n",
    "df = pd.read_csv(\"workspace\\\\seqlab\\\\by_genes\\\\gene_dir\\\\seqlab.strand-positive.kmer.stride-510\\\\gene_index.csv\")\n",
    "sf = df.sample(frac=0.01)\n",
    "sf.to_csv(\"workspace\\\\seqlab\\\\by_genes\\\\gene_dir\\\\seqlab.strand-positive.kmer.stride-510\\\\gene_index.sample.csv\", index=False)"
   ]
  },
  {
   "cell_type": "code",
   "execution_count": 6,
   "metadata": {},
   "outputs": [],
   "source": [
    "\"\"\"Make small sample from bundle sample.\"\"\"\n",
    "import pandas as pd\n",
    "df = pd.read_csv(\"workspace\\\\seqlab\\\\by_sequence\\\\seqlab-stride.256\\\\bundle.csv\")\n",
    "sample_df = df.sample(n=10, random_state=1337)\n",
    "sample_df.to_csv(\"workspace\\\\seqlab\\\\by_sequence\\\\seqlab-stride.256\\\\bundle.sample.small.csv\", index=False)"
   ]
  },
  {
   "cell_type": "code",
   "execution_count": 1,
   "metadata": {},
   "outputs": [
    {
     "name": "stdout",
     "output_type": "stream",
     "text": [
      "data\\promoter\\epd\\promoter_train.csv found.\n",
      "data\\promoter\\epd\\promoter_validation.csv found.\n",
      "data\\splice-sites\\splice-deep\\ss_train.csv found.\n",
      "data\\splice-sites\\splice-deep\\ss_validation.csv found.\n",
      "data\\poly-a\\grch38\\polya_train.csv found.\n",
      "data\\poly-a\\grch38\\polya_validation.csv found.\n"
     ]
    },
    {
     "data": {
      "text/plain": [
       "True"
      ]
     },
     "execution_count": 1,
     "metadata": {},
     "output_type": "execute_result"
    }
   ],
   "source": [
    "\"\"\"Merge promoter, ss, and polya (imbalanced data)\"\"\"\n",
    "import os\n",
    "promoter = os.path.join(\"data\", \"promoter\", \"epd\")\n",
    "promoter_train = os.path.join(promoter, \"promoter_train.csv\")\n",
    "promoter_validation = os.path.join(promoter, \"promoter_validation.csv\")\n",
    "ss = os.path.join(\"data\", \"splice-sites\", \"splice-deep\")\n",
    "ss_train = os.path.join(ss, \"ss_train.csv\")\n",
    "ss_validation = os.path.join(ss, \"ss_validation.csv\")\n",
    "polya = os.path.join(\"data\", \"poly-a\", \"grch38\")\n",
    "polya_train = os.path.join(polya, \"polya_train.csv\")\n",
    "polya_validation = os.path.join(polya, \"polya_validation.csv\")\n",
    "\n",
    "for p in [promoter_train, promoter_validation, ss_train, ss_validation, polya_train, polya_validation]:\n",
    "    if os.path.exists(p):\n",
    "        print(f\"{p} found.\")\n",
    "    else:\n",
    "        print(f\"{p} not found.\")\n",
    "\n",
    "from data_preparation import merge_prom_ss_polya_csv\n",
    "\n",
    "\"\"\"Merging training data\"\"\"\n",
    "train_path = os.path.join(\"workspace\", \"mtl\", \"train.csv\")\n",
    "validation_path = os.path.join(\"workspace\", \"mtl\", \"validation.csv\")\n",
    "\n",
    "merge_prom_ss_polya_csv({\n",
    "    \"prom\": [promoter_train],\n",
    "    \"ss\": [ss_train],\n",
    "    \"polya\": [polya_train]\n",
    "}, train_path)\n",
    "\n",
    "merge_prom_ss_polya_csv({\n",
    "    \"prom\": [promoter_validation],\n",
    "    \"ss\": [ss_validation],\n",
    "    \"polya\": [polya_validation]\n",
    "}, validation_path)"
   ]
  },
  {
   "cell_type": "code",
   "execution_count": 2,
   "metadata": {},
   "outputs": [
    {
     "name": "stdout",
     "output_type": "stream",
     "text": [
      "data\\promoter\\epd\\promoter_train.balanced.csv found.\n",
      "data\\promoter\\epd\\promoter_validation.balanced.csv found.\n",
      "data\\splice-sites\\splice-deep\\ss_train.balanced.csv found.\n",
      "data\\splice-sites\\splice-deep\\ss_validation.balanced.csv found.\n",
      "data\\poly-a\\grch38\\polya_train.balanced.csv found.\n",
      "data\\poly-a\\grch38\\polya_validation.balanced.csv found.\n"
     ]
    }
   ],
   "source": [
    "\"\"\"Merge promoter, ss, and polya balanced data\"\"\"\n",
    "import os\n",
    "promoter = os.path.join(\"data\", \"promoter\", \"epd\")\n",
    "promoter_train = os.path.join(promoter, \"promoter_train.balanced.csv\")\n",
    "promoter_validation = os.path.join(promoter, \"promoter_validation.balanced.csv\")\n",
    "ss = os.path.join(\"data\", \"splice-sites\", \"splice-deep\")\n",
    "ss_train = os.path.join(ss, \"ss_train.balanced.csv\")\n",
    "ss_validation = os.path.join(ss, \"ss_validation.balanced.csv\")\n",
    "polya = os.path.join(\"data\", \"poly-a\", \"grch38\")\n",
    "polya_train = os.path.join(polya, \"polya_train.balanced.csv\")\n",
    "polya_validation = os.path.join(polya, \"polya_validation.balanced.csv\")\n",
    "\n",
    "checkpoints = []\n",
    "for p in [promoter_train, promoter_validation, ss_train, ss_validation, polya_train, polya_validation]:\n",
    "    if os.path.exists(p):\n",
    "        print(f\"{p} found.\")\n",
    "        checkpoints.append(True)\n",
    "    else:\n",
    "        print(f\"{p} not found.\")\n",
    "        checkpoints.append(False)\n",
    "\n",
    "if all(checkpoints):\n",
    "    from data_preparation import merge_prom_ss_polya_csv\n",
    "\n",
    "    \"\"\"Merging training data\"\"\"\n",
    "    train_path = os.path.join(\"workspace\", \"mtl\", \"train.balanced.csv\")\n",
    "    validation_path = os.path.join(\"workspace\", \"mtl\", \"validation.balanced.csv\")\n",
    "\n",
    "    merge_prom_ss_polya_csv({\n",
    "        \"prom\": [promoter_train],\n",
    "        \"ss\": [ss_train],\n",
    "        \"polya\": [polya_train]\n",
    "    }, train_path)\n",
    "\n",
    "    merge_prom_ss_polya_csv({\n",
    "        \"prom\": [promoter_validation],\n",
    "        \"ss\": [ss_validation],\n",
    "        \"polya\": [polya_validation]\n",
    "    }, validation_path)"
   ]
  },
  {
   "cell_type": "code",
   "execution_count": 5,
   "metadata": {},
   "outputs": [],
   "source": [
    "\"\"\"Create sample data.\"\"\"\n",
    "import pandas as pd\n",
    "import os\n",
    "pd.read_csv(os.path.join(\"workspace\", \"mtl\", \"train.csv\")).sample(n=10).to_csv(os.path.join(\"workspace\", \"mtl\", \"train.sample.csv\"), index=False)\n",
    "pd.read_csv(os.path.join(\"workspace\", \"mtl\", \"validation.csv\")).sample(n=5).to_csv(os.path.join(\"workspace\", \"mtl\", \"validation.sample.csv\"), index=False)\n"
   ]
  },
  {
   "cell_type": "code",
   "execution_count": 1,
   "metadata": {},
   "outputs": [
    {
     "name": "stdout",
     "output_type": "stream",
     "text": [
      "Working in workspace\\mtl\\original\\train.balanced.csv\n",
      "Working in workspace\\mtl\\original\\train.csv\n",
      "Working in workspace\\mtl\\original\\train.sample.csv\n",
      "Working in workspace\\mtl\\original\\train.sample.long.csv\n",
      "Working in workspace\\mtl\\original\\validation.balanced.csv\n",
      "Working in workspace\\mtl\\original\\validation.csv\n",
      "Working in workspace\\mtl\\original\\validation.sample.csv\n"
     ]
    }
   ],
   "source": [
    "import os\n",
    "import pandas as pd\n",
    "from data_preparation import str_kmer\n",
    "_columns = [\"sequence\", \"label_prom\", \"label_ss\", \"label_polya\"]\n",
    "src_paths = [\n",
    "    os.path.join(\"workspace\", \"mtl\", \"original\", p) for p in [\n",
    "        'train.balanced.csv',\n",
    "        'train.csv',\n",
    "        'train.sample.csv',\n",
    "        'train.sample.long.csv',\n",
    "        'validation.balanced.csv',\n",
    "        'validation.csv',\n",
    "        'validation.sample.csv'\n",
    "    ]\n",
    "]\n",
    "\n",
    "for src_path in src_paths:\n",
    "    print(f\"Working in {src_path}\")\n",
    "    src_df = pd.read_csv(src_path)\n",
    "    # target_df = pd.DataFrame(columns=_columns)\n",
    "    dest_path = os.path.join(\"workspace\", \"mtl\", os.path.basename(src_path))\n",
    "    if os.path.exists(dest_path):\n",
    "        os.remove(dest_path)\n",
    "    dest = open(dest_path, \"x\")\n",
    "    dest.write(f\"{','.join(_columns)}\\n\")\n",
    "    for i, r in src_df.iterrows():\n",
    "        seq_kmer = str_kmer(r[\"sequence\"], 3)\n",
    "        #target_df = pd.concat([target_df, pd.DataFrame([\n",
    "        #    [seq_kmer, r[\"label_prom\"], r[\"label_ss\"], r[\"label_polya\"]]\n",
    "        #], columns=_columns)])\n",
    "        dest.write(f\"{seq_kmer},{r['label_prom']},{r['label_ss']},{r['label_polya']}\\n\")\n",
    "    #target_df.to_csv(os.path.join(\"workspace\", \"mtl\", os.path.basename(src_path)), index=False)\n",
    "    dest.close()\n"
   ]
  },
  {
   "cell_type": "code",
   "execution_count": 4,
   "metadata": {},
   "outputs": [],
   "source": [
    "# Generate 25% of training data and validation data.\n",
    "import os\n",
    "import pandas as pd\n",
    "pathdir = os.path.join(\"workspace\", \"mtl\", \"balanced\") \n",
    "files = [\"train\", \"validation\"]\n",
    "files = [os.path.join(pathdir, a) for a in files]\n",
    "for f in files:\n",
    "    df = pd.read_csv(f\"{f}.csv\")\n",
    "    quartile = df.sample(frac=0.25, random_state=1337)\n",
    "    quartile.to_csv(f\"{f}.25.csv\", index=False)"
   ]
  },
  {
   "cell_type": "code",
   "execution_count": 1,
   "metadata": {},
   "outputs": [],
   "source": [
    "# Generate 25% of training data and validation data.\n",
    "import os\n",
    "import pandas as pd\n",
    "pathdir = os.path.join(\"workspace\", \"mtl\", \"balanced\") \n",
    "files = [\"train\", \"validation\"]\n",
    "files = [os.path.join(pathdir, a) for a in files]\n",
    "for f in files:\n",
    "    df = pd.read_csv(f\"{f}.csv\")\n",
    "    quartile = df.sample(frac=0.1, random_state=1337)\n",
    "    quartile.to_csv(f\"{f}.10.csv\", index=False)"
   ]
  },
  {
   "cell_type": "code",
   "execution_count": null,
   "metadata": {},
   "outputs": [],
   "source": [
    "# Generate 25% of training data and validation data.\n",
    "import os\n",
    "import pandas as pd\n",
    "pathdir = os.path.join(\"workspace\", \"seqlab\", \"seqlab.strand-positive.kmer.stride-510.from-index\") \n",
    "files = [\"gene_train_bundle\", \"gene_validation_bundle\", \"gene_test_bundle\"]\n",
    "files = [os.path.join(pathdir, a) for a in files]\n",
    "for f in files:\n",
    "    df = pd.read_csv(f\"{f}.csv\")\n",
    "    quartile = df.sample(frac=0.1, random_state=1337)\n",
    "    quartile.to_csv(f\"{f}.10.csv\", index=False)"
   ]
  }
 ],
 "metadata": {
  "interpreter": {
   "hash": "14ae8cb2141f3f34f4e0523006ff2d6cb0f7956c0f094e5497e312072e4d0d3c"
  },
  "kernelspec": {
   "display_name": "Python 3.7.9 64-bit",
   "language": "python",
   "name": "python3"
  },
  "language_info": {
   "codemirror_mode": {
    "name": "ipython",
    "version": 3
   },
   "file_extension": ".py",
   "mimetype": "text/x-python",
   "name": "python",
   "nbconvert_exporter": "python",
   "pygments_lexer": "ipython3",
   "version": "3.7.9"
  },
  "orig_nbformat": 4
 },
 "nbformat": 4,
 "nbformat_minor": 2
}
