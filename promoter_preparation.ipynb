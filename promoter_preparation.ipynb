{
 "cells": [
  {
   "cell_type": "code",
   "execution_count": 7,
   "metadata": {},
   "outputs": [],
   "source": [
    "data_dir = './data'\n",
    "epd_dir = '{}/epd'.format(data_dir)\n",
    "epd_tata = '{}/human_tata.fasta'.format(epd_dir)\n",
    "epd_pos_tata = '{}/human_tata.csv'.format(epd_dir)\n",
    "epd_neg_tata = '{}/human_non_tata.csv'.format(epd_dir)\n",
    "prom_dataset_dir = './dataset/promoter'\n",
    "prom_dataset_pos_dir = '{}/pos_human_prom_dataset'.format(prom_dataset_dir)\n",
    "prom_dataset_neg_dir = '{}/neg_human_prom_dataset'.format(prom_dataset_dir)"
   ]
  },
  {
   "cell_type": "code",
   "execution_count": 3,
   "metadata": {},
   "outputs": [],
   "source": [
    "\"\"\"\n",
    "Generate positive and negative dataset.\n",
    "Still not expanded.\n",
    "\"\"\"\n",
    "from data_preparation import generate_csv_from_fasta, generate_shuffled_data\n",
    "\n",
    "generate_csv_from_fasta(epd_tata, epd_pos_tata, 1)\n",
    "generate_shuffled_data(epd_tata, epd_neg_tata, 0, chunk_size=20)"
   ]
  },
  {
   "cell_type": "code",
   "execution_count": 8,
   "metadata": {},
   "outputs": [
    {
     "data": {
      "text/plain": [
       "['./dataset/promoter/neg_human_prom_dataset/train.csv',\n",
       " './dataset/promoter/neg_human_prom_dataset/validation.csv',\n",
       " './dataset/promoter/neg_human_prom_dataset/test.csv']"
      ]
     },
     "execution_count": 8,
     "metadata": {},
     "output_type": "execute_result"
    }
   ],
   "source": [
    "\"\"\"\n",
    "Generate train, validation, and train from both positive and negative dataset.\n",
    "\"\"\"\n",
    "from data_preparation import generate_datasets\n",
    "\n",
    "generate_datasets(epd_pos_tata, prom_dataset_pos_dir)\n",
    "generate_datasets(epd_neg_tata, prom_dataset_neg_dir)"
   ]
  },
  {
   "cell_type": "code",
   "execution_count": null,
   "metadata": {},
   "outputs": [],
   "source": [
    "\"\"\"\n",
    "Generate expanded datasets.\n",
    "\"\"\"\n",
    "\n",
    "dataset_dir = './dataset'\n",
    "prom_dataset_dir = '{}/promoter'.format(dataset_dir)\n",
    "pos_prom_dataset_dir = '{}/pos_human_prom_dataset'.format(prom_dataset_dir)\n",
    "neg_prom_dataset_dir = '{}/neg_human_prom_dataset'.format(prom_dataset_dir)\n",
    "\n",
    "pos_prom_train_csv = '{}/train.csv'.format(pos_prom_dataset_dir)\n",
    "neg_prom_train_csv = '{}/train.csv'.format(neg_prom_dataset_dir)\n",
    "pos_prom_valid_csv = '{}/validation.csv'.format(pos_prom_dataset_dir)\n",
    "neg_prom_valid_csv = '{}/validation.csv'.format(neg_prom_dataset_dir)\n",
    "pos_prom_test_csv = '{}/test.csv'.format(pos_prom_dataset_dir)\n",
    "neg_prom_test_csv = '{}/test.csv'.format(neg_prom_dataset_dir)\n",
    "\n",
    "pos_prom_train_expanded_csv = '{}/train_expanded.csv'.format(pos_prom_dataset_dir)\n",
    "neg_prom_train_expanded_csv = '{}/train_expanded.csv'.format(neg_prom_dataset_dir)\n",
    "pos_prom_valid_expanded_csv = '{}/valid_expanded.csv'.format(pos_prom_dataset_dir)\n",
    "neg_prom_valid_expanded_csv = '{}/valid_expanded.csv'.format(neg_prom_dataset_dir)\n",
    "pos_prom_test_expanded_csv = '{}/test_expanded.csv'.format(pos_prom_dataset_dir)\n",
    "neg_prom_test_expanded_csv = '{}/test_expanded.csv'.format(neg_prom_dataset_dir)\n",
    "\n",
    "pos_prom_train_sample_csv = '{}/train_sample.csv'.format(pos_prom_dataset_dir)\n",
    "neg_prom_train_sample_csv = '{}/train_sample.csv'.format(neg_prom_dataset_dir)\n",
    "pos_prom_valid_sample_csv = '{}/validation_sample.csv'.format(pos_prom_dataset_dir)\n",
    "neg_prom_valid_sample_csv = '{}/validation_sample.csv'.format(neg_prom_dataset_dir)\n",
    "pos_prom_test_sample_csv = '{}/test_sample.csv'.format(pos_prom_dataset_dir)\n",
    "neg_prom_test_sample_csv = '{}/test_sample.csv'.format(neg_prom_dataset_dir)\n",
    "\n",
    "from data_preparation import generate_sample\n",
    "\n",
    "print(generate_sample(pos_prom_train_csv, pos_prom_train_sample_csv, n_sample=80) == pos_prom_train_sample_csv)\n",
    "print(generate_sample(neg_prom_train_csv, neg_prom_train_sample_csv, n_sample=80) == neg_prom_train_sample_csv)\n",
    "print(generate_sample(pos_prom_valid_csv, pos_prom_valid_sample_csv, n_sample=10) == pos_prom_valid_sample_csv)\n",
    "print(generate_sample(neg_prom_valid_csv, neg_prom_valid_sample_csv, n_sample=10) == neg_prom_valid_sample_csv)\n",
    "print(generate_sample(pos_prom_test_csv, pos_prom_test_sample_csv, n_sample=10) == pos_prom_test_sample_csv)\n",
    "print(generate_sample(neg_prom_test_csv, neg_prom_test_sample_csv, n_sample=10) == neg_prom_test_sample_csv)"
   ]
  },
  {
   "cell_type": "code",
   "execution_count": null,
   "metadata": {},
   "outputs": [],
   "source": [
    "\"\"\"\n",
    "Generate expanded samples with sliding window = 1.\n",
    "\"\"\"\n",
    "from data_preparation import expand_sequence_csv\n",
    "\n",
    "print(expand_sequence_csv(pos_prom_train_sample_csv, pos_prom_train_expanded_csv, 512))\n",
    "print(expand_sequence_csv(neg_prom_train_sample_csv, neg_prom_train_expanded_csv, 512))\n",
    "print(expand_sequence_csv(pos_prom_train_sample_csv, pos_prom_valid_expanded_csv, 512))\n",
    "print(expand_sequence_csv(neg_prom_train_sample_csv, neg_prom_valid_expanded_csv, 512))\n",
    "print(expand_sequence_csv(pos_prom_train_sample_csv, pos_prom_test_expanded_csv, 512))\n",
    "print(expand_sequence_csv(neg_prom_train_sample_csv, neg_prom_test_expanded_csv, 512))"
   ]
  }
 ],
 "metadata": {
  "interpreter": {
   "hash": "7170ee380771f2003055f3cee3e2e4dd0d81d1dac73a8c82197236b1572f37c2"
  },
  "kernelspec": {
   "display_name": "Python 3.7.9 64-bit ('sequence-processing': venv)",
   "language": "python",
   "name": "python3"
  },
  "language_info": {
   "codemirror_mode": {
    "name": "ipython",
    "version": 3
   },
   "file_extension": ".py",
   "mimetype": "text/x-python",
   "name": "python",
   "nbconvert_exporter": "python",
   "pygments_lexer": "ipython3",
   "version": "3.7.9"
  },
  "orig_nbformat": 4
 },
 "nbformat": 4,
 "nbformat_minor": 2
}
