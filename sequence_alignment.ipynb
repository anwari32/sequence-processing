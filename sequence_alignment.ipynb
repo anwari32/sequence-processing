{
 "cells": [
  {
   "cell_type": "code",
   "execution_count": 14,
   "metadata": {},
   "outputs": [
    {
     "data": {
      "image/png": "[encoded data removed]",
      "text/plain": [
       "<Figure size 432x288 with 1 Axes>"
      ]
     },
     "metadata": {
      "needs_background": "light"
     },
     "output_type": "display_data"
    }
   ],
   "source": [
    "from Bio import Align\n",
    "import os\n",
    "import pandas as pd\n",
    "training_data = os.path.join(\"workspace\", \"seqlab-latest\", \"train.csv\")\n",
    "prediction_data = os.path.join(\"prediction\", \"log\", \"prediction_log_complete.csv\")\n",
    "\n",
    "ranges = [\n",
    "    (2.0, 1.0),\n",
    "    (1.0, 0.9),\n",
    "    (0.9, 0.8),\n",
    "    (0.8, 0.7),\n",
    "    (0.7, 0.6),\n",
    "    (0.6, 0.5),\n",
    "    (0.5, 0.4),\n",
    "    (0.4, 0.3),\n",
    "    (0.3, 0.2),\n",
    "    (0.2, 0.1),\n",
    "    (0.1, 0.0),\n",
    "]\n",
    "\n",
    "mainframe = pd.read_csv(prediction_data)\n",
    "dataframes = [mainframe[(mainframe[\"avg_f1_score\"] < r[0]) &(mainframe[\"avg_f1_score\"] >= r[1])] for r in ranges]\n",
    "\n",
    "import seaborn as sns\n",
    "import matplotlib.pyplot as plt\n",
    "\n",
    "cf_titles = [f\"{r[1]} <= Avg. F1 < {r[0]}\" for r in ranges]\n",
    "cf_titles[0] = \"Avg. F1 = 1\"\n",
    "pop_df = pd.DataFrame(data={\n",
    "    \"titles\": cf_titles,\n",
    "    \"populations\": [d.shape[0] for d in dataframes]\n",
    "})\n",
    "ax = sns.barplot(data=pop_df, x=\"titles\", y=\"populations\")\n",
    "ax.set(xlabel=\"Kelompok F1 Score\", ylabel=\"Jumlah Data\")\n",
    "ax.set_xticklabels(pop_df[\"titles\"], rotation=45, ha=\"right\")\n",
    "\n",
    "for i in ax.containers:\n",
    "    ax.bar_label(i,)\n",
    "\n",
    "# plt.suptitle(\"Population Grouped by F1 Score\")\n",
    "plt.show()"
   ]
  },
  {
   "cell_type": "code",
   "execution_count": 22,
   "metadata": {},
   "outputs": [
    {
     "name": "stdout",
     "output_type": "stream",
     "text": [
      "True\n",
      "10\n"
     ]
    },
    {
     "name": "stderr",
     "output_type": "stream",
     "text": [
      "Computing Seq 1:   0%|          | 0/10 [32:15<?, ?it/s]\n"
     ]
    },
    {
     "ename": "KeyboardInterrupt",
     "evalue": "",
     "output_type": "error",
     "traceback": [
      "\u001b[1;31m---------------------------------------------------------------------------\u001b[0m",
      "\u001b[1;31mKeyboardInterrupt\u001b[0m                         Traceback (most recent call last)",
      "\u001b[1;32m~\\AppData\\Local\\Temp/ipykernel_10600/3122382528.py\u001b[0m in \u001b[0;36m<module>\u001b[1;34m\u001b[0m\n\u001b[0;32m     23\u001b[0m         \u001b[1;32mfor\u001b[0m \u001b[0mts\u001b[0m \u001b[1;32min\u001b[0m \u001b[0mtqdm\u001b[0m\u001b[1;33m(\u001b[0m\u001b[0mtraining_seqs\u001b[0m\u001b[1;33m,\u001b[0m \u001b[0mtotal\u001b[0m\u001b[1;33m=\u001b[0m\u001b[0mlen\u001b[0m\u001b[1;33m(\u001b[0m\u001b[0mtraining_seqs\u001b[0m\u001b[1;33m)\u001b[0m\u001b[1;33m,\u001b[0m \u001b[0mdesc\u001b[0m\u001b[1;33m=\u001b[0m\u001b[1;34mf\"Computing Seq {pred_seqs_index + 1}\"\u001b[0m\u001b[1;33m)\u001b[0m\u001b[1;33m:\u001b[0m\u001b[1;33m\u001b[0m\u001b[1;33m\u001b[0m\u001b[0m\n\u001b[0;32m     24\u001b[0m             \u001b[0malignments\u001b[0m \u001b[1;33m=\u001b[0m \u001b[0maligner\u001b[0m\u001b[1;33m.\u001b[0m\u001b[0malign\u001b[0m\u001b[1;33m(\u001b[0m\u001b[0mps\u001b[0m\u001b[1;33m,\u001b[0m \u001b[0mts\u001b[0m\u001b[1;33m)\u001b[0m\u001b[1;33m\u001b[0m\u001b[1;33m\u001b[0m\u001b[0m\n\u001b[1;32m---> 25\u001b[1;33m             \u001b[0mscores\u001b[0m \u001b[1;33m=\u001b[0m \u001b[1;33m[\u001b[0m\u001b[0ma\u001b[0m\u001b[1;33m.\u001b[0m\u001b[0mscore\u001b[0m \u001b[1;32mfor\u001b[0m \u001b[0ma\u001b[0m \u001b[1;32min\u001b[0m \u001b[0malignments\u001b[0m\u001b[1;33m]\u001b[0m\u001b[1;33m\u001b[0m\u001b[1;33m\u001b[0m\u001b[0m\n\u001b[0m\u001b[0;32m     26\u001b[0m             \u001b[0mps_scores\u001b[0m\u001b[1;33m.\u001b[0m\u001b[0mappend\u001b[0m\u001b[1;33m(\u001b[0m\u001b[0mnp\u001b[0m\u001b[1;33m.\u001b[0m\u001b[0mmax\u001b[0m\u001b[1;33m(\u001b[0m\u001b[0mscores\u001b[0m\u001b[1;33m)\u001b[0m\u001b[1;33m)\u001b[0m\u001b[1;33m\u001b[0m\u001b[1;33m\u001b[0m\u001b[0m\n\u001b[0;32m     27\u001b[0m \u001b[1;33m\u001b[0m\u001b[0m\n",
      "\u001b[1;32m~\\AppData\\Local\\Temp/ipykernel_10600/3122382528.py\u001b[0m in \u001b[0;36m<listcomp>\u001b[1;34m(.0)\u001b[0m\n\u001b[0;32m     23\u001b[0m         \u001b[1;32mfor\u001b[0m \u001b[0mts\u001b[0m \u001b[1;32min\u001b[0m \u001b[0mtqdm\u001b[0m\u001b[1;33m(\u001b[0m\u001b[0mtraining_seqs\u001b[0m\u001b[1;33m,\u001b[0m \u001b[0mtotal\u001b[0m\u001b[1;33m=\u001b[0m\u001b[0mlen\u001b[0m\u001b[1;33m(\u001b[0m\u001b[0mtraining_seqs\u001b[0m\u001b[1;33m)\u001b[0m\u001b[1;33m,\u001b[0m \u001b[0mdesc\u001b[0m\u001b[1;33m=\u001b[0m\u001b[1;34mf\"Computing Seq {pred_seqs_index + 1}\"\u001b[0m\u001b[1;33m)\u001b[0m\u001b[1;33m:\u001b[0m\u001b[1;33m\u001b[0m\u001b[1;33m\u001b[0m\u001b[0m\n\u001b[0;32m     24\u001b[0m             \u001b[0malignments\u001b[0m \u001b[1;33m=\u001b[0m \u001b[0maligner\u001b[0m\u001b[1;33m.\u001b[0m\u001b[0malign\u001b[0m\u001b[1;33m(\u001b[0m\u001b[0mps\u001b[0m\u001b[1;33m,\u001b[0m \u001b[0mts\u001b[0m\u001b[1;33m)\u001b[0m\u001b[1;33m\u001b[0m\u001b[1;33m\u001b[0m\u001b[0m\n\u001b[1;32m---> 25\u001b[1;33m             \u001b[0mscores\u001b[0m \u001b[1;33m=\u001b[0m \u001b[1;33m[\u001b[0m\u001b[0ma\u001b[0m\u001b[1;33m.\u001b[0m\u001b[0mscore\u001b[0m \u001b[1;32mfor\u001b[0m \u001b[0ma\u001b[0m \u001b[1;32min\u001b[0m \u001b[0malignments\u001b[0m\u001b[1;33m]\u001b[0m\u001b[1;33m\u001b[0m\u001b[1;33m\u001b[0m\u001b[0m\n\u001b[0m\u001b[0;32m     26\u001b[0m             \u001b[0mps_scores\u001b[0m\u001b[1;33m.\u001b[0m\u001b[0mappend\u001b[0m\u001b[1;33m(\u001b[0m\u001b[0mnp\u001b[0m\u001b[1;33m.\u001b[0m\u001b[0mmax\u001b[0m\u001b[1;33m(\u001b[0m\u001b[0mscores\u001b[0m\u001b[1;33m)\u001b[0m\u001b[1;33m)\u001b[0m\u001b[1;33m\u001b[0m\u001b[1;33m\u001b[0m\u001b[0m\n\u001b[0;32m     27\u001b[0m \u001b[1;33m\u001b[0m\u001b[0m\n",
      "\u001b[1;32mc:\\.virtualenv\\sequence-processing\\lib\\site-packages\\Bio\\Align\\__init__.py\u001b[0m in \u001b[0;36m__next__\u001b[1;34m(self)\u001b[0m\n\u001b[0;32m   2078\u001b[0m     \u001b[1;32mdef\u001b[0m \u001b[0m__next__\u001b[0m\u001b[1;33m(\u001b[0m\u001b[0mself\u001b[0m\u001b[1;33m)\u001b[0m\u001b[1;33m:\u001b[0m\u001b[1;33m\u001b[0m\u001b[1;33m\u001b[0m\u001b[0m\n\u001b[0;32m   2079\u001b[0m         \u001b[0mpath\u001b[0m \u001b[1;33m=\u001b[0m \u001b[0mnext\u001b[0m\u001b[1;33m(\u001b[0m\u001b[0mself\u001b[0m\u001b[1;33m.\u001b[0m\u001b[0mpaths\u001b[0m\u001b[1;33m)\u001b[0m\u001b[1;33m\u001b[0m\u001b[1;33m\u001b[0m\u001b[0m\n\u001b[1;32m-> 2080\u001b[1;33m         \u001b[0mself\u001b[0m\u001b[1;33m.\u001b[0m\u001b[0mindex\u001b[0m \u001b[1;33m+=\u001b[0m \u001b[1;36m1\u001b[0m\u001b[1;33m\u001b[0m\u001b[1;33m\u001b[0m\u001b[0m\n\u001b[0m\u001b[0;32m   2081\u001b[0m         \u001b[0malignment\u001b[0m \u001b[1;33m=\u001b[0m \u001b[0mPairwiseAlignment\u001b[0m\u001b[1;33m(\u001b[0m\u001b[0mself\u001b[0m\u001b[1;33m.\u001b[0m\u001b[0mseqA\u001b[0m\u001b[1;33m,\u001b[0m \u001b[0mself\u001b[0m\u001b[1;33m.\u001b[0m\u001b[0mseqB\u001b[0m\u001b[1;33m,\u001b[0m \u001b[0mpath\u001b[0m\u001b[1;33m,\u001b[0m \u001b[0mself\u001b[0m\u001b[1;33m.\u001b[0m\u001b[0mscore\u001b[0m\u001b[1;33m)\u001b[0m\u001b[1;33m\u001b[0m\u001b[1;33m\u001b[0m\u001b[0m\n\u001b[0;32m   2082\u001b[0m         \u001b[0mself\u001b[0m\u001b[1;33m.\u001b[0m\u001b[0malignment\u001b[0m \u001b[1;33m=\u001b[0m \u001b[0malignment\u001b[0m\u001b[1;33m\u001b[0m\u001b[1;33m\u001b[0m\u001b[0m\n",
      "\u001b[1;31mKeyboardInterrupt\u001b[0m: "
     ]
    }
   ],
   "source": [
    "from Bio import Align\n",
    "import numpy as np\n",
    "from tqdm import tqdm\n",
    "\n",
    "aligner = Align.PairwiseAligner()\n",
    "\n",
    "N_SAMPLE  = 45\n",
    "samples_df = [d.sample(n=N_SAMPLE) for d in dataframes]\n",
    "print(all([s.shape[0] == N_SAMPLE for s in samples_df]))\n",
    "training_df = pd.read_csv(training_data)\n",
    "training_seqs = training_df[\"sequence\"].sample(10) # use sample to test code.\n",
    "print(len(training_seqs))\n",
    "# training_seqs = training_df[\"sequence\"]\n",
    "\n",
    "for d, t in zip(samples_df, cf_titles):\n",
    "    pred_seqs = d[\"sequence\"].tolist()\n",
    "    indices = []\n",
    "    values = []\n",
    "    # for ps in tqdm(pred_seqs, total=len(pred_seqs), desc=\"Similarity Search\"):\n",
    "    for pred_seqs_index in range(N_SAMPLE):\n",
    "        ps = pred_seqs[pred_seqs_index]\n",
    "        ps_scores = []\n",
    "        for ts in tqdm(training_seqs, total=len(training_seqs), desc=f\"Computing Seq {pred_seqs_index + 1}\"):\n",
    "            alignments = aligner.align(ps, ts)\n",
    "            scores = [a.score for a in alignments]\n",
    "            ps_scores.append(np.max(scores))\n",
    "            \n",
    "        indices.append(np.argmax(ps_scores))\n",
    "        values.append(np.max(ps_scores))\n",
    "    _df = pd.DataFrame(data={\n",
    "        \"sequence\": pred_seqs,\n",
    "        \"index\": indices,\n",
    "        \"value\": values\n",
    "    })\n",
    "    _df.to_csv(\n",
    "        os.path.join(\"error_analysis\", f\"{t}.csv\"),\n",
    "        index=False\n",
    "    )\n"
   ]
  },
  {
   "cell_type": "code",
   "execution_count": 17,
   "metadata": {},
   "outputs": [
    {
     "data": {
      "text/plain": [
       "86     TTTCAAACAACTCTAGGTGTAGATACATTTTCTGAGATATTCCAAG...\n",
       "90     ACATTTTCTGAGATATTCCAAGGAGGAGGGACACAATTGGACCAGA...\n",
       "105    TCCCATGCAGAAGGGGAATCTGGGCCCTGGTGTTAGAATTCAGTGT...\n",
       "71     AATCTGACCCTCTGAGCAGCCGCAGGATATTCTAAGTCTTCCAAGA...\n",
       "76     CTGATGGTCTGCAATCACATAGGATGATGCTTTCAAACAACTCTAG...\n",
       "84     TGCAATCACATAGGATGATGCTTTCAAACAACTCTAGGTGTAGATA...\n",
       "87     TTCAAACAACTCTAGGTGTAGATACATTTTCTGAGATATTCCAAGG...\n",
       "96     CCAAGGAGGAGGGACACAATTGGACCAGATGTTAGAAGGACAGCTG...\n",
       "85     TGATGCTTTCAAACAACTCTAGGTGTAGATACATTTTCTGAGATAT...\n",
       "107    ATGCAGAAGGGGAATCTGGGCCCTGGTGTTAGAATTCAGTGTAATT...\n",
       "Name: sequence, dtype: object"
      ]
     },
     "execution_count": 17,
     "metadata": {},
     "output_type": "execute_result"
    }
   ],
   "source": [
    "samples_df[0][\"sequence\"].sample(n=10)"
   ]
  }
 ],
 "metadata": {
  "kernelspec": {
   "display_name": "sequence-processing",
   "language": "python",
   "name": "python3"
  },
  "language_info": {
   "codemirror_mode": {
    "name": "ipython",
    "version": 3
   },
   "file_extension": ".py",
   "mimetype": "text/x-python",
   "name": "python",
   "nbconvert_exporter": "python",
   "pygments_lexer": "ipython3",
   "version": "3.7.9"
  },
  "orig_nbformat": 4,
  "vscode": {
   "interpreter": {
    "hash": "14ae8cb2141f3f34f4e0523006ff2d6cb0f7956c0f094e5497e312072e4d0d3c"
   }
  }
 },
 "nbformat": 4,
 "nbformat_minor": 2
}
