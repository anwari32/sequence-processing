{
 "cells": [
  {
   "cell_type": "code",
   "execution_count": null,
   "metadata": {},
   "outputs": [],
   "source": [
    "from transformers import BertForTokenClassification, BertModel\n",
    "from data_dir import pretrained_3kmer_dir\n",
    "\n",
    "bertForTokenClassification = BertForTokenClassification.from_pretrained(pretrained_3kmer_dir)"
   ]
  },
  {
   "cell_type": "code",
   "execution_count": 4,
   "metadata": {},
   "outputs": [
    {
     "name": "stdout",
     "output_type": "stream",
     "text": [
      "['./data/genome/grch38/exon/NC_000024.10.csv']\n",
      "['./data/chr/NC_000024.10.fasta']\n",
      "['./data/genome/labseq/chr24.csv']\n"
     ]
    }
   ],
   "source": [
    "from data_dir import chr24_index_csv, chr24_fasta, labseq_dir, labseq_names\n",
    "chr_indices = [chr24_index_csv]\n",
    "chr_fastas = [chr24_fasta]\n",
    "chr_labseq_path = [\"{}/{}\".format(labseq_dir, fname) for fname in [labseq_names[-1]]]\n",
    "print(chr_indices)\n",
    "print(chr_fastas)\n",
    "print(chr_labseq_path)"
   ]
  },
  {
   "cell_type": "code",
   "execution_count": 5,
   "metadata": {},
   "outputs": [
    {
     "name": "stdout",
     "output_type": "stream",
     "text": [
      "Processing index ./data/genome/grch38/exon/NC_000024.10.csv, with fasta ./data/chr/NC_000024.10.fasta, to seq. labelling ./data/genome/labseq/chr24.csv, expanding [5431760/57226904]"
     ]
    }
   ],
   "source": [
    "from data_dir import chr24_index_csv, chr24_fasta, labseq_dir, labseq_names\n",
    "from data_preparation import generate_sequence_labelling\n",
    "chr_indices = [chr24_index_csv]\n",
    "chr_fastas = [chr24_fasta]\n",
    "chr_labseq_path = [\"{}/{}\".format(labseq_dir, fname) for fname in [labseq_names[-1]]]\n",
    "for src, fasta, target in zip(chr_indices, chr_fastas, chr_labseq_path):\n",
    "    print(\"Generating sequential labelling for index {}, from fasta {}, to {}: {}\".format(src, fasta, target, generate_sequence_labelling(src, fasta, target, do_expand=True, expand_size=512)))"
   ]
  },
  {
   "cell_type": "code",
   "execution_count": 56,
   "metadata": {},
   "outputs": [],
   "source": [
    "\"\"\"\n",
    "Preprocess data\n",
    "\"\"\"\n",
    "from torch.utils.data import DataLoader, TensorDataset\n",
    "from torch import tensor\n",
    "from tqdm import tqdm\n",
    "from sequential_labelling import Label_Begin, Label_End\n",
    "def prepare_sequence(sequence, label, tokenizer, label_dictionary, label_begin=Label_Begin, label_end=Label_End):\n",
    "    \"\"\"\n",
    "    @param  sequence (string): a sequence in kmer format.\n",
    "    @param  label (string): label in kmer format.\n",
    "    @param  tokenizer (BERT tokenizer): initialized BERT-related tokenizer.\n",
    "    @param  label_dictionary (map): object to map each label to integer.\n",
    "    @return input_ids, attention_mask, label_kmer in numeric format.\n",
    "    \"\"\"\n",
    "    arr_seq_kmer = sequence.strip()\n",
    "    encoded = tokenizer.encode_plus(text=arr_seq_kmer, return_attention_mask=True, padding='max_length')\n",
    "    input_ids = encoded.get('input_ids')\n",
    "    attention_mask = encoded.get('attention_mask')\n",
    "\n",
    "    label_kmer = [label_begin]\n",
    "    label_kmer.extend(label.strip().split(' '))\n",
    "    label_kmer.extend([label_end])\n",
    "    label_kmer = [label_dictionary[k] for k in label_kmer]\n",
    "\n",
    "    return input_ids, attention_mask, label_kmer\n",
    "\n",
    "def prepare_seq2seq_data(sequences, labels, batch_size, tokenizer, label_dictionary):\n",
    "    \"\"\"\n",
    "    @param      sequences (string): list of sequences in kmer format.\n",
    "    @param      labels (string): list of sequential label in kmer format.\n",
    "    @param      tokenizer (object): initialized BERT-related tokenizer.\n",
    "    @param      label_dictionary (map): dictionary to convert kmer label into integer.\n",
    "    @return     dataloader (torch.utils.data.DataLoader): dataloader for these sequences and labels.\n",
    "    \"\"\"\n",
    "    if len(sequences) != len(labels):\n",
    "        raise Exception(\"Sequence and labels size are not matched.\")\n",
    "    arr_input_ids = []\n",
    "    arr_attention_mask = []\n",
    "    arr_label_kmer = []\n",
    "    for seq, label in tqdm(zip(sequences, labels), total=len(sequences)):\n",
    "        input_ids, attention_mask, label_kmer = prepare_sequence(seq, label, tokenizer, label_dictionary)\n",
    "        arr_input_ids.append(input_ids)\n",
    "        arr_attention_mask.append(attention_mask)\n",
    "        arr_label_kmer.append(label_kmer)\n",
    "\n",
    "    arr_input_ids = tensor(arr_input_ids)\n",
    "    arr_attention_mask = tensor(arr_attention_mask)\n",
    "    arr_label_kmer = tensor(arr_label_kmer, dtype=float)\n",
    "    tensor_dataset = TensorDataset(arr_input_ids, arr_attention_mask, arr_label_kmer)\n",
    "    dataloader = DataLoader(tensor_dataset, batch_size=batch_size)\n",
    "    return dataloader"
   ]
  },
  {
   "cell_type": "code",
   "execution_count": 57,
   "metadata": {},
   "outputs": [],
   "source": [
    "\"\"\"\n",
    "Create sample data sequential labelling.\n",
    "\"\"\"\n",
    "from random import randint\n",
    "from data_preparation import kmer\n",
    "sequences = ['ATGC' * 128, 'TGAC' * 128, 'GATC' * 128]\n",
    "labels = [['E' if randint(0, 255) % 2 == 0 else '.' for i in range(len(s))] for s in sequences]\n",
    "\n",
    "kmer_seq = [' '.join(kmer(sequence, 3)) for sequence in sequences]\n",
    "kmer_label = [' '.join(kmer(''.join(label), 3)) for label in labels]"
   ]
  },
  {
   "cell_type": "code",
   "execution_count": 58,
   "metadata": {},
   "outputs": [
    {
     "name": "stderr",
     "output_type": "stream",
     "text": [
      "100%|██████████| 3/3 [00:00<00:00, 176.46it/s]\n"
     ]
    }
   ],
   "source": [
    "from transformers import BertTokenizer\n",
    "from data_dir import pretrained_3kmer_dir\n",
    "from sequential_labelling import Label_Dictionary\n",
    "\n",
    "tokenizer = BertTokenizer.from_pretrained(pretrained_3kmer_dir)\n",
    "input_ids, attention_mask, label_kmer = prepare_sequence(kmer_seq[0], kmer_label[0], tokenizer, Label_Dictionary)\n",
    "dataloader = prepare_seq2seq_data(kmer_seq, kmer_label, 1, tokenizer, Label_Dictionary)"
   ]
  },
  {
   "cell_type": "code",
   "execution_count": 59,
   "metadata": {},
   "outputs": [
    {
     "name": "stdout",
     "output_type": "stream",
     "text": [
      "[0, 3, 7, 3, 7, 5, 8, 6, 7, 5, 6, 7, 5, 8, 8, 8, 8, 8, 6, 7, 3, 7, 3, 4, 1, 1, 1, 1, 1, 2, 3, 7, 5, 8, 8, 6, 4, 2, 3, 7, 5, 8, 6, 7, 5, 8, 8, 8, 6, 4, 2, 3, 4, 1, 1, 2, 3, 7, 3, 7, 3, 7, 3, 7, 3, 4, 1, 1, 2, 3, 4, 2, 5, 8, 8, 6, 7, 3, 4, 2, 5, 6, 7, 5, 6, 4, 2, 3, 7, 3, 7, 3, 4, 2, 5, 6, 7, 3, 7, 3, 4, 2, 5, 6, 7, 3, 4, 1, 1, 1, 1, 2, 3, 4, 1, 1, 1, 1, 2, 3, 7, 5, 6, 7, 3, 7, 3, 4, 1, 2, 3, 7, 5, 6, 7, 3, 7, 5, 8, 8, 8, 8, 8, 8, 6, 4, 1, 2, 5, 8, 6, 4, 1, 1, 1, 1, 2, 5, 8, 6, 7, 3, 7, 3, 7, 5, 6, 7, 5, 6, 4, 2, 3, 4, 1, 2, 5, 6, 7, 3, 4, 1, 2, 3, 7, 5, 6, 4, 2, 3, 7, 5, 8, 6, 7, 3, 4, 2, 5, 8, 6, 7, 3, 4, 1, 2, 5, 6, 4, 2, 3, 4, 1, 1, 1, 2, 3, 7, 5, 6, 4, 1, 1, 2, 5, 6, 4, 1, 1, 1, 2, 3, 7, 3, 4, 1, 2, 3, 7, 3, 4, 1, 1, 2, 5, 6, 4, 1, 2, 3, 4, 1, 2, 3, 7, 3, 7, 5, 8, 6, 7, 5, 6, 7, 3, 4, 1, 1, 1, 2, 3, 4, 2, 5, 8, 8, 6, 4, 1, 2, 3, 4, 2, 3, 7, 5, 6, 4, 2, 3, 7, 5, 8, 8, 6, 7, 5, 8, 6, 4, 2, 3, 4, 1, 2, 5, 6, 7, 3, 7, 3, 7, 5, 8, 6, 7, 5, 6, 7, 5, 8, 8, 8, 6, 7, 3, 4, 1, 1, 2, 5, 6, 7, 5, 6, 4, 2, 3, 4, 1, 2, 3, 4, 1, 1, 1, 1, 1, 1, 1, 1, 2, 5, 6, 4, 2, 5, 6, 7, 3, 4, 2, 3, 7, 5, 6, 7, 5, 8, 8, 6, 7, 3, 7, 5, 8, 6, 7, 5, 8, 8, 6, 4, 1, 2, 3, 7, 5, 6, 7, 3, 4, 2, 3, 7, 3, 7, 5, 8, 8, 8, 6, 7, 5, 6, 4, 2, 3, 7, 3, 4, 2, 5, 6, 7, 3, 4, 2, 3, 4, 1, 1, 2, 3, 4, 1, 2, 3, 7, 5, 6, 7, 5, 8, 6, 7, 5, 8, 8, 8, 8, 8, 6, 7, 3, 4, 2, 3, 4, 2, 3, 7, 5, 8, 6, 7, 5, 8, 6, 7, 3, 4, 1, 1, 2, 3, 7, 3, 7, 5, 8, 6, 7, 5, 8, 6, 4, 2, 3, 7, 5, 8, 6, 7, 3, 7, 5, 6, 4, 2, 5, 8, 8, 8, 6, 7, 5, 8, 8, 6, 4, 1, 2, 3, 4, 1, 1, 2, 5, 6, 4, 9]\n"
     ]
    }
   ],
   "source": [
    "print(label_kmer)\n"
   ]
  },
  {
   "cell_type": "code",
   "execution_count": 60,
   "metadata": {},
   "outputs": [],
   "source": [
    "\"\"\"\n",
    "Initialize simple model for sequential labelling.\n",
    "\"\"\"\n",
    "from torch import nn\n",
    "class Seq2SeqHead(nn.Module):\n",
    "    def __init__(self, dims):\n",
    "        super().__init__()\n",
    "        dims_ins_outs = [dims[i:i+2] for i in range(len(dims)-2+1)]\n",
    "        self.hidden_layers = [nn.Linear(d[0], d[1]) for d in dims_ins_outs]\n",
    "        self.stack = nn.Sequential()\n",
    "        for i in range(0, len(self.hidden_layers)):\n",
    "            linear_layer = self.hidden_layers[i]\n",
    "            self.stack.add_module(\"hidden-{}\".format(i+1), linear_layer)\n",
    "            self.stack.add_module(\"relu-{}\".format(i+1), nn.ReLU())\n",
    "    \n",
    "    def forward(self, input):\n",
    "        return self.stack(input)\n",
    "\n",
    "class DNABertSeq2Seq(nn.Module):\n",
    "    def __init__(self, bert_layer, seq2seq_head):\n",
    "        super().__init__()\n",
    "        self.bert_layer = bert_layer\n",
    "        self.seq2seq_head = seq2seq_head\n",
    "    \n",
    "    def forward(self, input_ids, attention_masks):\n",
    "        bert_output = self.bert_layer(input_ids, attention_masks)\n",
    "        last_hidden_output = bert_output[0][:, 0, :]\n",
    "        seq2seq_output = self.seq2seq_head(last_hidden_output)\n",
    "        return seq2seq_output\n",
    "\n",
    "from transformers import BertForMaskedLM\n",
    "def initialize_seq2seq(bert_pretrained_path, in_out_dims):\n",
    "    seq2seq_head = Seq2SeqHead(in_out_dims)\n",
    "    bert_layer = BertForMaskedLM.from_pretrained(bert_pretrained_path).bert\n",
    "    model = DNABertSeq2Seq(bert_layer, seq2seq_head)\n",
    "    return model\n"
   ]
  },
  {
   "cell_type": "code",
   "execution_count": 64,
   "metadata": {},
   "outputs": [],
   "source": [
    "from transformers import BertModel\n",
    "from data_dir import pretrained_3kmer_dir\n",
    "in_out_dimensions = [768, 512, 512, 512]\n",
    "model = initialize_seq2seq(pretrained_3kmer_dir, in_out_dimensions)\n",
    "# print(model)"
   ]
  },
  {
   "cell_type": "code",
   "execution_count": 65,
   "metadata": {},
   "outputs": [
    {
     "name": "stderr",
     "output_type": "stream",
     "text": [
      "  0%|          | 0/3 [00:00<?, ?it/s]"
     ]
    },
    {
     "name": "stdout",
     "output_type": "stream",
     "text": [
      "tensor([0., 0., 0., 0.], grad_fn=<SliceBackward0>)\n",
      "tensor([3., 7., 3., 7.], dtype=torch.float64)\n",
      "tensor(14461.8037, grad_fn=<DivBackward1>)\n"
     ]
    },
    {
     "name": "stderr",
     "output_type": "stream",
     "text": [
      " 33%|███▎      | 1/3 [00:03<00:06,  3.03s/it]"
     ]
    },
    {
     "name": "stdout",
     "output_type": "stream",
     "text": [
      "tensor([0.0000, 0.0110, 0.0611, 0.0000], grad_fn=<SliceBackward0>)\n",
      "tensor([7., 3., 7., 5.], dtype=torch.float64)\n",
      "tensor(13898.5840, grad_fn=<DivBackward1>)\n"
     ]
    },
    {
     "name": "stderr",
     "output_type": "stream",
     "text": [
      " 67%|██████▋   | 2/3 [00:05<00:02,  2.98s/it]"
     ]
    },
    {
     "name": "stdout",
     "output_type": "stream",
     "text": [
      "tensor([0.0000, 0.0648, 0.0000, 0.0000], grad_fn=<SliceBackward0>)\n",
      "tensor([5., 8., 6., 7.], dtype=torch.float64)\n",
      "tensor(15300.6055, grad_fn=<DivBackward1>)\n"
     ]
    },
    {
     "name": "stderr",
     "output_type": "stream",
     "text": [
      "100%|██████████| 3/3 [00:09<00:00,  3.00s/it]\n"
     ]
    }
   ],
   "source": [
    "model.eval()\n",
    "for step, batch in tqdm(enumerate(dataloader), total=len(dataloader)):\n",
    "    input_ids, attention_mask, label = tuple(t for t in batch)\n",
    "    output = model(input_ids, attention_mask)\n",
    "    print(output[0][1:5])\n",
    "    print(label[0][1:5])\n",
    "    loss_func = nn.CrossEntropyLoss()\n",
    "    loss = loss_func(output, label.float())\n",
    "    print(loss)\n",
    "    loss.backward()"
   ]
  }
 ],
 "metadata": {
  "interpreter": {
   "hash": "473c7453bcb969eece5b07ef8b7f234e7c84010927f6bebce35f0aeb1f8c121e"
  },
  "kernelspec": {
   "display_name": "Python 3.9.1 64-bit ('sequence-processing-py39': venv)",
   "language": "python",
   "name": "python3"
  },
  "language_info": {
   "codemirror_mode": {
    "name": "ipython",
    "version": 3
   },
   "file_extension": ".py",
   "mimetype": "text/x-python",
   "name": "python",
   "nbconvert_exporter": "python",
   "pygments_lexer": "ipython3",
   "version": "3.9.1"
  },
  "orig_nbformat": 4
 },
 "nbformat": 4,
 "nbformat_minor": 2
}
