{
 "cells": [
  {
   "cell_type": "code",
   "execution_count": null,
   "metadata": {},
   "outputs": [],
   "source": [
    "from transformers import BertForTokenClassification, BertModel\n",
    "from data_dir import pretrained_3kmer_dir\n",
    "\n",
    "bertForTokenClassification = BertForTokenClassification.from_pretrained(pretrained_3kmer_dir)"
   ]
  },
  {
   "cell_type": "code",
   "execution_count": 4,
   "metadata": {},
   "outputs": [
    {
     "name": "stdout",
     "output_type": "stream",
     "text": [
      "['./data/genome/grch38/exon/NC_000024.10.csv']\n",
      "['./data/chr/NC_000024.10.fasta']\n",
      "['./data/genome/labseq/chr24.csv']\n"
     ]
    }
   ],
   "source": [
    "from data_dir import chr24_index_csv, chr24_fasta, labseq_dir, labseq_names\n",
    "chr_indices = [chr24_index_csv]\n",
    "chr_fastas = [chr24_fasta]\n",
    "chr_labseq_path = [\"{}/{}\".format(labseq_dir, fname) for fname in [labseq_names[-1]]]\n",
    "print(chr_indices)\n",
    "print(chr_fastas)\n",
    "print(chr_labseq_path)"
   ]
  },
  {
   "cell_type": "code",
   "execution_count": 5,
   "metadata": {},
   "outputs": [
    {
     "name": "stdout",
     "output_type": "stream",
     "text": [
      "Processing index ./data/genome/grch38/exon/NC_000024.10.csv, with fasta ./data/chr/NC_000024.10.fasta, to seq. labelling ./data/genome/labseq/chr24.csv, expanding [5431760/57226904]"
     ]
    }
   ],
   "source": [
    "from data_dir import chr24_index_csv, chr24_fasta, labseq_dir, labseq_names\n",
    "from data_preparation import generate_sequence_labelling\n",
    "chr_indices = [chr24_index_csv]\n",
    "chr_fastas = [chr24_fasta]\n",
    "chr_labseq_path = [\"{}/{}\".format(labseq_dir, fname) for fname in [labseq_names[-1]]]\n",
    "for src, fasta, target in zip(chr_indices, chr_fastas, chr_labseq_path):\n",
    "    print(\"Generating sequential labelling for index {}, from fasta {}, to {}: {}\".format(src, fasta, target, generate_sequence_labelling(src, fasta, target, do_expand=True, expand_size=512)))"
   ]
  },
  {
   "cell_type": "code",
   "execution_count": 2,
   "metadata": {},
   "outputs": [],
   "source": [
    "from transformers import BertTokenizer\n",
    "from data_dir import pretrained_3kmer_dir\n",
    "from sequential_labelling import preprocessing\n",
    "\n",
    "\"\"\"\n",
    "Initialize tokenizer.\n",
    "\"\"\"\n",
    "tokenizer = BertTokenizer.from_pretrained(pretrained_3kmer_dir)\n",
    "\n",
    "\"\"\"\n",
    "Create sample data sequential labelling.\n",
    "\"\"\"\n",
    "from random import randint\n",
    "from data_preparation import kmer\n",
    "from sequential_labelling import process_sequence_and_label, create_dataloader\n",
    "sequences = ['ATGC' * 128, 'TGAC' * 128, 'GATC' * 128, \"AGCC\" * 128]\n",
    "labels = [['E' if randint(0, 255) % 2 == 0 else '.' for i in range(len(s))] for s in sequences]\n",
    "\n",
    "kmer_seq = [' '.join(kmer(sequence, 3)) for sequence in sequences]\n",
    "kmer_label = [' '.join(kmer(''.join(label), 3)) for label in labels]\n",
    "\n",
    "arr_input_ids = []\n",
    "arr_attn_mask = []\n",
    "arr_label_repr = []\n",
    "for seq, label in zip(kmer_seq, kmer_label):\n",
    "    input_ids, attn_mask, label_repr = process_sequence_and_label(seq, label, tokenizer)\n",
    "    arr_input_ids.append(input_ids)\n",
    "    arr_attn_mask.append(attn_mask)\n",
    "    arr_label_repr.append(label_repr)\n",
    "\n",
    "dataloader = create_dataloader(arr_input_ids, arr_attn_mask, arr_label_repr, batch_size=1)"
   ]
  },
  {
   "cell_type": "code",
   "execution_count": 3,
   "metadata": {},
   "outputs": [
    {
     "name": "stderr",
     "output_type": "stream",
     "text": [
      "c:\\.virtualenv\\sequence-processing-py39\\lib\\site-packages\\transformers\\optimization.py:306: FutureWarning: This implementation of AdamW is deprecated and will be removed in a future version. Use thePyTorch implementation torch.optim.AdamW instead, or set `no_deprecation_warning=True` to disable this warning\n",
      "  warnings.warn(\n",
      "100%|██████████| 4/4 [00:14<00:00,  3.52s/it]\n",
      "100%|██████████| 4/4 [00:14<00:00,  3.69s/it]\n",
      "100%|██████████| 4/4 [00:14<00:00,  3.59s/it]\n",
      "100%|██████████| 4/4 [00:14<00:00,  3.58s/it]\n",
      "100%|██████████| 4/4 [00:14<00:00,  3.60s/it]\n",
      "100%|██████████| 4/4 [00:13<00:00,  3.43s/it]\n",
      "100%|██████████| 4/4 [00:13<00:00,  3.44s/it]\n",
      "100%|██████████| 4/4 [00:13<00:00,  3.38s/it]\n",
      "100%|██████████| 4/4 [00:14<00:00,  3.57s/it]\n",
      "100%|██████████| 4/4 [00:14<00:00,  3.53s/it]\n"
     ]
    }
   ],
   "source": [
    "from sequential_labelling import DNABERTSeq2Seq, train, init_adamw_optimizer\n",
    "from transformers import get_linear_schedule_with_warmup\n",
    "from data_dir import pretrained_3kmer_dir\n",
    "import os\n",
    "epoch_size = 10\n",
    "warmup = 10\n",
    "model = DNABERTSeq2Seq(pretrained_3kmer_dir)\n",
    "optimizer = init_adamw_optimizer(model.parameters())\n",
    "training_steps = len(dataloader) * epoch_size\n",
    "optim_scheduler = get_linear_schedule_with_warmup(optimizer, num_warmup_steps=warmup, num_training_steps=training_steps)\n",
    "device = \"cpu\"\n",
    "log_path = os.path.join(\"logs\", \"sample_log\", \"seq2seq\", \"log.2022-03-34.txt\")\n",
    "save_path = os.path.join(\"result\", \"samples\", \"seq2seq\", \"2022-03-34\")\n",
    "model.to(device)\n",
    "model.train()\n",
    "\"\"\"\n",
    "Play with result.\n",
    "\"\"\"\n",
    "trained_model = train(model, optimizer, optim_scheduler, dataloader, 10, 2, log_path, save_path, device)"
   ]
  },
  {
   "cell_type": "code",
   "execution_count": null,
   "metadata": {},
   "outputs": [],
   "source": [
    "100%|██████████| 2/2 [00:07<00:00,  3.58s/it]\n",
    "[-0.09367253631353378, -0.0955008864402771, -0.09063666313886642, -0.09563980996608734]\n",
    "[-0.09989060461521149, -0.09998640418052673, -0.1000804752111435, -0.09985078871250153]"
   ]
  },
  {
   "cell_type": "code",
   "execution_count": 3,
   "metadata": {},
   "outputs": [
    {
     "name": "stdout",
     "output_type": "stream",
     "text": [
      "torch.Size([1, 2, 3]) torch.Size([1, 2])\n",
      "torch.Size([2, 3]) torch.Size([2])\n",
      "tensor(-0.1880)\n"
     ]
    }
   ],
   "source": [
    "import torch\n",
    "from torch import nn\n",
    "y_pred = torch.tensor([\n",
    "    [\n",
    "        [0.05, 0.95, 2],    # First token \n",
    "        [0.1, 0.8, 1.5]     # Second token\n",
    "    ], # sequence\n",
    "] # batch\n",
    ")\n",
    "y_softmax = torch.nn.Softmax(dim=2)(y_pred)\n",
    "y_true = torch.tensor([[1, 0]])\n",
    "print(y_softmax.shape, y_true.shape)\n",
    "\n",
    "for p, t in zip(y_softmax, y_true):\n",
    "    print(p.shape, t.shape)\n",
    "    print(nn.NLLLoss()(p, t))"
   ]
  },
  {
   "cell_type": "code",
   "execution_count": 1,
   "metadata": {},
   "outputs": [],
   "source": []
  },
  {
   "cell_type": "code",
   "execution_count": 85,
   "metadata": {},
   "outputs": [
    {
     "name": "stdout",
     "output_type": "stream",
     "text": [
      "torch.Size([3, 5, 10]) tensor([[[0.0761, 0.0309, 0.1782, 0.3150, 0.0041, 0.0667, 0.0346, 0.0324,\n",
      "          0.1923, 0.0697],\n",
      "         [0.0491, 0.0709, 0.1599, 0.1308, 0.0236, 0.0327, 0.2852, 0.0152,\n",
      "          0.0579, 0.1746],\n",
      "         [0.1077, 0.0813, 0.0841, 0.0973, 0.0452, 0.0425, 0.0752, 0.0313,\n",
      "          0.1997, 0.2358],\n",
      "         [0.1600, 0.1957, 0.1299, 0.1179, 0.0709, 0.0377, 0.1201, 0.0344,\n",
      "          0.0467, 0.0868],\n",
      "         [0.1917, 0.0216, 0.0058, 0.1390, 0.0640, 0.0325, 0.2813, 0.0407,\n",
      "          0.0276, 0.1961]],\n",
      "\n",
      "        [[0.0189, 0.2757, 0.0623, 0.0221, 0.0229, 0.1040, 0.0658, 0.0579,\n",
      "          0.0653, 0.3052],\n",
      "         [0.0463, 0.0238, 0.0840, 0.4257, 0.0258, 0.0374, 0.1712, 0.0945,\n",
      "          0.0349, 0.0564],\n",
      "         [0.0105, 0.0182, 0.2384, 0.0794, 0.0994, 0.2283, 0.1128, 0.1145,\n",
      "          0.0499, 0.0485],\n",
      "         [0.0164, 0.0236, 0.1261, 0.0135, 0.1104, 0.3142, 0.1054, 0.0131,\n",
      "          0.1640, 0.1134],\n",
      "         [0.0067, 0.0832, 0.1345, 0.1329, 0.1143, 0.0975, 0.0780, 0.1197,\n",
      "          0.1971, 0.0363]],\n",
      "\n",
      "        [[0.0477, 0.0160, 0.0389, 0.0668, 0.0833, 0.0298, 0.2603, 0.2925,\n",
      "          0.0597, 0.1051],\n",
      "         [0.0255, 0.2318, 0.0714, 0.1179, 0.0673, 0.0531, 0.2010, 0.0886,\n",
      "          0.0682, 0.0752],\n",
      "         [0.0394, 0.0680, 0.0966, 0.0636, 0.0079, 0.1252, 0.0206, 0.0448,\n",
      "          0.2099, 0.3239],\n",
      "         [0.4167, 0.0215, 0.0430, 0.0438, 0.0618, 0.0977, 0.0782, 0.1846,\n",
      "          0.0201, 0.0326],\n",
      "         [0.1338, 0.0446, 0.0423, 0.1575, 0.0861, 0.0782, 0.1435, 0.0288,\n",
      "          0.2614, 0.0239]]], grad_fn=<SoftmaxBackward0>)\n",
      "torch.Size([3, 5, 10]) tensor([[[3., 3., 4., 0., 2., 2., 2., 3., 2., 3.],\n",
      "         [3., 4., 4., 0., 3., 1., 2., 0., 1., 0.],\n",
      "         [1., 1., 0., 3., 0., 3., 2., 3., 4., 4.],\n",
      "         [4., 4., 2., 3., 0., 1., 0., 1., 1., 1.],\n",
      "         [3., 4., 3., 0., 4., 2., 4., 2., 0., 3.]],\n",
      "\n",
      "        [[3., 3., 3., 4., 3., 4., 1., 0., 4., 3.],\n",
      "         [0., 2., 3., 0., 2., 3., 1., 4., 0., 1.],\n",
      "         [1., 1., 2., 1., 2., 4., 0., 0., 4., 2.],\n",
      "         [3., 1., 2., 3., 2., 2., 4., 2., 3., 1.],\n",
      "         [1., 0., 4., 1., 0., 1., 3., 4., 0., 3.]],\n",
      "\n",
      "        [[2., 2., 0., 4., 2., 3., 4., 1., 4., 1.],\n",
      "         [2., 4., 4., 1., 2., 0., 2., 0., 4., 1.],\n",
      "         [2., 2., 4., 4., 4., 0., 4., 3., 2., 4.],\n",
      "         [3., 2., 1., 0., 3., 2., 1., 0., 4., 4.],\n",
      "         [1., 1., 1., 4., 1., 3., 3., 2., 2., 4.]]])\n"
     ]
    }
   ],
   "source": [
    "import torch\n",
    "loss = nn.CrossEntropyLoss()\n",
    "activate = nn.Softmax(dim=2)\n",
    "input = torch.randn(3, 5, 10, requires_grad=True, dtype=torch.float)\n",
    "input = activate(input)\n",
    "target = torch.empty(3, 5, 10, dtype=torch.float).random_(5)\n",
    "output = loss(input, target)\n",
    "print(input.shape, input)\n",
    "print(target.shape, target)"
   ]
  }
 ],
 "metadata": {
  "interpreter": {
   "hash": "473c7453bcb969eece5b07ef8b7f234e7c84010927f6bebce35f0aeb1f8c121e"
  },
  "kernelspec": {
   "display_name": "Python 3.9.1 64-bit ('sequence-processing-py39': venv)",
   "language": "python",
   "name": "python3"
  },
  "language_info": {
   "codemirror_mode": {
    "name": "ipython",
    "version": 3
   },
   "file_extension": ".py",
   "mimetype": "text/x-python",
   "name": "python",
   "nbconvert_exporter": "python",
   "pygments_lexer": "ipython3",
   "version": "3.9.1"
  },
  "orig_nbformat": 4
 },
 "nbformat": 4,
 "nbformat_minor": 2
}
