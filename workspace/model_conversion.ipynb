{
 "cells": [
  {
   "attachments": {},
   "cell_type": "markdown",
   "metadata": {},
   "source": [
    "### Model Conversion\n",
    "Previous model saved in `run` folder is created from `nn.Module` and thus does not comply with BERT-esque model.\n",
    "This notebook contains script to convert such model into BERT-compatible format so you can use `ModelClass.from_pretrained(...)` and `ModelClass.save_pretrained(...)` methods."
   ]
  },
  {
   "attachments": {},
   "cell_type": "markdown",
   "metadata": {},
   "source": [
    "### DNABERT_SL Base"
   ]
  },
  {
   "cell_type": "code",
   "execution_count": 1,
   "metadata": {},
   "outputs": [
    {
     "name": "stderr",
     "output_type": "stream",
     "text": [
      "Some weights of the model checkpoint at pretrained\\3-new-12w-0 were not used when initializing DNABERT_SL: ['cls.predictions.transform.LayerNorm.bias', 'cls.predictions.transform.dense.bias', 'cls.predictions.bias', 'cls.predictions.transform.dense.weight', 'bert.pooler.dense.bias', 'cls.predictions.transform.LayerNorm.weight', 'bert.pooler.dense.weight', 'cls.predictions.decoder.weight', 'cls.predictions.decoder.bias']\n",
      "- This IS expected if you are initializing DNABERT_SL from the checkpoint of a model trained on another task or with another architecture (e.g. initializing a BertForSequenceClassification model from a BertForPreTraining model).\n",
      "- This IS NOT expected if you are initializing DNABERT_SL from the checkpoint of a model that you expect to be exactly identical (initializing a BertForSequenceClassification model from a BertForSequenceClassification model).\n",
      "Some weights of DNABERT_SL were not initialized from the model checkpoint at pretrained\\3-new-12w-0 and are newly initialized: ['head.classifier.weight', 'head.classifier.bias']\n",
      "You should probably TRAIN this model on a down-stream task to be able to use it for predictions and inference.\n"
     ]
    }
   ],
   "source": [
    "from transformers import BertForMaskedLM\n",
    "import models\n",
    "import os\n",
    "import json\n",
    "import torch\n",
    "dnabert_pretrained_path = os.path.join(\"pretrained\", \"3-new-12w-0\")\n",
    "base_config_path = os.path.join(\"models\", \"config\", \"seqlab\", \"base.json\")\n",
    "# model = models.seqlab.DNABERT_SL(\n",
    "#     BertForMaskedLM.from_pretrained(\n",
    "#         dnabert_pretrained_path\n",
    "#     ).bert,\n",
    "#     json.load(\n",
    "#         open(\n",
    "#             os.path.join(\"models\", \"config\", \"seqlab\", \"base.json\"),\n",
    "#             \"r\"\n",
    "#         )\n",
    "#     )\n",
    "# )\n",
    "\n",
    "model = models.dnabert.DNABERT_SL.from_pretrained(\n",
    "    dnabert_pretrained_path, \n",
    "    json.load(open(\n",
    "        os.path.join(base_config_path)\n",
    "    )))\n",
    "\n",
    "base_checkpoint_path = os.path.join(\"run\", \"latest-base-291mo307\", \"latest\", \"checkpoint.pth\")\n",
    "checkpoint = torch.load(base_checkpoint_path, map_location=\"cuda\")\n",
    "model.load_state_dict(checkpoint[\"model\"])\n",
    "\n",
    "base_pretrained = os.path.join(\"pretrained\", \"dnabert-sl-base\")\n",
    "model.save_pretrained(base_pretrained)"
   ]
  },
  {
   "attachments": {},
   "cell_type": "markdown",
   "metadata": {},
   "source": [
    "### DNABERT-SL Lin1"
   ]
  },
  {
   "cell_type": "code",
   "execution_count": null,
   "metadata": {},
   "outputs": [],
   "source": [
    "# tldr; "
   ]
  },
  {
   "attachments": {},
   "cell_type": "markdown",
   "metadata": {},
   "source": [
    "### DNABERT-SL Lin2"
   ]
  },
  {
   "cell_type": "code",
   "execution_count": 1,
   "metadata": {},
   "outputs": [
    {
     "name": "stderr",
     "output_type": "stream",
     "text": [
      "Some weights of the model checkpoint at pretrained\\3-new-12w-0 were not used when initializing DNABERT_SL: ['cls.predictions.transform.LayerNorm.bias', 'bert.pooler.dense.weight', 'cls.predictions.decoder.bias', 'cls.predictions.transform.dense.bias', 'cls.predictions.transform.dense.weight', 'cls.predictions.bias', 'bert.pooler.dense.bias', 'cls.predictions.decoder.weight', 'cls.predictions.transform.LayerNorm.weight']\n",
      "- This IS expected if you are initializing DNABERT_SL from the checkpoint of a model trained on another task or with another architecture (e.g. initializing a BertForSequenceClassification model from a BertForPreTraining model).\n",
      "- This IS NOT expected if you are initializing DNABERT_SL from the checkpoint of a model that you expect to be exactly identical (initializing a BertForSequenceClassification model from a BertForSequenceClassification model).\n",
      "Some weights of DNABERT_SL were not initialized from the model checkpoint at pretrained\\3-new-12w-0 and are newly initialized: ['head.linear.hidden-block-1.linear.weight', 'head.linear.hidden-block-1.linear.bias', 'head.linear.hidden-block-0.linear.bias', 'head.classifier.bias', 'head.classifier.weight', 'head.linear.hidden-block-0.linear.weight']\n",
      "You should probably TRAIN this model on a down-stream task to be able to use it for predictions and inference.\n"
     ]
    }
   ],
   "source": [
    "from transformers import BertForMaskedLM\n",
    "import models\n",
    "import os\n",
    "import json\n",
    "import torch\n",
    "dnabert_pretrained_path = os.path.join(\"pretrained\", \"3-new-12w-0\")\n",
    "base_lin2_config_path = os.path.join(\"models\", \"config\", \"seqlab\", \"base.lin2.json\")\n",
    "\n",
    "model = models.dnabert.DNABERT_SL.from_pretrained(\n",
    "    dnabert_pretrained_path, \n",
    "    json.load(open(\n",
    "        os.path.join(base_lin2_config_path)\n",
    "    )))\n",
    "\n",
    "checkpoint_path = os.path.join(\"run\", \"latest-base.lin2-u8psigt5\", \"latest\", \"checkpoint.pth\")\n",
    "checkpoint = torch.load(checkpoint_path, map_location=\"cuda\")\n",
    "model.load_state_dict(checkpoint[\"model\"])\n",
    "\n",
    "base_pretrained = os.path.join(\"pretrained\", \"dnabert-sl-lin2\")\n",
    "model.save_pretrained(base_pretrained)"
   ]
  },
  {
   "attachments": {},
   "cell_type": "markdown",
   "metadata": {},
   "source": [
    "### DNABERT-SL Lin3"
   ]
  },
  {
   "cell_type": "code",
   "execution_count": 1,
   "metadata": {},
   "outputs": [
    {
     "name": "stderr",
     "output_type": "stream",
     "text": [
      "Some weights of the model checkpoint at pretrained\\3-new-12w-0 were not used when initializing DNABERT_SL: ['cls.predictions.decoder.bias', 'bert.pooler.dense.weight', 'bert.pooler.dense.bias', 'cls.predictions.transform.LayerNorm.weight', 'cls.predictions.bias', 'cls.predictions.transform.LayerNorm.bias', 'cls.predictions.transform.dense.weight', 'cls.predictions.decoder.weight', 'cls.predictions.transform.dense.bias']\n",
      "- This IS expected if you are initializing DNABERT_SL from the checkpoint of a model trained on another task or with another architecture (e.g. initializing a BertForSequenceClassification model from a BertForPreTraining model).\n",
      "- This IS NOT expected if you are initializing DNABERT_SL from the checkpoint of a model that you expect to be exactly identical (initializing a BertForSequenceClassification model from a BertForSequenceClassification model).\n",
      "Some weights of DNABERT_SL were not initialized from the model checkpoint at pretrained\\3-new-12w-0 and are newly initialized: ['head.linear.hidden-block-1.linear.weight', 'head.linear.hidden-block-2.linear.weight', 'head.linear.hidden-block-1.linear.bias', 'head.linear.hidden-block-2.linear.bias', 'head.classifier.bias', 'head.linear.hidden-block-0.linear.weight', 'head.classifier.weight', 'head.linear.hidden-block-0.linear.bias']\n",
      "You should probably TRAIN this model on a down-stream task to be able to use it for predictions and inference.\n"
     ]
    }
   ],
   "source": [
    "from transformers import BertForMaskedLM\n",
    "import models\n",
    "import os\n",
    "import json\n",
    "import torch\n",
    "dnabert_pretrained_path = os.path.join(\"pretrained\", \"3-new-12w-0\")\n",
    "base_lin3_config_path = os.path.join(\"models\", \"config\", \"seqlab\", \"base.lin3.json\")\n",
    "\n",
    "model = models.dnabert.DNABERT_SL.from_pretrained(\n",
    "    dnabert_pretrained_path, \n",
    "    json.load(open(\n",
    "        os.path.join(base_lin3_config_path)\n",
    "    )))\n",
    "\n",
    "checkpoint_path = os.path.join(\"run\", \"latest-base.lin3-h91p4uhz\", \"latest\", \"checkpoint.pth\")\n",
    "checkpoint = torch.load(checkpoint_path, map_location=\"cuda\")\n",
    "model.load_state_dict(checkpoint[\"model\"])\n",
    "\n",
    "base_pretrained = os.path.join(\"pretrained\", \"dnabert-sl-lin3\")\n",
    "model.save_pretrained(base_pretrained)"
   ]
  }
 ],
 "metadata": {
  "kernelspec": {
   "display_name": "Python 3.7.9 ('deep-learning')",
   "language": "python",
   "name": "python3"
  },
  "language_info": {
   "codemirror_mode": {
    "name": "ipython",
    "version": 3
   },
   "file_extension": ".py",
   "mimetype": "text/x-python",
   "name": "python",
   "nbconvert_exporter": "python",
   "pygments_lexer": "ipython3",
   "version": "3.7.9"
  },
  "orig_nbformat": 4,
  "vscode": {
   "interpreter": {
    "hash": "cb381ed8bacaf36aa3bfaca5a0502d4671ddf79cb6e63c342c2d7fda9a71fcc6"
   }
  }
 },
 "nbformat": 4,
 "nbformat_minor": 2
}
