{
 "cells": [
  {
   "cell_type": "code",
   "execution_count": 1,
   "metadata": {},
   "outputs": [
    {
     "name": "stdout",
     "output_type": "stream",
     "text": [
      "Expanding ./sample/train.csv => ./dataset/sample/train.csv: True\n",
      "Expanding ./sample/validation.csv => ./dataset/sample/validation.csv: True\n",
      "Expanding ./sample/test.csv => ./dataset/sample/test.csv: True\n"
     ]
    }
   ],
   "source": [
    "\"\"\"\n",
    "Expand sample data into dataset samples.\n",
    "\"\"\"\n",
    "from data_dir import sample_dir, dataset_sample_dir\n",
    "from data_preparation import expand_no_pandas\n",
    "\n",
    "import os\n",
    "\n",
    "#for fname in [f for f in os.listdir(sample_dir) if os.path.isfile(\"{}/{}\".format(sample_dir, f))]:\n",
    "for fname in ['train.csv', 'validation.csv', 'test.csv']:\n",
    "    src_csv = \"{}/{}\".format(sample_dir, fname)\n",
    "    target_csv = \"{}/{}\".format(dataset_sample_dir, fname)\n",
    "    print(\"Expanding {} => {}: {}\".format(src_csv, target_csv, expand_no_pandas(src_csv, target_csv, length=510)))\n"
   ]
  },
  {
   "cell_type": "code",
   "execution_count": null,
   "metadata": {},
   "outputs": [],
   "source": []
  }
 ],
 "metadata": {
  "interpreter": {
   "hash": "473c7453bcb969eece5b07ef8b7f234e7c84010927f6bebce35f0aeb1f8c121e"
  },
  "kernelspec": {
   "display_name": "Python 3.9.1 64-bit ('sequence-processing-py39': venv)",
   "language": "python",
   "name": "python3"
  },
  "language_info": {
   "codemirror_mode": {
    "name": "ipython",
    "version": 3
   },
   "file_extension": ".py",
   "mimetype": "text/x-python",
   "name": "python",
   "nbconvert_exporter": "python",
   "pygments_lexer": "ipython3",
   "version": "3.9.1"
  },
  "orig_nbformat": 4
 },
 "nbformat": 4,
 "nbformat_minor": 2
}
